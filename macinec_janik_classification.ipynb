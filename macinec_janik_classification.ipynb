{
 "cells": [
  {
   "cell_type": "markdown",
   "metadata": {
    "collapsed": false
   },
   "source": [
    "# IAU Project - Classification\n",
    "\n",
    "**Authors:** Peter Mačinec, Lukáš Janík"
   ]
  },
  {
   "cell_type": "markdown",
   "metadata": {
    "collapsed": false
   },
   "source": [
    "## Setup and import libraries\n",
    "\n",
    "At first, we need to import libraries and our pipeline classes from preprocessing:"
   ]
  },
  {
   "cell_type": "code",
   "execution_count": 116,
   "metadata": {
    "collapsed": false
   },
   "outputs": [
   ],
   "source": [
    "# import libraries\n",
    "import numpy as np\n",
    "import pandas as pd\n",
    "import matplotlib.pyplot as plt\n",
    "import seaborn as sns\n",
    "import re\n",
    "from functools import reduce\n",
    "\n",
    "from sklearn import model_selection as ms\n",
    "\n",
    "# pipelines\n",
    "from sklearn.pipeline import Pipeline\n",
    "\n",
    "# custom pipelines\n",
    "import pipelines\n",
    "from pipelines import MergeRemoveDuplicates\n",
    "from pipelines import DropRowsNanColumn\n",
    "from pipelines import NanUnifier\n",
    "from pipelines import BooleanUnifier\n",
    "from pipelines import WordsUnifier\n",
    "from pipelines import DateFormatUnifier\n",
    "from pipelines import ClassUnifier\n",
    "from pipelines import DropColumn\n",
    "from pipelines import ColumnExpander\n",
    "from pipelines import ColumnToNumber\n",
    "from pipelines import MeasuredValuesFixer\n",
    "from pipelines import Normalizer\n",
    "from pipelines import OutliersRemover\n",
    "from pipelines import OutliersReplacer\n",
    "from pipelines import NumMedianFiller\n",
    "from pipelines import NumModelFiller\n",
    "from pipelines import CategoricalMostFrequentFiller\n",
    "from pipelines import CategoricalModelFiller\n",
    "from pipelines import ColumnsSelector\n",
    "from pipelines import ColumnsEncoder\n",
    "\n",
    "# hiding warnings for better appereance (this was added after checking all warnings)\n",
    "import warnings\n",
    "warnings.filterwarnings(action='ignore')\n",
    "\n",
    "# models\n",
    "from sklearn.linear_model import LinearRegression\n",
    "from sklearn.ensemble import RandomForestClassifier\n",
    "from sklearn.tree import DecisionTreeClassifier\n",
    "from sklearn.model_selection import RandomizedSearchCV\n",
    "\n",
    "# model evaluation\n",
    "from sklearn import metrics\n",
    "from sklearn.model_selection import cross_val_score\n",
    "from sklearn.model_selection import cross_validate\n",
    "from sklearn.metrics import accuracy_score\n",
    "from sklearn.metrics import classification_report\n",
    "from sklearn.metrics import f1_score\n",
    "\n",
    "# oversampling\n",
    "#from imblearn.over_sampling import RandomOverSampler, SMOTE\n",
    "\n",
    "pd.options.mode.chained_assignment = None  # default='warn'"
   ]
  },
  {
   "cell_type": "markdown",
   "metadata": {
    "collapsed": false
   },
   "source": [
    "## Data loading\n",
    "\n",
    "At first, we need to load all datasets. *Train* and *valid* datasets will be used for training and evaluating model, *test* dataset will be just predicted."
   ]
  },
  {
   "cell_type": "code",
   "execution_count": 2,
   "metadata": {
    "collapsed": false
   },
   "outputs": [
   ],
   "source": [
    "# read datasets\n",
    "df1_train = pd.read_csv('data/personal_train.csv', index_col=0)\n",
    "df2_train = pd.read_csv('data/other_train.csv', index_col=0)\n",
    "\n",
    "df1_test = pd.read_csv('data/personal_test.csv', index_col=0)\n",
    "df2_test = pd.read_csv('data/other_test.csv', index_col=0)\n",
    "\n",
    "df1_valid = pd.read_csv('data/personal_valid.csv', index_col=0)\n",
    "df2_valid = pd.read_csv('data/other_valid.csv', index_col=0)"
   ]
  },
  {
   "cell_type": "markdown",
   "metadata": {
    "collapsed": false
   },
   "source": [
    "### Merge datasets\n",
    "\n",
    "We need to merge both datasets into one. In previous analysis, we found that name and address would be used for merging:"
   ]
  },
  {
   "cell_type": "code",
   "execution_count": 67,
   "metadata": {
    "collapsed": false
   },
   "outputs": [
   ],
   "source": [
    "df_train_raw = pd.merge(df1_train, df2_train, on=[\"name\", \"address\"])\n",
    "df_test_raw = pd.merge(df1_test, df2_test, on=[\"name\", \"address\"])\n",
    "df_valid_raw = pd.merge(df1_valid, df2_valid, on=[\"name\", \"address\"])"
   ]
  },
  {
   "cell_type": "markdown",
   "metadata": {
    "collapsed": false
   },
   "source": [
    "## Preprocessing\n",
    "\n",
    "Before data will be used for classification, we must preprocess them. Preprocessing pipeline custom classes were imported from *pipelines.py* file.\n",
    "\n",
    "Because only *train* and *valid* datasets contain *class* attribute, *ClassUnifier* will be applied separately. Let's create both pipelines:"
   ]
  },
  {
   "cell_type": "code",
   "execution_count": 4,
   "metadata": {
    "collapsed": false
   },
   "outputs": [
   ],
   "source": [
    "ppl = Pipeline([\n",
    "                # Data repairing\n",
    "                # ======================\n",
    "                # unify boolean values\n",
    "                ('unify_boolean', BooleanUnifier(['query hyperthyroid', 'T4U measured', 'on thyroxine', 'FTI measured', 'lithium', 'TT4 measured',\n",
    "                                                  'query hypothyroid', 'query on thyroxine', 'tumor', 'T3 measured', 'sick', 'thyroid surgery', \n",
    "                                                  'I131 treatment', 'goitre', 'TSH measured', 'on antithyroid medication', 'psych', 'TBG measured',\n",
    "                                                  'pregnant', 'hypopituitary'])),\n",
    "\n",
    "                # unify date format\n",
    "                ('date_unifier', DateFormatUnifier('date_of_birth')),\n",
    "\n",
    "                # drop column\n",
    "                ('drop_TBG_measured', DropColumn('TBG measured')),\n",
    "                ('drop_TBG', DropColumn('TBG')),\n",
    "\n",
    "                # measured columns fix\n",
    "                ('fix_measured_values',MeasuredValuesFixer(['T4U', 'FTI', 'TT4', 'TT4','TSH','T3'])),\n",
    "\n",
    "                # expand column\n",
    "                ('expand_personal_info', ColumnExpander()),\n",
    "\n",
    "                # unify nan values\n",
    "                ('nan_unify_FTI', NanUnifier(['FTI', 'sex', 'origin', 'occupation'])),\n",
    "\n",
    "                # transform data type\n",
    "                ('column_to_number_FTI', ColumnToNumber('FTI')),\n",
    "\n",
    "                # merge and remove duplicates\n",
    "                ('rm_duplicates', MergeRemoveDuplicates()),\n",
    "                \n",
    "                # ======================\n",
    "\n",
    "                # Data normalization\n",
    "                # ======================\n",
    "                ('norm_numerical', Normalizer(['T4U', 'T3', 'TSH', 'TT4', 'FTI', 'age', 'education-num'])),\n",
    "                # ======================\n",
    "\n",
    "                # Outliers replacement\n",
    "                # ======================\n",
    "                ('reout_numerical', OutliersReplacer(['T4U', 'T3', 'TSH', 'TT4', 'FTI', 'age', 'education-num'])),\n",
    "                # ======================\n",
    "\n",
    "                # Filling numerical values by Linear Regression\n",
    "                # ======================\n",
    "                ('flr_T4U', NumModelFiller('T4U', LinearRegression())),\n",
    "                ('flr_TT4', NumModelFiller('TT4', LinearRegression())),\n",
    "                ('flr_T3', NumModelFiller('T3', LinearRegression())),\n",
    "                ('flr_TSH', NumModelFiller('TSH', LinearRegression())),\n",
    "                ('flr_FTI', NumModelFiller('FTI', LinearRegression())),\n",
    "                ('flr_age', NumModelFiller('age', LinearRegression())),\n",
    "                ('flr_education_num', NumModelFiller('education-num', LinearRegression())),\n",
    "                ('flr_fnlwgt', NumModelFiller('fnlwgt', LinearRegression())),\n",
    "                ('flr_capital_loss', NumModelFiller('capital-loss', LinearRegression())),\n",
    "                ('flr_capital_gain', NumModelFiller('capital-gain', LinearRegression())),\n",
    "                ('flr_hours_per_week', NumModelFiller('hours-per-week', LinearRegression())),\n",
    "                # ======================\n",
    "\n",
    "                # Filling categorical values by RF\n",
    "                # ======================\n",
    "                ('fill_rf_sex', CategoricalModelFiller('sex', RandomForestClassifier(n_estimators=100, max_depth=7))),\n",
    "                ('fill_rf_pregnant', CategoricalModelFiller('pregnant', RandomForestClassifier(n_estimators=100, max_depth=7))),\n",
    "                ('fill_rf_tumor', CategoricalModelFiller('tumor', RandomForestClassifier(n_estimators=100, max_depth=7))),\n",
    "                ('fill_rf_occupation', CategoricalModelFiller('occupation', RandomForestClassifier(n_estimators=100, max_depth=7))),\n",
    "                ('fill_rf_origin', CategoricalModelFiller('origin', RandomForestClassifier(n_estimators=100, max_depth=7))),\n",
    "                ('fill_rf_query_hypothyroid', CategoricalModelFiller('query hypothyroid', RandomForestClassifier(n_estimators=100, max_depth=7))),\n",
    "                ('fill_rf_query_hyperthyroid', CategoricalModelFiller('query hyperthyroid', RandomForestClassifier(n_estimators=100, max_depth=7))),\n",
    "                ('fill_rf_on_thyroxine', CategoricalModelFiller('on thyroxine', RandomForestClassifier(n_estimators=100, max_depth=7))),\n",
    "                ('fill_rf_sick', CategoricalModelFiller('sick', RandomForestClassifier(n_estimators=100, max_depth=7))),\n",
    "                ('fill_rf_thyroid_surgery', CategoricalModelFiller('thyroid surgery', RandomForestClassifier(n_estimators=100, max_depth=7))),\n",
    "                ('fill_rf_workclass', CategoricalModelFiller('workclass', RandomForestClassifier(n_estimators=100, max_depth=7))),\n",
    "                ('fill_rf_I131_treatment', CategoricalModelFiller('I131 treatment', RandomForestClassifier(n_estimators=100, max_depth=7))),\n",
    "                ('fill_rf_hypopituitary', CategoricalModelFiller('hypopituitary', RandomForestClassifier(n_estimators=100, max_depth=7))),\n",
    "                ('fill_rf_query_on_thyroxine', CategoricalModelFiller('query on thyroxine', RandomForestClassifier(n_estimators=100, max_depth=7))),\n",
    "                ('fill_rf_on_antithyroid_medication', CategoricalModelFiller('on antithyroid medication', RandomForestClassifier(n_estimators=100, max_depth=7))),\n",
    "                ('fill_rf_referral_source', CategoricalModelFiller('referral source', RandomForestClassifier(n_estimators=100, max_depth=7))),\n",
    "                ('fill_rf_psych', CategoricalModelFiller('psych', RandomForestClassifier(n_estimators=100, max_depth=7))),\n",
    "                # Filling categorical with most frequent value\n",
    "                # ======================\n",
    "                ('fill_mf_date_of_birth', CategoricalMostFrequentFiller(['date_of_birth'])),\n",
    "                ('fill_mf_study', CategoricalMostFrequentFiller(['study'])),\n",
    "                ('fill_mf_status1', CategoricalMostFrequentFiller(['status1'])),\n",
    "                ('fill_mf_status2', CategoricalMostFrequentFiller(['status2']))\n",
    "              ])\n",
    "\n",
    "ppl_class_unifier = Pipeline([\n",
    "        ('class_unifier', ClassUnifier())\n",
    "    ])"
   ]
  },
  {
   "cell_type": "markdown",
   "metadata": {
    "collapsed": false
   },
   "source": [
    "Created pipelines can be now used to preprocess our data. Pipeline with *ClassUnifier* will not be applied to *test* dataframe as mentioned before. "
   ]
  },
  {
   "cell_type": "code",
   "execution_count": 5,
   "metadata": {
    "collapsed": false,
    "scrolled": true
   },
   "outputs": [
    {
     "name": "stdout",
     "output_type": "stream",
     "text": [
      "Score for column T4U: -0.00375249754477\n",
      "Score for column TT4: -0.00446104387472\n",
      "Score for column T3: -0.0792112648518\n"
     ]
    },
    {
     "name": "stdout",
     "output_type": "stream",
     "text": [
      "Score for column TSH: -1.87534953942\n",
      "Score for column FTI: -0.00379473904915\n",
      "Score for column age: -0.166944935628\n"
     ]
    },
    {
     "name": "stdout",
     "output_type": "stream",
     "text": [
      "Score for column education-num: -0.684583668241\n",
      "Score for column fnlwgt: -10951708199.6\n"
     ]
    },
    {
     "name": "stdout",
     "output_type": "stream",
     "text": [
      "Score for column capital-loss: -133567.455703\n",
      "Score for column capital-gain: -62578167.4816\n",
      "Score for column hours-per-week: -145.492377095\n"
     ]
    },
    {
     "name": "stdout",
     "output_type": "stream",
     "text": [
      "Score for column sex: 0.71567587964\n"
     ]
    },
    {
     "name": "stdout",
     "output_type": "stream",
     "text": [
      "Score for column pregnant: 0.986568232492\n"
     ]
    },
    {
     "name": "stdout",
     "output_type": "stream",
     "text": [
      "Score for column tumor: 0.975868513773\n"
     ]
    },
    {
     "name": "stdout",
     "output_type": "stream",
     "text": [
      "Score for column occupation: 0.278460034086\n"
     ]
    },
    {
     "name": "stderr",
     "output_type": "stream",
     "text": [
      "/ext/sage/sage-8.4_1804/local/lib/python2.7/site-packages/sklearn/model_selection/_split.py:626: Warning: The least populated class in y has only 1 members, which is too few. The minimum number of members in any class cannot be less than n_splits=10.\n",
      "  % (min_groups, self.n_splits)), Warning)\n"
     ]
    },
    {
     "name": "stdout",
     "output_type": "stream",
     "text": [
      "Score for column origin: 0.883912474487\n"
     ]
    },
    {
     "name": "stdout",
     "output_type": "stream",
     "text": [
      "Score for column query hypothyroid: 0.87149013275\n"
     ]
    },
    {
     "name": "stdout",
     "output_type": "stream",
     "text": [
      "Score for column query hyperthyroid: 0.874184968681\n"
     ]
    },
    {
     "name": "stdout",
     "output_type": "stream",
     "text": [
      "Score for column on thyroxine: 0.882439684319\n"
     ]
    },
    {
     "name": "stdout",
     "output_type": "stream",
     "text": [
      "Score for column sick: 0.917614910314\n"
     ]
    },
    {
     "name": "stdout",
     "output_type": "stream",
     "text": [
      "Score for column thyroid surgery: 0.986144627732\n"
     ]
    },
    {
     "name": "stdout",
     "output_type": "stream",
     "text": [
      "Score for column workclass: 0.715323562622\n"
     ]
    },
    {
     "name": "stdout",
     "output_type": "stream",
     "text": [
      "Score for column I131 treatment: 0.921580646309\n"
     ]
    },
    {
     "name": "stdout",
     "output_type": "stream",
     "text": [
      "Score for column hypopituitary: 1.0\n"
     ]
    },
    {
     "name": "stdout",
     "output_type": "stream",
     "text": [
      "Score for column query on thyroxine: 0.922911995516\n"
     ]
    },
    {
     "name": "stdout",
     "output_type": "stream",
     "text": [
      "Score for column on antithyroid medication: 0.98793441704\n"
     ]
    },
    {
     "name": "stdout",
     "output_type": "stream",
     "text": [
      "Score for column referral source: 0.639247611936\n"
     ]
    },
    {
     "name": "stdout",
     "output_type": "stream",
     "text": [
      "Score for column psych: 0.951277045784\n"
     ]
    }
   ],
   "source": [
    "df_train = ppl.fit_transform(df_train_raw)\n",
    "df_valid = ppl.transform(df_valid_raw)\n",
    "\n",
    "df_train = ppl_class_unifier.fit_transform(df_train)\n",
    "df_valid = ppl_class_unifier.transform(df_valid)\n",
    "\n",
    "df_test = ppl.transform(df_test_raw)"
   ]
  },
  {
   "cell_type": "markdown",
   "metadata": {
    "collapsed": false
   },
   "source": [
    "Our dataframes are now preprocessed. We can check scores for predictions of filling values.\n",
    "\n",
    "Let's check how data look like after preprocessing:"
   ]
  },
  {
   "cell_type": "code",
   "execution_count": 6,
   "metadata": {
    "collapsed": false
   },
   "outputs": [
    {
     "data": {
      "text/html": [
       "<div>\n",
       "<style scoped>\n",
       "    .dataframe tbody tr th:only-of-type {\n",
       "        vertical-align: middle;\n",
       "    }\n",
       "\n",
       "    .dataframe tbody tr th {\n",
       "        vertical-align: top;\n",
       "    }\n",
       "\n",
       "    .dataframe thead th {\n",
       "        text-align: right;\n",
       "    }\n",
       "</style>\n",
       "<table border=\"1\" class=\"dataframe\">\n",
       "  <thead>\n",
       "    <tr style=\"text-align: right;\">\n",
       "      <th></th>\n",
       "      <th>index</th>\n",
       "      <th>name</th>\n",
       "      <th>address</th>\n",
       "      <th>age</th>\n",
       "      <th>sex</th>\n",
       "      <th>date_of_birth</th>\n",
       "      <th>query hyperthyroid</th>\n",
       "      <th>T4U measured</th>\n",
       "      <th>FTI measured</th>\n",
       "      <th>lithium</th>\n",
       "      <th>...</th>\n",
       "      <th>education-num</th>\n",
       "      <th>psych</th>\n",
       "      <th>occupation</th>\n",
       "      <th>pregnant</th>\n",
       "      <th>bred</th>\n",
       "      <th>origin</th>\n",
       "      <th>study</th>\n",
       "      <th>status1</th>\n",
       "      <th>status2</th>\n",
       "      <th>class_status</th>\n",
       "    </tr>\n",
       "  </thead>\n",
       "  <tbody>\n",
       "    <tr>\n",
       "      <th>0</th>\n",
       "      <td>0</td>\n",
       "      <td>Terry Terry</td>\n",
       "      <td>11818 Lori Crossing Apt. 802\\r\\nPughstad, DC 7...</td>\n",
       "      <td>4.143135</td>\n",
       "      <td>M</td>\n",
       "      <td>12/09/1955</td>\n",
       "      <td>False</td>\n",
       "      <td>False</td>\n",
       "      <td>False</td>\n",
       "      <td>False</td>\n",
       "      <td>...</td>\n",
       "      <td>2.197225</td>\n",
       "      <td>False</td>\n",
       "      <td>Transport-moving</td>\n",
       "      <td>False</td>\n",
       "      <td>white</td>\n",
       "      <td>united-states</td>\n",
       "      <td>hs-grad</td>\n",
       "      <td>divorced</td>\n",
       "      <td>unmarried</td>\n",
       "      <td>negative</td>\n",
       "    </tr>\n",
       "    <tr>\n",
       "      <th>1</th>\n",
       "      <td>1</td>\n",
       "      <td>Edith Boudreaux</td>\n",
       "      <td>PSC 4657, Box 5446\\r\\nAPO AP 58412</td>\n",
       "      <td>4.290459</td>\n",
       "      <td>F</td>\n",
       "      <td>30/04/1945</td>\n",
       "      <td>False</td>\n",
       "      <td>True</td>\n",
       "      <td>True</td>\n",
       "      <td>False</td>\n",
       "      <td>...</td>\n",
       "      <td>2.453098</td>\n",
       "      <td>False</td>\n",
       "      <td>Prof-specialty</td>\n",
       "      <td>False</td>\n",
       "      <td>white</td>\n",
       "      <td>united-states</td>\n",
       "      <td>bachelors</td>\n",
       "      <td>never-married</td>\n",
       "      <td>own-child</td>\n",
       "      <td>negative</td>\n",
       "    </tr>\n",
       "    <tr>\n",
       "      <th>2</th>\n",
       "      <td>2</td>\n",
       "      <td>Janet Washington</td>\n",
       "      <td>Unit 9759 Box 9470\\r\\nDPO AP 45549</td>\n",
       "      <td>4.304065</td>\n",
       "      <td>F</td>\n",
       "      <td>06/06/1944</td>\n",
       "      <td>False</td>\n",
       "      <td>True</td>\n",
       "      <td>True</td>\n",
       "      <td>False</td>\n",
       "      <td>...</td>\n",
       "      <td>2.536116</td>\n",
       "      <td>False</td>\n",
       "      <td>Craft-repair</td>\n",
       "      <td>False</td>\n",
       "      <td>white</td>\n",
       "      <td>united-states</td>\n",
       "      <td>hs_grad</td>\n",
       "      <td>divorced</td>\n",
       "      <td>unmarried</td>\n",
       "      <td>negative</td>\n",
       "    </tr>\n",
       "    <tr>\n",
       "      <th>3</th>\n",
       "      <td>3</td>\n",
       "      <td>Margaret Chabot</td>\n",
       "      <td>137 Lewis Flat Suite 762\\r\\nWest Elizabeth, AL...</td>\n",
       "      <td>3.891820</td>\n",
       "      <td>F</td>\n",
       "      <td>01/10/1969</td>\n",
       "      <td>False</td>\n",
       "      <td>True</td>\n",
       "      <td>True</td>\n",
       "      <td>False</td>\n",
       "      <td>...</td>\n",
       "      <td>2.302585</td>\n",
       "      <td>False</td>\n",
       "      <td>Adm-clerical</td>\n",
       "      <td>False</td>\n",
       "      <td>white</td>\n",
       "      <td>united-states</td>\n",
       "      <td>some-college</td>\n",
       "      <td>divorced</td>\n",
       "      <td>unmarried</td>\n",
       "      <td>negative</td>\n",
       "    </tr>\n",
       "    <tr>\n",
       "      <th>4</th>\n",
       "      <td>4</td>\n",
       "      <td>Colleen Satterwhite</td>\n",
       "      <td>995 Frank Stravenue\\r\\nSouth Matthewport, TX 8...</td>\n",
       "      <td>2.995732</td>\n",
       "      <td>F</td>\n",
       "      <td>08/01/2016</td>\n",
       "      <td>False</td>\n",
       "      <td>True</td>\n",
       "      <td>True</td>\n",
       "      <td>False</td>\n",
       "      <td>...</td>\n",
       "      <td>2.197225</td>\n",
       "      <td>False</td>\n",
       "      <td>Other-service</td>\n",
       "      <td>False</td>\n",
       "      <td>black</td>\n",
       "      <td>united-states</td>\n",
       "      <td>hs-grad</td>\n",
       "      <td>never-married</td>\n",
       "      <td>unmarried</td>\n",
       "      <td>negative</td>\n",
       "    </tr>\n",
       "  </tbody>\n",
       "</table>\n",
       "<p>5 rows × 46 columns</p>\n",
       "</div>"
      ]
     },
     "execution_count": 6,
     "metadata": {
     },
     "output_type": "execute_result"
    }
   ],
   "source": [
    "df_train.head()"
   ]
  },
  {
   "cell_type": "markdown",
   "metadata": {
    "collapsed": false
   },
   "source": [
    "Similarly, valid and test datasets have been preprocessed."
   ]
  },
  {
   "cell_type": "markdown",
   "metadata": {
    "collapsed": false
   },
   "source": [
    "## Choosing columns and encoding values\n",
    "\n",
    "Last step before data are ready for classification is to choose columns and encode categorical values. For this purpose, OneHotEncoding will be used. \n",
    "\n",
    "Saving our labels into separate variables is important for fitting classifiers:"
   ]
  },
  {
   "cell_type": "code",
   "execution_count": 9,
   "metadata": {
    "collapsed": false
   },
   "outputs": [
   ],
   "source": [
    "y_train = df_train['class_status']\n",
    "y_test = df_valid['class_status']"
   ]
  },
  {
   "cell_type": "markdown",
   "metadata": {
    "collapsed": false
   },
   "source": [
    "Let's select columns and encode categorical attributes:"
   ]
  },
  {
   "cell_type": "code",
   "execution_count": 10,
   "metadata": {
    "collapsed": false
   },
   "outputs": [
   ],
   "source": [
    "ppl_select_encode = Pipeline([\n",
    "                        ('col_select', ColumnsSelector(['T4U', 'TT4', 'TSH', 'T3', 'FTI', 'sex', 'pregnant', 'origin'])),\n",
    "                        ('cat_encode', ColumnsEncoder(['sex', 'pregnant', 'origin']))\n",
    "                    ])"
   ]
  },
  {
   "cell_type": "code",
   "execution_count": 11,
   "metadata": {
    "collapsed": false
   },
   "outputs": [
   ],
   "source": [
    "X_train = ppl_select_encode.fit_transform(df_train)\n",
    "X_test = ppl_select_encode.transform(df_valid)"
   ]
  },
  {
   "cell_type": "markdown",
   "metadata": {
    "collapsed": false
   },
   "source": [
    "Because our data are heavily unbalanced, we will try **oversampling**. 2 methods of oversampling will be tried, *random* and *SMOTE* from imbalanced learn library (https://imbalanced-learn.readthedocs.io/en/stable/over_sampling.html)."
   ]
  },
  {
   "cell_type": "code",
   "execution_count": 0,
   "metadata": {
    "collapsed": false
   },
   "outputs": [
   ],
   "source": [
    "X_res_rand, y_res_rand = RandomOverSampler(random_state=0).fit_resample(X_train, y_train)\n",
    "X_res_smote, y_res_smote = SMOTE(random_state=0).fit_resample(X_train, y_train)"
   ]
  },
  {
   "cell_type": "markdown",
   "metadata": {
    "collapsed": false
   },
   "source": [
    "## Classification\n",
    "\n",
    "At this section, we will try to classify **class**, that indicate whether is patient ill or not, with preprocessed data."
   ]
  },
  {
   "cell_type": "markdown",
   "metadata": {
    "collapsed": false
   },
   "source": [
    "### Classification rules\n",
    "\n",
    "At first, we will try to choose classification rules manually, depending on previous analysis. For recapitulation, let's check plots"
   ]
  },
  {
   "cell_type": "code",
   "execution_count": 187,
   "metadata": {
    "collapsed": false
   },
   "outputs": [
    {
     "data": {
      "image/png": "[encoded data removed]"
     },
     "execution_count": 187,
     "metadata": {
     },
     "output_type": "execute_result"
    }
   ],
   "source": [
    "plt.rcParams['figure.figsize'] = (20, 5)\n",
    "\n",
    "plt.subplot(1, 4, 1)\n",
    "sns.boxplot('class_status','T4U', data=df_train)\n",
    "plt.title('Distribution of T4U values')\n",
    "plt.xticks(rotation=45)\n",
    "\n",
    "plt.subplot(1, 4, 2)\n",
    "sns.boxplot('class_status','TT4', data=df_train)\n",
    "plt.title('Distribution of TT4 values')\n",
    "plt.xticks(rotation=45)\n",
    "\n",
    "plt.subplot(1, 4, 3)\n",
    "sns.boxplot('class_status','T3', data=df_train)\n",
    "plt.title('Distribution of T3 values')\n",
    "plt.xticks(rotation=45)\n",
    "\n",
    "plt.subplot(1, 4, 4)\n",
    "sns.boxplot('class_status','TSH', data=df_train)\n",
    "plt.title('Distribution of TSH values')\n",
    "plt.xticks(rotation=45)\n",
    "\n",
    "plt.tight_layout()"
   ]
  },
  {
   "cell_type": "markdown",
   "metadata": {
    "collapsed": false
   },
   "source": [
    "Those attributes have been identified to be useful for prediction.\n",
    "\n",
    "We will create classifier, depending on manual chosen rules. However, classifier will choose boundary values automatically by fitting the data. Classifier is implemented as usual sklearn classifier, so *fit* and *predict* methods are available."
   ]
  },
  {
   "cell_type": "code",
   "execution_count": 174,
   "metadata": {
    "collapsed": false
   },
   "outputs": [
   ],
   "source": [
    "class ManualRulesClassifier():\n",
    "    def __init__(self):\n",
    "        pass\n",
    "    \n",
    "    def get_ranges(self, columns, label):\n",
    "        self.columns_class_ranges = {}\n",
    "        for column in columns:\n",
    "            class_ranges = []\n",
    "            for class_ in self.unique_class_status:\n",
    "                Q1 = self.train[label == class_][column].quantile(.25)\n",
    "                Q2 = self.train[label == class_][column].quantile(.50)\n",
    "                Q3 = self.train[label == class_][column].quantile(.75)\n",
    "                class_ranges.append([Q1,Q2,Q3])\n",
    "            self.columns_class_ranges[column] = class_ranges\n",
    "   \n",
    "    def get_prediction(self, row):\n",
    "        scores = [0,0,0]\n",
    "        for key, value in self.columns_class_ranges.items():\n",
    "            value = row[key]\n",
    "            for i in range(0,3):\n",
    "                Q1 = self.columns_class_ranges[key][i][0]\n",
    "                Q2 = self.columns_class_ranges[key][i][1]\n",
    "                Q3 = self.columns_class_ranges[key][i][2]\n",
    "                \n",
    "                lower_boundary = Q1 - (Q3 - Q1) * 1.5\n",
    "                upper_boundary = Q3 + (Q3 - Q1) * 1.5\n",
    "\n",
    "                if (value >= Q1 and value <= Q3):\n",
    "                    scores[i] += 2\n",
    "                elif ((value < Q1 and value >= lower_boundary) or (value > Q3 and value <= upper_boundary)):\n",
    "                    scores[i] += 1\n",
    "                elif (value == Q2):\n",
    "                    scores[i] += 3\n",
    "                \n",
    "        max_ = 0\n",
    "        max_counter = 0\n",
    "        index = 0\n",
    "        \n",
    "        for i in range(0,3):\n",
    "            if (scores[i] > max_):\n",
    "                max_ = scores[i]\n",
    "                max_counter = 0\n",
    "                index = i\n",
    "            elif (scores[i] == max_):\n",
    "                max_counter += 1\n",
    "        \n",
    "        return self.unique_class_status[index]\n",
    "    \n",
    "    def fit(self, df_train, y_train):\n",
    "        self.train = df_train\n",
    "        self.unique_class_status = y_train.unique()\n",
    "        self.get_ranges(['T4U', 'T3', 'TT4', 'TSH'], y_train)\n",
    "\n",
    "    def predict(self, df_test):\n",
    "        predictions = []\n",
    "        for index, row in df_test.iterrows():\n",
    "            predictions.append(self.get_prediction(row))\n",
    "        return predictions"
   ]
  },
  {
   "cell_type": "markdown",
   "metadata": {
    "collapsed": false
   },
   "source": [
    "Now, let's create classifier, fit the data and predict values:"
   ]
  },
  {
   "cell_type": "code",
   "execution_count": 175,
   "metadata": {
    "collapsed": false
   },
   "outputs": [
   ],
   "source": [
    "manual_rules_clf = ManualRulesClassifier()"
   ]
  },
  {
   "cell_type": "code",
   "execution_count": 176,
   "metadata": {
    "collapsed": false,
    "scrolled": true
   },
   "outputs": [
   ],
   "source": [
    "manual_rules_clf.fit(X_train, y_train)\n",
    "y_pred = manual_rules_clf.predict(X_test)"
   ]
  },
  {
   "cell_type": "markdown",
   "metadata": {
    "collapsed": false
   },
   "source": [
    "Records are predicted, check the accuracy score:"
   ]
  },
  {
   "cell_type": "code",
   "execution_count": 177,
   "metadata": {
    "collapsed": false
   },
   "outputs": [
    {
     "data": {
      "text/plain": [
       "0.87242798353909468"
      ]
     },
     "execution_count": 177,
     "metadata": {
     },
     "output_type": "execute_result"
    }
   ],
   "source": [
    "accuracy_score(y_test, y_pred)"
   ]
  },
  {
   "cell_type": "markdown",
   "metadata": {
    "collapsed": false
   },
   "source": [
    "Accuracy score is not bad in this case, but because of heavily unbalanced data is not representative."
   ]
  },
  {
   "cell_type": "code",
   "execution_count": 178,
   "metadata": {
    "collapsed": false
   },
   "outputs": [
    {
     "name": "stdout",
     "output_type": "stream",
     "text": [
      "                           precision    recall  f1-score   support\n",
      "\n",
      "decreased binding protein       0.11      0.80      0.20         5\n",
      "increased binding protein       0.16      0.64      0.26        25\n",
      "                 negative       0.99      0.88      0.93       942\n",
      "\n",
      "                micro avg       0.87      0.87      0.87       972\n",
      "                macro avg       0.42      0.77      0.46       972\n",
      "             weighted avg       0.96      0.87      0.91       972\n",
      "\n"
     ]
    }
   ],
   "source": [
    "print(classification_report(y_test, y_pred))"
   ]
  },
  {
   "cell_type": "markdown",
   "metadata": {
    "collapsed": false
   },
   "source": [
    "@TODO popis vysledkov, napisat tiez preco sme pridali TSH, ze mozno az tak nepomohol ale hodi sa pre decreased, s nim lepsie skore"
   ]
  },
  {
   "cell_type": "markdown",
   "metadata": {
    "collapsed": false
   },
   "source": [
    "### DecisionTree\n",
    "\n",
    "As decision tree is based on finding rules, it seems to be proper choice to compare with our manual rules based classifier."
   ]
  },
  {
   "cell_type": "code",
   "execution_count": 18,
   "metadata": {
    "collapsed": false
   },
   "outputs": [
   ],
   "source": [
    "dt = DecisionTreeClassifier(max_depth=10, class_weight='balanced')"
   ]
  },
  {
   "cell_type": "code",
   "execution_count": 19,
   "metadata": {
    "collapsed": false
   },
   "outputs": [
    {
     "data": {
      "text/plain": [
       "DecisionTreeClassifier(class_weight='balanced', criterion='gini',\n",
       "            max_depth=10, max_features=None, max_leaf_nodes=None,\n",
       "            min_impurity_decrease=0.0, min_impurity_split=None,\n",
       "            min_samples_leaf=1, min_samples_split=2,\n",
       "            min_weight_fraction_leaf=0.0, presort=False, random_state=None,\n",
       "            splitter='best')"
      ]
     },
     "execution_count": 19,
     "metadata": {
     },
     "output_type": "execute_result"
    }
   ],
   "source": [
    "dt.fit(X_train, y_train)"
   ]
  },
  {
   "cell_type": "code",
   "execution_count": 20,
   "metadata": {
    "collapsed": false
   },
   "outputs": [
   ],
   "source": [
    "y_pred = dt.predict(X_test)"
   ]
  },
  {
   "cell_type": "code",
   "execution_count": 21,
   "metadata": {
    "collapsed": false
   },
   "outputs": [
    {
     "data": {
      "text/plain": [
       "0.95781893004115226"
      ]
     },
     "execution_count": 21,
     "metadata": {
     },
     "output_type": "execute_result"
    }
   ],
   "source": [
    "accuracy_score(y_test, y_pred)"
   ]
  },
  {
   "cell_type": "code",
   "execution_count": 22,
   "metadata": {
    "collapsed": false
   },
   "outputs": [
    {
     "name": "stdout",
     "output_type": "stream",
     "text": [
      "                           precision    recall  f1-score   support\n",
      "\n",
      "decreased binding protein       0.67      0.80      0.73         5\n",
      "increased binding protein       0.37      0.76      0.50        25\n",
      "                 negative       0.99      0.96      0.98       942\n",
      "\n",
      "                micro avg       0.96      0.96      0.96       972\n",
      "                macro avg       0.68      0.84      0.74       972\n",
      "             weighted avg       0.97      0.96      0.96       972\n",
      "\n"
     ]
    }
   ],
   "source": [
    "print(classification_report(y_test, y_pred))"
   ]
  },
  {
   "cell_type": "code",
   "execution_count": 23,
   "metadata": {
    "collapsed": false
   },
   "outputs": [
   ],
   "source": [
    "from sklearn.tree import export_graphviz\n",
    "from sklearn import tree\n",
    "from IPython.display import SVG\n",
    "from graphviz import Source\n",
    "from IPython.display import display"
   ]
  },
  {
   "cell_type": "code",
   "execution_count": 24,
   "metadata": {
    "collapsed": false
   },
   "outputs": [
    {
     "data": {
      "image/svg+xml": "<svg height=\"1266pt\" viewBox=\"0.00 0.00 4110.50 1266.00\" width=\"4111pt\" xmlns=\"http://www.w3.org/2000/svg\" xmlns:xlink=\"http://www.w3.org/1999/xlink\">\n<g class=\"graph\" id=\"graph0\" transform=\"scale(1 1) rotate(0) translate(4 1262)\">\n<title>Tree</title>\n<polygon fill=\"#ffffff\" points=\"-4,4 -4,-1262 4106.5,-1262 4106.5,4 -4,4\" stroke=\"transparent\"/>\n<!-- 0 -->\n<g class=\"node\" id=\"node1\">\n<title>0</title>\n<polygon fill=\"transparent\" points=\"1390,-1258 1172,-1258 1172,-1175 1390,-1175 1390,-1258\" stroke=\"#000000\"/>\n<text fill=\"#000000\" font-family=\"Times,serif\" font-size=\"14.00\" text-anchor=\"middle\" x=\"1281\" y=\"-1242.8\">T4U &lt;= -0.287</text>\n<text fill=\"#000000\" font-family=\"Times,serif\" font-size=\"14.00\" text-anchor=\"middle\" x=\"1281\" y=\"-1227.8\">gini = 0.667</text>\n<text fill=\"#000000\" font-family=\"Times,serif\" font-size=\"14.00\" text-anchor=\"middle\" x=\"1281\" y=\"-1212.8\">samples = 2237</text>\n<text fill=\"#000000\" font-family=\"Times,serif\" font-size=\"14.00\" text-anchor=\"middle\" x=\"1281\" y=\"-1197.8\">value = [745.667, 745.667, 745.667]</text>\n<text fill=\"#000000\" font-family=\"Times,serif\" font-size=\"14.00\" text-anchor=\"middle\" x=\"1281\" y=\"-1182.8\">class = negative</text>\n</g>\n<!-- 1 -->\n<g class=\"node\" id=\"node2\">\n<title>1</title>\n<polygon fill=\"#e58139\" fill-opacity=\"0.945098\" points=\"1262,-1139 1084,-1139 1084,-1056 1262,-1056 1262,-1139\" stroke=\"#000000\"/>\n<text fill=\"#000000\" font-family=\"Times,serif\" font-size=\"14.00\" text-anchor=\"middle\" x=\"1173\" y=\"-1123.8\">T3 &lt;= 0.408</text>\n<text fill=\"#000000\" font-family=\"Times,serif\" font-size=\"14.00\" text-anchor=\"middle\" x=\"1173\" y=\"-1108.8\">gini = 0.101</text>\n<text fill=\"#000000\" font-family=\"Times,serif\" font-size=\"14.00\" text-anchor=\"middle\" x=\"1173\" y=\"-1093.8\">samples = 129</text>\n<text fill=\"#000000\" font-family=\"Times,serif\" font-size=\"14.00\" text-anchor=\"middle\" x=\"1173\" y=\"-1078.8\">value = [745.667, 0.0, 41.99]</text>\n<text fill=\"#000000\" font-family=\"Times,serif\" font-size=\"14.00\" text-anchor=\"middle\" x=\"1173\" y=\"-1063.8\">class = negative</text>\n</g>\n<!-- 0&#45;&gt;1 -->\n<g class=\"edge\" id=\"edge1\">\n<title>0-&gt;1</title>\n<path d=\"M1243.2268,-1174.8796C1234.9713,-1165.7832 1226.158,-1156.0722 1217.6626,-1146.7116\" fill=\"none\" stroke=\"#000000\"/>\n<polygon fill=\"#000000\" points=\"1220.2467,-1144.3509 1210.9344,-1139.2981 1215.0632,-1149.0553 1220.2467,-1144.3509\" stroke=\"#000000\"/>\n<text fill=\"#000000\" font-family=\"Times,serif\" font-size=\"14.00\" text-anchor=\"middle\" x=\"1209.7244\" y=\"-1160.5688\">True</text>\n</g>\n<!-- 22 -->\n<g class=\"node\" id=\"node23\">\n<title>22</title>\n<polygon fill=\"#39e581\" fill-opacity=\"0.054902\" points=\"1491.5,-1139 1294.5,-1139 1294.5,-1056 1491.5,-1056 1491.5,-1139\" stroke=\"#000000\"/>\n<text fill=\"#000000\" font-family=\"Times,serif\" font-size=\"14.00\" text-anchor=\"middle\" x=\"1393\" y=\"-1123.8\">T4U &lt;= 0.129</text>\n<text fill=\"#000000\" font-family=\"Times,serif\" font-size=\"14.00\" text-anchor=\"middle\" x=\"1393\" y=\"-1108.8\">gini = 0.5</text>\n<text fill=\"#000000\" font-family=\"Times,serif\" font-size=\"14.00\" text-anchor=\"middle\" x=\"1393\" y=\"-1093.8\">samples = 2108</text>\n<text fill=\"#000000\" font-family=\"Times,serif\" font-size=\"14.00\" text-anchor=\"middle\" x=\"1393\" y=\"-1078.8\">value = [0.0, 745.667, 703.677]</text>\n<text fill=\"#000000\" font-family=\"Times,serif\" font-size=\"14.00\" text-anchor=\"middle\" x=\"1393\" y=\"-1063.8\">class = increased binding protein</text>\n</g>\n<!-- 0&#45;&gt;22 -->\n<g class=\"edge\" id=\"edge22\">\n<title>0-&gt;22</title>\n<path d=\"M1320.1722,-1174.8796C1328.7335,-1165.7832 1337.8732,-1156.0722 1346.6832,-1146.7116\" fill=\"none\" stroke=\"#000000\"/>\n<polygon fill=\"#000000\" points=\"1349.3557,-1148.9789 1353.6606,-1139.2981 1344.2583,-1144.1813 1349.3557,-1148.9789\" stroke=\"#000000\"/>\n<text fill=\"#000000\" font-family=\"Times,serif\" font-size=\"14.00\" text-anchor=\"middle\" x=\"1354.4179\" y=\"-1160.5866\">False</text>\n</g>\n<!-- 2 -->\n<g class=\"node\" id=\"node3\">\n<title>2</title>\n<polygon fill=\"#e58139\" fill-opacity=\"0.968627\" points=\"1008.5,-1020 823.5,-1020 823.5,-937 1008.5,-937 1008.5,-1020\" stroke=\"#000000\"/>\n<text fill=\"#000000\" font-family=\"Times,serif\" font-size=\"14.00\" text-anchor=\"middle\" x=\"916\" y=\"-1004.8\">TT4 &lt;= 4.527</text>\n<text fill=\"#000000\" font-family=\"Times,serif\" font-size=\"14.00\" text-anchor=\"middle\" x=\"916\" y=\"-989.8\">gini = 0.062</text>\n<text fill=\"#000000\" font-family=\"Times,serif\" font-size=\"14.00\" text-anchor=\"middle\" x=\"916\" y=\"-974.8\">samples = 80</text>\n<text fill=\"#000000\" font-family=\"Times,serif\" font-size=\"14.00\" text-anchor=\"middle\" x=\"916\" y=\"-959.8\">value = [745.667, 0.0, 24.844]</text>\n<text fill=\"#000000\" font-family=\"Times,serif\" font-size=\"14.00\" text-anchor=\"middle\" x=\"916\" y=\"-944.8\">class = negative</text>\n</g>\n<!-- 1&#45;&gt;2 -->\n<g class=\"edge\" id=\"edge2\">\n<title>1-&gt;2</title>\n<path d=\"M1083.8351,-1056.2135C1061.664,-1045.9475 1037.7639,-1034.8809 1015.1457,-1024.4079\" fill=\"none\" stroke=\"#000000\"/>\n<polygon fill=\"#000000\" points=\"1016.4227,-1021.1423 1005.8777,-1020.1165 1013.4815,-1027.4944 1016.4227,-1021.1423\" stroke=\"#000000\"/>\n</g>\n<!-- 21 -->\n<g class=\"node\" id=\"node22\">\n<title>21</title>\n<polygon fill=\"#8139e5\" points=\"1272.5,-1012.5 1073.5,-1012.5 1073.5,-944.5 1272.5,-944.5 1272.5,-1012.5\" stroke=\"#000000\"/>\n<text fill=\"#000000\" font-family=\"Times,serif\" font-size=\"14.00\" text-anchor=\"middle\" x=\"1173\" y=\"-997.3\">gini = -0.0</text>\n<text fill=\"#000000\" font-family=\"Times,serif\" font-size=\"14.00\" text-anchor=\"middle\" x=\"1173\" y=\"-982.3\">samples = 49</text>\n<text fill=\"#000000\" font-family=\"Times,serif\" font-size=\"14.00\" text-anchor=\"middle\" x=\"1173\" y=\"-967.3\">value = [0.0, 0.0, 17.146]</text>\n<text fill=\"#000000\" font-family=\"Times,serif\" font-size=\"14.00\" text-anchor=\"middle\" x=\"1173\" y=\"-952.3\">class = decreased binding protein</text>\n</g>\n<!-- 1&#45;&gt;21 -->\n<g class=\"edge\" id=\"edge21\">\n<title>1-&gt;21</title>\n<path d=\"M1173,-1055.8796C1173,-1045.2134 1173,-1033.7021 1173,-1022.9015\" fill=\"none\" stroke=\"#000000\"/>\n<polygon fill=\"#000000\" points=\"1176.5001,-1022.8149 1173,-1012.8149 1169.5001,-1022.815 1176.5001,-1022.8149\" stroke=\"#000000\"/>\n</g>\n<!-- 3 -->\n<g class=\"node\" id=\"node4\">\n<title>3</title>\n<polygon fill=\"#e58139\" fill-opacity=\"0.976471\" points=\"707.5,-901 522.5,-901 522.5,-818 707.5,-818 707.5,-901\" stroke=\"#000000\"/>\n<text fill=\"#000000\" font-family=\"Times,serif\" font-size=\"14.00\" text-anchor=\"middle\" x=\"615\" y=\"-885.8\">T4U &lt;= -0.35</text>\n<text fill=\"#000000\" font-family=\"Times,serif\" font-size=\"14.00\" text-anchor=\"middle\" x=\"615\" y=\"-870.8\">gini = 0.047</text>\n<text fill=\"#000000\" font-family=\"Times,serif\" font-size=\"14.00\" text-anchor=\"middle\" x=\"615\" y=\"-855.8\">samples = 62</text>\n<text fill=\"#000000\" font-family=\"Times,serif\" font-size=\"14.00\" text-anchor=\"middle\" x=\"615\" y=\"-840.8\">value = [745.667, 0.0, 18.545]</text>\n<text fill=\"#000000\" font-family=\"Times,serif\" font-size=\"14.00\" text-anchor=\"middle\" x=\"615\" y=\"-825.8\">class = negative</text>\n</g>\n<!-- 2&#45;&gt;3 -->\n<g class=\"edge\" id=\"edge3\">\n<title>2-&gt;3</title>\n<path d=\"M823.234,-941.8251C789.682,-928.5603 751.6177,-913.5117 717.2937,-899.9417\" fill=\"none\" stroke=\"#000000\"/>\n<polygon fill=\"#000000\" points=\"718.3051,-896.578 707.7187,-896.1562 715.7315,-903.0877 718.3051,-896.578\" stroke=\"#000000\"/>\n</g>\n<!-- 20 -->\n<g class=\"node\" id=\"node21\">\n<title>20</title>\n<polygon fill=\"#8139e5\" points=\"1015.5,-893.5 816.5,-893.5 816.5,-825.5 1015.5,-825.5 1015.5,-893.5\" stroke=\"#000000\"/>\n<text fill=\"#000000\" font-family=\"Times,serif\" font-size=\"14.00\" text-anchor=\"middle\" x=\"916\" y=\"-878.3\">gini = -0.0</text>\n<text fill=\"#000000\" font-family=\"Times,serif\" font-size=\"14.00\" text-anchor=\"middle\" x=\"916\" y=\"-863.3\">samples = 18</text>\n<text fill=\"#000000\" font-family=\"Times,serif\" font-size=\"14.00\" text-anchor=\"middle\" x=\"916\" y=\"-848.3\">value = [0.0, 0.0, 6.298]</text>\n<text fill=\"#000000\" font-family=\"Times,serif\" font-size=\"14.00\" text-anchor=\"middle\" x=\"916\" y=\"-833.3\">class = decreased binding protein</text>\n</g>\n<!-- 2&#45;&gt;20 -->\n<g class=\"edge\" id=\"edge20\">\n<title>2-&gt;20</title>\n<path d=\"M916,-936.8796C916,-926.2134 916,-914.7021 916,-903.9015\" fill=\"none\" stroke=\"#000000\"/>\n<polygon fill=\"#000000\" points=\"919.5001,-903.8149 916,-893.8149 912.5001,-903.815 919.5001,-903.8149\" stroke=\"#000000\"/>\n</g>\n<!-- 4 -->\n<g class=\"node\" id=\"node5\">\n<title>4</title>\n<polygon fill=\"#8139e5\" points=\"504.5,-774.5 305.5,-774.5 305.5,-706.5 504.5,-706.5 504.5,-774.5\" stroke=\"#000000\"/>\n<text fill=\"#000000\" font-family=\"Times,serif\" font-size=\"14.00\" text-anchor=\"middle\" x=\"405\" y=\"-759.3\">gini = 0.0</text>\n<text fill=\"#000000\" font-family=\"Times,serif\" font-size=\"14.00\" text-anchor=\"middle\" x=\"405\" y=\"-744.3\">samples = 14</text>\n<text fill=\"#000000\" font-family=\"Times,serif\" font-size=\"14.00\" text-anchor=\"middle\" x=\"405\" y=\"-729.3\">value = [0.0, 0.0, 4.899]</text>\n<text fill=\"#000000\" font-family=\"Times,serif\" font-size=\"14.00\" text-anchor=\"middle\" x=\"405\" y=\"-714.3\">class = decreased binding protein</text>\n</g>\n<!-- 3&#45;&gt;4 -->\n<g class=\"edge\" id=\"edge4\">\n<title>3-&gt;4</title>\n<path d=\"M541.5522,-817.8796C519.6178,-805.4501 495.6582,-791.873 474.0182,-779.6103\" fill=\"none\" stroke=\"#000000\"/>\n<polygon fill=\"#000000\" points=\"475.6429,-776.5081 465.2171,-774.623 472.1918,-782.5983 475.6429,-776.5081\" stroke=\"#000000\"/>\n</g>\n<!-- 5 -->\n<g class=\"node\" id=\"node6\">\n<title>5</title>\n<polygon fill=\"#e58139\" fill-opacity=\"0.980392\" points=\"707.5,-782 522.5,-782 522.5,-699 707.5,-699 707.5,-782\" stroke=\"#000000\"/>\n<text fill=\"#000000\" font-family=\"Times,serif\" font-size=\"14.00\" text-anchor=\"middle\" x=\"615\" y=\"-766.8\">TSH &lt;= -1.956</text>\n<text fill=\"#000000\" font-family=\"Times,serif\" font-size=\"14.00\" text-anchor=\"middle\" x=\"615\" y=\"-751.8\">gini = 0.035</text>\n<text fill=\"#000000\" font-family=\"Times,serif\" font-size=\"14.00\" text-anchor=\"middle\" x=\"615\" y=\"-736.8\">samples = 48</text>\n<text fill=\"#000000\" font-family=\"Times,serif\" font-size=\"14.00\" text-anchor=\"middle\" x=\"615\" y=\"-721.8\">value = [745.667, 0.0, 13.647]</text>\n<text fill=\"#000000\" font-family=\"Times,serif\" font-size=\"14.00\" text-anchor=\"middle\" x=\"615\" y=\"-706.8\">class = negative</text>\n</g>\n<!-- 3&#45;&gt;5 -->\n<g class=\"edge\" id=\"edge5\">\n<title>3-&gt;5</title>\n<path d=\"M615,-817.8796C615,-809.6838 615,-800.9891 615,-792.5013\" fill=\"none\" stroke=\"#000000\"/>\n<polygon fill=\"#000000\" points=\"618.5001,-792.298 615,-782.2981 611.5001,-792.2981 618.5001,-792.298\" stroke=\"#000000\"/>\n</g>\n<!-- 6 -->\n<g class=\"node\" id=\"node7\">\n<title>6</title>\n<polygon fill=\"#8139e5\" points=\"504.5,-655.5 305.5,-655.5 305.5,-587.5 504.5,-587.5 504.5,-655.5\" stroke=\"#000000\"/>\n<text fill=\"#000000\" font-family=\"Times,serif\" font-size=\"14.00\" text-anchor=\"middle\" x=\"405\" y=\"-640.3\">gini = 0.0</text>\n<text fill=\"#000000\" font-family=\"Times,serif\" font-size=\"14.00\" text-anchor=\"middle\" x=\"405\" y=\"-625.3\">samples = 4</text>\n<text fill=\"#000000\" font-family=\"Times,serif\" font-size=\"14.00\" text-anchor=\"middle\" x=\"405\" y=\"-610.3\">value = [0.0, 0.0, 1.4]</text>\n<text fill=\"#000000\" font-family=\"Times,serif\" font-size=\"14.00\" text-anchor=\"middle\" x=\"405\" y=\"-595.3\">class = decreased binding protein</text>\n</g>\n<!-- 5&#45;&gt;6 -->\n<g class=\"edge\" id=\"edge6\">\n<title>5-&gt;6</title>\n<path d=\"M541.5522,-698.8796C519.6178,-686.4501 495.6582,-672.873 474.0182,-660.6103\" fill=\"none\" stroke=\"#000000\"/>\n<polygon fill=\"#000000\" points=\"475.6429,-657.5081 465.2171,-655.623 472.1918,-663.5983 475.6429,-657.5081\" stroke=\"#000000\"/>\n</g>\n<!-- 7 -->\n<g class=\"node\" id=\"node8\">\n<title>7</title>\n<polygon fill=\"#e58139\" fill-opacity=\"0.984314\" points=\"707.5,-663 522.5,-663 522.5,-580 707.5,-580 707.5,-663\" stroke=\"#000000\"/>\n<text fill=\"#000000\" font-family=\"Times,serif\" font-size=\"14.00\" text-anchor=\"middle\" x=\"615\" y=\"-647.8\">TT4 &lt;= 4.167</text>\n<text fill=\"#000000\" font-family=\"Times,serif\" font-size=\"14.00\" text-anchor=\"middle\" x=\"615\" y=\"-632.8\">gini = 0.032</text>\n<text fill=\"#000000\" font-family=\"Times,serif\" font-size=\"14.00\" text-anchor=\"middle\" x=\"615\" y=\"-617.8\">samples = 44</text>\n<text fill=\"#000000\" font-family=\"Times,serif\" font-size=\"14.00\" text-anchor=\"middle\" x=\"615\" y=\"-602.8\">value = [745.667, 0.0, 12.247]</text>\n<text fill=\"#000000\" font-family=\"Times,serif\" font-size=\"14.00\" text-anchor=\"middle\" x=\"615\" y=\"-587.8\">class = negative</text>\n</g>\n<!-- 5&#45;&gt;7 -->\n<g class=\"edge\" id=\"edge7\">\n<title>5-&gt;7</title>\n<path d=\"M615,-698.8796C615,-690.6838 615,-681.9891 615,-673.5013\" fill=\"none\" stroke=\"#000000\"/>\n<polygon fill=\"#000000\" points=\"618.5001,-673.298 615,-663.2981 611.5001,-673.2981 618.5001,-673.298\" stroke=\"#000000\"/>\n</g>\n<!-- 8 -->\n<g class=\"node\" id=\"node9\">\n<title>8</title>\n<polygon fill=\"#e58139\" fill-opacity=\"0.996078\" points=\"464,-544 286,-544 286,-461 464,-461 464,-544\" stroke=\"#000000\"/>\n<text fill=\"#000000\" font-family=\"Times,serif\" font-size=\"14.00\" text-anchor=\"middle\" x=\"375\" y=\"-528.8\">TSH &lt;= 3.055</text>\n<text fill=\"#000000\" font-family=\"Times,serif\" font-size=\"14.00\" text-anchor=\"middle\" x=\"375\" y=\"-513.8\">gini = 0.009</text>\n<text fill=\"#000000\" font-family=\"Times,serif\" font-size=\"14.00\" text-anchor=\"middle\" x=\"375\" y=\"-498.8\">samples = 17</text>\n<text fill=\"#000000\" font-family=\"Times,serif\" font-size=\"14.00\" text-anchor=\"middle\" x=\"375\" y=\"-483.8\">value = [662.815, 0.0, 3.149]</text>\n<text fill=\"#000000\" font-family=\"Times,serif\" font-size=\"14.00\" text-anchor=\"middle\" x=\"375\" y=\"-468.8\">class = negative</text>\n</g>\n<!-- 7&#45;&gt;8 -->\n<g class=\"edge\" id=\"edge8\">\n<title>7-&gt;8</title>\n<path d=\"M531.0596,-579.8796C510.689,-569.7791 488.7901,-558.9209 468.0273,-548.626\" fill=\"none\" stroke=\"#000000\"/>\n<polygon fill=\"#000000\" points=\"469.4069,-545.4035 458.893,-544.0969 466.2973,-551.6749 469.4069,-545.4035\" stroke=\"#000000\"/>\n</g>\n<!-- 17 -->\n<g class=\"node\" id=\"node18\">\n<title>17</title>\n<polygon fill=\"#e58139\" fill-opacity=\"0.890196\" points=\"700.5,-544 529.5,-544 529.5,-461 700.5,-461 700.5,-544\" stroke=\"#000000\"/>\n<text fill=\"#000000\" font-family=\"Times,serif\" font-size=\"14.00\" text-anchor=\"middle\" x=\"615\" y=\"-528.8\">FTI &lt;= 5.038</text>\n<text fill=\"#000000\" font-family=\"Times,serif\" font-size=\"14.00\" text-anchor=\"middle\" x=\"615\" y=\"-513.8\">gini = 0.178</text>\n<text fill=\"#000000\" font-family=\"Times,serif\" font-size=\"14.00\" text-anchor=\"middle\" x=\"615\" y=\"-498.8\">samples = 27</text>\n<text fill=\"#000000\" font-family=\"Times,serif\" font-size=\"14.00\" text-anchor=\"middle\" x=\"615\" y=\"-483.8\">value = [82.852, 0.0, 9.098]</text>\n<text fill=\"#000000\" font-family=\"Times,serif\" font-size=\"14.00\" text-anchor=\"middle\" x=\"615\" y=\"-468.8\">class = negative</text>\n</g>\n<!-- 7&#45;&gt;17 -->\n<g class=\"edge\" id=\"edge17\">\n<title>7-&gt;17</title>\n<path d=\"M615,-579.8796C615,-571.6838 615,-562.9891 615,-554.5013\" fill=\"none\" stroke=\"#000000\"/>\n<polygon fill=\"#000000\" points=\"618.5001,-554.298 615,-544.2981 611.5001,-554.2981 618.5001,-554.298\" stroke=\"#000000\"/>\n</g>\n<!-- 9 -->\n<g class=\"node\" id=\"node10\">\n<title>9</title>\n<polygon fill=\"#e58139\" fill-opacity=\"0.996078\" points=\"257,-425 79,-425 79,-342 257,-342 257,-425\" stroke=\"#000000\"/>\n<text fill=\"#000000\" font-family=\"Times,serif\" font-size=\"14.00\" text-anchor=\"middle\" x=\"168\" y=\"-409.8\">TT4 &lt;= 4.052</text>\n<text fill=\"#000000\" font-family=\"Times,serif\" font-size=\"14.00\" text-anchor=\"middle\" x=\"168\" y=\"-394.8\">gini = 0.008</text>\n<text fill=\"#000000\" font-family=\"Times,serif\" font-size=\"14.00\" text-anchor=\"middle\" x=\"168\" y=\"-379.8\">samples = 16</text>\n<text fill=\"#000000\" font-family=\"Times,serif\" font-size=\"14.00\" text-anchor=\"middle\" x=\"168\" y=\"-364.8\">value = [662.815, 0.0, 2.799]</text>\n<text fill=\"#000000\" font-family=\"Times,serif\" font-size=\"14.00\" text-anchor=\"middle\" x=\"168\" y=\"-349.8\">class = negative</text>\n</g>\n<!-- 8&#45;&gt;9 -->\n<g class=\"edge\" id=\"edge9\">\n<title>8-&gt;9</title>\n<path d=\"M302.6014,-460.8796C285.4257,-451.0056 266.9903,-440.4075 249.442,-430.3193\" fill=\"none\" stroke=\"#000000\"/>\n<polygon fill=\"#000000\" points=\"250.7716,-427.0466 240.3577,-425.0969 247.2828,-433.1152 250.7716,-427.0466\" stroke=\"#000000\"/>\n</g>\n<!-- 16 -->\n<g class=\"node\" id=\"node17\">\n<title>16</title>\n<polygon fill=\"#8139e5\" points=\"474.5,-417.5 275.5,-417.5 275.5,-349.5 474.5,-349.5 474.5,-417.5\" stroke=\"#000000\"/>\n<text fill=\"#000000\" font-family=\"Times,serif\" font-size=\"14.00\" text-anchor=\"middle\" x=\"375\" y=\"-402.3\">gini = -0.0</text>\n<text fill=\"#000000\" font-family=\"Times,serif\" font-size=\"14.00\" text-anchor=\"middle\" x=\"375\" y=\"-387.3\">samples = 1</text>\n<text fill=\"#000000\" font-family=\"Times,serif\" font-size=\"14.00\" text-anchor=\"middle\" x=\"375\" y=\"-372.3\">value = [0.0, 0.0, 0.35]</text>\n<text fill=\"#000000\" font-family=\"Times,serif\" font-size=\"14.00\" text-anchor=\"middle\" x=\"375\" y=\"-357.3\">class = decreased binding protein</text>\n</g>\n<!-- 8&#45;&gt;16 -->\n<g class=\"edge\" id=\"edge16\">\n<title>8-&gt;16</title>\n<path d=\"M375,-460.8796C375,-450.2134 375,-438.7021 375,-427.9015\" fill=\"none\" stroke=\"#000000\"/>\n<polygon fill=\"#000000\" points=\"378.5001,-427.8149 375,-417.8149 371.5001,-427.815 378.5001,-427.8149\" stroke=\"#000000\"/>\n</g>\n<!-- 10 -->\n<g class=\"node\" id=\"node11\">\n<title>10</title>\n<polygon fill=\"#8139e5\" points=\"208.5,-298.5 9.5,-298.5 9.5,-230.5 208.5,-230.5 208.5,-298.5\" stroke=\"#000000\"/>\n<text fill=\"#000000\" font-family=\"Times,serif\" font-size=\"14.00\" text-anchor=\"middle\" x=\"109\" y=\"-283.3\">gini = 0.0</text>\n<text fill=\"#000000\" font-family=\"Times,serif\" font-size=\"14.00\" text-anchor=\"middle\" x=\"109\" y=\"-268.3\">samples = 1</text>\n<text fill=\"#000000\" font-family=\"Times,serif\" font-size=\"14.00\" text-anchor=\"middle\" x=\"109\" y=\"-253.3\">value = [0.0, 0.0, 0.35]</text>\n<text fill=\"#000000\" font-family=\"Times,serif\" font-size=\"14.00\" text-anchor=\"middle\" x=\"109\" y=\"-238.3\">class = decreased binding protein</text>\n</g>\n<!-- 9&#45;&gt;10 -->\n<g class=\"edge\" id=\"edge10\">\n<title>9-&gt;10</title>\n<path d=\"M147.3647,-341.8796C141.9128,-330.8835 136.0157,-318.9893 130.5184,-307.9015\" fill=\"none\" stroke=\"#000000\"/>\n<polygon fill=\"#000000\" points=\"133.5911,-306.2195 126.0133,-298.8149 127.3196,-309.3289 133.5911,-306.2195\" stroke=\"#000000\"/>\n</g>\n<!-- 11 -->\n<g class=\"node\" id=\"node12\">\n<title>11</title>\n<polygon fill=\"#e58139\" fill-opacity=\"0.996078\" points=\"405,-306 227,-306 227,-223 405,-223 405,-306\" stroke=\"#000000\"/>\n<text fill=\"#000000\" font-family=\"Times,serif\" font-size=\"14.00\" text-anchor=\"middle\" x=\"316\" y=\"-290.8\">FTI &lt;= 4.93</text>\n<text fill=\"#000000\" font-family=\"Times,serif\" font-size=\"14.00\" text-anchor=\"middle\" x=\"316\" y=\"-275.8\">gini = 0.007</text>\n<text fill=\"#000000\" font-family=\"Times,serif\" font-size=\"14.00\" text-anchor=\"middle\" x=\"316\" y=\"-260.8\">samples = 15</text>\n<text fill=\"#000000\" font-family=\"Times,serif\" font-size=\"14.00\" text-anchor=\"middle\" x=\"316\" y=\"-245.8\">value = [662.815, 0.0, 2.449]</text>\n<text fill=\"#000000\" font-family=\"Times,serif\" font-size=\"14.00\" text-anchor=\"middle\" x=\"316\" y=\"-230.8\">class = negative</text>\n</g>\n<!-- 9&#45;&gt;11 -->\n<g class=\"edge\" id=\"edge11\">\n<title>9-&gt;11</title>\n<path d=\"M219.7632,-341.8796C231.5928,-332.368 244.2581,-322.1843 256.3871,-312.432\" fill=\"none\" stroke=\"#000000\"/>\n<polygon fill=\"#000000\" points=\"258.6659,-315.0908 264.266,-306.0969 254.2796,-309.6355 258.6659,-315.0908\" stroke=\"#000000\"/>\n</g>\n<!-- 12 -->\n<g class=\"node\" id=\"node13\">\n<title>12</title>\n<polygon fill=\"#e58139\" fill-opacity=\"0.996078\" points=\"272,-187 94,-187 94,-104 272,-104 272,-187\" stroke=\"#000000\"/>\n<text fill=\"#000000\" font-family=\"Times,serif\" font-size=\"14.00\" text-anchor=\"middle\" x=\"183\" y=\"-171.8\">TT4 &lt;= 4.151</text>\n<text fill=\"#000000\" font-family=\"Times,serif\" font-size=\"14.00\" text-anchor=\"middle\" x=\"183\" y=\"-156.8\">gini = 0.006</text>\n<text fill=\"#000000\" font-family=\"Times,serif\" font-size=\"14.00\" text-anchor=\"middle\" x=\"183\" y=\"-141.8\">samples = 14</text>\n<text fill=\"#000000\" font-family=\"Times,serif\" font-size=\"14.00\" text-anchor=\"middle\" x=\"183\" y=\"-126.8\">value = [662.815, 0.0, 2.099]</text>\n<text fill=\"#000000\" font-family=\"Times,serif\" font-size=\"14.00\" text-anchor=\"middle\" x=\"183\" y=\"-111.8\">class = negative</text>\n</g>\n<!-- 11&#45;&gt;12 -->\n<g class=\"edge\" id=\"edge12\">\n<title>11-&gt;12</title>\n<path d=\"M269.4831,-222.8796C259.1152,-213.6031 248.0329,-203.6874 237.3801,-194.1559\" fill=\"none\" stroke=\"#000000\"/>\n<polygon fill=\"#000000\" points=\"239.5017,-191.3577 229.7155,-187.2981 234.8341,-196.5744 239.5017,-191.3577\" stroke=\"#000000\"/>\n</g>\n<!-- 15 -->\n<g class=\"node\" id=\"node16\">\n<title>15</title>\n<polygon fill=\"#8139e5\" points=\"489.5,-179.5 290.5,-179.5 290.5,-111.5 489.5,-111.5 489.5,-179.5\" stroke=\"#000000\"/>\n<text fill=\"#000000\" font-family=\"Times,serif\" font-size=\"14.00\" text-anchor=\"middle\" x=\"390\" y=\"-164.3\">gini = -0.0</text>\n<text fill=\"#000000\" font-family=\"Times,serif\" font-size=\"14.00\" text-anchor=\"middle\" x=\"390\" y=\"-149.3\">samples = 1</text>\n<text fill=\"#000000\" font-family=\"Times,serif\" font-size=\"14.00\" text-anchor=\"middle\" x=\"390\" y=\"-134.3\">value = [0.0, 0.0, 0.35]</text>\n<text fill=\"#000000\" font-family=\"Times,serif\" font-size=\"14.00\" text-anchor=\"middle\" x=\"390\" y=\"-119.3\">class = decreased binding protein</text>\n</g>\n<!-- 11&#45;&gt;15 -->\n<g class=\"edge\" id=\"edge15\">\n<title>11-&gt;15</title>\n<path d=\"M341.8816,-222.8796C348.7879,-211.7735 356.2639,-199.7513 363.2175,-188.5691\" fill=\"none\" stroke=\"#000000\"/>\n<polygon fill=\"#000000\" points=\"366.3527,-190.1552 368.6613,-179.8149 360.4083,-186.4587 366.3527,-190.1552\" stroke=\"#000000\"/>\n</g>\n<!-- 13 -->\n<g class=\"node\" id=\"node14\">\n<title>13</title>\n<polygon fill=\"#e58139\" fill-opacity=\"0.988235\" points=\"178,-68 0,-68 0,0 178,0 178,-68\" stroke=\"#000000\"/>\n<text fill=\"#000000\" font-family=\"Times,serif\" font-size=\"14.00\" text-anchor=\"middle\" x=\"89\" y=\"-52.8\">gini = 0.025</text>\n<text fill=\"#000000\" font-family=\"Times,serif\" font-size=\"14.00\" text-anchor=\"middle\" x=\"89\" y=\"-37.8\">samples = 8</text>\n<text fill=\"#000000\" font-family=\"Times,serif\" font-size=\"14.00\" text-anchor=\"middle\" x=\"89\" y=\"-22.8\">value = [165.704, 0.0, 2.099]</text>\n<text fill=\"#000000\" font-family=\"Times,serif\" font-size=\"14.00\" text-anchor=\"middle\" x=\"89\" y=\"-7.8\">class = negative</text>\n</g>\n<!-- 12&#45;&gt;13 -->\n<g class=\"edge\" id=\"edge13\">\n<title>12-&gt;13</title>\n<path d=\"M147.9979,-103.9815C140.3272,-94.8828 132.1995,-85.242 124.5091,-76.1199\" fill=\"none\" stroke=\"#000000\"/>\n<polygon fill=\"#000000\" points=\"127.0075,-73.6533 117.886,-68.2637 121.6556,-78.1652 127.0075,-73.6533\" stroke=\"#000000\"/>\n</g>\n<!-- 14 -->\n<g class=\"node\" id=\"node15\">\n<title>14</title>\n<polygon fill=\"#e58139\" points=\"360,-68 196,-68 196,0 360,0 360,-68\" stroke=\"#000000\"/>\n<text fill=\"#000000\" font-family=\"Times,serif\" font-size=\"14.00\" text-anchor=\"middle\" x=\"278\" y=\"-52.8\">gini = 0.0</text>\n<text fill=\"#000000\" font-family=\"Times,serif\" font-size=\"14.00\" text-anchor=\"middle\" x=\"278\" y=\"-37.8\">samples = 6</text>\n<text fill=\"#000000\" font-family=\"Times,serif\" font-size=\"14.00\" text-anchor=\"middle\" x=\"278\" y=\"-22.8\">value = [497.111, 0.0, 0.0]</text>\n<text fill=\"#000000\" font-family=\"Times,serif\" font-size=\"14.00\" text-anchor=\"middle\" x=\"278\" y=\"-7.8\">class = negative</text>\n</g>\n<!-- 12&#45;&gt;14 -->\n<g class=\"edge\" id=\"edge14\">\n<title>12-&gt;14</title>\n<path d=\"M218.3745,-103.9815C226.1268,-94.8828 234.3409,-85.242 242.1131,-76.1199\" fill=\"none\" stroke=\"#000000\"/>\n<polygon fill=\"#000000\" points=\"244.9854,-78.1454 248.8067,-68.2637 239.6572,-73.6056 244.9854,-78.1454\" stroke=\"#000000\"/>\n</g>\n<!-- 18 -->\n<g class=\"node\" id=\"node19\">\n<title>18</title>\n<polygon fill=\"#8139e5\" points=\"691.5,-417.5 492.5,-417.5 492.5,-349.5 691.5,-349.5 691.5,-417.5\" stroke=\"#000000\"/>\n<text fill=\"#000000\" font-family=\"Times,serif\" font-size=\"14.00\" text-anchor=\"middle\" x=\"592\" y=\"-402.3\">gini = 0.0</text>\n<text fill=\"#000000\" font-family=\"Times,serif\" font-size=\"14.00\" text-anchor=\"middle\" x=\"592\" y=\"-387.3\">samples = 26</text>\n<text fill=\"#000000\" font-family=\"Times,serif\" font-size=\"14.00\" text-anchor=\"middle\" x=\"592\" y=\"-372.3\">value = [0.0, 0.0, 9.098]</text>\n<text fill=\"#000000\" font-family=\"Times,serif\" font-size=\"14.00\" text-anchor=\"middle\" x=\"592\" y=\"-357.3\">class = decreased binding protein</text>\n</g>\n<!-- 17&#45;&gt;18 -->\n<g class=\"edge\" id=\"edge18\">\n<title>17-&gt;18</title>\n<path d=\"M606.9557,-460.8796C604.8942,-450.2134 602.6693,-438.7021 600.5818,-427.9015\" fill=\"none\" stroke=\"#000000\"/>\n<polygon fill=\"#000000\" points=\"603.9664,-426.969 598.6323,-417.8149 597.0936,-428.2974 603.9664,-426.969\" stroke=\"#000000\"/>\n</g>\n<!-- 19 -->\n<g class=\"node\" id=\"node20\">\n<title>19</title>\n<polygon fill=\"#e58139\" points=\"868,-417.5 710,-417.5 710,-349.5 868,-349.5 868,-417.5\" stroke=\"#000000\"/>\n<text fill=\"#000000\" font-family=\"Times,serif\" font-size=\"14.00\" text-anchor=\"middle\" x=\"789\" y=\"-402.3\">gini = 0.0</text>\n<text fill=\"#000000\" font-family=\"Times,serif\" font-size=\"14.00\" text-anchor=\"middle\" x=\"789\" y=\"-387.3\">samples = 1</text>\n<text fill=\"#000000\" font-family=\"Times,serif\" font-size=\"14.00\" text-anchor=\"middle\" x=\"789\" y=\"-372.3\">value = [82.852, 0.0, 0.0]</text>\n<text fill=\"#000000\" font-family=\"Times,serif\" font-size=\"14.00\" text-anchor=\"middle\" x=\"789\" y=\"-357.3\">class = negative</text>\n</g>\n<!-- 17&#45;&gt;19 -->\n<g class=\"edge\" id=\"edge19\">\n<title>17-&gt;19</title>\n<path d=\"M675.8568,-460.8796C693.6271,-448.7263 713.0017,-435.4759 730.6153,-423.4297\" fill=\"none\" stroke=\"#000000\"/>\n<polygon fill=\"#000000\" points=\"732.8274,-426.1572 739.1058,-417.623 728.8757,-420.3792 732.8274,-426.1572\" stroke=\"#000000\"/>\n</g>\n<!-- 23 -->\n<g class=\"node\" id=\"node24\">\n<title>23</title>\n<polygon fill=\"#8139e5\" fill-opacity=\"0.874510\" points=\"1492.5,-1020 1293.5,-1020 1293.5,-937 1492.5,-937 1492.5,-1020\" stroke=\"#000000\"/>\n<text fill=\"#000000\" font-family=\"Times,serif\" font-size=\"14.00\" text-anchor=\"middle\" x=\"1393\" y=\"-1004.8\">T3 &lt;= 1.047</text>\n<text fill=\"#000000\" font-family=\"Times,serif\" font-size=\"14.00\" text-anchor=\"middle\" x=\"1393\" y=\"-989.8\">gini = 0.197</text>\n<text fill=\"#000000\" font-family=\"Times,serif\" font-size=\"14.00\" text-anchor=\"middle\" x=\"1393\" y=\"-974.8\">samples = 1771</text>\n<text fill=\"#000000\" font-family=\"Times,serif\" font-size=\"14.00\" text-anchor=\"middle\" x=\"1393\" y=\"-959.8\">value = [0.0, 76.873, 616.198]</text>\n<text fill=\"#000000\" font-family=\"Times,serif\" font-size=\"14.00\" text-anchor=\"middle\" x=\"1393\" y=\"-944.8\">class = decreased binding protein</text>\n</g>\n<!-- 22&#45;&gt;23 -->\n<g class=\"edge\" id=\"edge23\">\n<title>22-&gt;23</title>\n<path d=\"M1393,-1055.8796C1393,-1047.6838 1393,-1038.9891 1393,-1030.5013\" fill=\"none\" stroke=\"#000000\"/>\n<polygon fill=\"#000000\" points=\"1396.5001,-1030.298 1393,-1020.2981 1389.5001,-1030.2981 1396.5001,-1030.298\" stroke=\"#000000\"/>\n</g>\n<!-- 52 -->\n<g class=\"node\" id=\"node53\">\n<title>52</title>\n<polygon fill=\"#39e581\" fill-opacity=\"0.870588\" points=\"2405.5,-1020 2208.5,-1020 2208.5,-937 2405.5,-937 2405.5,-1020\" stroke=\"#000000\"/>\n<text fill=\"#000000\" font-family=\"Times,serif\" font-size=\"14.00\" text-anchor=\"middle\" x=\"2307\" y=\"-1004.8\">T3 &lt;= 1.032</text>\n<text fill=\"#000000\" font-family=\"Times,serif\" font-size=\"14.00\" text-anchor=\"middle\" x=\"2307\" y=\"-989.8\">gini = 0.205</text>\n<text fill=\"#000000\" font-family=\"Times,serif\" font-size=\"14.00\" text-anchor=\"middle\" x=\"2307\" y=\"-974.8\">samples = 337</text>\n<text fill=\"#000000\" font-family=\"Times,serif\" font-size=\"14.00\" text-anchor=\"middle\" x=\"2307\" y=\"-959.8\">value = [0.0, 668.794, 87.478]</text>\n<text fill=\"#000000\" font-family=\"Times,serif\" font-size=\"14.00\" text-anchor=\"middle\" x=\"2307\" y=\"-944.8\">class = increased binding protein</text>\n</g>\n<!-- 22&#45;&gt;52 -->\n<g class=\"edge\" id=\"edge52\">\n<title>22-&gt;52</title>\n<path d=\"M1491.6824,-1084.6519C1664.1764,-1062.1937 2019.1886,-1015.9722 2198.4104,-992.638\" fill=\"none\" stroke=\"#000000\"/>\n<polygon fill=\"#000000\" points=\"2198.9199,-996.1013 2208.3843,-991.3395 2198.016,-989.1599 2198.9199,-996.1013\" stroke=\"#000000\"/>\n</g>\n<!-- 24 -->\n<g class=\"node\" id=\"node25\">\n<title>24</title>\n<polygon fill=\"#8139e5\" points=\"1277.5,-893.5 1078.5,-893.5 1078.5,-825.5 1277.5,-825.5 1277.5,-893.5\" stroke=\"#000000\"/>\n<text fill=\"#000000\" font-family=\"Times,serif\" font-size=\"14.00\" text-anchor=\"middle\" x=\"1178\" y=\"-878.3\">gini = -0.0</text>\n<text fill=\"#000000\" font-family=\"Times,serif\" font-size=\"14.00\" text-anchor=\"middle\" x=\"1178\" y=\"-863.3\">samples = 1689</text>\n<text fill=\"#000000\" font-family=\"Times,serif\" font-size=\"14.00\" text-anchor=\"middle\" x=\"1178\" y=\"-848.3\">value = [0.0, 0.0, 591.005]</text>\n<text fill=\"#000000\" font-family=\"Times,serif\" font-size=\"14.00\" text-anchor=\"middle\" x=\"1178\" y=\"-833.3\">class = decreased binding protein</text>\n</g>\n<!-- 23&#45;&gt;24 -->\n<g class=\"edge\" id=\"edge24\">\n<title>23-&gt;24</title>\n<path d=\"M1317.8034,-936.8796C1295.3468,-924.4501 1270.8168,-910.873 1248.6615,-898.6103\" fill=\"none\" stroke=\"#000000\"/>\n<polygon fill=\"#000000\" points=\"1250.095,-895.4034 1239.6509,-893.623 1246.7052,-901.5279 1250.095,-895.4034\" stroke=\"#000000\"/>\n</g>\n<!-- 25 -->\n<g class=\"node\" id=\"node26\">\n<title>25</title>\n<polygon fill=\"#39e581\" fill-opacity=\"0.670588\" points=\"1492.5,-901 1295.5,-901 1295.5,-818 1492.5,-818 1492.5,-901\" stroke=\"#000000\"/>\n<text fill=\"#000000\" font-family=\"Times,serif\" font-size=\"14.00\" text-anchor=\"middle\" x=\"1394\" y=\"-885.8\">TSH &lt;= 0.615</text>\n<text fill=\"#000000\" font-family=\"Times,serif\" font-size=\"14.00\" text-anchor=\"middle\" x=\"1394\" y=\"-870.8\">gini = 0.372</text>\n<text fill=\"#000000\" font-family=\"Times,serif\" font-size=\"14.00\" text-anchor=\"middle\" x=\"1394\" y=\"-855.8\">samples = 82</text>\n<text fill=\"#000000\" font-family=\"Times,serif\" font-size=\"14.00\" text-anchor=\"middle\" x=\"1394\" y=\"-840.8\">value = [0.0, 76.873, 25.194]</text>\n<text fill=\"#000000\" font-family=\"Times,serif\" font-size=\"14.00\" text-anchor=\"middle\" x=\"1394\" y=\"-825.8\">class = increased binding protein</text>\n</g>\n<!-- 23&#45;&gt;25 -->\n<g class=\"edge\" id=\"edge25\">\n<title>23-&gt;25</title>\n<path d=\"M1393.3498,-936.8796C1393.4186,-928.6838 1393.4917,-919.9891 1393.563,-911.5013\" fill=\"none\" stroke=\"#000000\"/>\n<polygon fill=\"#000000\" points=\"1397.0645,-911.3272 1393.6488,-901.2981 1390.0648,-911.2683 1397.0645,-911.3272\" stroke=\"#000000\"/>\n</g>\n<!-- 26 -->\n<g class=\"node\" id=\"node27\">\n<title>26</title>\n<polygon fill=\"#39e581\" fill-opacity=\"0.058824\" points=\"1299.5,-782 1102.5,-782 1102.5,-699 1299.5,-699 1299.5,-782\" stroke=\"#000000\"/>\n<text fill=\"#000000\" font-family=\"Times,serif\" font-size=\"14.00\" text-anchor=\"middle\" x=\"1201\" y=\"-766.8\">T4U &lt;= -0.023</text>\n<text fill=\"#000000\" font-family=\"Times,serif\" font-size=\"14.00\" text-anchor=\"middle\" x=\"1201\" y=\"-751.8\">gini = 0.5</text>\n<text fill=\"#000000\" font-family=\"Times,serif\" font-size=\"14.00\" text-anchor=\"middle\" x=\"1201\" y=\"-736.8\">samples = 65</text>\n<text fill=\"#000000\" font-family=\"Times,serif\" font-size=\"14.00\" text-anchor=\"middle\" x=\"1201\" y=\"-721.8\">value = [0.0, 23.062, 21.695]</text>\n<text fill=\"#000000\" font-family=\"Times,serif\" font-size=\"14.00\" text-anchor=\"middle\" x=\"1201\" y=\"-706.8\">class = increased binding protein</text>\n</g>\n<!-- 25&#45;&gt;26 -->\n<g class=\"edge\" id=\"edge26\">\n<title>25-&gt;26</title>\n<path d=\"M1326.498,-817.8796C1310.6308,-808.0962 1293.6106,-797.6019 1277.3844,-787.5971\" fill=\"none\" stroke=\"#000000\"/>\n<polygon fill=\"#000000\" points=\"1278.8129,-784.3661 1268.4639,-782.0969 1275.139,-790.3245 1278.8129,-784.3661\" stroke=\"#000000\"/>\n</g>\n<!-- 39 -->\n<g class=\"node\" id=\"node40\">\n<title>39</title>\n<polygon fill=\"#39e581\" fill-opacity=\"0.933333\" points=\"1515.5,-782 1318.5,-782 1318.5,-699 1515.5,-699 1515.5,-782\" stroke=\"#000000\"/>\n<text fill=\"#000000\" font-family=\"Times,serif\" font-size=\"14.00\" text-anchor=\"middle\" x=\"1417\" y=\"-766.8\">T3 &lt;= 1.193</text>\n<text fill=\"#000000\" font-family=\"Times,serif\" font-size=\"14.00\" text-anchor=\"middle\" x=\"1417\" y=\"-751.8\">gini = 0.115</text>\n<text fill=\"#000000\" font-family=\"Times,serif\" font-size=\"14.00\" text-anchor=\"middle\" x=\"1417\" y=\"-736.8\">samples = 17</text>\n<text fill=\"#000000\" font-family=\"Times,serif\" font-size=\"14.00\" text-anchor=\"middle\" x=\"1417\" y=\"-721.8\">value = [0.0, 53.811, 3.499]</text>\n<text fill=\"#000000\" font-family=\"Times,serif\" font-size=\"14.00\" text-anchor=\"middle\" x=\"1417\" y=\"-706.8\">class = increased binding protein</text>\n</g>\n<!-- 25&#45;&gt;39 -->\n<g class=\"edge\" id=\"edge39\">\n<title>25-&gt;39</title>\n<path d=\"M1402.0443,-817.8796C1403.6457,-809.5938 1405.3458,-800.798 1407.0034,-792.2216\" fill=\"none\" stroke=\"#000000\"/>\n<polygon fill=\"#000000\" points=\"1410.4601,-792.7806 1408.9214,-782.2981 1403.5872,-791.4522 1410.4601,-792.7806\" stroke=\"#000000\"/>\n</g>\n<!-- 27 -->\n<g class=\"node\" id=\"node28\">\n<title>27</title>\n<polygon fill=\"#8139e5\" points=\"1084.5,-655.5 885.5,-655.5 885.5,-587.5 1084.5,-587.5 1084.5,-655.5\" stroke=\"#000000\"/>\n<text fill=\"#000000\" font-family=\"Times,serif\" font-size=\"14.00\" text-anchor=\"middle\" x=\"985\" y=\"-640.3\">gini = 0.0</text>\n<text fill=\"#000000\" font-family=\"Times,serif\" font-size=\"14.00\" text-anchor=\"middle\" x=\"985\" y=\"-625.3\">samples = 27</text>\n<text fill=\"#000000\" font-family=\"Times,serif\" font-size=\"14.00\" text-anchor=\"middle\" x=\"985\" y=\"-610.3\">value = [0.0, 0.0, 9.448]</text>\n<text fill=\"#000000\" font-family=\"Times,serif\" font-size=\"14.00\" text-anchor=\"middle\" x=\"985\" y=\"-595.3\">class = decreased binding protein</text>\n</g>\n<!-- 26&#45;&gt;27 -->\n<g class=\"edge\" id=\"edge27\">\n<title>26-&gt;27</title>\n<path d=\"M1125.4537,-698.8796C1102.8926,-686.4501 1078.2485,-672.873 1055.9902,-660.6103\" fill=\"none\" stroke=\"#000000\"/>\n<polygon fill=\"#000000\" points=\"1057.3853,-657.3829 1046.9376,-655.623 1054.0074,-663.5141 1057.3853,-657.3829\" stroke=\"#000000\"/>\n</g>\n<!-- 28 -->\n<g class=\"node\" id=\"node29\">\n<title>28</title>\n<polygon fill=\"#39e581\" fill-opacity=\"0.470588\" points=\"1299.5,-663 1102.5,-663 1102.5,-580 1299.5,-580 1299.5,-663\" stroke=\"#000000\"/>\n<text fill=\"#000000\" font-family=\"Times,serif\" font-size=\"14.00\" text-anchor=\"middle\" x=\"1201\" y=\"-647.8\">T3 &lt;= 1.147</text>\n<text fill=\"#000000\" font-family=\"Times,serif\" font-size=\"14.00\" text-anchor=\"middle\" x=\"1201\" y=\"-632.8\">gini = 0.453</text>\n<text fill=\"#000000\" font-family=\"Times,serif\" font-size=\"14.00\" text-anchor=\"middle\" x=\"1201\" y=\"-617.8\">samples = 38</text>\n<text fill=\"#000000\" font-family=\"Times,serif\" font-size=\"14.00\" text-anchor=\"middle\" x=\"1201\" y=\"-602.8\">value = [0.0, 23.062, 12.247]</text>\n<text fill=\"#000000\" font-family=\"Times,serif\" font-size=\"14.00\" text-anchor=\"middle\" x=\"1201\" y=\"-587.8\">class = increased binding protein</text>\n</g>\n<!-- 26&#45;&gt;28 -->\n<g class=\"edge\" id=\"edge28\">\n<title>26-&gt;28</title>\n<path d=\"M1201,-698.8796C1201,-690.6838 1201,-681.9891 1201,-673.5013\" fill=\"none\" stroke=\"#000000\"/>\n<polygon fill=\"#000000\" points=\"1204.5001,-673.298 1201,-663.2981 1197.5001,-673.2981 1204.5001,-673.298\" stroke=\"#000000\"/>\n</g>\n<!-- 29 -->\n<g class=\"node\" id=\"node30\">\n<title>29</title>\n<polygon fill=\"#8139e5\" points=\"1084.5,-536.5 885.5,-536.5 885.5,-468.5 1084.5,-468.5 1084.5,-536.5\" stroke=\"#000000\"/>\n<text fill=\"#000000\" font-family=\"Times,serif\" font-size=\"14.00\" text-anchor=\"middle\" x=\"985\" y=\"-521.3\">gini = 0.0</text>\n<text fill=\"#000000\" font-family=\"Times,serif\" font-size=\"14.00\" text-anchor=\"middle\" x=\"985\" y=\"-506.3\">samples = 17</text>\n<text fill=\"#000000\" font-family=\"Times,serif\" font-size=\"14.00\" text-anchor=\"middle\" x=\"985\" y=\"-491.3\">value = [0.0, 0.0, 5.949]</text>\n<text fill=\"#000000\" font-family=\"Times,serif\" font-size=\"14.00\" text-anchor=\"middle\" x=\"985\" y=\"-476.3\">class = decreased binding protein</text>\n</g>\n<!-- 28&#45;&gt;29 -->\n<g class=\"edge\" id=\"edge29\">\n<title>28-&gt;29</title>\n<path d=\"M1125.4537,-579.8796C1102.8926,-567.4501 1078.2485,-553.873 1055.9902,-541.6103\" fill=\"none\" stroke=\"#000000\"/>\n<polygon fill=\"#000000\" points=\"1057.3853,-538.3829 1046.9376,-536.623 1054.0074,-544.5141 1057.3853,-538.3829\" stroke=\"#000000\"/>\n</g>\n<!-- 30 -->\n<g class=\"node\" id=\"node31\">\n<title>30</title>\n<polygon fill=\"#39e581\" fill-opacity=\"0.725490\" points=\"1299.5,-544 1102.5,-544 1102.5,-461 1299.5,-461 1299.5,-544\" stroke=\"#000000\"/>\n<text fill=\"#000000\" font-family=\"Times,serif\" font-size=\"14.00\" text-anchor=\"middle\" x=\"1201\" y=\"-528.8\">T3 &lt;= 1.252</text>\n<text fill=\"#000000\" font-family=\"Times,serif\" font-size=\"14.00\" text-anchor=\"middle\" x=\"1201\" y=\"-513.8\">gini = 0.337</text>\n<text fill=\"#000000\" font-family=\"Times,serif\" font-size=\"14.00\" text-anchor=\"middle\" x=\"1201\" y=\"-498.8\">samples = 21</text>\n<text fill=\"#000000\" font-family=\"Times,serif\" font-size=\"14.00\" text-anchor=\"middle\" x=\"1201\" y=\"-483.8\">value = [0.0, 23.062, 6.298]</text>\n<text fill=\"#000000\" font-family=\"Times,serif\" font-size=\"14.00\" text-anchor=\"middle\" x=\"1201\" y=\"-468.8\">class = increased binding protein</text>\n</g>\n<!-- 28&#45;&gt;30 -->\n<g class=\"edge\" id=\"edge30\">\n<title>28-&gt;30</title>\n<path d=\"M1201,-579.8796C1201,-571.6838 1201,-562.9891 1201,-554.5013\" fill=\"none\" stroke=\"#000000\"/>\n<polygon fill=\"#000000\" points=\"1204.5001,-554.298 1201,-544.2981 1197.5001,-554.2981 1204.5001,-554.298\" stroke=\"#000000\"/>\n</g>\n<!-- 31 -->\n<g class=\"node\" id=\"node32\">\n<title>31</title>\n<polygon fill=\"#39e581\" fill-opacity=\"0.862745\" points=\"1083.5,-425 886.5,-425 886.5,-342 1083.5,-342 1083.5,-425\" stroke=\"#000000\"/>\n<text fill=\"#000000\" font-family=\"Times,serif\" font-size=\"14.00\" text-anchor=\"middle\" x=\"985\" y=\"-409.8\">TT4 &lt;= 5.212</text>\n<text fill=\"#000000\" font-family=\"Times,serif\" font-size=\"14.00\" text-anchor=\"middle\" x=\"985\" y=\"-394.8\">gini = 0.211</text>\n<text fill=\"#000000\" font-family=\"Times,serif\" font-size=\"14.00\" text-anchor=\"middle\" x=\"985\" y=\"-379.8\">samples = 12</text>\n<text fill=\"#000000\" font-family=\"Times,serif\" font-size=\"14.00\" text-anchor=\"middle\" x=\"985\" y=\"-364.8\">value = [0.0, 23.062, 3.149]</text>\n<text fill=\"#000000\" font-family=\"Times,serif\" font-size=\"14.00\" text-anchor=\"middle\" x=\"985\" y=\"-349.8\">class = increased binding protein</text>\n</g>\n<!-- 30&#45;&gt;31 -->\n<g class=\"edge\" id=\"edge31\">\n<title>30-&gt;31</title>\n<path d=\"M1125.4537,-460.8796C1107.3668,-450.915 1087.9411,-440.2129 1069.4793,-430.0418\" fill=\"none\" stroke=\"#000000\"/>\n<polygon fill=\"#000000\" points=\"1070.9513,-426.8568 1060.5037,-425.0969 1067.5735,-432.9879 1070.9513,-426.8568\" stroke=\"#000000\"/>\n</g>\n<!-- 38 -->\n<g class=\"node\" id=\"node39\">\n<title>38</title>\n<polygon fill=\"#8139e5\" points=\"1300.5,-417.5 1101.5,-417.5 1101.5,-349.5 1300.5,-349.5 1300.5,-417.5\" stroke=\"#000000\"/>\n<text fill=\"#000000\" font-family=\"Times,serif\" font-size=\"14.00\" text-anchor=\"middle\" x=\"1201\" y=\"-402.3\">gini = 0.0</text>\n<text fill=\"#000000\" font-family=\"Times,serif\" font-size=\"14.00\" text-anchor=\"middle\" x=\"1201\" y=\"-387.3\">samples = 9</text>\n<text fill=\"#000000\" font-family=\"Times,serif\" font-size=\"14.00\" text-anchor=\"middle\" x=\"1201\" y=\"-372.3\">value = [0.0, 0.0, 3.149]</text>\n<text fill=\"#000000\" font-family=\"Times,serif\" font-size=\"14.00\" text-anchor=\"middle\" x=\"1201\" y=\"-357.3\">class = decreased binding protein</text>\n</g>\n<!-- 30&#45;&gt;38 -->\n<g class=\"edge\" id=\"edge38\">\n<title>30-&gt;38</title>\n<path d=\"M1201,-460.8796C1201,-450.2134 1201,-438.7021 1201,-427.9015\" fill=\"none\" stroke=\"#000000\"/>\n<polygon fill=\"#000000\" points=\"1204.5001,-427.8149 1201,-417.8149 1197.5001,-427.815 1204.5001,-427.8149\" stroke=\"#000000\"/>\n</g>\n<!-- 32 -->\n<g class=\"node\" id=\"node33\">\n<title>32</title>\n<polygon fill=\"#39e581\" fill-opacity=\"0.968627\" points=\"866.5,-306 669.5,-306 669.5,-223 866.5,-223 866.5,-306\" stroke=\"#000000\"/>\n<text fill=\"#000000\" font-family=\"Times,serif\" font-size=\"14.00\" text-anchor=\"middle\" x=\"768\" y=\"-290.8\">TSH &lt;= -2.278</text>\n<text fill=\"#000000\" font-family=\"Times,serif\" font-size=\"14.00\" text-anchor=\"middle\" x=\"768\" y=\"-275.8\">gini = 0.057</text>\n<text fill=\"#000000\" font-family=\"Times,serif\" font-size=\"14.00\" text-anchor=\"middle\" x=\"768\" y=\"-260.8\">samples = 5</text>\n<text fill=\"#000000\" font-family=\"Times,serif\" font-size=\"14.00\" text-anchor=\"middle\" x=\"768\" y=\"-245.8\">value = [0.0, 23.062, 0.7]</text>\n<text fill=\"#000000\" font-family=\"Times,serif\" font-size=\"14.00\" text-anchor=\"middle\" x=\"768\" y=\"-230.8\">class = increased binding protein</text>\n</g>\n<!-- 31&#45;&gt;32 -->\n<g class=\"edge\" id=\"edge32\">\n<title>31-&gt;32</title>\n<path d=\"M909.1039,-341.8796C890.9333,-331.915 871.4177,-321.2129 852.8704,-311.0418\" fill=\"none\" stroke=\"#000000\"/>\n<polygon fill=\"#000000\" points=\"854.3043,-307.8365 843.8532,-306.0969 850.9384,-313.9741 854.3043,-307.8365\" stroke=\"#000000\"/>\n</g>\n<!-- 37 -->\n<g class=\"node\" id=\"node38\">\n<title>37</title>\n<polygon fill=\"#8139e5\" points=\"1083.5,-298.5 884.5,-298.5 884.5,-230.5 1083.5,-230.5 1083.5,-298.5\" stroke=\"#000000\"/>\n<text fill=\"#000000\" font-family=\"Times,serif\" font-size=\"14.00\" text-anchor=\"middle\" x=\"984\" y=\"-283.3\">gini = 0.0</text>\n<text fill=\"#000000\" font-family=\"Times,serif\" font-size=\"14.00\" text-anchor=\"middle\" x=\"984\" y=\"-268.3\">samples = 7</text>\n<text fill=\"#000000\" font-family=\"Times,serif\" font-size=\"14.00\" text-anchor=\"middle\" x=\"984\" y=\"-253.3\">value = [0.0, 0.0, 2.449]</text>\n<text fill=\"#000000\" font-family=\"Times,serif\" font-size=\"14.00\" text-anchor=\"middle\" x=\"984\" y=\"-238.3\">class = decreased binding protein</text>\n</g>\n<!-- 31&#45;&gt;37 -->\n<g class=\"edge\" id=\"edge37\">\n<title>31-&gt;37</title>\n<path d=\"M984.6502,-341.8796C984.5606,-331.2134 984.4639,-319.7021 984.3731,-308.9015\" fill=\"none\" stroke=\"#000000\"/>\n<polygon fill=\"#000000\" points=\"987.8724,-308.7851 984.2884,-298.8149 980.8726,-308.844 987.8724,-308.7851\" stroke=\"#000000\"/>\n</g>\n<!-- 33 -->\n<g class=\"node\" id=\"node34\">\n<title>33</title>\n<polygon fill=\"#39e581\" points=\"792.5,-179.5 595.5,-179.5 595.5,-111.5 792.5,-111.5 792.5,-179.5\" stroke=\"#000000\"/>\n<text fill=\"#000000\" font-family=\"Times,serif\" font-size=\"14.00\" text-anchor=\"middle\" x=\"694\" y=\"-164.3\">gini = 0.0</text>\n<text fill=\"#000000\" font-family=\"Times,serif\" font-size=\"14.00\" text-anchor=\"middle\" x=\"694\" y=\"-149.3\">samples = 2</text>\n<text fill=\"#000000\" font-family=\"Times,serif\" font-size=\"14.00\" text-anchor=\"middle\" x=\"694\" y=\"-134.3\">value = [0.0, 15.375, 0.0]</text>\n<text fill=\"#000000\" font-family=\"Times,serif\" font-size=\"14.00\" text-anchor=\"middle\" x=\"694\" y=\"-119.3\">class = increased binding protein</text>\n</g>\n<!-- 32&#45;&gt;33 -->\n<g class=\"edge\" id=\"edge33\">\n<title>32-&gt;33</title>\n<path d=\"M742.1184,-222.8796C735.2121,-211.7735 727.7361,-199.7513 720.7825,-188.5691\" fill=\"none\" stroke=\"#000000\"/>\n<polygon fill=\"#000000\" points=\"723.5917,-186.4587 715.3387,-179.8149 717.6473,-190.1552 723.5917,-186.4587\" stroke=\"#000000\"/>\n</g>\n<!-- 34 -->\n<g class=\"node\" id=\"node35\">\n<title>34</title>\n<polygon fill=\"#39e581\" fill-opacity=\"0.909804\" points=\"1007.5,-187 810.5,-187 810.5,-104 1007.5,-104 1007.5,-187\" stroke=\"#000000\"/>\n<text fill=\"#000000\" font-family=\"Times,serif\" font-size=\"14.00\" text-anchor=\"middle\" x=\"909\" y=\"-171.8\">TT4 &lt;= 5.174</text>\n<text fill=\"#000000\" font-family=\"Times,serif\" font-size=\"14.00\" text-anchor=\"middle\" x=\"909\" y=\"-156.8\">gini = 0.153</text>\n<text fill=\"#000000\" font-family=\"Times,serif\" font-size=\"14.00\" text-anchor=\"middle\" x=\"909\" y=\"-141.8\">samples = 3</text>\n<text fill=\"#000000\" font-family=\"Times,serif\" font-size=\"14.00\" text-anchor=\"middle\" x=\"909\" y=\"-126.8\">value = [0.0, 7.687, 0.7]</text>\n<text fill=\"#000000\" font-family=\"Times,serif\" font-size=\"14.00\" text-anchor=\"middle\" x=\"909\" y=\"-111.8\">class = increased binding protein</text>\n</g>\n<!-- 32&#45;&gt;34 -->\n<g class=\"edge\" id=\"edge34\">\n<title>32-&gt;34</title>\n<path d=\"M817.315,-222.8796C828.4132,-213.513 840.2835,-203.4948 851.6777,-193.8784\" fill=\"none\" stroke=\"#000000\"/>\n<polygon fill=\"#000000\" points=\"854.0899,-196.4225 859.4746,-187.2981 849.575,-191.0731 854.0899,-196.4225\" stroke=\"#000000\"/>\n</g>\n<!-- 35 -->\n<g class=\"node\" id=\"node36\">\n<title>35</title>\n<polygon fill=\"#8139e5\" points=\"900.5,-68 701.5,-68 701.5,0 900.5,0 900.5,-68\" stroke=\"#000000\"/>\n<text fill=\"#000000\" font-family=\"Times,serif\" font-size=\"14.00\" text-anchor=\"middle\" x=\"801\" y=\"-52.8\">gini = -0.0</text>\n<text fill=\"#000000\" font-family=\"Times,serif\" font-size=\"14.00\" text-anchor=\"middle\" x=\"801\" y=\"-37.8\">samples = 2</text>\n<text fill=\"#000000\" font-family=\"Times,serif\" font-size=\"14.00\" text-anchor=\"middle\" x=\"801\" y=\"-22.8\">value = [0.0, 0.0, 0.7]</text>\n<text fill=\"#000000\" font-family=\"Times,serif\" font-size=\"14.00\" text-anchor=\"middle\" x=\"801\" y=\"-7.8\">class = decreased binding protein</text>\n</g>\n<!-- 34&#45;&gt;35 -->\n<g class=\"edge\" id=\"edge35\">\n<title>34-&gt;35</title>\n<path d=\"M868.7848,-103.9815C859.7936,-94.6989 850.256,-84.8522 841.2629,-75.5677\" fill=\"none\" stroke=\"#000000\"/>\n<polygon fill=\"#000000\" points=\"843.6596,-73.0115 834.1881,-68.2637 838.6316,-77.8817 843.6596,-73.0115\" stroke=\"#000000\"/>\n</g>\n<!-- 36 -->\n<g class=\"node\" id=\"node37\">\n<title>36</title>\n<polygon fill=\"#39e581\" points=\"1115.5,-68 918.5,-68 918.5,0 1115.5,0 1115.5,-68\" stroke=\"#000000\"/>\n<text fill=\"#000000\" font-family=\"Times,serif\" font-size=\"14.00\" text-anchor=\"middle\" x=\"1017\" y=\"-52.8\">gini = 0.0</text>\n<text fill=\"#000000\" font-family=\"Times,serif\" font-size=\"14.00\" text-anchor=\"middle\" x=\"1017\" y=\"-37.8\">samples = 1</text>\n<text fill=\"#000000\" font-family=\"Times,serif\" font-size=\"14.00\" text-anchor=\"middle\" x=\"1017\" y=\"-22.8\">value = [0.0, 7.687, 0.0]</text>\n<text fill=\"#000000\" font-family=\"Times,serif\" font-size=\"14.00\" text-anchor=\"middle\" x=\"1017\" y=\"-7.8\">class = increased binding protein</text>\n</g>\n<!-- 34&#45;&gt;36 -->\n<g class=\"edge\" id=\"edge36\">\n<title>34-&gt;36</title>\n<path d=\"M949.2152,-103.9815C958.2064,-94.6989 967.744,-84.8522 976.7371,-75.5677\" fill=\"none\" stroke=\"#000000\"/>\n<polygon fill=\"#000000\" points=\"979.3684,-77.8817 983.8119,-68.2637 974.3404,-73.0115 979.3684,-77.8817\" stroke=\"#000000\"/>\n</g>\n<!-- 40 -->\n<g class=\"node\" id=\"node41\">\n<title>40</title>\n<polygon fill=\"#39e581\" fill-opacity=\"0.952941\" points=\"1515.5,-663 1318.5,-663 1318.5,-580 1515.5,-580 1515.5,-663\" stroke=\"#000000\"/>\n<text fill=\"#000000\" font-family=\"Times,serif\" font-size=\"14.00\" text-anchor=\"middle\" x=\"1417\" y=\"-647.8\">origin_cuba &lt;= 0.5</text>\n<text fill=\"#000000\" font-family=\"Times,serif\" font-size=\"14.00\" text-anchor=\"middle\" x=\"1417\" y=\"-632.8\">gini = 0.083</text>\n<text fill=\"#000000\" font-family=\"Times,serif\" font-size=\"14.00\" text-anchor=\"middle\" x=\"1417\" y=\"-617.8\">samples = 14</text>\n<text fill=\"#000000\" font-family=\"Times,serif\" font-size=\"14.00\" text-anchor=\"middle\" x=\"1417\" y=\"-602.8\">value = [0.0, 53.811, 2.449]</text>\n<text fill=\"#000000\" font-family=\"Times,serif\" font-size=\"14.00\" text-anchor=\"middle\" x=\"1417\" y=\"-587.8\">class = increased binding protein</text>\n</g>\n<!-- 39&#45;&gt;40 -->\n<g class=\"edge\" id=\"edge40\">\n<title>39-&gt;40</title>\n<path d=\"M1417,-698.8796C1417,-690.6838 1417,-681.9891 1417,-673.5013\" fill=\"none\" stroke=\"#000000\"/>\n<polygon fill=\"#000000\" points=\"1420.5001,-673.298 1417,-663.2981 1413.5001,-673.2981 1420.5001,-673.298\" stroke=\"#000000\"/>\n</g>\n<!-- 51 -->\n<g class=\"node\" id=\"node52\">\n<title>51</title>\n<polygon fill=\"#8139e5\" points=\"1732.5,-655.5 1533.5,-655.5 1533.5,-587.5 1732.5,-587.5 1732.5,-655.5\" stroke=\"#000000\"/>\n<text fill=\"#000000\" font-family=\"Times,serif\" font-size=\"14.00\" text-anchor=\"middle\" x=\"1633\" y=\"-640.3\">gini = -0.0</text>\n<text fill=\"#000000\" font-family=\"Times,serif\" font-size=\"14.00\" text-anchor=\"middle\" x=\"1633\" y=\"-625.3\">samples = 3</text>\n<text fill=\"#000000\" font-family=\"Times,serif\" font-size=\"14.00\" text-anchor=\"middle\" x=\"1633\" y=\"-610.3\">value = [0.0, 0.0, 1.05]</text>\n<text fill=\"#000000\" font-family=\"Times,serif\" font-size=\"14.00\" text-anchor=\"middle\" x=\"1633\" y=\"-595.3\">class = decreased binding protein</text>\n</g>\n<!-- 39&#45;&gt;51 -->\n<g class=\"edge\" id=\"edge51\">\n<title>39-&gt;51</title>\n<path d=\"M1492.5463,-698.8796C1515.1074,-686.4501 1539.7515,-672.873 1562.0098,-660.6103\" fill=\"none\" stroke=\"#000000\"/>\n<polygon fill=\"#000000\" points=\"1563.9926,-663.5141 1571.0624,-655.623 1560.6147,-657.3829 1563.9926,-663.5141\" stroke=\"#000000\"/>\n</g>\n<!-- 41 -->\n<g class=\"node\" id=\"node42\">\n<title>41</title>\n<polygon fill=\"#39e581\" fill-opacity=\"0.960784\" points=\"1515.5,-544 1318.5,-544 1318.5,-461 1515.5,-461 1515.5,-544\" stroke=\"#000000\"/>\n<text fill=\"#000000\" font-family=\"Times,serif\" font-size=\"14.00\" text-anchor=\"middle\" x=\"1417\" y=\"-528.8\">TSH &lt;= 1.082</text>\n<text fill=\"#000000\" font-family=\"Times,serif\" font-size=\"14.00\" text-anchor=\"middle\" x=\"1417\" y=\"-513.8\">gini = 0.072</text>\n<text fill=\"#000000\" font-family=\"Times,serif\" font-size=\"14.00\" text-anchor=\"middle\" x=\"1417\" y=\"-498.8\">samples = 13</text>\n<text fill=\"#000000\" font-family=\"Times,serif\" font-size=\"14.00\" text-anchor=\"middle\" x=\"1417\" y=\"-483.8\">value = [0.0, 53.811, 2.099]</text>\n<text fill=\"#000000\" font-family=\"Times,serif\" font-size=\"14.00\" text-anchor=\"middle\" x=\"1417\" y=\"-468.8\">class = increased binding protein</text>\n</g>\n<!-- 40&#45;&gt;41 -->\n<g class=\"edge\" id=\"edge41\">\n<title>40-&gt;41</title>\n<path d=\"M1417,-579.8796C1417,-571.6838 1417,-562.9891 1417,-554.5013\" fill=\"none\" stroke=\"#000000\"/>\n<polygon fill=\"#000000\" points=\"1420.5001,-554.298 1417,-544.2981 1413.5001,-554.2981 1420.5001,-554.298\" stroke=\"#000000\"/>\n</g>\n<!-- 50 -->\n<g class=\"node\" id=\"node51\">\n<title>50</title>\n<polygon fill=\"#8139e5\" points=\"1732.5,-536.5 1533.5,-536.5 1533.5,-468.5 1732.5,-468.5 1732.5,-536.5\" stroke=\"#000000\"/>\n<text fill=\"#000000\" font-family=\"Times,serif\" font-size=\"14.00\" text-anchor=\"middle\" x=\"1633\" y=\"-521.3\">gini = -0.0</text>\n<text fill=\"#000000\" font-family=\"Times,serif\" font-size=\"14.00\" text-anchor=\"middle\" x=\"1633\" y=\"-506.3\">samples = 1</text>\n<text fill=\"#000000\" font-family=\"Times,serif\" font-size=\"14.00\" text-anchor=\"middle\" x=\"1633\" y=\"-491.3\">value = [0.0, 0.0, 0.35]</text>\n<text fill=\"#000000\" font-family=\"Times,serif\" font-size=\"14.00\" text-anchor=\"middle\" x=\"1633\" y=\"-476.3\">class = decreased binding protein</text>\n</g>\n<!-- 40&#45;&gt;50 -->\n<g class=\"edge\" id=\"edge50\">\n<title>40-&gt;50</title>\n<path d=\"M1492.5463,-579.8796C1515.1074,-567.4501 1539.7515,-553.873 1562.0098,-541.6103\" fill=\"none\" stroke=\"#000000\"/>\n<polygon fill=\"#000000\" points=\"1563.9926,-544.5141 1571.0624,-536.623 1560.6147,-538.3829 1563.9926,-544.5141\" stroke=\"#000000\"/>\n</g>\n<!-- 42 -->\n<g class=\"node\" id=\"node43\">\n<title>42</title>\n<polygon fill=\"#39e581\" fill-opacity=\"0.819608\" points=\"1515.5,-425 1318.5,-425 1318.5,-342 1515.5,-342 1515.5,-425\" stroke=\"#000000\"/>\n<text fill=\"#000000\" font-family=\"Times,serif\" font-size=\"14.00\" text-anchor=\"middle\" x=\"1417\" y=\"-409.8\">TT4 &lt;= 4.781</text>\n<text fill=\"#000000\" font-family=\"Times,serif\" font-size=\"14.00\" text-anchor=\"middle\" x=\"1417\" y=\"-394.8\">gini = 0.261</text>\n<text fill=\"#000000\" font-family=\"Times,serif\" font-size=\"14.00\" text-anchor=\"middle\" x=\"1417\" y=\"-379.8\">samples = 5</text>\n<text fill=\"#000000\" font-family=\"Times,serif\" font-size=\"14.00\" text-anchor=\"middle\" x=\"1417\" y=\"-364.8\">value = [0.0, 7.687, 1.4]</text>\n<text fill=\"#000000\" font-family=\"Times,serif\" font-size=\"14.00\" text-anchor=\"middle\" x=\"1417\" y=\"-349.8\">class = increased binding protein</text>\n</g>\n<!-- 41&#45;&gt;42 -->\n<g class=\"edge\" id=\"edge42\">\n<title>41-&gt;42</title>\n<path d=\"M1417,-460.8796C1417,-452.6838 1417,-443.9891 1417,-435.5013\" fill=\"none\" stroke=\"#000000\"/>\n<polygon fill=\"#000000\" points=\"1420.5001,-435.298 1417,-425.2981 1413.5001,-435.2981 1420.5001,-435.298\" stroke=\"#000000\"/>\n</g>\n<!-- 45 -->\n<g class=\"node\" id=\"node46\">\n<title>45</title>\n<polygon fill=\"#39e581\" fill-opacity=\"0.984314\" points=\"1730.5,-425 1533.5,-425 1533.5,-342 1730.5,-342 1730.5,-425\" stroke=\"#000000\"/>\n<text fill=\"#000000\" font-family=\"Times,serif\" font-size=\"14.00\" text-anchor=\"middle\" x=\"1632\" y=\"-409.8\">T4U &lt;= 0.039</text>\n<text fill=\"#000000\" font-family=\"Times,serif\" font-size=\"14.00\" text-anchor=\"middle\" x=\"1632\" y=\"-394.8\">gini = 0.029</text>\n<text fill=\"#000000\" font-family=\"Times,serif\" font-size=\"14.00\" text-anchor=\"middle\" x=\"1632\" y=\"-379.8\">samples = 8</text>\n<text fill=\"#000000\" font-family=\"Times,serif\" font-size=\"14.00\" text-anchor=\"middle\" x=\"1632\" y=\"-364.8\">value = [0.0, 46.124, 0.7]</text>\n<text fill=\"#000000\" font-family=\"Times,serif\" font-size=\"14.00\" text-anchor=\"middle\" x=\"1632\" y=\"-349.8\">class = increased binding protein</text>\n</g>\n<!-- 41&#45;&gt;45 -->\n<g class=\"edge\" id=\"edge45\">\n<title>41-&gt;45</title>\n<path d=\"M1492.1966,-460.8796C1510.1997,-450.915 1529.5355,-440.2129 1547.9119,-430.0418\" fill=\"none\" stroke=\"#000000\"/>\n<polygon fill=\"#000000\" points=\"1549.7916,-433.0018 1556.8459,-425.0969 1546.4017,-426.8773 1549.7916,-433.0018\" stroke=\"#000000\"/>\n</g>\n<!-- 43 -->\n<g class=\"node\" id=\"node44\">\n<title>43</title>\n<polygon fill=\"#8139e5\" points=\"1300.5,-298.5 1101.5,-298.5 1101.5,-230.5 1300.5,-230.5 1300.5,-298.5\" stroke=\"#000000\"/>\n<text fill=\"#000000\" font-family=\"Times,serif\" font-size=\"14.00\" text-anchor=\"middle\" x=\"1201\" y=\"-283.3\">gini = -0.0</text>\n<text fill=\"#000000\" font-family=\"Times,serif\" font-size=\"14.00\" text-anchor=\"middle\" x=\"1201\" y=\"-268.3\">samples = 4</text>\n<text fill=\"#000000\" font-family=\"Times,serif\" font-size=\"14.00\" text-anchor=\"middle\" x=\"1201\" y=\"-253.3\">value = [0.0, 0.0, 1.4]</text>\n<text fill=\"#000000\" font-family=\"Times,serif\" font-size=\"14.00\" text-anchor=\"middle\" x=\"1201\" y=\"-238.3\">class = decreased binding protein</text>\n</g>\n<!-- 42&#45;&gt;43 -->\n<g class=\"edge\" id=\"edge43\">\n<title>42-&gt;43</title>\n<path d=\"M1341.4537,-341.8796C1318.8926,-329.4501 1294.2485,-315.873 1271.9902,-303.6103\" fill=\"none\" stroke=\"#000000\"/>\n<polygon fill=\"#000000\" points=\"1273.3853,-300.3829 1262.9376,-298.623 1270.0074,-306.5141 1273.3853,-300.3829\" stroke=\"#000000\"/>\n</g>\n<!-- 44 -->\n<g class=\"node\" id=\"node45\">\n<title>44</title>\n<polygon fill=\"#39e581\" points=\"1515.5,-298.5 1318.5,-298.5 1318.5,-230.5 1515.5,-230.5 1515.5,-298.5\" stroke=\"#000000\"/>\n<text fill=\"#000000\" font-family=\"Times,serif\" font-size=\"14.00\" text-anchor=\"middle\" x=\"1417\" y=\"-283.3\">gini = 0.0</text>\n<text fill=\"#000000\" font-family=\"Times,serif\" font-size=\"14.00\" text-anchor=\"middle\" x=\"1417\" y=\"-268.3\">samples = 1</text>\n<text fill=\"#000000\" font-family=\"Times,serif\" font-size=\"14.00\" text-anchor=\"middle\" x=\"1417\" y=\"-253.3\">value = [0.0, 7.687, 0.0]</text>\n<text fill=\"#000000\" font-family=\"Times,serif\" font-size=\"14.00\" text-anchor=\"middle\" x=\"1417\" y=\"-238.3\">class = increased binding protein</text>\n</g>\n<!-- 42&#45;&gt;44 -->\n<g class=\"edge\" id=\"edge44\">\n<title>42-&gt;44</title>\n<path d=\"M1417,-341.8796C1417,-331.2134 1417,-319.7021 1417,-308.9015\" fill=\"none\" stroke=\"#000000\"/>\n<polygon fill=\"#000000\" points=\"1420.5001,-308.8149 1417,-298.8149 1413.5001,-308.815 1420.5001,-308.8149\" stroke=\"#000000\"/>\n</g>\n<!-- 46 -->\n<g class=\"node\" id=\"node47\">\n<title>46</title>\n<polygon fill=\"#39e581\" points=\"1730.5,-298.5 1533.5,-298.5 1533.5,-230.5 1730.5,-230.5 1730.5,-298.5\" stroke=\"#000000\"/>\n<text fill=\"#000000\" font-family=\"Times,serif\" font-size=\"14.00\" text-anchor=\"middle\" x=\"1632\" y=\"-283.3\">gini = 0.0</text>\n<text fill=\"#000000\" font-family=\"Times,serif\" font-size=\"14.00\" text-anchor=\"middle\" x=\"1632\" y=\"-268.3\">samples = 5</text>\n<text fill=\"#000000\" font-family=\"Times,serif\" font-size=\"14.00\" text-anchor=\"middle\" x=\"1632\" y=\"-253.3\">value = [0.0, 38.436, 0.0]</text>\n<text fill=\"#000000\" font-family=\"Times,serif\" font-size=\"14.00\" text-anchor=\"middle\" x=\"1632\" y=\"-238.3\">class = increased binding protein</text>\n</g>\n<!-- 45&#45;&gt;46 -->\n<g class=\"edge\" id=\"edge46\">\n<title>45-&gt;46</title>\n<path d=\"M1632,-341.8796C1632,-331.2134 1632,-319.7021 1632,-308.9015\" fill=\"none\" stroke=\"#000000\"/>\n<polygon fill=\"#000000\" points=\"1635.5001,-308.8149 1632,-298.8149 1628.5001,-308.815 1635.5001,-308.8149\" stroke=\"#000000\"/>\n</g>\n<!-- 47 -->\n<g class=\"node\" id=\"node48\">\n<title>47</title>\n<polygon fill=\"#39e581\" fill-opacity=\"0.909804\" points=\"1945.5,-306 1748.5,-306 1748.5,-223 1945.5,-223 1945.5,-306\" stroke=\"#000000\"/>\n<text fill=\"#000000\" font-family=\"Times,serif\" font-size=\"14.00\" text-anchor=\"middle\" x=\"1847\" y=\"-290.8\">T4U &lt;= 0.086</text>\n<text fill=\"#000000\" font-family=\"Times,serif\" font-size=\"14.00\" text-anchor=\"middle\" x=\"1847\" y=\"-275.8\">gini = 0.153</text>\n<text fill=\"#000000\" font-family=\"Times,serif\" font-size=\"14.00\" text-anchor=\"middle\" x=\"1847\" y=\"-260.8\">samples = 3</text>\n<text fill=\"#000000\" font-family=\"Times,serif\" font-size=\"14.00\" text-anchor=\"middle\" x=\"1847\" y=\"-245.8\">value = [0.0, 7.687, 0.7]</text>\n<text fill=\"#000000\" font-family=\"Times,serif\" font-size=\"14.00\" text-anchor=\"middle\" x=\"1847\" y=\"-230.8\">class = increased binding protein</text>\n</g>\n<!-- 45&#45;&gt;47 -->\n<g class=\"edge\" id=\"edge47\">\n<title>45-&gt;47</title>\n<path d=\"M1707.1966,-341.8796C1725.1997,-331.915 1744.5355,-321.2129 1762.9119,-311.0418\" fill=\"none\" stroke=\"#000000\"/>\n<polygon fill=\"#000000\" points=\"1764.7916,-314.0018 1771.8459,-306.0969 1761.4017,-307.8773 1764.7916,-314.0018\" stroke=\"#000000\"/>\n</g>\n<!-- 48 -->\n<g class=\"node\" id=\"node49\">\n<title>48</title>\n<polygon fill=\"#8139e5\" points=\"1730.5,-179.5 1531.5,-179.5 1531.5,-111.5 1730.5,-111.5 1730.5,-179.5\" stroke=\"#000000\"/>\n<text fill=\"#000000\" font-family=\"Times,serif\" font-size=\"14.00\" text-anchor=\"middle\" x=\"1631\" y=\"-164.3\">gini = -0.0</text>\n<text fill=\"#000000\" font-family=\"Times,serif\" font-size=\"14.00\" text-anchor=\"middle\" x=\"1631\" y=\"-149.3\">samples = 2</text>\n<text fill=\"#000000\" font-family=\"Times,serif\" font-size=\"14.00\" text-anchor=\"middle\" x=\"1631\" y=\"-134.3\">value = [0.0, 0.0, 0.7]</text>\n<text fill=\"#000000\" font-family=\"Times,serif\" font-size=\"14.00\" text-anchor=\"middle\" x=\"1631\" y=\"-119.3\">class = decreased binding protein</text>\n</g>\n<!-- 47&#45;&gt;48 -->\n<g class=\"edge\" id=\"edge48\">\n<title>47-&gt;48</title>\n<path d=\"M1771.4537,-222.8796C1748.8926,-210.4501 1724.2485,-196.873 1701.9902,-184.6103\" fill=\"none\" stroke=\"#000000\"/>\n<polygon fill=\"#000000\" points=\"1703.3853,-181.3829 1692.9376,-179.623 1700.0074,-187.5141 1703.3853,-181.3829\" stroke=\"#000000\"/>\n</g>\n<!-- 49 -->\n<g class=\"node\" id=\"node50\">\n<title>49</title>\n<polygon fill=\"#39e581\" points=\"1945.5,-179.5 1748.5,-179.5 1748.5,-111.5 1945.5,-111.5 1945.5,-179.5\" stroke=\"#000000\"/>\n<text fill=\"#000000\" font-family=\"Times,serif\" font-size=\"14.00\" text-anchor=\"middle\" x=\"1847\" y=\"-164.3\">gini = 0.0</text>\n<text fill=\"#000000\" font-family=\"Times,serif\" font-size=\"14.00\" text-anchor=\"middle\" x=\"1847\" y=\"-149.3\">samples = 1</text>\n<text fill=\"#000000\" font-family=\"Times,serif\" font-size=\"14.00\" text-anchor=\"middle\" x=\"1847\" y=\"-134.3\">value = [0.0, 7.687, 0.0]</text>\n<text fill=\"#000000\" font-family=\"Times,serif\" font-size=\"14.00\" text-anchor=\"middle\" x=\"1847\" y=\"-119.3\">class = increased binding protein</text>\n</g>\n<!-- 47&#45;&gt;49 -->\n<g class=\"edge\" id=\"edge49\">\n<title>47-&gt;49</title>\n<path d=\"M1847,-222.8796C1847,-212.2134 1847,-200.7021 1847,-189.9015\" fill=\"none\" stroke=\"#000000\"/>\n<polygon fill=\"#000000\" points=\"1850.5001,-189.8149 1847,-179.8149 1843.5001,-189.815 1850.5001,-189.8149\" stroke=\"#000000\"/>\n</g>\n<!-- 53 -->\n<g class=\"node\" id=\"node54\">\n<title>53</title>\n<polygon fill=\"#39e581\" fill-opacity=\"0.454902\" points=\"2405.5,-901 2208.5,-901 2208.5,-818 2405.5,-818 2405.5,-901\" stroke=\"#000000\"/>\n<text fill=\"#000000\" font-family=\"Times,serif\" font-size=\"14.00\" text-anchor=\"middle\" x=\"2307\" y=\"-885.8\">T4U &lt;= 0.17</text>\n<text fill=\"#000000\" font-family=\"Times,serif\" font-size=\"14.00\" text-anchor=\"middle\" x=\"2307\" y=\"-870.8\">gini = 0.457</text>\n<text fill=\"#000000\" font-family=\"Times,serif\" font-size=\"14.00\" text-anchor=\"middle\" x=\"2307\" y=\"-855.8\">samples = 234</text>\n<text fill=\"#000000\" font-family=\"Times,serif\" font-size=\"14.00\" text-anchor=\"middle\" x=\"2307\" y=\"-840.8\">value = [0.0, 138.371, 75.581]</text>\n<text fill=\"#000000\" font-family=\"Times,serif\" font-size=\"14.00\" text-anchor=\"middle\" x=\"2307\" y=\"-825.8\">class = increased binding protein</text>\n</g>\n<!-- 52&#45;&gt;53 -->\n<g class=\"edge\" id=\"edge53\">\n<title>52-&gt;53</title>\n<path d=\"M2307,-936.8796C2307,-928.6838 2307,-919.9891 2307,-911.5013\" fill=\"none\" stroke=\"#000000\"/>\n<polygon fill=\"#000000\" points=\"2310.5001,-911.298 2307,-901.2981 2303.5001,-911.2981 2310.5001,-911.298\" stroke=\"#000000\"/>\n</g>\n<!-- 76 -->\n<g class=\"node\" id=\"node77\">\n<title>76</title>\n<polygon fill=\"#39e581\" fill-opacity=\"0.976471\" points=\"2944.5,-901 2747.5,-901 2747.5,-818 2944.5,-818 2944.5,-901\" stroke=\"#000000\"/>\n<text fill=\"#000000\" font-family=\"Times,serif\" font-size=\"14.00\" text-anchor=\"middle\" x=\"2846\" y=\"-885.8\">FTI &lt;= 4.317</text>\n<text fill=\"#000000\" font-family=\"Times,serif\" font-size=\"14.00\" text-anchor=\"middle\" x=\"2846\" y=\"-870.8\">gini = 0.043</text>\n<text fill=\"#000000\" font-family=\"Times,serif\" font-size=\"14.00\" text-anchor=\"middle\" x=\"2846\" y=\"-855.8\">samples = 103</text>\n<text fill=\"#000000\" font-family=\"Times,serif\" font-size=\"14.00\" text-anchor=\"middle\" x=\"2846\" y=\"-840.8\">value = [0.0, 530.423, 11.897]</text>\n<text fill=\"#000000\" font-family=\"Times,serif\" font-size=\"14.00\" text-anchor=\"middle\" x=\"2846\" y=\"-825.8\">class = increased binding protein</text>\n</g>\n<!-- 52&#45;&gt;76 -->\n<g class=\"edge\" id=\"edge76\">\n<title>52-&gt;76</title>\n<path d=\"M2405.5474,-956.7428C2499.3827,-936.0259 2640.3096,-904.9122 2737.3532,-883.4869\" fill=\"none\" stroke=\"#000000\"/>\n<polygon fill=\"#000000\" points=\"2738.1824,-886.8882 2747.1927,-881.3146 2736.6733,-880.0529 2738.1824,-886.8882\" stroke=\"#000000\"/>\n</g>\n<!-- 54 -->\n<g class=\"node\" id=\"node55\">\n<title>54</title>\n<polygon fill=\"#8139e5\" points=\"2298.5,-774.5 2099.5,-774.5 2099.5,-706.5 2298.5,-706.5 2298.5,-774.5\" stroke=\"#000000\"/>\n<text fill=\"#000000\" font-family=\"Times,serif\" font-size=\"14.00\" text-anchor=\"middle\" x=\"2199\" y=\"-759.3\">gini = 0.0</text>\n<text fill=\"#000000\" font-family=\"Times,serif\" font-size=\"14.00\" text-anchor=\"middle\" x=\"2199\" y=\"-744.3\">samples = 85</text>\n<text fill=\"#000000\" font-family=\"Times,serif\" font-size=\"14.00\" text-anchor=\"middle\" x=\"2199\" y=\"-729.3\">value = [0.0, 0.0, 29.743]</text>\n<text fill=\"#000000\" font-family=\"Times,serif\" font-size=\"14.00\" text-anchor=\"middle\" x=\"2199\" y=\"-714.3\">class = decreased binding protein</text>\n</g>\n<!-- 53&#45;&gt;54 -->\n<g class=\"edge\" id=\"edge54\">\n<title>53-&gt;54</title>\n<path d=\"M2269.2268,-817.8796C2258.7482,-806.3337 2247.3709,-793.7976 2236.8859,-782.2446\" fill=\"none\" stroke=\"#000000\"/>\n<polygon fill=\"#000000\" points=\"2239.4553,-779.8678 2230.143,-774.8149 2234.2718,-784.5722 2239.4553,-779.8678\" stroke=\"#000000\"/>\n</g>\n<!-- 55 -->\n<g class=\"node\" id=\"node56\">\n<title>55</title>\n<polygon fill=\"#39e581\" fill-opacity=\"0.670588\" points=\"2513.5,-782 2316.5,-782 2316.5,-699 2513.5,-699 2513.5,-782\" stroke=\"#000000\"/>\n<text fill=\"#000000\" font-family=\"Times,serif\" font-size=\"14.00\" text-anchor=\"middle\" x=\"2415\" y=\"-766.8\">TSH &lt;= 2.038</text>\n<text fill=\"#000000\" font-family=\"Times,serif\" font-size=\"14.00\" text-anchor=\"middle\" x=\"2415\" y=\"-751.8\">gini = 0.374</text>\n<text fill=\"#000000\" font-family=\"Times,serif\" font-size=\"14.00\" text-anchor=\"middle\" x=\"2415\" y=\"-736.8\">samples = 149</text>\n<text fill=\"#000000\" font-family=\"Times,serif\" font-size=\"14.00\" text-anchor=\"middle\" x=\"2415\" y=\"-721.8\">value = [0.0, 138.371, 45.839]</text>\n<text fill=\"#000000\" font-family=\"Times,serif\" font-size=\"14.00\" text-anchor=\"middle\" x=\"2415\" y=\"-706.8\">class = increased binding protein</text>\n</g>\n<!-- 53&#45;&gt;55 -->\n<g class=\"edge\" id=\"edge55\">\n<title>53-&gt;55</title>\n<path d=\"M2344.7732,-817.8796C2353.0287,-808.7832 2361.842,-799.0722 2370.3374,-789.7116\" fill=\"none\" stroke=\"#000000\"/>\n<polygon fill=\"#000000\" points=\"2372.9368,-792.0553 2377.0656,-782.2981 2367.7533,-787.3509 2372.9368,-792.0553\" stroke=\"#000000\"/>\n</g>\n<!-- 56 -->\n<g class=\"node\" id=\"node57\">\n<title>56</title>\n<polygon fill=\"#39e581\" fill-opacity=\"0.725490\" points=\"2405.5,-663 2208.5,-663 2208.5,-580 2405.5,-580 2405.5,-663\" stroke=\"#000000\"/>\n<text fill=\"#000000\" font-family=\"Times,serif\" font-size=\"14.00\" text-anchor=\"middle\" x=\"2307\" y=\"-647.8\">FTI &lt;= 4.769</text>\n<text fill=\"#000000\" font-family=\"Times,serif\" font-size=\"14.00\" text-anchor=\"middle\" x=\"2307\" y=\"-632.8\">gini = 0.339</text>\n<text fill=\"#000000\" font-family=\"Times,serif\" font-size=\"14.00\" text-anchor=\"middle\" x=\"2307\" y=\"-617.8\">samples = 127</text>\n<text fill=\"#000000\" font-family=\"Times,serif\" font-size=\"14.00\" text-anchor=\"middle\" x=\"2307\" y=\"-602.8\">value = [0.0, 138.371, 38.141]</text>\n<text fill=\"#000000\" font-family=\"Times,serif\" font-size=\"14.00\" text-anchor=\"middle\" x=\"2307\" y=\"-587.8\">class = increased binding protein</text>\n</g>\n<!-- 55&#45;&gt;56 -->\n<g class=\"edge\" id=\"edge56\">\n<title>55-&gt;56</title>\n<path d=\"M2377.2268,-698.8796C2368.9713,-689.7832 2360.158,-680.0722 2351.6626,-670.7116\" fill=\"none\" stroke=\"#000000\"/>\n<polygon fill=\"#000000\" points=\"2354.2467,-668.3509 2344.9344,-663.2981 2349.0632,-673.0553 2354.2467,-668.3509\" stroke=\"#000000\"/>\n</g>\n<!-- 75 -->\n<g class=\"node\" id=\"node76\">\n<title>75</title>\n<polygon fill=\"#8139e5\" points=\"2622.5,-655.5 2423.5,-655.5 2423.5,-587.5 2622.5,-587.5 2622.5,-655.5\" stroke=\"#000000\"/>\n<text fill=\"#000000\" font-family=\"Times,serif\" font-size=\"14.00\" text-anchor=\"middle\" x=\"2523\" y=\"-640.3\">gini = 0.0</text>\n<text fill=\"#000000\" font-family=\"Times,serif\" font-size=\"14.00\" text-anchor=\"middle\" x=\"2523\" y=\"-625.3\">samples = 22</text>\n<text fill=\"#000000\" font-family=\"Times,serif\" font-size=\"14.00\" text-anchor=\"middle\" x=\"2523\" y=\"-610.3\">value = [0.0, 0.0, 7.698]</text>\n<text fill=\"#000000\" font-family=\"Times,serif\" font-size=\"14.00\" text-anchor=\"middle\" x=\"2523\" y=\"-595.3\">class = decreased binding protein</text>\n</g>\n<!-- 55&#45;&gt;75 -->\n<g class=\"edge\" id=\"edge75\">\n<title>55-&gt;75</title>\n<path d=\"M2452.7732,-698.8796C2463.2518,-687.3337 2474.6291,-674.7976 2485.1141,-663.2446\" fill=\"none\" stroke=\"#000000\"/>\n<polygon fill=\"#000000\" points=\"2487.7282,-665.5722 2491.857,-655.8149 2482.5447,-660.8678 2487.7282,-665.5722\" stroke=\"#000000\"/>\n</g>\n<!-- 57 -->\n<g class=\"node\" id=\"node58\">\n<title>57</title>\n<polygon fill=\"#39e581\" fill-opacity=\"0.533333\" points=\"2297.5,-544 2100.5,-544 2100.5,-461 2297.5,-461 2297.5,-544\" stroke=\"#000000\"/>\n<text fill=\"#000000\" font-family=\"Times,serif\" font-size=\"14.00\" text-anchor=\"middle\" x=\"2199\" y=\"-528.8\">T4U &lt;= 0.243</text>\n<text fill=\"#000000\" font-family=\"Times,serif\" font-size=\"14.00\" text-anchor=\"middle\" x=\"2199\" y=\"-513.8\">gini = 0.433</text>\n<text fill=\"#000000\" font-family=\"Times,serif\" font-size=\"14.00\" text-anchor=\"middle\" x=\"2199\" y=\"-498.8\">samples = 101</text>\n<text fill=\"#000000\" font-family=\"Times,serif\" font-size=\"14.00\" text-anchor=\"middle\" x=\"2199\" y=\"-483.8\">value = [0.0, 69.186, 32.192]</text>\n<text fill=\"#000000\" font-family=\"Times,serif\" font-size=\"14.00\" text-anchor=\"middle\" x=\"2199\" y=\"-468.8\">class = increased binding protein</text>\n</g>\n<!-- 56&#45;&gt;57 -->\n<g class=\"edge\" id=\"edge57\">\n<title>56-&gt;57</title>\n<path d=\"M2269.2268,-579.8796C2260.9713,-570.7832 2252.158,-561.0722 2243.6626,-551.7116\" fill=\"none\" stroke=\"#000000\"/>\n<polygon fill=\"#000000\" points=\"2246.2467,-549.3509 2236.9344,-544.2981 2241.0632,-554.0553 2246.2467,-549.3509\" stroke=\"#000000\"/>\n</g>\n<!-- 66 -->\n<g class=\"node\" id=\"node67\">\n<title>66</title>\n<polygon fill=\"#39e581\" fill-opacity=\"0.913725\" points=\"2513.5,-544 2316.5,-544 2316.5,-461 2513.5,-461 2513.5,-544\" stroke=\"#000000\"/>\n<text fill=\"#000000\" font-family=\"Times,serif\" font-size=\"14.00\" text-anchor=\"middle\" x=\"2415\" y=\"-528.8\">TT4 &lt;= 5.066</text>\n<text fill=\"#000000\" font-family=\"Times,serif\" font-size=\"14.00\" text-anchor=\"middle\" x=\"2415\" y=\"-513.8\">gini = 0.146</text>\n<text fill=\"#000000\" font-family=\"Times,serif\" font-size=\"14.00\" text-anchor=\"middle\" x=\"2415\" y=\"-498.8\">samples = 26</text>\n<text fill=\"#000000\" font-family=\"Times,serif\" font-size=\"14.00\" text-anchor=\"middle\" x=\"2415\" y=\"-483.8\">value = [0.0, 69.186, 5.949]</text>\n<text fill=\"#000000\" font-family=\"Times,serif\" font-size=\"14.00\" text-anchor=\"middle\" x=\"2415\" y=\"-468.8\">class = increased binding protein</text>\n</g>\n<!-- 56&#45;&gt;66 -->\n<g class=\"edge\" id=\"edge66\">\n<title>56-&gt;66</title>\n<path d=\"M2344.7732,-579.8796C2353.0287,-570.7832 2361.842,-561.0722 2370.3374,-551.7116\" fill=\"none\" stroke=\"#000000\"/>\n<polygon fill=\"#000000\" points=\"2372.9368,-554.0553 2377.0656,-544.2981 2367.7533,-549.3509 2372.9368,-554.0553\" stroke=\"#000000\"/>\n</g>\n<!-- 58 -->\n<g class=\"node\" id=\"node59\">\n<title>58</title>\n<polygon fill=\"#8139e5\" points=\"2082.5,-417.5 1883.5,-417.5 1883.5,-349.5 2082.5,-349.5 2082.5,-417.5\" stroke=\"#000000\"/>\n<text fill=\"#000000\" font-family=\"Times,serif\" font-size=\"14.00\" text-anchor=\"middle\" x=\"1983\" y=\"-402.3\">gini = 0.0</text>\n<text fill=\"#000000\" font-family=\"Times,serif\" font-size=\"14.00\" text-anchor=\"middle\" x=\"1983\" y=\"-387.3\">samples = 53</text>\n<text fill=\"#000000\" font-family=\"Times,serif\" font-size=\"14.00\" text-anchor=\"middle\" x=\"1983\" y=\"-372.3\">value = [0.0, 0.0, 18.545]</text>\n<text fill=\"#000000\" font-family=\"Times,serif\" font-size=\"14.00\" text-anchor=\"middle\" x=\"1983\" y=\"-357.3\">class = decreased binding protein</text>\n</g>\n<!-- 57&#45;&gt;58 -->\n<g class=\"edge\" id=\"edge58\">\n<title>57-&gt;58</title>\n<path d=\"M2123.4537,-460.8796C2100.8926,-448.4501 2076.2485,-434.873 2053.9902,-422.6103\" fill=\"none\" stroke=\"#000000\"/>\n<polygon fill=\"#000000\" points=\"2055.3853,-419.3829 2044.9376,-417.623 2052.0074,-425.5141 2055.3853,-419.3829\" stroke=\"#000000\"/>\n</g>\n<!-- 59 -->\n<g class=\"node\" id=\"node60\">\n<title>59</title>\n<polygon fill=\"#39e581\" fill-opacity=\"0.803922\" points=\"2297.5,-425 2100.5,-425 2100.5,-342 2297.5,-342 2297.5,-425\" stroke=\"#000000\"/>\n<text fill=\"#000000\" font-family=\"Times,serif\" font-size=\"14.00\" text-anchor=\"middle\" x=\"2199\" y=\"-409.8\">TT4 &lt;= 4.924</text>\n<text fill=\"#000000\" font-family=\"Times,serif\" font-size=\"14.00\" text-anchor=\"middle\" x=\"2199\" y=\"-394.8\">gini = 0.275</text>\n<text fill=\"#000000\" font-family=\"Times,serif\" font-size=\"14.00\" text-anchor=\"middle\" x=\"2199\" y=\"-379.8\">samples = 48</text>\n<text fill=\"#000000\" font-family=\"Times,serif\" font-size=\"14.00\" text-anchor=\"middle\" x=\"2199\" y=\"-364.8\">value = [0.0, 69.186, 13.647]</text>\n<text fill=\"#000000\" font-family=\"Times,serif\" font-size=\"14.00\" text-anchor=\"middle\" x=\"2199\" y=\"-349.8\">class = increased binding protein</text>\n</g>\n<!-- 57&#45;&gt;59 -->\n<g class=\"edge\" id=\"edge59\">\n<title>57-&gt;59</title>\n<path d=\"M2199,-460.8796C2199,-452.6838 2199,-443.9891 2199,-435.5013\" fill=\"none\" stroke=\"#000000\"/>\n<polygon fill=\"#000000\" points=\"2202.5001,-435.298 2199,-425.2981 2195.5001,-435.2981 2202.5001,-435.298\" stroke=\"#000000\"/>\n</g>\n<!-- 60 -->\n<g class=\"node\" id=\"node61\">\n<title>60</title>\n<polygon fill=\"#39e581\" fill-opacity=\"0.882353\" points=\"2188.5,-306 1991.5,-306 1991.5,-223 2188.5,-223 2188.5,-306\" stroke=\"#000000\"/>\n<text fill=\"#000000\" font-family=\"Times,serif\" font-size=\"14.00\" text-anchor=\"middle\" x=\"2090\" y=\"-290.8\">TSH &lt;= -0.057</text>\n<text fill=\"#000000\" font-family=\"Times,serif\" font-size=\"14.00\" text-anchor=\"middle\" x=\"2090\" y=\"-275.8\">gini = 0.187</text>\n<text fill=\"#000000\" font-family=\"Times,serif\" font-size=\"14.00\" text-anchor=\"middle\" x=\"2090\" y=\"-260.8\">samples = 32</text>\n<text fill=\"#000000\" font-family=\"Times,serif\" font-size=\"14.00\" text-anchor=\"middle\" x=\"2090\" y=\"-245.8\">value = [0.0, 69.186, 8.048]</text>\n<text fill=\"#000000\" font-family=\"Times,serif\" font-size=\"14.00\" text-anchor=\"middle\" x=\"2090\" y=\"-230.8\">class = increased binding protein</text>\n</g>\n<!-- 59&#45;&gt;60 -->\n<g class=\"edge\" id=\"edge60\">\n<title>59-&gt;60</title>\n<path d=\"M2160.8771,-341.8796C2152.5451,-332.7832 2143.6502,-323.0722 2135.0761,-313.7116\" fill=\"none\" stroke=\"#000000\"/>\n<polygon fill=\"#000000\" points=\"2137.6211,-311.3081 2128.2856,-306.2981 2132.4592,-316.0363 2137.6211,-311.3081\" stroke=\"#000000\"/>\n</g>\n<!-- 65 -->\n<g class=\"node\" id=\"node66\">\n<title>65</title>\n<polygon fill=\"#8139e5\" points=\"2405.5,-298.5 2206.5,-298.5 2206.5,-230.5 2405.5,-230.5 2405.5,-298.5\" stroke=\"#000000\"/>\n<text fill=\"#000000\" font-family=\"Times,serif\" font-size=\"14.00\" text-anchor=\"middle\" x=\"2306\" y=\"-283.3\">gini = 0.0</text>\n<text fill=\"#000000\" font-family=\"Times,serif\" font-size=\"14.00\" text-anchor=\"middle\" x=\"2306\" y=\"-268.3\">samples = 16</text>\n<text fill=\"#000000\" font-family=\"Times,serif\" font-size=\"14.00\" text-anchor=\"middle\" x=\"2306\" y=\"-253.3\">value = [0.0, 0.0, 5.599]</text>\n<text fill=\"#000000\" font-family=\"Times,serif\" font-size=\"14.00\" text-anchor=\"middle\" x=\"2306\" y=\"-238.3\">class = decreased binding protein</text>\n</g>\n<!-- 59&#45;&gt;65 -->\n<g class=\"edge\" id=\"edge65\">\n<title>59-&gt;65</title>\n<path d=\"M2236.4234,-341.8796C2246.7061,-330.4436 2257.8623,-318.0363 2268.1679,-306.575\" fill=\"none\" stroke=\"#000000\"/>\n<polygon fill=\"#000000\" points=\"2271.0618,-308.5912 2275.1454,-298.8149 2265.8565,-303.9108 2271.0618,-308.5912\" stroke=\"#000000\"/>\n</g>\n<!-- 61 -->\n<g class=\"node\" id=\"node62\">\n<title>61</title>\n<polygon fill=\"#8139e5\" points=\"2162.5,-179.5 1963.5,-179.5 1963.5,-111.5 2162.5,-111.5 2162.5,-179.5\" stroke=\"#000000\"/>\n<text fill=\"#000000\" font-family=\"Times,serif\" font-size=\"14.00\" text-anchor=\"middle\" x=\"2063\" y=\"-164.3\">gini = 0.0</text>\n<text fill=\"#000000\" font-family=\"Times,serif\" font-size=\"14.00\" text-anchor=\"middle\" x=\"2063\" y=\"-149.3\">samples = 7</text>\n<text fill=\"#000000\" font-family=\"Times,serif\" font-size=\"14.00\" text-anchor=\"middle\" x=\"2063\" y=\"-134.3\">value = [0.0, 0.0, 2.449]</text>\n<text fill=\"#000000\" font-family=\"Times,serif\" font-size=\"14.00\" text-anchor=\"middle\" x=\"2063\" y=\"-119.3\">class = decreased binding protein</text>\n</g>\n<!-- 60&#45;&gt;61 -->\n<g class=\"edge\" id=\"edge61\">\n<title>60-&gt;61</title>\n<path d=\"M2080.5567,-222.8796C2078.1117,-212.1034 2075.471,-200.4647 2072.9986,-189.5677\" fill=\"none\" stroke=\"#000000\"/>\n<polygon fill=\"#000000\" points=\"2076.4117,-188.7926 2070.7857,-179.8149 2069.5852,-190.3415 2076.4117,-188.7926\" stroke=\"#000000\"/>\n</g>\n<!-- 62 -->\n<g class=\"node\" id=\"node63\">\n<title>62</title>\n<polygon fill=\"#39e581\" fill-opacity=\"0.917647\" points=\"2377.5,-187 2180.5,-187 2180.5,-104 2377.5,-104 2377.5,-187\" stroke=\"#000000\"/>\n<text fill=\"#000000\" font-family=\"Times,serif\" font-size=\"14.00\" text-anchor=\"middle\" x=\"2279\" y=\"-171.8\">TSH &lt;= 1.677</text>\n<text fill=\"#000000\" font-family=\"Times,serif\" font-size=\"14.00\" text-anchor=\"middle\" x=\"2279\" y=\"-156.8\">gini = 0.139</text>\n<text fill=\"#000000\" font-family=\"Times,serif\" font-size=\"14.00\" text-anchor=\"middle\" x=\"2279\" y=\"-141.8\">samples = 25</text>\n<text fill=\"#000000\" font-family=\"Times,serif\" font-size=\"14.00\" text-anchor=\"middle\" x=\"2279\" y=\"-126.8\">value = [0.0, 69.186, 5.599]</text>\n<text fill=\"#000000\" font-family=\"Times,serif\" font-size=\"14.00\" text-anchor=\"middle\" x=\"2279\" y=\"-111.8\">class = increased binding protein</text>\n</g>\n<!-- 60&#45;&gt;62 -->\n<g class=\"edge\" id=\"edge62\">\n<title>60-&gt;62</title>\n<path d=\"M2156.103,-222.8796C2171.6413,-213.0962 2188.3088,-202.6019 2204.1987,-192.5971\" fill=\"none\" stroke=\"#000000\"/>\n<polygon fill=\"#000000\" points=\"2206.3368,-195.3869 2212.9343,-187.0969 2202.6071,-189.4633 2206.3368,-195.3869\" stroke=\"#000000\"/>\n</g>\n<!-- 63 -->\n<g class=\"node\" id=\"node64\">\n<title>63</title>\n<polygon fill=\"#39e581\" fill-opacity=\"0.929412\" points=\"2161.5,-68 1964.5,-68 1964.5,0 2161.5,0 2161.5,-68\" stroke=\"#000000\"/>\n<text fill=\"#000000\" font-family=\"Times,serif\" font-size=\"14.00\" text-anchor=\"middle\" x=\"2063\" y=\"-52.8\">gini = 0.124</text>\n<text fill=\"#000000\" font-family=\"Times,serif\" font-size=\"14.00\" text-anchor=\"middle\" x=\"2063\" y=\"-37.8\">samples = 23</text>\n<text fill=\"#000000\" font-family=\"Times,serif\" font-size=\"14.00\" text-anchor=\"middle\" x=\"2063\" y=\"-22.8\">value = [0.0, 69.186, 4.899]</text>\n<text fill=\"#000000\" font-family=\"Times,serif\" font-size=\"14.00\" text-anchor=\"middle\" x=\"2063\" y=\"-7.8\">class = increased binding protein</text>\n</g>\n<!-- 62&#45;&gt;63 -->\n<g class=\"edge\" id=\"edge63\">\n<title>62-&gt;63</title>\n<path d=\"M2198.5696,-103.9815C2178.7922,-93.7724 2157.693,-82.8809 2138.1744,-72.8053\" fill=\"none\" stroke=\"#000000\"/>\n<polygon fill=\"#000000\" points=\"2139.5227,-69.5626 2129.0313,-68.0856 2136.3118,-75.7827 2139.5227,-69.5626\" stroke=\"#000000\"/>\n</g>\n<!-- 64 -->\n<g class=\"node\" id=\"node65\">\n<title>64</title>\n<polygon fill=\"#8139e5\" points=\"2378.5,-68 2179.5,-68 2179.5,0 2378.5,0 2378.5,-68\" stroke=\"#000000\"/>\n<text fill=\"#000000\" font-family=\"Times,serif\" font-size=\"14.00\" text-anchor=\"middle\" x=\"2279\" y=\"-52.8\">gini = 0.0</text>\n<text fill=\"#000000\" font-family=\"Times,serif\" font-size=\"14.00\" text-anchor=\"middle\" x=\"2279\" y=\"-37.8\">samples = 2</text>\n<text fill=\"#000000\" font-family=\"Times,serif\" font-size=\"14.00\" text-anchor=\"middle\" x=\"2279\" y=\"-22.8\">value = [0.0, 0.0, 0.7]</text>\n<text fill=\"#000000\" font-family=\"Times,serif\" font-size=\"14.00\" text-anchor=\"middle\" x=\"2279\" y=\"-7.8\">class = decreased binding protein</text>\n</g>\n<!-- 62&#45;&gt;64 -->\n<g class=\"edge\" id=\"edge64\">\n<title>62-&gt;64</title>\n<path d=\"M2279,-103.9815C2279,-95.618 2279,-86.7965 2279,-78.3409\" fill=\"none\" stroke=\"#000000\"/>\n<polygon fill=\"#000000\" points=\"2282.5001,-78.2636 2279,-68.2637 2275.5001,-78.2637 2282.5001,-78.2636\" stroke=\"#000000\"/>\n</g>\n<!-- 67 -->\n<g class=\"node\" id=\"node68\">\n<title>67</title>\n<polygon fill=\"#8139e5\" points=\"2514.5,-417.5 2315.5,-417.5 2315.5,-349.5 2514.5,-349.5 2514.5,-417.5\" stroke=\"#000000\"/>\n<text fill=\"#000000\" font-family=\"Times,serif\" font-size=\"14.00\" text-anchor=\"middle\" x=\"2415\" y=\"-402.3\">gini = 0.0</text>\n<text fill=\"#000000\" font-family=\"Times,serif\" font-size=\"14.00\" text-anchor=\"middle\" x=\"2415\" y=\"-387.3\">samples = 6</text>\n<text fill=\"#000000\" font-family=\"Times,serif\" font-size=\"14.00\" text-anchor=\"middle\" x=\"2415\" y=\"-372.3\">value = [0.0, 0.0, 2.099]</text>\n<text fill=\"#000000\" font-family=\"Times,serif\" font-size=\"14.00\" text-anchor=\"middle\" x=\"2415\" y=\"-357.3\">class = decreased binding protein</text>\n</g>\n<!-- 66&#45;&gt;67 -->\n<g class=\"edge\" id=\"edge67\">\n<title>66-&gt;67</title>\n<path d=\"M2415,-460.8796C2415,-450.2134 2415,-438.7021 2415,-427.9015\" fill=\"none\" stroke=\"#000000\"/>\n<polygon fill=\"#000000\" points=\"2418.5001,-427.8149 2415,-417.8149 2411.5001,-427.815 2418.5001,-427.8149\" stroke=\"#000000\"/>\n</g>\n<!-- 68 -->\n<g class=\"node\" id=\"node69\">\n<title>68</title>\n<polygon fill=\"#39e581\" fill-opacity=\"0.945098\" points=\"2729.5,-425 2532.5,-425 2532.5,-342 2729.5,-342 2729.5,-425\" stroke=\"#000000\"/>\n<text fill=\"#000000\" font-family=\"Times,serif\" font-size=\"14.00\" text-anchor=\"middle\" x=\"2631\" y=\"-409.8\">FTI &lt;= 4.949</text>\n<text fill=\"#000000\" font-family=\"Times,serif\" font-size=\"14.00\" text-anchor=\"middle\" x=\"2631\" y=\"-394.8\">gini = 0.1</text>\n<text fill=\"#000000\" font-family=\"Times,serif\" font-size=\"14.00\" text-anchor=\"middle\" x=\"2631\" y=\"-379.8\">samples = 20</text>\n<text fill=\"#000000\" font-family=\"Times,serif\" font-size=\"14.00\" text-anchor=\"middle\" x=\"2631\" y=\"-364.8\">value = [0.0, 69.186, 3.849]</text>\n<text fill=\"#000000\" font-family=\"Times,serif\" font-size=\"14.00\" text-anchor=\"middle\" x=\"2631\" y=\"-349.8\">class = increased binding protein</text>\n</g>\n<!-- 66&#45;&gt;68 -->\n<g class=\"edge\" id=\"edge68\">\n<title>66-&gt;68</title>\n<path d=\"M2490.5463,-460.8796C2508.6332,-450.915 2528.0589,-440.2129 2546.5207,-430.0418\" fill=\"none\" stroke=\"#000000\"/>\n<polygon fill=\"#000000\" points=\"2548.4265,-432.9879 2555.4963,-425.0969 2545.0487,-426.8568 2548.4265,-432.9879\" stroke=\"#000000\"/>\n</g>\n<!-- 69 -->\n<g class=\"node\" id=\"node70\">\n<title>69</title>\n<polygon fill=\"#39e581\" fill-opacity=\"0.968627\" points=\"2620.5,-306 2423.5,-306 2423.5,-223 2620.5,-223 2620.5,-306\" stroke=\"#000000\"/>\n<text fill=\"#000000\" font-family=\"Times,serif\" font-size=\"14.00\" text-anchor=\"middle\" x=\"2522\" y=\"-290.8\">T4U &lt;= 0.333</text>\n<text fill=\"#000000\" font-family=\"Times,serif\" font-size=\"14.00\" text-anchor=\"middle\" x=\"2522\" y=\"-275.8\">gini = 0.057</text>\n<text fill=\"#000000\" font-family=\"Times,serif\" font-size=\"14.00\" text-anchor=\"middle\" x=\"2522\" y=\"-260.8\">samples = 15</text>\n<text fill=\"#000000\" font-family=\"Times,serif\" font-size=\"14.00\" text-anchor=\"middle\" x=\"2522\" y=\"-245.8\">value = [0.0, 69.186, 2.099]</text>\n<text fill=\"#000000\" font-family=\"Times,serif\" font-size=\"14.00\" text-anchor=\"middle\" x=\"2522\" y=\"-230.8\">class = increased binding protein</text>\n</g>\n<!-- 68&#45;&gt;69 -->\n<g class=\"edge\" id=\"edge69\">\n<title>68-&gt;69</title>\n<path d=\"M2592.8771,-341.8796C2584.5451,-332.7832 2575.6502,-323.0722 2567.0761,-313.7116\" fill=\"none\" stroke=\"#000000\"/>\n<polygon fill=\"#000000\" points=\"2569.6211,-311.3081 2560.2856,-306.2981 2564.4592,-316.0363 2569.6211,-311.3081\" stroke=\"#000000\"/>\n</g>\n<!-- 74 -->\n<g class=\"node\" id=\"node75\">\n<title>74</title>\n<polygon fill=\"#8139e5\" points=\"2837.5,-298.5 2638.5,-298.5 2638.5,-230.5 2837.5,-230.5 2837.5,-298.5\" stroke=\"#000000\"/>\n<text fill=\"#000000\" font-family=\"Times,serif\" font-size=\"14.00\" text-anchor=\"middle\" x=\"2738\" y=\"-283.3\">gini = 0.0</text>\n<text fill=\"#000000\" font-family=\"Times,serif\" font-size=\"14.00\" text-anchor=\"middle\" x=\"2738\" y=\"-268.3\">samples = 5</text>\n<text fill=\"#000000\" font-family=\"Times,serif\" font-size=\"14.00\" text-anchor=\"middle\" x=\"2738\" y=\"-253.3\">value = [0.0, 0.0, 1.75]</text>\n<text fill=\"#000000\" font-family=\"Times,serif\" font-size=\"14.00\" text-anchor=\"middle\" x=\"2738\" y=\"-238.3\">class = decreased binding protein</text>\n</g>\n<!-- 68&#45;&gt;74 -->\n<g class=\"edge\" id=\"edge74\">\n<title>68-&gt;74</title>\n<path d=\"M2668.4234,-341.8796C2678.7061,-330.4436 2689.8623,-318.0363 2700.1679,-306.575\" fill=\"none\" stroke=\"#000000\"/>\n<polygon fill=\"#000000\" points=\"2703.0618,-308.5912 2707.1454,-298.8149 2697.8565,-303.9108 2703.0618,-308.5912\" stroke=\"#000000\"/>\n</g>\n<!-- 70 -->\n<g class=\"node\" id=\"node71\">\n<title>70</title>\n<polygon fill=\"#39e581\" fill-opacity=\"0.988235\" points=\"2620.5,-187 2423.5,-187 2423.5,-104 2620.5,-104 2620.5,-187\" stroke=\"#000000\"/>\n<text fill=\"#000000\" font-family=\"Times,serif\" font-size=\"14.00\" text-anchor=\"middle\" x=\"2522\" y=\"-171.8\">TSH &lt;= 0.692</text>\n<text fill=\"#000000\" font-family=\"Times,serif\" font-size=\"14.00\" text-anchor=\"middle\" x=\"2522\" y=\"-156.8\">gini = 0.02</text>\n<text fill=\"#000000\" font-family=\"Times,serif\" font-size=\"14.00\" text-anchor=\"middle\" x=\"2522\" y=\"-141.8\">samples = 11</text>\n<text fill=\"#000000\" font-family=\"Times,serif\" font-size=\"14.00\" text-anchor=\"middle\" x=\"2522\" y=\"-126.8\">value = [0.0, 69.186, 0.7]</text>\n<text fill=\"#000000\" font-family=\"Times,serif\" font-size=\"14.00\" text-anchor=\"middle\" x=\"2522\" y=\"-111.8\">class = increased binding protein</text>\n</g>\n<!-- 69&#45;&gt;70 -->\n<g class=\"edge\" id=\"edge70\">\n<title>69-&gt;70</title>\n<path d=\"M2522,-222.8796C2522,-214.6838 2522,-205.9891 2522,-197.5013\" fill=\"none\" stroke=\"#000000\"/>\n<polygon fill=\"#000000\" points=\"2525.5001,-197.298 2522,-187.2981 2518.5001,-197.2981 2525.5001,-197.298\" stroke=\"#000000\"/>\n</g>\n<!-- 73 -->\n<g class=\"node\" id=\"node74\">\n<title>73</title>\n<polygon fill=\"#8139e5\" points=\"2837.5,-179.5 2638.5,-179.5 2638.5,-111.5 2837.5,-111.5 2837.5,-179.5\" stroke=\"#000000\"/>\n<text fill=\"#000000\" font-family=\"Times,serif\" font-size=\"14.00\" text-anchor=\"middle\" x=\"2738\" y=\"-164.3\">gini = 0.0</text>\n<text fill=\"#000000\" font-family=\"Times,serif\" font-size=\"14.00\" text-anchor=\"middle\" x=\"2738\" y=\"-149.3\">samples = 4</text>\n<text fill=\"#000000\" font-family=\"Times,serif\" font-size=\"14.00\" text-anchor=\"middle\" x=\"2738\" y=\"-134.3\">value = [0.0, 0.0, 1.4]</text>\n<text fill=\"#000000\" font-family=\"Times,serif\" font-size=\"14.00\" text-anchor=\"middle\" x=\"2738\" y=\"-119.3\">class = decreased binding protein</text>\n</g>\n<!-- 69&#45;&gt;73 -->\n<g class=\"edge\" id=\"edge73\">\n<title>69-&gt;73</title>\n<path d=\"M2597.5463,-222.8796C2620.1074,-210.4501 2644.7515,-196.873 2667.0098,-184.6103\" fill=\"none\" stroke=\"#000000\"/>\n<polygon fill=\"#000000\" points=\"2668.9926,-187.5141 2676.0624,-179.623 2665.6147,-181.3829 2668.9926,-187.5141\" stroke=\"#000000\"/>\n</g>\n<!-- 71 -->\n<g class=\"node\" id=\"node72\">\n<title>71</title>\n<polygon fill=\"#39e581\" points=\"2593.5,-68 2396.5,-68 2396.5,0 2593.5,0 2593.5,-68\" stroke=\"#000000\"/>\n<text fill=\"#000000\" font-family=\"Times,serif\" font-size=\"14.00\" text-anchor=\"middle\" x=\"2495\" y=\"-52.8\">gini = 0.0</text>\n<text fill=\"#000000\" font-family=\"Times,serif\" font-size=\"14.00\" text-anchor=\"middle\" x=\"2495\" y=\"-37.8\">samples = 7</text>\n<text fill=\"#000000\" font-family=\"Times,serif\" font-size=\"14.00\" text-anchor=\"middle\" x=\"2495\" y=\"-22.8\">value = [0.0, 53.811, 0.0]</text>\n<text fill=\"#000000\" font-family=\"Times,serif\" font-size=\"14.00\" text-anchor=\"middle\" x=\"2495\" y=\"-7.8\">class = increased binding protein</text>\n</g>\n<!-- 70&#45;&gt;71 -->\n<g class=\"edge\" id=\"edge71\">\n<title>70-&gt;71</title>\n<path d=\"M2511.9462,-103.9815C2509.8987,-95.5261 2507.7379,-86.6026 2505.6698,-78.0623\" fill=\"none\" stroke=\"#000000\"/>\n<polygon fill=\"#000000\" points=\"2509.0523,-77.159 2503.297,-68.2637 2502.2489,-78.8065 2509.0523,-77.159\" stroke=\"#000000\"/>\n</g>\n<!-- 72 -->\n<g class=\"node\" id=\"node73\">\n<title>72</title>\n<polygon fill=\"#39e581\" fill-opacity=\"0.952941\" points=\"2808.5,-68 2611.5,-68 2611.5,0 2808.5,0 2808.5,-68\" stroke=\"#000000\"/>\n<text fill=\"#000000\" font-family=\"Times,serif\" font-size=\"14.00\" text-anchor=\"middle\" x=\"2710\" y=\"-52.8\">gini = 0.083</text>\n<text fill=\"#000000\" font-family=\"Times,serif\" font-size=\"14.00\" text-anchor=\"middle\" x=\"2710\" y=\"-37.8\">samples = 4</text>\n<text fill=\"#000000\" font-family=\"Times,serif\" font-size=\"14.00\" text-anchor=\"middle\" x=\"2710\" y=\"-22.8\">value = [0.0, 15.375, 0.7]</text>\n<text fill=\"#000000\" font-family=\"Times,serif\" font-size=\"14.00\" text-anchor=\"middle\" x=\"2710\" y=\"-7.8\">class = increased binding protein</text>\n</g>\n<!-- 70&#45;&gt;72 -->\n<g class=\"edge\" id=\"edge72\">\n<title>70-&gt;72</title>\n<path d=\"M2592.0043,-103.9815C2608.9842,-93.911 2627.0837,-83.1764 2643.8778,-73.2161\" fill=\"none\" stroke=\"#000000\"/>\n<polygon fill=\"#000000\" points=\"2645.7126,-76.1972 2652.5283,-68.0856 2642.1418,-70.1765 2645.7126,-76.1972\" stroke=\"#000000\"/>\n</g>\n<!-- 77 -->\n<g class=\"node\" id=\"node78\">\n<title>77</title>\n<polygon fill=\"#8139e5\" points=\"2945.5,-774.5 2746.5,-774.5 2746.5,-706.5 2945.5,-706.5 2945.5,-774.5\" stroke=\"#000000\"/>\n<text fill=\"#000000\" font-family=\"Times,serif\" font-size=\"14.00\" text-anchor=\"middle\" x=\"2846\" y=\"-759.3\">gini = 0.0</text>\n<text fill=\"#000000\" font-family=\"Times,serif\" font-size=\"14.00\" text-anchor=\"middle\" x=\"2846\" y=\"-744.3\">samples = 3</text>\n<text fill=\"#000000\" font-family=\"Times,serif\" font-size=\"14.00\" text-anchor=\"middle\" x=\"2846\" y=\"-729.3\">value = [0.0, 0.0, 1.05]</text>\n<text fill=\"#000000\" font-family=\"Times,serif\" font-size=\"14.00\" text-anchor=\"middle\" x=\"2846\" y=\"-714.3\">class = decreased binding protein</text>\n</g>\n<!-- 76&#45;&gt;77 -->\n<g class=\"edge\" id=\"edge77\">\n<title>76-&gt;77</title>\n<path d=\"M2846,-817.8796C2846,-807.2134 2846,-795.7021 2846,-784.9015\" fill=\"none\" stroke=\"#000000\"/>\n<polygon fill=\"#000000\" points=\"2849.5001,-784.8149 2846,-774.8149 2842.5001,-784.815 2849.5001,-784.8149\" stroke=\"#000000\"/>\n</g>\n<!-- 78 -->\n<g class=\"node\" id=\"node79\">\n<title>78</title>\n<polygon fill=\"#39e581\" fill-opacity=\"0.980392\" points=\"3267.5,-782 3070.5,-782 3070.5,-699 3267.5,-699 3267.5,-782\" stroke=\"#000000\"/>\n<text fill=\"#000000\" font-family=\"Times,serif\" font-size=\"14.00\" text-anchor=\"middle\" x=\"3169\" y=\"-766.8\">FTI &lt;= 5.136</text>\n<text fill=\"#000000\" font-family=\"Times,serif\" font-size=\"14.00\" text-anchor=\"middle\" x=\"3169\" y=\"-751.8\">gini = 0.039</text>\n<text fill=\"#000000\" font-family=\"Times,serif\" font-size=\"14.00\" text-anchor=\"middle\" x=\"3169\" y=\"-736.8\">samples = 100</text>\n<text fill=\"#000000\" font-family=\"Times,serif\" font-size=\"14.00\" text-anchor=\"middle\" x=\"3169\" y=\"-721.8\">value = [0.0, 530.423, 10.847]</text>\n<text fill=\"#000000\" font-family=\"Times,serif\" font-size=\"14.00\" text-anchor=\"middle\" x=\"3169\" y=\"-706.8\">class = increased binding protein</text>\n</g>\n<!-- 76&#45;&gt;78 -->\n<g class=\"edge\" id=\"edge78\">\n<title>76-&gt;78</title>\n<path d=\"M2944.6657,-823.1495C2981.4372,-809.6021 3023.3574,-794.1578 3060.9296,-780.3154\" fill=\"none\" stroke=\"#000000\"/>\n<polygon fill=\"#000000\" points=\"3062.2089,-783.5741 3070.3824,-776.8328 3059.7889,-777.0057 3062.2089,-783.5741\" stroke=\"#000000\"/>\n</g>\n<!-- 79 -->\n<g class=\"node\" id=\"node80\">\n<title>79</title>\n<polygon fill=\"#39e581\" fill-opacity=\"0.980392\" points=\"3267.5,-663 3070.5,-663 3070.5,-580 3267.5,-580 3267.5,-663\" stroke=\"#000000\"/>\n<text fill=\"#000000\" font-family=\"Times,serif\" font-size=\"14.00\" text-anchor=\"middle\" x=\"3169\" y=\"-647.8\">origin_germany &lt;= 0.5</text>\n<text fill=\"#000000\" font-family=\"Times,serif\" font-size=\"14.00\" text-anchor=\"middle\" x=\"3169\" y=\"-632.8\">gini = 0.037</text>\n<text fill=\"#000000\" font-family=\"Times,serif\" font-size=\"14.00\" text-anchor=\"middle\" x=\"3169\" y=\"-617.8\">samples = 98</text>\n<text fill=\"#000000\" font-family=\"Times,serif\" font-size=\"14.00\" text-anchor=\"middle\" x=\"3169\" y=\"-602.8\">value = [0.0, 530.423, 10.148]</text>\n<text fill=\"#000000\" font-family=\"Times,serif\" font-size=\"14.00\" text-anchor=\"middle\" x=\"3169\" y=\"-587.8\">class = increased binding protein</text>\n</g>\n<!-- 78&#45;&gt;79 -->\n<g class=\"edge\" id=\"edge79\">\n<title>78-&gt;79</title>\n<path d=\"M3169,-698.8796C3169,-690.6838 3169,-681.9891 3169,-673.5013\" fill=\"none\" stroke=\"#000000\"/>\n<polygon fill=\"#000000\" points=\"3172.5001,-673.298 3169,-663.2981 3165.5001,-673.2981 3172.5001,-673.298\" stroke=\"#000000\"/>\n</g>\n<!-- 98 -->\n<g class=\"node\" id=\"node99\">\n<title>98</title>\n<polygon fill=\"#8139e5\" points=\"3484.5,-655.5 3285.5,-655.5 3285.5,-587.5 3484.5,-587.5 3484.5,-655.5\" stroke=\"#000000\"/>\n<text fill=\"#000000\" font-family=\"Times,serif\" font-size=\"14.00\" text-anchor=\"middle\" x=\"3385\" y=\"-640.3\">gini = -0.0</text>\n<text fill=\"#000000\" font-family=\"Times,serif\" font-size=\"14.00\" text-anchor=\"middle\" x=\"3385\" y=\"-625.3\">samples = 2</text>\n<text fill=\"#000000\" font-family=\"Times,serif\" font-size=\"14.00\" text-anchor=\"middle\" x=\"3385\" y=\"-610.3\">value = [0.0, 0.0, 0.7]</text>\n<text fill=\"#000000\" font-family=\"Times,serif\" font-size=\"14.00\" text-anchor=\"middle\" x=\"3385\" y=\"-595.3\">class = decreased binding protein</text>\n</g>\n<!-- 78&#45;&gt;98 -->\n<g class=\"edge\" id=\"edge98\">\n<title>78-&gt;98</title>\n<path d=\"M3244.5463,-698.8796C3267.1074,-686.4501 3291.7515,-672.873 3314.0098,-660.6103\" fill=\"none\" stroke=\"#000000\"/>\n<polygon fill=\"#000000\" points=\"3315.9926,-663.5141 3323.0624,-655.623 3312.6147,-657.3829 3315.9926,-663.5141\" stroke=\"#000000\"/>\n</g>\n<!-- 80 -->\n<g class=\"node\" id=\"node81\">\n<title>80</title>\n<polygon fill=\"#39e581\" fill-opacity=\"0.980392\" points=\"3267.5,-544 3070.5,-544 3070.5,-461 3267.5,-461 3267.5,-544\" stroke=\"#000000\"/>\n<text fill=\"#000000\" font-family=\"Times,serif\" font-size=\"14.00\" text-anchor=\"middle\" x=\"3169\" y=\"-528.8\">T4U &lt;= 0.239</text>\n<text fill=\"#000000\" font-family=\"Times,serif\" font-size=\"14.00\" text-anchor=\"middle\" x=\"3169\" y=\"-513.8\">gini = 0.036</text>\n<text fill=\"#000000\" font-family=\"Times,serif\" font-size=\"14.00\" text-anchor=\"middle\" x=\"3169\" y=\"-498.8\">samples = 97</text>\n<text fill=\"#000000\" font-family=\"Times,serif\" font-size=\"14.00\" text-anchor=\"middle\" x=\"3169\" y=\"-483.8\">value = [0.0, 530.423, 9.798]</text>\n<text fill=\"#000000\" font-family=\"Times,serif\" font-size=\"14.00\" text-anchor=\"middle\" x=\"3169\" y=\"-468.8\">class = increased binding protein</text>\n</g>\n<!-- 79&#45;&gt;80 -->\n<g class=\"edge\" id=\"edge80\">\n<title>79-&gt;80</title>\n<path d=\"M3169,-579.8796C3169,-571.6838 3169,-562.9891 3169,-554.5013\" fill=\"none\" stroke=\"#000000\"/>\n<polygon fill=\"#000000\" points=\"3172.5001,-554.298 3169,-544.2981 3165.5001,-554.2981 3172.5001,-554.298\" stroke=\"#000000\"/>\n</g>\n<!-- 97 -->\n<g class=\"node\" id=\"node98\">\n<title>97</title>\n<polygon fill=\"#8139e5\" points=\"3484.5,-536.5 3285.5,-536.5 3285.5,-468.5 3484.5,-468.5 3484.5,-536.5\" stroke=\"#000000\"/>\n<text fill=\"#000000\" font-family=\"Times,serif\" font-size=\"14.00\" text-anchor=\"middle\" x=\"3385\" y=\"-521.3\">gini = -0.0</text>\n<text fill=\"#000000\" font-family=\"Times,serif\" font-size=\"14.00\" text-anchor=\"middle\" x=\"3385\" y=\"-506.3\">samples = 1</text>\n<text fill=\"#000000\" font-family=\"Times,serif\" font-size=\"14.00\" text-anchor=\"middle\" x=\"3385\" y=\"-491.3\">value = [0.0, 0.0, 0.35]</text>\n<text fill=\"#000000\" font-family=\"Times,serif\" font-size=\"14.00\" text-anchor=\"middle\" x=\"3385\" y=\"-476.3\">class = decreased binding protein</text>\n</g>\n<!-- 79&#45;&gt;97 -->\n<g class=\"edge\" id=\"edge97\">\n<title>79-&gt;97</title>\n<path d=\"M3244.5463,-579.8796C3267.1074,-567.4501 3291.7515,-553.873 3314.0098,-541.6103\" fill=\"none\" stroke=\"#000000\"/>\n<polygon fill=\"#000000\" points=\"3315.9926,-544.5141 3323.0624,-536.623 3312.6147,-538.3829 3315.9926,-544.5141\" stroke=\"#000000\"/>\n</g>\n<!-- 81 -->\n<g class=\"node\" id=\"node82\">\n<title>81</title>\n<polygon fill=\"#39e581\" fill-opacity=\"0.952941\" points=\"3267.5,-425 3070.5,-425 3070.5,-342 3267.5,-342 3267.5,-425\" stroke=\"#000000\"/>\n<text fill=\"#000000\" font-family=\"Times,serif\" font-size=\"14.00\" text-anchor=\"middle\" x=\"3169\" y=\"-409.8\">T4U &lt;= 0.227</text>\n<text fill=\"#000000\" font-family=\"Times,serif\" font-size=\"14.00\" text-anchor=\"middle\" x=\"3169\" y=\"-394.8\">gini = 0.088</text>\n<text fill=\"#000000\" font-family=\"Times,serif\" font-size=\"14.00\" text-anchor=\"middle\" x=\"3169\" y=\"-379.8\">samples = 31</text>\n<text fill=\"#000000\" font-family=\"Times,serif\" font-size=\"14.00\" text-anchor=\"middle\" x=\"3169\" y=\"-364.8\">value = [0.0, 115.309, 5.599]</text>\n<text fill=\"#000000\" font-family=\"Times,serif\" font-size=\"14.00\" text-anchor=\"middle\" x=\"3169\" y=\"-349.8\">class = increased binding protein</text>\n</g>\n<!-- 80&#45;&gt;81 -->\n<g class=\"edge\" id=\"edge81\">\n<title>80-&gt;81</title>\n<path d=\"M3169,-460.8796C3169,-452.6838 3169,-443.9891 3169,-435.5013\" fill=\"none\" stroke=\"#000000\"/>\n<polygon fill=\"#000000\" points=\"3172.5001,-435.298 3169,-425.2981 3165.5001,-435.2981 3172.5001,-435.298\" stroke=\"#000000\"/>\n</g>\n<!-- 88 -->\n<g class=\"node\" id=\"node89\">\n<title>88</title>\n<polygon fill=\"#39e581\" fill-opacity=\"0.988235\" points=\"3643.5,-425 3446.5,-425 3446.5,-342 3643.5,-342 3643.5,-425\" stroke=\"#000000\"/>\n<text fill=\"#000000\" font-family=\"Times,serif\" font-size=\"14.00\" text-anchor=\"middle\" x=\"3545\" y=\"-409.8\">TSH &lt;= 2.318</text>\n<text fill=\"#000000\" font-family=\"Times,serif\" font-size=\"14.00\" text-anchor=\"middle\" x=\"3545\" y=\"-394.8\">gini = 0.02</text>\n<text fill=\"#000000\" font-family=\"Times,serif\" font-size=\"14.00\" text-anchor=\"middle\" x=\"3545\" y=\"-379.8\">samples = 66</text>\n<text fill=\"#000000\" font-family=\"Times,serif\" font-size=\"14.00\" text-anchor=\"middle\" x=\"3545\" y=\"-364.8\">value = [0.0, 415.113, 4.199]</text>\n<text fill=\"#000000\" font-family=\"Times,serif\" font-size=\"14.00\" text-anchor=\"middle\" x=\"3545\" y=\"-349.8\">class = increased binding protein</text>\n</g>\n<!-- 80&#45;&gt;88 -->\n<g class=\"edge\" id=\"edge88\">\n<title>80-&gt;88</title>\n<path d=\"M3267.7003,-463.849C3270.4916,-462.8749 3273.2624,-461.9232 3276,-461 3328.3492,-443.3466 3387.246,-426.0903 3436.5544,-412.3591\" fill=\"none\" stroke=\"#000000\"/>\n<polygon fill=\"#000000\" points=\"3437.5826,-415.7062 3446.2835,-409.6608 3435.7118,-408.9608 3437.5826,-415.7062\" stroke=\"#000000\"/>\n</g>\n<!-- 82 -->\n<g class=\"node\" id=\"node83\">\n<title>82</title>\n<polygon fill=\"#39e581\" fill-opacity=\"0.952941\" points=\"3158.5,-306 2961.5,-306 2961.5,-223 3158.5,-223 3158.5,-306\" stroke=\"#000000\"/>\n<text fill=\"#000000\" font-family=\"Times,serif\" font-size=\"14.00\" text-anchor=\"middle\" x=\"3060\" y=\"-290.8\">origin_puerto-rico &lt;= 0.5</text>\n<text fill=\"#000000\" font-family=\"Times,serif\" font-size=\"14.00\" text-anchor=\"middle\" x=\"3060\" y=\"-275.8\">gini = 0.083</text>\n<text fill=\"#000000\" font-family=\"Times,serif\" font-size=\"14.00\" text-anchor=\"middle\" x=\"3060\" y=\"-260.8\">samples = 30</text>\n<text fill=\"#000000\" font-family=\"Times,serif\" font-size=\"14.00\" text-anchor=\"middle\" x=\"3060\" y=\"-245.8\">value = [0.0, 115.309, 5.249]</text>\n<text fill=\"#000000\" font-family=\"Times,serif\" font-size=\"14.00\" text-anchor=\"middle\" x=\"3060\" y=\"-230.8\">class = increased binding protein</text>\n</g>\n<!-- 81&#45;&gt;82 -->\n<g class=\"edge\" id=\"edge82\">\n<title>81-&gt;82</title>\n<path d=\"M3130.8771,-341.8796C3122.5451,-332.7832 3113.6502,-323.0722 3105.0761,-313.7116\" fill=\"none\" stroke=\"#000000\"/>\n<polygon fill=\"#000000\" points=\"3107.6211,-311.3081 3098.2856,-306.2981 3102.4592,-316.0363 3107.6211,-311.3081\" stroke=\"#000000\"/>\n</g>\n<!-- 87 -->\n<g class=\"node\" id=\"node88\">\n<title>87</title>\n<polygon fill=\"#8139e5\" points=\"3375.5,-298.5 3176.5,-298.5 3176.5,-230.5 3375.5,-230.5 3375.5,-298.5\" stroke=\"#000000\"/>\n<text fill=\"#000000\" font-family=\"Times,serif\" font-size=\"14.00\" text-anchor=\"middle\" x=\"3276\" y=\"-283.3\">gini = 0.0</text>\n<text fill=\"#000000\" font-family=\"Times,serif\" font-size=\"14.00\" text-anchor=\"middle\" x=\"3276\" y=\"-268.3\">samples = 1</text>\n<text fill=\"#000000\" font-family=\"Times,serif\" font-size=\"14.00\" text-anchor=\"middle\" x=\"3276\" y=\"-253.3\">value = [0.0, 0.0, 0.35]</text>\n<text fill=\"#000000\" font-family=\"Times,serif\" font-size=\"14.00\" text-anchor=\"middle\" x=\"3276\" y=\"-238.3\">class = decreased binding protein</text>\n</g>\n<!-- 81&#45;&gt;87 -->\n<g class=\"edge\" id=\"edge87\">\n<title>81-&gt;87</title>\n<path d=\"M3206.4234,-341.8796C3216.7061,-330.4436 3227.8623,-318.0363 3238.1679,-306.575\" fill=\"none\" stroke=\"#000000\"/>\n<polygon fill=\"#000000\" points=\"3241.0618,-308.5912 3245.1454,-298.8149 3235.8565,-303.9108 3241.0618,-308.5912\" stroke=\"#000000\"/>\n</g>\n<!-- 83 -->\n<g class=\"node\" id=\"node84\">\n<title>83</title>\n<polygon fill=\"#39e581\" fill-opacity=\"0.956863\" points=\"3158.5,-187 2961.5,-187 2961.5,-104 3158.5,-104 3158.5,-187\" stroke=\"#000000\"/>\n<text fill=\"#000000\" font-family=\"Times,serif\" font-size=\"14.00\" text-anchor=\"middle\" x=\"3060\" y=\"-171.8\">origin_mexico &lt;= 0.5</text>\n<text fill=\"#000000\" font-family=\"Times,serif\" font-size=\"14.00\" text-anchor=\"middle\" x=\"3060\" y=\"-156.8\">gini = 0.078</text>\n<text fill=\"#000000\" font-family=\"Times,serif\" font-size=\"14.00\" text-anchor=\"middle\" x=\"3060\" y=\"-141.8\">samples = 29</text>\n<text fill=\"#000000\" font-family=\"Times,serif\" font-size=\"14.00\" text-anchor=\"middle\" x=\"3060\" y=\"-126.8\">value = [0.0, 115.309, 4.899]</text>\n<text fill=\"#000000\" font-family=\"Times,serif\" font-size=\"14.00\" text-anchor=\"middle\" x=\"3060\" y=\"-111.8\">class = increased binding protein</text>\n</g>\n<!-- 82&#45;&gt;83 -->\n<g class=\"edge\" id=\"edge83\">\n<title>82-&gt;83</title>\n<path d=\"M3060,-222.8796C3060,-214.6838 3060,-205.9891 3060,-197.5013\" fill=\"none\" stroke=\"#000000\"/>\n<polygon fill=\"#000000\" points=\"3063.5001,-197.298 3060,-187.2981 3056.5001,-197.2981 3063.5001,-197.298\" stroke=\"#000000\"/>\n</g>\n<!-- 86 -->\n<g class=\"node\" id=\"node87\">\n<title>86</title>\n<polygon fill=\"#8139e5\" points=\"3375.5,-179.5 3176.5,-179.5 3176.5,-111.5 3375.5,-111.5 3375.5,-179.5\" stroke=\"#000000\"/>\n<text fill=\"#000000\" font-family=\"Times,serif\" font-size=\"14.00\" text-anchor=\"middle\" x=\"3276\" y=\"-164.3\">gini = 0.0</text>\n<text fill=\"#000000\" font-family=\"Times,serif\" font-size=\"14.00\" text-anchor=\"middle\" x=\"3276\" y=\"-149.3\">samples = 1</text>\n<text fill=\"#000000\" font-family=\"Times,serif\" font-size=\"14.00\" text-anchor=\"middle\" x=\"3276\" y=\"-134.3\">value = [0.0, 0.0, 0.35]</text>\n<text fill=\"#000000\" font-family=\"Times,serif\" font-size=\"14.00\" text-anchor=\"middle\" x=\"3276\" y=\"-119.3\">class = decreased binding protein</text>\n</g>\n<!-- 82&#45;&gt;86 -->\n<g class=\"edge\" id=\"edge86\">\n<title>82-&gt;86</title>\n<path d=\"M3135.5463,-222.8796C3158.1074,-210.4501 3182.7515,-196.873 3205.0098,-184.6103\" fill=\"none\" stroke=\"#000000\"/>\n<polygon fill=\"#000000\" points=\"3206.9926,-187.5141 3214.0624,-179.623 3203.6147,-181.3829 3206.9926,-187.5141\" stroke=\"#000000\"/>\n</g>\n<!-- 84 -->\n<g class=\"node\" id=\"node85\">\n<title>84</title>\n<polygon fill=\"#39e581\" fill-opacity=\"0.960784\" points=\"3023.5,-68 2826.5,-68 2826.5,0 3023.5,0 3023.5,-68\" stroke=\"#000000\"/>\n<text fill=\"#000000\" font-family=\"Times,serif\" font-size=\"14.00\" text-anchor=\"middle\" x=\"2925\" y=\"-52.8\">gini = 0.073</text>\n<text fill=\"#000000\" font-family=\"Times,serif\" font-size=\"14.00\" text-anchor=\"middle\" x=\"2925\" y=\"-37.8\">samples = 28</text>\n<text fill=\"#000000\" font-family=\"Times,serif\" font-size=\"14.00\" text-anchor=\"middle\" x=\"2925\" y=\"-22.8\">value = [0.0, 115.309, 4.549]</text>\n<text fill=\"#000000\" font-family=\"Times,serif\" font-size=\"14.00\" text-anchor=\"middle\" x=\"2925\" y=\"-7.8\">class = increased binding protein</text>\n</g>\n<!-- 83&#45;&gt;84 -->\n<g class=\"edge\" id=\"edge84\">\n<title>83-&gt;84</title>\n<path d=\"M3009.731,-103.9815C2998.1582,-94.4232 2985.8611,-84.2668 2974.3287,-74.7419\" fill=\"none\" stroke=\"#000000\"/>\n<polygon fill=\"#000000\" points=\"2976.4243,-71.9332 2966.4852,-68.2637 2971.9666,-77.3304 2976.4243,-71.9332\" stroke=\"#000000\"/>\n</g>\n<!-- 85 -->\n<g class=\"node\" id=\"node86\">\n<title>85</title>\n<polygon fill=\"#8139e5\" points=\"3240.5,-68 3041.5,-68 3041.5,0 3240.5,0 3240.5,-68\" stroke=\"#000000\"/>\n<text fill=\"#000000\" font-family=\"Times,serif\" font-size=\"14.00\" text-anchor=\"middle\" x=\"3141\" y=\"-52.8\">gini = 0.0</text>\n<text fill=\"#000000\" font-family=\"Times,serif\" font-size=\"14.00\" text-anchor=\"middle\" x=\"3141\" y=\"-37.8\">samples = 1</text>\n<text fill=\"#000000\" font-family=\"Times,serif\" font-size=\"14.00\" text-anchor=\"middle\" x=\"3141\" y=\"-22.8\">value = [0.0, 0.0, 0.35]</text>\n<text fill=\"#000000\" font-family=\"Times,serif\" font-size=\"14.00\" text-anchor=\"middle\" x=\"3141\" y=\"-7.8\">class = decreased binding protein</text>\n</g>\n<!-- 83&#45;&gt;85 -->\n<g class=\"edge\" id=\"edge85\">\n<title>83-&gt;85</title>\n<path d=\"M3090.1614,-103.9815C3096.7045,-94.9747 3103.6334,-85.4367 3110.2008,-76.3965\" fill=\"none\" stroke=\"#000000\"/>\n<polygon fill=\"#000000\" points=\"3113.0631,-78.4113 3116.1089,-68.2637 3107.3998,-74.2971 3113.0631,-78.4113\" stroke=\"#000000\"/>\n</g>\n<!-- 89 -->\n<g class=\"node\" id=\"node90\">\n<title>89</title>\n<polygon fill=\"#39e581\" fill-opacity=\"0.992157\" points=\"3643.5,-306 3446.5,-306 3446.5,-223 3643.5,-223 3643.5,-306\" stroke=\"#000000\"/>\n<text fill=\"#000000\" font-family=\"Times,serif\" font-size=\"14.00\" text-anchor=\"middle\" x=\"3545\" y=\"-290.8\">T4U &lt;= 0.289</text>\n<text fill=\"#000000\" font-family=\"Times,serif\" font-size=\"14.00\" text-anchor=\"middle\" x=\"3545\" y=\"-275.8\">gini = 0.017</text>\n<text fill=\"#000000\" font-family=\"Times,serif\" font-size=\"14.00\" text-anchor=\"middle\" x=\"3545\" y=\"-260.8\">samples = 64</text>\n<text fill=\"#000000\" font-family=\"Times,serif\" font-size=\"14.00\" text-anchor=\"middle\" x=\"3545\" y=\"-245.8\">value = [0.0, 415.113, 3.499]</text>\n<text fill=\"#000000\" font-family=\"Times,serif\" font-size=\"14.00\" text-anchor=\"middle\" x=\"3545\" y=\"-230.8\">class = increased binding protein</text>\n</g>\n<!-- 88&#45;&gt;89 -->\n<g class=\"edge\" id=\"edge89\">\n<title>88-&gt;89</title>\n<path d=\"M3545,-341.8796C3545,-333.6838 3545,-324.9891 3545,-316.5013\" fill=\"none\" stroke=\"#000000\"/>\n<polygon fill=\"#000000\" points=\"3548.5001,-316.298 3545,-306.2981 3541.5001,-316.2981 3548.5001,-316.298\" stroke=\"#000000\"/>\n</g>\n<!-- 96 -->\n<g class=\"node\" id=\"node97\">\n<title>96</title>\n<polygon fill=\"#8139e5\" points=\"3860.5,-298.5 3661.5,-298.5 3661.5,-230.5 3860.5,-230.5 3860.5,-298.5\" stroke=\"#000000\"/>\n<text fill=\"#000000\" font-family=\"Times,serif\" font-size=\"14.00\" text-anchor=\"middle\" x=\"3761\" y=\"-283.3\">gini = -0.0</text>\n<text fill=\"#000000\" font-family=\"Times,serif\" font-size=\"14.00\" text-anchor=\"middle\" x=\"3761\" y=\"-268.3\">samples = 2</text>\n<text fill=\"#000000\" font-family=\"Times,serif\" font-size=\"14.00\" text-anchor=\"middle\" x=\"3761\" y=\"-253.3\">value = [0.0, 0.0, 0.7]</text>\n<text fill=\"#000000\" font-family=\"Times,serif\" font-size=\"14.00\" text-anchor=\"middle\" x=\"3761\" y=\"-238.3\">class = decreased binding protein</text>\n</g>\n<!-- 88&#45;&gt;96 -->\n<g class=\"edge\" id=\"edge96\">\n<title>88-&gt;96</title>\n<path d=\"M3620.5463,-341.8796C3643.1074,-329.4501 3667.7515,-315.873 3690.0098,-303.6103\" fill=\"none\" stroke=\"#000000\"/>\n<polygon fill=\"#000000\" points=\"3691.9926,-306.5141 3699.0624,-298.623 3688.6147,-300.3829 3691.9926,-306.5141\" stroke=\"#000000\"/>\n</g>\n<!-- 90 -->\n<g class=\"node\" id=\"node91\">\n<title>90</title>\n<polygon fill=\"#39e581\" fill-opacity=\"0.996078\" points=\"3643.5,-187 3446.5,-187 3446.5,-104 3643.5,-104 3643.5,-187\" stroke=\"#000000\"/>\n<text fill=\"#000000\" font-family=\"Times,serif\" font-size=\"14.00\" text-anchor=\"middle\" x=\"3545\" y=\"-171.8\">TSH &lt;= 0.299</text>\n<text fill=\"#000000\" font-family=\"Times,serif\" font-size=\"14.00\" text-anchor=\"middle\" x=\"3545\" y=\"-156.8\">gini = 0.01</text>\n<text fill=\"#000000\" font-family=\"Times,serif\" font-size=\"14.00\" text-anchor=\"middle\" x=\"3545\" y=\"-141.8\">samples = 49</text>\n<text fill=\"#000000\" font-family=\"Times,serif\" font-size=\"14.00\" text-anchor=\"middle\" x=\"3545\" y=\"-126.8\">value = [0.0, 338.241, 1.75]</text>\n<text fill=\"#000000\" font-family=\"Times,serif\" font-size=\"14.00\" text-anchor=\"middle\" x=\"3545\" y=\"-111.8\">class = increased binding protein</text>\n</g>\n<!-- 89&#45;&gt;90 -->\n<g class=\"edge\" id=\"edge90\">\n<title>89-&gt;90</title>\n<path d=\"M3545,-222.8796C3545,-214.6838 3545,-205.9891 3545,-197.5013\" fill=\"none\" stroke=\"#000000\"/>\n<polygon fill=\"#000000\" points=\"3548.5001,-197.298 3545,-187.2981 3541.5001,-197.2981 3548.5001,-197.298\" stroke=\"#000000\"/>\n</g>\n<!-- 93 -->\n<g class=\"node\" id=\"node94\">\n<title>93</title>\n<polygon fill=\"#39e581\" fill-opacity=\"0.976471\" points=\"3886.5,-187 3689.5,-187 3689.5,-104 3886.5,-104 3886.5,-187\" stroke=\"#000000\"/>\n<text fill=\"#000000\" font-family=\"Times,serif\" font-size=\"14.00\" text-anchor=\"middle\" x=\"3788\" y=\"-171.8\">TSH &lt;= -2.996</text>\n<text fill=\"#000000\" font-family=\"Times,serif\" font-size=\"14.00\" text-anchor=\"middle\" x=\"3788\" y=\"-156.8\">gini = 0.044</text>\n<text fill=\"#000000\" font-family=\"Times,serif\" font-size=\"14.00\" text-anchor=\"middle\" x=\"3788\" y=\"-141.8\">samples = 15</text>\n<text fill=\"#000000\" font-family=\"Times,serif\" font-size=\"14.00\" text-anchor=\"middle\" x=\"3788\" y=\"-126.8\">value = [0.0, 76.873, 1.75]</text>\n<text fill=\"#000000\" font-family=\"Times,serif\" font-size=\"14.00\" text-anchor=\"middle\" x=\"3788\" y=\"-111.8\">class = increased binding protein</text>\n</g>\n<!-- 89&#45;&gt;93 -->\n<g class=\"edge\" id=\"edge93\">\n<title>89-&gt;93</title>\n<path d=\"M3629.9896,-222.8796C3650.6148,-212.7791 3672.7875,-201.9209 3693.8099,-191.626\" fill=\"none\" stroke=\"#000000\"/>\n<polygon fill=\"#000000\" points=\"3695.6168,-194.6384 3703.0584,-187.0969 3692.5381,-188.3517 3695.6168,-194.6384\" stroke=\"#000000\"/>\n</g>\n<!-- 91 -->\n<g class=\"node\" id=\"node92\">\n<title>91</title>\n<polygon fill=\"#39e581\" fill-opacity=\"0.996078\" points=\"3455.5,-68 3258.5,-68 3258.5,0 3455.5,0 3455.5,-68\" stroke=\"#000000\"/>\n<text fill=\"#000000\" font-family=\"Times,serif\" font-size=\"14.00\" text-anchor=\"middle\" x=\"3357\" y=\"-52.8\">gini = 0.005</text>\n<text fill=\"#000000\" font-family=\"Times,serif\" font-size=\"14.00\" text-anchor=\"middle\" x=\"3357\" y=\"-37.8\">samples = 35</text>\n<text fill=\"#000000\" font-family=\"Times,serif\" font-size=\"14.00\" text-anchor=\"middle\" x=\"3357\" y=\"-22.8\">value = [0.0, 253.68, 0.7]</text>\n<text fill=\"#000000\" font-family=\"Times,serif\" font-size=\"14.00\" text-anchor=\"middle\" x=\"3357\" y=\"-7.8\">class = increased binding protein</text>\n</g>\n<!-- 90&#45;&gt;91 -->\n<g class=\"edge\" id=\"edge91\">\n<title>90-&gt;91</title>\n<path d=\"M3474.9957,-103.9815C3458.0158,-93.911 3439.9163,-83.1764 3423.1222,-73.2161\" fill=\"none\" stroke=\"#000000\"/>\n<polygon fill=\"#000000\" points=\"3424.8582,-70.1765 3414.4717,-68.0856 3421.2874,-76.1972 3424.8582,-70.1765\" stroke=\"#000000\"/>\n</g>\n<!-- 92 -->\n<g class=\"node\" id=\"node93\">\n<title>92</title>\n<polygon fill=\"#39e581\" fill-opacity=\"0.988235\" points=\"3670.5,-68 3473.5,-68 3473.5,0 3670.5,0 3670.5,-68\" stroke=\"#000000\"/>\n<text fill=\"#000000\" font-family=\"Times,serif\" font-size=\"14.00\" text-anchor=\"middle\" x=\"3572\" y=\"-52.8\">gini = 0.024</text>\n<text fill=\"#000000\" font-family=\"Times,serif\" font-size=\"14.00\" text-anchor=\"middle\" x=\"3572\" y=\"-37.8\">samples = 14</text>\n<text fill=\"#000000\" font-family=\"Times,serif\" font-size=\"14.00\" text-anchor=\"middle\" x=\"3572\" y=\"-22.8\">value = [0.0, 84.56, 1.05]</text>\n<text fill=\"#000000\" font-family=\"Times,serif\" font-size=\"14.00\" text-anchor=\"middle\" x=\"3572\" y=\"-7.8\">class = increased binding protein</text>\n</g>\n<!-- 90&#45;&gt;92 -->\n<g class=\"edge\" id=\"edge92\">\n<title>90-&gt;92</title>\n<path d=\"M3555.0538,-103.9815C3557.1013,-95.5261 3559.2621,-86.6026 3561.3302,-78.0623\" fill=\"none\" stroke=\"#000000\"/>\n<polygon fill=\"#000000\" points=\"3564.7511,-78.8065 3563.703,-68.2637 3557.9477,-77.159 3564.7511,-78.8065\" stroke=\"#000000\"/>\n</g>\n<!-- 94 -->\n<g class=\"node\" id=\"node95\">\n<title>94</title>\n<polygon fill=\"#8139e5\" points=\"3887.5,-68 3688.5,-68 3688.5,0 3887.5,0 3887.5,-68\" stroke=\"#000000\"/>\n<text fill=\"#000000\" font-family=\"Times,serif\" font-size=\"14.00\" text-anchor=\"middle\" x=\"3788\" y=\"-52.8\">gini = 0.0</text>\n<text fill=\"#000000\" font-family=\"Times,serif\" font-size=\"14.00\" text-anchor=\"middle\" x=\"3788\" y=\"-37.8\">samples = 1</text>\n<text fill=\"#000000\" font-family=\"Times,serif\" font-size=\"14.00\" text-anchor=\"middle\" x=\"3788\" y=\"-22.8\">value = [0.0, 0.0, 0.35]</text>\n<text fill=\"#000000\" font-family=\"Times,serif\" font-size=\"14.00\" text-anchor=\"middle\" x=\"3788\" y=\"-7.8\">class = decreased binding protein</text>\n</g>\n<!-- 93&#45;&gt;94 -->\n<g class=\"edge\" id=\"edge94\">\n<title>93-&gt;94</title>\n<path d=\"M3788,-103.9815C3788,-95.618 3788,-86.7965 3788,-78.3409\" fill=\"none\" stroke=\"#000000\"/>\n<polygon fill=\"#000000\" points=\"3791.5001,-78.2636 3788,-68.2637 3784.5001,-78.2637 3791.5001,-78.2636\" stroke=\"#000000\"/>\n</g>\n<!-- 95 -->\n<g class=\"node\" id=\"node96\">\n<title>95</title>\n<polygon fill=\"#39e581\" fill-opacity=\"0.980392\" points=\"4102.5,-68 3905.5,-68 3905.5,0 4102.5,0 4102.5,-68\" stroke=\"#000000\"/>\n<text fill=\"#000000\" font-family=\"Times,serif\" font-size=\"14.00\" text-anchor=\"middle\" x=\"4004\" y=\"-52.8\">gini = 0.035</text>\n<text fill=\"#000000\" font-family=\"Times,serif\" font-size=\"14.00\" text-anchor=\"middle\" x=\"4004\" y=\"-37.8\">samples = 14</text>\n<text fill=\"#000000\" font-family=\"Times,serif\" font-size=\"14.00\" text-anchor=\"middle\" x=\"4004\" y=\"-22.8\">value = [0.0, 76.873, 1.4]</text>\n<text fill=\"#000000\" font-family=\"Times,serif\" font-size=\"14.00\" text-anchor=\"middle\" x=\"4004\" y=\"-7.8\">class = increased binding protein</text>\n</g>\n<!-- 93&#45;&gt;95 -->\n<g class=\"edge\" id=\"edge95\">\n<title>93-&gt;95</title>\n<path d=\"M3868.4304,-103.9815C3888.2078,-93.7724 3909.307,-82.8809 3928.8256,-72.8053\" fill=\"none\" stroke=\"#000000\"/>\n<polygon fill=\"#000000\" points=\"3930.6882,-75.7827 3937.9687,-68.0856 3927.4773,-69.5626 3930.6882,-75.7827\" stroke=\"#000000\"/>\n</g>\n</g>\n</svg>"
     },
     "execution_count": 24,
     "metadata": {
     },
     "output_type": "execute_result"
    }
   ],
   "source": [
    "graph = Source(tree.export_graphviz(dt, out_file=None\n",
    "   , feature_names=X_train.columns, class_names=y_train.unique() \n",
    "   , filled = True))\n",
    "\n",
    "display(SVG(graph.pipe(format='svg')))"
   ]
  },
  {
   "cell_type": "markdown",
   "metadata": {
    "collapsed": false
   },
   "source": [
    "### Decision tree parameter tuning"
   ]
  },
  {
   "cell_type": "code",
   "execution_count": 25,
   "metadata": {
    "collapsed": false
   },
   "outputs": [
   ],
   "source": [
    "decision_tree = DecisionTreeClassifier()"
   ]
  },
  {
   "cell_type": "code",
   "execution_count": 207,
   "metadata": {
    "collapsed": false
   },
   "outputs": [
   ],
   "source": [
    "param_dist = {\"max_depth\": [x for x in range(1, 15)], \"min_samples_leaf\": [x for x in range(1, 6)], \"max_features\": [x for x in range(1, 20)], \"criterion\":[\"gini\",\"entropy\"]}"
   ]
  },
  {
   "cell_type": "markdown",
   "metadata": {
    "collapsed": false
   },
   "source": [
    "### Affect of max depth settings"
   ]
  },
  {
   "cell_type": "code",
   "execution_count": 192,
   "metadata": {
    "collapsed": false
   },
   "outputs": [
   ],
   "source": [
    "scores_train_acc = []\n",
    "scores_test_acc = []\n",
    "scores_train_f1 = []\n",
    "scores_test_f1 = []\n",
    "\n",
    "for i in param_dist[\"max_depth\"]:\n",
    "    dt_t = DecisionTreeClassifier(max_depth = i)\n",
    "    dt_t.fit(X_train, y_train)\n",
    "#     scores_train.append(cross_val_score(dt_t, X_train, y_train, cv=10, scoring='f1_macro'))\n",
    "#     scores_test.append(cross_val_score(dt_t, X_test, y_test, cv=10, scoring='f1_macro'))\n",
    "    train_pred = dt_t.predict(X_train)\n",
    "    test_pred = dt_t.predict(X_test)\n",
    "    \n",
    "    scores_train_f1.append(f1_score(y_train, train_pred , average='macro'))\n",
    "    scores_test_f1.append(f1_score(y_test, test_pred , average='macro'))\n",
    "\n",
    "    scores_train_acc.append(accuracy_score(y_train, train_pred))\n",
    "    scores_test_acc.append(accuracy_score(y_test, test_pred))"
   ]
  },
  {
   "cell_type": "code",
   "execution_count": 193,
   "metadata": {
    "collapsed": false
   },
   "outputs": [
   ],
   "source": [
    "# scores_train = [sum(x) / len(x) for x in scores_train]\n",
    "# scores_test = [sum(x) / len(x) for x in scores_test]"
   ]
  },
  {
   "cell_type": "code",
   "execution_count": 195,
   "metadata": {
    "collapsed": false
   },
   "outputs": [
    {
     "data": {
      "image/png": "[encoded data removed]"
     },
     "execution_count": 195,
     "metadata": {
     },
     "output_type": "execute_result"
    }
   ],
   "source": [
    "plt.rcParams['figure.figsize'] = (20, 5)\n",
    "\n",
    "plt.subplot(1, 4, 1)\n",
    "plt.plot(param_dist['max_depth'],scores_train_acc, color='black')\n",
    "plt.plot(param_dist['max_depth'],scores_test_acc, color='green')\n",
    "plt.title('Accuracy score')\n",
    "\n",
    "plt.subplot(1, 4, 2)\n",
    "plt.plot(param_dist['max_depth'],scores_train_f1, color='red')\n",
    "plt.plot(param_dist['max_depth'],scores_test_f1, color='orange')\n",
    "plt.title('F1 score')\n",
    "\n",
    "plt.tight_layout()"
   ]
  },
  {
   "cell_type": "code",
   "execution_count": 204,
   "metadata": {
    "collapsed": false
   },
   "outputs": [
   ],
   "source": [
    "scores_train_acc = []\n",
    "scores_test_acc = []\n",
    "scores_train_f1 = []\n",
    "scores_test_f1 = []\n",
    "\n",
    "for i in param_dist[\"min_samples_leaf\"]:\n",
    "    dt_t = DecisionTreeClassifier(min_samples_leaf = i)\n",
    "    dt_t.fit(X_train, y_train)\n",
    "#     scores_train.append(cross_val_score(dt_t, X_train, y_train, cv=10, scoring='f1_macro'))\n",
    "#     scores_test.append(cross_val_score(dt_t, X_test, y_test, cv=10, scoring='f1_macro'))\n",
    "    train_pred = dt_t.predict(X_train)\n",
    "    test_pred = dt_t.predict(X_test)\n",
    "    \n",
    "    scores_train_f1.append(f1_score(y_train, train_pred , average='macro'))\n",
    "    scores_test_f1.append(f1_score(y_test, test_pred , average='macro'))\n",
    "\n",
    "    scores_train_acc.append(accuracy_score(y_train, train_pred))\n",
    "    scores_test_acc.append(accuracy_score(y_test, test_pred))"
   ]
  },
  {
   "cell_type": "code",
   "execution_count": 205,
   "metadata": {
    "collapsed": false
   },
   "outputs": [
    {
     "data": {
      "image/png": "[encoded data removed]"
     },
     "execution_count": 205,
     "metadata": {
     },
     "output_type": "execute_result"
    }
   ],
   "source": [
    "plt.rcParams['figure.figsize'] = (20, 5)\n",
    "\n",
    "plt.subplot(1, 4, 1)\n",
    "plt.plot(param_dist['min_samples_leaf'],scores_train_acc, color='black')\n",
    "plt.plot(param_dist['min_samples_leaf'],scores_test_acc, color='green')\n",
    "plt.title('Accuracy score')\n",
    "\n",
    "plt.subplot(1, 4, 2)\n",
    "plt.plot(param_dist['min_samples_leaf'],scores_train_f1, color='red')\n",
    "plt.plot(param_dist['min_samples_leaf'],scores_test_f1, color='orange')\n",
    "plt.title('F1 score')\n",
    "\n",
    "plt.tight_layout()"
   ]
  },
  {
   "cell_type": "code",
   "execution_count": 0,
   "metadata": {
    "collapsed": false
   },
   "outputs": [
   ],
   "source": [
    "scores_train_acc = []\n",
    "scores_test_acc = []\n",
    "scores_train_f1 = []\n",
    "scores_test_f1 = []\n",
    "\n",
    "for i in param_dist[\"max_features\"]:\n",
    "    dt_t = DecisionTreeClassifier(min_samples_leaf = i)\n",
    "    dt_t.fit(X_train, y_train)\n",
    "#     scores_train.append(cross_val_score(dt_t, X_train, y_train, cv=10, scoring='f1_macro'))\n",
    "#     scores_test.append(cross_val_score(dt_t, X_test, y_test, cv=10, scoring='f1_macro'))\n",
    "    train_pred = dt_t.predict(X_train)\n",
    "    test_pred = dt_t.predict(X_test)\n",
    "    \n",
    "    scores_train_f1.append(f1_score(y_train, train_pred , average='macro'))\n",
    "    scores_test_f1.append(f1_score(y_test, test_pred , average='macro'))\n",
    "\n",
    "    scores_train_acc.append(accuracy_score(y_train, train_pred))\n",
    "    scores_test_acc.append(accuracy_score(y_test, test_pred))"
   ]
  },
  {
   "cell_type": "code",
   "execution_count": 0,
   "metadata": {
    "collapsed": false
   },
   "outputs": [
   ],
   "source": [
   ]
  },
  {
   "cell_type": "markdown",
   "metadata": {
    "collapsed": false
   },
   "source": [
    "### RandomForest"
   ]
  },
  {
   "cell_type": "code",
   "execution_count": 25,
   "metadata": {
    "collapsed": false
   },
   "outputs": [
   ],
   "source": [
    "rf = RandomForestClassifier(n_estimators=200, max_depth=15, random_state=0, class_weight='balanced')"
   ]
  },
  {
   "cell_type": "code",
   "execution_count": 26,
   "metadata": {
    "collapsed": false
   },
   "outputs": [
    {
     "data": {
      "text/html": [
       "<div>\n",
       "<style scoped>\n",
       "    .dataframe tbody tr th:only-of-type {\n",
       "        vertical-align: middle;\n",
       "    }\n",
       "\n",
       "    .dataframe tbody tr th {\n",
       "        vertical-align: top;\n",
       "    }\n",
       "\n",
       "    .dataframe thead th {\n",
       "        text-align: right;\n",
       "    }\n",
       "</style>\n",
       "<table border=\"1\" class=\"dataframe\">\n",
       "  <thead>\n",
       "    <tr style=\"text-align: right;\">\n",
       "      <th></th>\n",
       "      <th>T4U</th>\n",
       "      <th>TT4</th>\n",
       "      <th>TSH</th>\n",
       "      <th>T3</th>\n",
       "      <th>FTI</th>\n",
       "      <th>sex_F</th>\n",
       "      <th>sex_M</th>\n",
       "      <th>pregnant_False</th>\n",
       "      <th>pregnant_True</th>\n",
       "      <th>origin_cambodia</th>\n",
       "      <th>...</th>\n",
       "      <th>origin_outlying-us(guam-usvi-etc)</th>\n",
       "      <th>origin_peru</th>\n",
       "      <th>origin_philippines</th>\n",
       "      <th>origin_poland</th>\n",
       "      <th>origin_puerto-rico</th>\n",
       "      <th>origin_south</th>\n",
       "      <th>origin_taiwan</th>\n",
       "      <th>origin_thailand</th>\n",
       "      <th>origin_united-states</th>\n",
       "      <th>origin_vietnam</th>\n",
       "    </tr>\n",
       "  </thead>\n",
       "  <tbody>\n",
       "    <tr>\n",
       "      <th>0</th>\n",
       "      <td>-0.211386</td>\n",
       "      <td>4.418841</td>\n",
       "      <td>0.993252</td>\n",
       "      <td>0.788457</td>\n",
       "      <td>4.625681</td>\n",
       "      <td>0</td>\n",
       "      <td>1</td>\n",
       "      <td>1</td>\n",
       "      <td>0</td>\n",
       "      <td>0</td>\n",
       "      <td>...</td>\n",
       "      <td>0</td>\n",
       "      <td>0</td>\n",
       "      <td>0</td>\n",
       "      <td>0</td>\n",
       "      <td>0</td>\n",
       "      <td>0</td>\n",
       "      <td>0</td>\n",
       "      <td>0</td>\n",
       "      <td>1</td>\n",
       "      <td>0</td>\n",
       "    </tr>\n",
       "    <tr>\n",
       "      <th>1</th>\n",
       "      <td>-0.061875</td>\n",
       "      <td>4.787492</td>\n",
       "      <td>1.131402</td>\n",
       "      <td>0.405465</td>\n",
       "      <td>4.844187</td>\n",
       "      <td>1</td>\n",
       "      <td>0</td>\n",
       "      <td>1</td>\n",
       "      <td>0</td>\n",
       "      <td>0</td>\n",
       "      <td>...</td>\n",
       "      <td>0</td>\n",
       "      <td>0</td>\n",
       "      <td>0</td>\n",
       "      <td>0</td>\n",
       "      <td>0</td>\n",
       "      <td>0</td>\n",
       "      <td>0</td>\n",
       "      <td>0</td>\n",
       "      <td>1</td>\n",
       "      <td>0</td>\n",
       "    </tr>\n",
       "    <tr>\n",
       "      <th>2</th>\n",
       "      <td>-0.040822</td>\n",
       "      <td>4.727388</td>\n",
       "      <td>0.262364</td>\n",
       "      <td>0.832909</td>\n",
       "      <td>4.770685</td>\n",
       "      <td>1</td>\n",
       "      <td>0</td>\n",
       "      <td>1</td>\n",
       "      <td>0</td>\n",
       "      <td>0</td>\n",
       "      <td>...</td>\n",
       "      <td>0</td>\n",
       "      <td>0</td>\n",
       "      <td>0</td>\n",
       "      <td>0</td>\n",
       "      <td>0</td>\n",
       "      <td>0</td>\n",
       "      <td>0</td>\n",
       "      <td>0</td>\n",
       "      <td>1</td>\n",
       "      <td>0</td>\n",
       "    </tr>\n",
       "    <tr>\n",
       "      <th>3</th>\n",
       "      <td>0.019803</td>\n",
       "      <td>5.209486</td>\n",
       "      <td>-3.352407</td>\n",
       "      <td>0.741937</td>\n",
       "      <td>5.187386</td>\n",
       "      <td>1</td>\n",
       "      <td>0</td>\n",
       "      <td>1</td>\n",
       "      <td>0</td>\n",
       "      <td>0</td>\n",
       "      <td>...</td>\n",
       "      <td>0</td>\n",
       "      <td>0</td>\n",
       "      <td>0</td>\n",
       "      <td>0</td>\n",
       "      <td>0</td>\n",
       "      <td>0</td>\n",
       "      <td>0</td>\n",
       "      <td>0</td>\n",
       "      <td>1</td>\n",
       "      <td>0</td>\n",
       "    </tr>\n",
       "    <tr>\n",
       "      <th>4</th>\n",
       "      <td>-0.072571</td>\n",
       "      <td>4.976734</td>\n",
       "      <td>-3.688879</td>\n",
       "      <td>1.014890</td>\n",
       "      <td>5.043425</td>\n",
       "      <td>1</td>\n",
       "      <td>0</td>\n",
       "      <td>1</td>\n",
       "      <td>0</td>\n",
       "      <td>0</td>\n",
       "      <td>...</td>\n",
       "      <td>0</td>\n",
       "      <td>0</td>\n",
       "      <td>0</td>\n",
       "      <td>0</td>\n",
       "      <td>0</td>\n",
       "      <td>0</td>\n",
       "      <td>0</td>\n",
       "      <td>0</td>\n",
       "      <td>1</td>\n",
       "      <td>0</td>\n",
       "    </tr>\n",
       "  </tbody>\n",
       "</table>\n",
       "<p>5 rows × 41 columns</p>\n",
       "</div>"
      ]
     },
     "execution_count": 26,
     "metadata": {
     },
     "output_type": "execute_result"
    }
   ],
   "source": [
    "X_train.head()"
   ]
  },
  {
   "cell_type": "code",
   "execution_count": 27,
   "metadata": {
    "collapsed": false
   },
   "outputs": [
    {
     "data": {
      "text/plain": [
       "RandomForestClassifier(bootstrap=True, class_weight='balanced',\n",
       "            criterion='gini', max_depth=15, max_features='auto',\n",
       "            max_leaf_nodes=None, min_impurity_decrease=0.0,\n",
       "            min_impurity_split=None, min_samples_leaf=1,\n",
       "            min_samples_split=2, min_weight_fraction_leaf=0.0,\n",
       "            n_estimators=200, n_jobs=None, oob_score=False, random_state=0,\n",
       "            verbose=0, warm_start=False)"
      ]
     },
     "execution_count": 27,
     "metadata": {
     },
     "output_type": "execute_result"
    }
   ],
   "source": [
    "rf.fit(X_train, y_train)"
   ]
  },
  {
   "cell_type": "code",
   "execution_count": 28,
   "metadata": {
    "collapsed": false
   },
   "outputs": [
   ],
   "source": [
    "y_pred = rf.predict(X_test)"
   ]
  },
  {
   "cell_type": "code",
   "execution_count": 29,
   "metadata": {
    "collapsed": false
   },
   "outputs": [
    {
     "data": {
      "text/plain": [
       "0.97427983539094654"
      ]
     },
     "execution_count": 29,
     "metadata": {
     },
     "output_type": "execute_result"
    }
   ],
   "source": [
    "accuracy_score(y_test, y_pred)"
   ]
  },
  {
   "cell_type": "code",
   "execution_count": 30,
   "metadata": {
    "collapsed": false
   },
   "outputs": [
    {
     "name": "stdout",
     "output_type": "stream",
     "text": [
      "                           precision    recall  f1-score   support\n",
      "\n",
      "decreased binding protein       0.00      0.00      0.00         5\n",
      "increased binding protein       0.60      0.60      0.60        25\n",
      "                 negative       0.98      0.99      0.99       942\n",
      "\n",
      "                micro avg       0.97      0.97      0.97       972\n",
      "                macro avg       0.53      0.53      0.53       972\n",
      "             weighted avg       0.97      0.97      0.97       972\n",
      "\n"
     ]
    },
    {
     "name": "stderr",
     "output_type": "stream",
     "text": [
      "/ext/sage/sage-8.4_1804/local/lib/python2.7/site-packages/sklearn/metrics/classification.py:1143: UndefinedMetricWarning: Precision and F-score are ill-defined and being set to 0.0 in labels with no predicted samples.\n",
      "  'precision', 'predicted', average, warn_for)\n",
      "/ext/sage/sage-8.4_1804/local/lib/python2.7/site-packages/sklearn/metrics/classification.py:1143: UndefinedMetricWarning: Precision and F-score are ill-defined and being set to 0.0 in labels with no predicted samples.\n",
      "  'precision', 'predicted', average, warn_for)\n",
      "/ext/sage/sage-8.4_1804/local/lib/python2.7/site-packages/sklearn/metrics/classification.py:1143: UndefinedMetricWarning: Precision and F-score are ill-defined and being set to 0.0 in labels with no predicted samples.\n",
      "  'precision', 'predicted', average, warn_for)\n"
     ]
    }
   ],
   "source": [
    "print(classification_report(y_test, y_pred))"
   ]
  },
  {
   "cell_type": "code",
   "execution_count": 31,
   "metadata": {
    "collapsed": false
   },
   "outputs": [
   ],
   "source": [
    "feature_importances = pd.DataFrame(rf.feature_importances_,\n",
    "                                   index = X_train.columns,\n",
    "                                    columns=['importance']).sort_values('importance',                                                                 ascending=False)"
   ]
  },
  {
   "cell_type": "code",
   "execution_count": 39,
   "metadata": {
    "collapsed": false
   },
   "outputs": [
    {
     "data": {
      "text/html": [
       "<div>\n",
       "<style scoped>\n",
       "    .dataframe tbody tr th:only-of-type {\n",
       "        vertical-align: middle;\n",
       "    }\n",
       "\n",
       "    .dataframe tbody tr th {\n",
       "        vertical-align: top;\n",
       "    }\n",
       "\n",
       "    .dataframe thead th {\n",
       "        text-align: right;\n",
       "    }\n",
       "</style>\n",
       "<table border=\"1\" class=\"dataframe\">\n",
       "  <thead>\n",
       "    <tr style=\"text-align: right;\">\n",
       "      <th></th>\n",
       "      <th>importance</th>\n",
       "    </tr>\n",
       "  </thead>\n",
       "  <tbody>\n",
       "    <tr>\n",
       "      <th>T4U</th>\n",
       "      <td>3.237622e-01</td>\n",
       "    </tr>\n",
       "    <tr>\n",
       "      <th>T3</th>\n",
       "      <td>2.566458e-01</td>\n",
       "    </tr>\n",
       "    <tr>\n",
       "      <th>TT4</th>\n",
       "      <td>2.081217e-01</td>\n",
       "    </tr>\n",
       "    <tr>\n",
       "      <th>FTI</th>\n",
       "      <td>8.356671e-02</td>\n",
       "    </tr>\n",
       "    <tr>\n",
       "      <th>TSH</th>\n",
       "      <td>6.382078e-02</td>\n",
       "    </tr>\n",
       "    <tr>\n",
       "      <th>sex_F</th>\n",
       "      <td>1.331085e-02</td>\n",
       "    </tr>\n",
       "    <tr>\n",
       "      <th>pregnant_False</th>\n",
       "      <td>1.134707e-02</td>\n",
       "    </tr>\n",
       "    <tr>\n",
       "      <th>sex_M</th>\n",
       "      <td>1.121780e-02</td>\n",
       "    </tr>\n",
       "    <tr>\n",
       "      <th>pregnant_True</th>\n",
       "      <td>1.120091e-02</td>\n",
       "    </tr>\n",
       "    <tr>\n",
       "      <th>origin_nicaragua</th>\n",
       "      <td>7.660023e-03</td>\n",
       "    </tr>\n",
       "    <tr>\n",
       "      <th>origin_united-states</th>\n",
       "      <td>4.312138e-03</td>\n",
       "    </tr>\n",
       "    <tr>\n",
       "      <th>origin_india</th>\n",
       "      <td>1.091873e-03</td>\n",
       "    </tr>\n",
       "    <tr>\n",
       "      <th>origin_mexico</th>\n",
       "      <td>1.038067e-03</td>\n",
       "    </tr>\n",
       "    <tr>\n",
       "      <th>origin_jamaica</th>\n",
       "      <td>5.917747e-04</td>\n",
       "    </tr>\n",
       "    <tr>\n",
       "      <th>origin_puerto-rico</th>\n",
       "      <td>3.549687e-04</td>\n",
       "    </tr>\n",
       "    <tr>\n",
       "      <th>origin_germany</th>\n",
       "      <td>3.090697e-04</td>\n",
       "    </tr>\n",
       "    <tr>\n",
       "      <th>origin_philippines</th>\n",
       "      <td>2.377606e-04</td>\n",
       "    </tr>\n",
       "    <tr>\n",
       "      <th>origin_dominican-republic</th>\n",
       "      <td>1.573961e-04</td>\n",
       "    </tr>\n",
       "    <tr>\n",
       "      <th>origin_guatemala</th>\n",
       "      <td>1.499774e-04</td>\n",
       "    </tr>\n",
       "    <tr>\n",
       "      <th>origin_canada</th>\n",
       "      <td>1.499397e-04</td>\n",
       "    </tr>\n",
       "    <tr>\n",
       "      <th>origin_el-salvador</th>\n",
       "      <td>1.314056e-04</td>\n",
       "    </tr>\n",
       "    <tr>\n",
       "      <th>origin_japan</th>\n",
       "      <td>1.097577e-04</td>\n",
       "    </tr>\n",
       "    <tr>\n",
       "      <th>origin_cuba</th>\n",
       "      <td>1.073595e-04</td>\n",
       "    </tr>\n",
       "    <tr>\n",
       "      <th>origin_italy</th>\n",
       "      <td>9.472359e-05</td>\n",
       "    </tr>\n",
       "    <tr>\n",
       "      <th>origin_china</th>\n",
       "      <td>9.239076e-05</td>\n",
       "    </tr>\n",
       "    <tr>\n",
       "      <th>origin_south</th>\n",
       "      <td>8.250942e-05</td>\n",
       "    </tr>\n",
       "    <tr>\n",
       "      <th>origin_england</th>\n",
       "      <td>6.815440e-05</td>\n",
       "    </tr>\n",
       "    <tr>\n",
       "      <th>origin_haiti</th>\n",
       "      <td>5.682032e-05</td>\n",
       "    </tr>\n",
       "    <tr>\n",
       "      <th>origin_greece</th>\n",
       "      <td>3.713976e-05</td>\n",
       "    </tr>\n",
       "    <tr>\n",
       "      <th>origin_peru</th>\n",
       "      <td>3.072595e-05</td>\n",
       "    </tr>\n",
       "    <tr>\n",
       "      <th>origin_ecuador</th>\n",
       "      <td>2.672297e-05</td>\n",
       "    </tr>\n",
       "    <tr>\n",
       "      <th>origin_taiwan</th>\n",
       "      <td>2.336032e-05</td>\n",
       "    </tr>\n",
       "    <tr>\n",
       "      <th>origin_poland</th>\n",
       "      <td>2.334564e-05</td>\n",
       "    </tr>\n",
       "    <tr>\n",
       "      <th>origin_france</th>\n",
       "      <td>2.109721e-05</td>\n",
       "    </tr>\n",
       "    <tr>\n",
       "      <th>origin_columbia</th>\n",
       "      <td>1.747497e-05</td>\n",
       "    </tr>\n",
       "    <tr>\n",
       "      <th>origin_thailand</th>\n",
       "      <td>1.169811e-05</td>\n",
       "    </tr>\n",
       "    <tr>\n",
       "      <th>origin_iran</th>\n",
       "      <td>7.968203e-06</td>\n",
       "    </tr>\n",
       "    <tr>\n",
       "      <th>origin_vietnam</th>\n",
       "      <td>6.426960e-06</td>\n",
       "    </tr>\n",
       "    <tr>\n",
       "      <th>origin_ireland</th>\n",
       "      <td>3.201257e-06</td>\n",
       "    </tr>\n",
       "    <tr>\n",
       "      <th>origin_cambodia</th>\n",
       "      <td>6.241698e-07</td>\n",
       "    </tr>\n",
       "    <tr>\n",
       "      <th>origin_outlying-us(guam-usvi-etc)</th>\n",
       "      <td>3.219680e-07</td>\n",
       "    </tr>\n",
       "  </tbody>\n",
       "</table>\n",
       "</div>"
      ]
     },
     "execution_count": 39,
     "metadata": {
     },
     "output_type": "execute_result"
    }
   ],
   "source": [
    "feature_importances"
   ]
  },
  {
   "cell_type": "markdown",
   "metadata": {
    "collapsed": false
   },
   "source": [
    "### Hyperparameter tuning"
   ]
  },
  {
   "cell_type": "code",
   "execution_count": 65,
   "metadata": {
    "collapsed": false
   },
   "outputs": [
   ],
   "source": [
    "rf = RandomForestClassifier(n_estimators=200, max_depth=15, random_state=0, class_weight='balanced')\n",
    "\n",
    "tuned_clf = RandomizedSearchCV(rf, param_distributions={'n_estimators': [x for x in range(10, 500, 20)], 'max_depth': [x for x in range(8, 20, 2)]}, n_iter=10, scoring='f1_macro')"
   ]
  },
  {
   "cell_type": "code",
   "execution_count": 66,
   "metadata": {
    "collapsed": false,
    "scrolled": true
   },
   "outputs": [
    {
     "data": {
      "text/plain": [
       "RandomizedSearchCV(cv='warn', error_score='raise-deprecating',\n",
       "          estimator=RandomForestClassifier(bootstrap=True, class_weight='balanced',\n",
       "            criterion='gini', max_depth=15, max_features='auto',\n",
       "            max_leaf_nodes=None, min_impurity_decrease=0.0,\n",
       "            min_impurity_split=None, min_samples_leaf=1,\n",
       "            min_samples_split=2, min_weight_fraction_leaf=0.0,\n",
       "            n_estimators=200, n_jobs=None, oob_score=False, random_state=0,\n",
       "            verbose=0, warm_start=False),\n",
       "          fit_params=None, iid='warn', n_iter=10, n_jobs=None,\n",
       "          param_distributions={'n_estimators': [10, 30, 50, 70, 90, 110, 130, 150, 170, 190, 210, 230, 250, 270, 290, 310, 330, 350, 370, 390, 410, 430, 450, 470, 490], 'max_depth': [8, 10, 12, 14, 16, 18]},\n",
       "          pre_dispatch='2*n_jobs', random_state=None, refit=True,\n",
       "          return_train_score='warn', scoring='f1_macro', verbose=0)"
      ]
     },
     "execution_count": 66,
     "metadata": {
     },
     "output_type": "execute_result"
    }
   ],
   "source": [
    "tuned_clf.fit(X_train, y_train)"
   ]
  },
  {
   "cell_type": "code",
   "execution_count": 60,
   "metadata": {
    "collapsed": false
   },
   "outputs": [
    {
     "data": {
      "text/plain": [
       "RandomForestClassifier(bootstrap=True, class_weight='balanced',\n",
       "            criterion='gini', max_depth=12, max_features='auto',\n",
       "            max_leaf_nodes=None, min_impurity_decrease=0.0,\n",
       "            min_impurity_split=None, min_samples_leaf=1,\n",
       "            min_samples_split=2, min_weight_fraction_leaf=0.0,\n",
       "            n_estimators=50, n_jobs=None, oob_score=False, random_state=0,\n",
       "            verbose=0, warm_start=False)"
      ]
     },
     "execution_count": 60,
     "metadata": {
     },
     "output_type": "execute_result"
    }
   ],
   "source": [
    "tuned_clf.best_estimator_"
   ]
  },
  {
   "cell_type": "code",
   "execution_count": 61,
   "metadata": {
    "collapsed": false
   },
   "outputs": [
   ],
   "source": [
    "y_pred = tuned_clf.predict(X_test)"
   ]
  },
  {
   "cell_type": "code",
   "execution_count": 63,
   "metadata": {
    "collapsed": false
   },
   "outputs": [
    {
     "data": {
      "text/plain": [
       "0.97222222222222221"
      ]
     },
     "execution_count": 63,
     "metadata": {
     },
     "output_type": "execute_result"
    }
   ],
   "source": [
    "accuracy_score(y_test, y_pred)"
   ]
  },
  {
   "cell_type": "code",
   "execution_count": 64,
   "metadata": {
    "collapsed": false
   },
   "outputs": [
    {
     "name": "stdout",
     "output_type": "stream",
     "text": [
      "                           precision    recall  f1-score   support\n",
      "\n",
      "decreased binding protein       0.00      0.00      0.00         5\n",
      "increased binding protein       0.57      0.52      0.54        25\n",
      "                 negative       0.98      0.99      0.99       942\n",
      "\n",
      "                micro avg       0.97      0.97      0.97       972\n",
      "                macro avg       0.52      0.50      0.51       972\n",
      "             weighted avg       0.97      0.97      0.97       972\n",
      "\n"
     ]
    }
   ],
   "source": [
    "print(classification_report(y_test, y_pred))"
   ]
  },
  {
   "cell_type": "markdown",
   "metadata": {
    "collapsed": false
   },
   "source": [
    "## Different filling methods comparison"
   ]
  },
  {
   "cell_type": "code",
   "execution_count": 40,
   "metadata": {
    "collapsed": false
   },
   "outputs": [
   ],
   "source": [
    "ppl_fill = Pipeline([\n",
    "                # Data repairing\n",
    "                # ======================\n",
    "                # unify boolean values\n",
    "                ('unify_boolean', BooleanUnifier(['query hyperthyroid', 'T4U measured', 'on thyroxine', 'FTI measured', 'lithium', 'TT4 measured',\n",
    "                                                  'query hypothyroid', 'query on thyroxine', 'tumor', 'T3 measured', 'sick', 'thyroid surgery', \n",
    "                                                  'I131 treatment', 'goitre', 'TSH measured', 'on antithyroid medication', 'psych', 'TBG measured',\n",
    "                                                  'pregnant', 'hypopituitary'])),\n",
    "\n",
    "                # unify date format\n",
    "                ('date_unifier', DateFormatUnifier('date_of_birth')),\n",
    "\n",
    "                # drop column\n",
    "                ('drop_TBG_measured', DropColumn('TBG measured')),\n",
    "                ('drop_TBG', DropColumn('TBG')),\n",
    "\n",
    "                # measured columns fix\n",
    "                ('fix_measured_values',MeasuredValuesFixer(['T4U', 'FTI', 'TT4', 'TT4','TSH','T3'])),\n",
    "\n",
    "                # expand column\n",
    "                ('expand_personal_info', ColumnExpander()),\n",
    "\n",
    "                # unify nan values\n",
    "                ('nan_unify_FTI', NanUnifier(['FTI', 'sex', 'origin', 'occupation'])),\n",
    "\n",
    "                # transform data type\n",
    "                ('column_to_number_FTI', ColumnToNumber('FTI')),\n",
    "\n",
    "                # merge and remove duplicates\n",
    "                ('rm_duplicates', MergeRemoveDuplicates()),\n",
    "                \n",
    "                # ======================\n",
    "\n",
    "                # Data normalization\n",
    "                # ======================\n",
    "                ('norm_numerical', Normalizer(['T4U', 'T3', 'TSH', 'TT4', 'FTI', 'age', 'education-num'])),\n",
    "                # ======================\n",
    "\n",
    "                # Outliers replacement\n",
    "                # ======================\n",
    "                ('reout_numerical', OutliersReplacer(['T4U', 'T3', 'TSH', 'TT4', 'FTI', 'age', 'education-num'])),\n",
    "                # ======================\n",
    "\n",
    "                # Filling numerical values with median\n",
    "                # ======================\n",
    "                ('fill_med', NumMedianFiller(['T4U', 'TT4', 'T3', 'TSH', 'FTI', 'age', 'education-num',\n",
    "                                              'fnlwgt', 'capital-loss', 'capital-gain', 'hours-per-week'])),\n",
    "                # ======================\n",
    "\n",
    "                # Filling categorical with most frequent value\n",
    "                # ======================\n",
    "                ('fill_mf', CategoricalMostFrequentFiller(['sex', 'pregnant', 'tumor', 'occupation', 'origin',\n",
    "                                                            'query hypothyroid', 'query hyperthyroid', 'on thyroxine',\n",
    "                                                            'sick', 'thyroid surgery', 'workclass',\n",
    "                                                            'I131 treatment', 'hypopituitary', 'query on thyroxine',\n",
    "                                                            'on antithyroid medication', 'referral source', 'psych',\n",
    "                                                            'date_of_birth', 'study', 'status1', 'status2'\n",
    "                ]))\n",
    "              ])"
   ]
  },
  {
   "cell_type": "code",
   "execution_count": 41,
   "metadata": {
    "collapsed": false
   },
   "outputs": [
   ],
   "source": [
    "df_train = ppl_fill.fit_transform(df_train_raw)\n",
    "df_valid = ppl_fill.transform(df_valid_raw)\n",
    "\n",
    "df_train = ppl_class_unifier.fit_transform(df_train)\n",
    "df_valid = ppl_class_unifier.transform(df_valid)"
   ]
  },
  {
   "cell_type": "code",
   "execution_count": 43,
   "metadata": {
    "collapsed": false
   },
   "outputs": [
   ],
   "source": [
    "X_train = ppl_select_encode.fit_transform(df_train)\n",
    "X_test = ppl_select_encode.transform(df_valid)"
   ]
  },
  {
   "cell_type": "code",
   "execution_count": 44,
   "metadata": {
    "collapsed": false
   },
   "outputs": [
   ],
   "source": [
    "dt = DecisionTreeClassifier(max_depth=10, class_weight='balanced')"
   ]
  },
  {
   "cell_type": "code",
   "execution_count": 45,
   "metadata": {
    "collapsed": false
   },
   "outputs": [
    {
     "data": {
      "text/plain": [
       "DecisionTreeClassifier(class_weight='balanced', criterion='gini',\n",
       "            max_depth=10, max_features=None, max_leaf_nodes=None,\n",
       "            min_impurity_decrease=0.0, min_impurity_split=None,\n",
       "            min_samples_leaf=1, min_samples_split=2,\n",
       "            min_weight_fraction_leaf=0.0, presort=False, random_state=None,\n",
       "            splitter='best')"
      ]
     },
     "execution_count": 45,
     "metadata": {
     },
     "output_type": "execute_result"
    }
   ],
   "source": [
    "dt.fit(X_train, y_train)"
   ]
  },
  {
   "cell_type": "code",
   "execution_count": 46,
   "metadata": {
    "collapsed": false
   },
   "outputs": [
   ],
   "source": [
    "y_pred = dt.predict(X_test)"
   ]
  },
  {
   "cell_type": "code",
   "execution_count": 47,
   "metadata": {
    "collapsed": false
   },
   "outputs": [
    {
     "data": {
      "text/plain": [
       "0.95987654320987659"
      ]
     },
     "execution_count": 47,
     "metadata": {
     },
     "output_type": "execute_result"
    }
   ],
   "source": [
    "accuracy_score(y_test, y_pred)"
   ]
  },
  {
   "cell_type": "code",
   "execution_count": 48,
   "metadata": {
    "collapsed": false
   },
   "outputs": [
    {
     "name": "stdout",
     "output_type": "stream",
     "text": [
      "                           precision    recall  f1-score   support\n",
      "\n",
      "decreased binding protein       0.60      0.60      0.60         5\n",
      "increased binding protein       0.41      0.88      0.56        25\n",
      "                 negative       0.99      0.96      0.98       942\n",
      "\n",
      "                micro avg       0.96      0.96      0.96       972\n",
      "                macro avg       0.67      0.81      0.71       972\n",
      "             weighted avg       0.98      0.96      0.97       972\n",
      "\n"
     ]
    }
   ],
   "source": [
    "print(classification_report(y_test, y_pred))"
   ]
  },
  {
   "cell_type": "markdown",
   "metadata": {
    "collapsed": false
   },
   "source": [
    "## Predictions on test dataset"
   ]
  },
  {
   "cell_type": "markdown",
   "metadata": {
    "collapsed": false
   },
   "source": [
    "## TO-DO\n",
    "\n",
    "Pri dátovej analýze nemusí byť naším cieľom získať len znalosti obsiahnuté v aktuálnych\n",
    "dátach, ale aj natrénovať model, ktorý bude schopný robiť rozumné predikcie pre nové\n",
    "pozorovania (v našom prípade pre nových pacientov). Na to sa využívajú techniky\n",
    "strojového učenia. V tomto projekte sa zameriame na rozhodovacie stromy vzhľadom na ich\n",
    "jednoduchú interpretovateľnosť.\n",
    "\n",
    "V tejto fáze dostanete nový dataset, na ktorom oddemonštrujete znovupoužiteľnosť vami\n",
    "realizovaného predspracovania. Vami natrénované klasifikátory budú porovnané medzi\n",
    "sebou; uvidíte tak, ako dobre ste sa umiestnili v rámci vášho cvičenia, resp. celého\n",
    "predmetu.\n",
    "\n",
    "V poslednej fáze sa od vás očakáva:\n",
    "\n",
    "* **Predspracovanie nového datasetu vami realizovaným postupom**\n",
    "predspracovania. Spustite postup predspracovania realizovaný v predchádzajúcom\n",
    "kroku nad novým datasetom. Nový dataset bude mať rovnakú štruktúru ako váš\n",
    "pôvodný, nebudú sa v ňom však možno nachádzať niektoré problémy (nové vám\n",
    "nepribudnú). Ak si spustenie predspracovania vyžiada zmeny v kóde, opíšte ich.\n",
    "* **Manuálne vytvorenie a vyhodnotenie rozhodovacích pravidiel pre klasifikáciu.**\n",
    "Vyskúšajte jednoduché pravidlá zahŕňajúce jeden atribút, ale aj komplikovanejšie\n",
    "zahŕňajúce viacero atribútov (ich kombinácie). Pravidlá by v tomto kroku mali byť\n",
    "vytvorené manuálne na základe pozorovaných závislostí v dátach. Pravidlá\n",
    "(manuálne vytvorené klasifikátory) vyhodnoťte pomocou metrík správnosť (angl.\n",
    "accuracy ), presnosť (angl. precision ) a úplnosť (angl. recall ).\n",
    "* **Natrénovanie klasifikátora s využitím rozhodovacích stromov.**\n",
    "Využite algoritmus dostupný v knižnici scikit-learn ( CART) . Preskúmajte hyperparametre\n",
    "tohto algoritmu a vyskúšajte ich rôzne nastavenie tak, aby ste minimalizovali\n",
    "preučenie. Vysvetlite, čo jednotlivé hyperparametre robia. Pri nastavovaní\n",
    "hyperparametrov algoritmu využite 10-násobnú krížovú validáciu na trénovacej\n",
    "množine.\n",
    "* **Vyhodnotenie natrénovaných klasifikátorov. Vizualizujte natrénované pravidlá.**\n",
    "Porovnajte algoritmy navzájom, ako aj s vašimi manuálne vytvorenými pravidlami z\n",
    "druhého kroku. Vyhodnoťte ich pomocou metrík správnosť (angl. accuracy ), presnosť\n",
    "(angl. precision ) a úplnosť (angl. recall ).\n",
    "* **Vyhodnotenie vplyvu zvolenej stratégie riešenia chýbajúcich hodnôt na správnosť klasifikácie.**\n",
    "Zistite, či použitie zvolených stratégií riešenia chýbajúcich\n",
    "hodnôt vplýva na správnosť (angl. accuracy ) klasifikácie. Ktorá stratégia sa ukázala\n",
    "ako vhodnejšia pre daný problém?\n",
    "\n",
    "**Celkové hodnotenie za 3. fázu (12b) je rozdelené nasledovne:**\n",
    "* Realizácia predspracovania nad novým datasetom a opis prípadných zmien - 2b / done, este opisy\n",
    "* Návrh a overenie manuálne vytvorených pravidiel - 2b\n",
    "* Porovnanie stratégie riešenia chýbajúcich hodnôt - 2b\n",
    "* Natrénovanie a otestovanie klasifikátora (klasifikátorov) - 2b\n",
    "* Optimalizácia hyperparametrov - 2b\n",
    "* Celkový dojem - 2b\n",
    "\n",
    "\n",
    "\n",
    "### Tasky:\n",
    "* jendoduche pravidla manualne a vyhodnotit, popisat\n",
    "* popisat vysledky manualneho classifiera kombinovaneho\n",
    "* porovnanie klassifikatorov medzi sebou ako Conclusion and comparison sekcia v Classification\n",
    "* vizualizacia pravidiel decision tree\n",
    "* porovnanie vysledkov oversamplingu a beznych klasifikatorov\n",
    "* porovnat doplnanie hodnot s beznymi klasifikatormi zhora"
   ]
  }
 ],
 "metadata": {
  "kernelspec": {
   "display_name": "SageMath (stable)",
   "language": "sagemath",
   "name": "sagemath"
  },
  "language_info": {
   "codemirror_mode": {
    "name": "ipython",
    "version": 2
   },
   "file_extension": ".py",
   "mimetype": "text/x-python",
   "name": "python",
   "nbconvert_exporter": "python",
   "pygments_lexer": "ipython2",
   "version": "2.7.15"
  }
 },
 "nbformat": 4,
 "nbformat_minor": 0
}