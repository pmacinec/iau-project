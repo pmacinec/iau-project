{
 "cells": [
  {
   "cell_type": "markdown",
   "metadata": {
    "collapsed": false
   },
   "source": [
    "# IAU - Project\n",
    "\n",
    "**Authors:** Peter Mačinec, Lukáš Janík"
   ]
  },
  {
   "cell_type": "markdown",
   "metadata": {
    "collapsed": false
   },
   "source": [
    "## Setup and import libraries"
   ]
  },
  {
   "cell_type": "code",
   "execution_count": 69,
   "metadata": {
    "collapsed": false
   },
   "outputs": [
   ],
   "source": [
    "# import libraries\n",
    "import numpy as np\n",
    "import pandas as pd\n",
    "import matplotlib.pyplot as plt\n",
    "import seaborn as sns\n",
    "import re\n",
    "\n",
    "# pipelines\n",
    "from sklearn.pipeline import Pipeline\n",
    "from sklearn.base import TransformerMixin\n",
    "\n",
    "# models\n",
    "from sklearn.linear_model import LinearRegression\n",
    "from sklearn import model_selection as ms\n",
    "from sklearn import metrics\n",
    "from functools import reduce"
   ]
  },
  {
   "cell_type": "markdown",
   "metadata": {
    "collapsed": false
   },
   "source": [
    "## Read the data\n",
    "\n",
    "Data are divided into two files, personal and other, so we need to read both of them:"
   ]
  },
  {
   "cell_type": "code",
   "execution_count": 70,
   "metadata": {
    "collapsed": false
   },
   "outputs": [
   ],
   "source": [
    "# read datasets\n",
    "df1 = pd.read_csv('data/personal_train.csv', index_col=0)\n",
    "df2 = pd.read_csv('data/other_train.csv', index_col=0)"
   ]
  },
  {
   "cell_type": "markdown",
   "metadata": {
    "collapsed": false
   },
   "source": [
    "## Preprocessing"
   ]
  },
  {
   "cell_type": "markdown",
   "metadata": {
    "collapsed": false
   },
   "source": [
    "### Merge datasets\n",
    "\n",
    "At first, we need to merge both datasets into one. In previous analysis, we found that name and address would be used for merging:"
   ]
  },
  {
   "cell_type": "code",
   "execution_count": 71,
   "metadata": {
    "collapsed": false
   },
   "outputs": [
   ],
   "source": [
    "df_train = pd.merge(df1, df2, on=[\"name\", \"address\"])"
   ]
  },
  {
   "cell_type": "markdown",
   "metadata": {
    "collapsed": false
   },
   "source": [
    "In descriptive analysis, we found some duplicates. In second dataset with medical information, there were some duplicates, so we will merge their values and drop duplicated rows."
   ]
  },
  {
   "cell_type": "markdown",
   "metadata": {
    "collapsed": false
   },
   "source": [
    "### Data repairing\n",
    "\n",
    "We know from a previous analysis that some data need to be repaired. Some columns have one value represented by more strings, another case is that column holds several values that need to be expanded, etc. In this section, data will be repaired at first so missing values would be replaced in next step.\n",
    "\n",
    "All operations will be done using **Pipelines**, so whole preprocessing process will be reusable."
   ]
  },
  {
   "cell_type": "markdown",
   "metadata": {
    "collapsed": false
   },
   "source": [
    "#### Merge and drop duplicates\n",
    "\n",
    "As mentioned before, there are some duplicates. Let's check them:"
   ]
  },
  {
   "cell_type": "code",
   "execution_count": 72,
   "metadata": {
    "collapsed": false
   },
   "outputs": [
   ],
   "source": [
    "duplicates = df_train[df_train.duplicated(['name', 'address'], keep='first')].sort_values('name')"
   ]
  },
  {
   "cell_type": "code",
   "execution_count": 73,
   "metadata": {
    "collapsed": false,
    "scrolled": true
   },
   "outputs": [
    {
     "data": {
      "text/html": [
       "<div>\n",
       "<style scoped>\n",
       "    .dataframe tbody tr th:only-of-type {\n",
       "        vertical-align: middle;\n",
       "    }\n",
       "\n",
       "    .dataframe tbody tr th {\n",
       "        vertical-align: top;\n",
       "    }\n",
       "\n",
       "    .dataframe thead th {\n",
       "        text-align: right;\n",
       "    }\n",
       "</style>\n",
       "<table border=\"1\" class=\"dataframe\">\n",
       "  <thead>\n",
       "    <tr style=\"text-align: right;\">\n",
       "      <th></th>\n",
       "      <th>name</th>\n",
       "      <th>address</th>\n",
       "      <th>age</th>\n",
       "      <th>sex</th>\n",
       "      <th>date_of_birth</th>\n",
       "      <th>query hyperthyroid</th>\n",
       "      <th>T4U measured</th>\n",
       "      <th>FTI measured</th>\n",
       "      <th>lithium</th>\n",
       "      <th>TT4</th>\n",
       "      <th>...</th>\n",
       "      <th>personal_info</th>\n",
       "      <th>T3 measured</th>\n",
       "      <th>on antithyroid medication</th>\n",
       "      <th>referral source</th>\n",
       "      <th>education-num</th>\n",
       "      <th>psych</th>\n",
       "      <th>occupation</th>\n",
       "      <th>TBG measured</th>\n",
       "      <th>TBG</th>\n",
       "      <th>pregnant</th>\n",
       "    </tr>\n",
       "  </thead>\n",
       "  <tbody>\n",
       "    <tr>\n",
       "      <th>1656</th>\n",
       "      <td>Alfred Still</td>\n",
       "      <td>4175 Smith Keys\\r\\nNew Taylor, NH 39815</td>\n",
       "      <td>57.0</td>\n",
       "      <td>M</td>\n",
       "      <td>1960-11-02</td>\n",
       "      <td>f</td>\n",
       "      <td>t</td>\n",
       "      <td>t</td>\n",
       "      <td>f</td>\n",
       "      <td>82.0</td>\n",
       "      <td>...</td>\n",
       "      <td>NaN</td>\n",
       "      <td>f</td>\n",
       "      <td>f</td>\n",
       "      <td>other</td>\n",
       "      <td>13.0</td>\n",
       "      <td>f</td>\n",
       "      <td>Prof-specialty</td>\n",
       "      <td>f</td>\n",
       "      <td>?</td>\n",
       "      <td>f</td>\n",
       "    </tr>\n",
       "    <tr>\n",
       "      <th>855</th>\n",
       "      <td>Amelia Rodriguez</td>\n",
       "      <td>087 Gary Port\\r\\nWest Sarah, KY 66896</td>\n",
       "      <td>77.0</td>\n",
       "      <td>F</td>\n",
       "      <td>1941-03-17</td>\n",
       "      <td>f</td>\n",
       "      <td>NaN</td>\n",
       "      <td>t</td>\n",
       "      <td>f</td>\n",
       "      <td>84.0</td>\n",
       "      <td>...</td>\n",
       "      <td>White|United-States\\r\\nBachelors -- Widowed|Un...</td>\n",
       "      <td>t</td>\n",
       "      <td>f</td>\n",
       "      <td>SVI</td>\n",
       "      <td>NaN</td>\n",
       "      <td>f</td>\n",
       "      <td>Sales</td>\n",
       "      <td>f</td>\n",
       "      <td>?</td>\n",
       "      <td>f</td>\n",
       "    </tr>\n",
       "    <tr>\n",
       "      <th>904</th>\n",
       "      <td>Angela Boyer</td>\n",
       "      <td>3750 Chen Groves\\r\\nPamelatown, ME 02894</td>\n",
       "      <td>75.0</td>\n",
       "      <td>F</td>\n",
       "      <td>1942-12-28</td>\n",
       "      <td>NaN</td>\n",
       "      <td>NaN</td>\n",
       "      <td>t</td>\n",
       "      <td>f</td>\n",
       "      <td>92.0</td>\n",
       "      <td>...</td>\n",
       "      <td>White|United-States\\r\\nHS-grad -- Divorced|Own...</td>\n",
       "      <td>t</td>\n",
       "      <td>f</td>\n",
       "      <td>SVI</td>\n",
       "      <td>9.0</td>\n",
       "      <td>f</td>\n",
       "      <td>Priv-house-serv</td>\n",
       "      <td>f</td>\n",
       "      <td>?</td>\n",
       "      <td>f</td>\n",
       "    </tr>\n",
       "    <tr>\n",
       "      <th>1597</th>\n",
       "      <td>Anna Garcia</td>\n",
       "      <td>71052 Annette Roads\\r\\nChristinechester, MT 16249</td>\n",
       "      <td>65.0</td>\n",
       "      <td>F</td>\n",
       "      <td>1953-05-06</td>\n",
       "      <td>f</td>\n",
       "      <td>f</td>\n",
       "      <td>f</td>\n",
       "      <td>f</td>\n",
       "      <td>NaN</td>\n",
       "      <td>...</td>\n",
       "      <td>White|United-States\\r\\nHS-grad -- Never-marrie...</td>\n",
       "      <td>f</td>\n",
       "      <td>f</td>\n",
       "      <td>NaN</td>\n",
       "      <td>9.0</td>\n",
       "      <td>f</td>\n",
       "      <td>Handlers-cleaners</td>\n",
       "      <td>f</td>\n",
       "      <td>?</td>\n",
       "      <td>NaN</td>\n",
       "    </tr>\n",
       "    <tr>\n",
       "      <th>2204</th>\n",
       "      <td>Annette Hunt</td>\n",
       "      <td>USNV Lamb\\r\\nFPO AA 85130</td>\n",
       "      <td>33.0</td>\n",
       "      <td>F</td>\n",
       "      <td>1984-12-08</td>\n",
       "      <td>f</td>\n",
       "      <td>f</td>\n",
       "      <td>f</td>\n",
       "      <td>f</td>\n",
       "      <td>NaN</td>\n",
       "      <td>...</td>\n",
       "      <td>White|United-States\\r\\nSome-college -- Married...</td>\n",
       "      <td>f</td>\n",
       "      <td>f</td>\n",
       "      <td>NaN</td>\n",
       "      <td>10.0</td>\n",
       "      <td>f</td>\n",
       "      <td>Adm-clerical</td>\n",
       "      <td>f</td>\n",
       "      <td>?</td>\n",
       "      <td>f</td>\n",
       "    </tr>\n",
       "  </tbody>\n",
       "</table>\n",
       "<p>5 rows × 41 columns</p>\n",
       "</div>"
      ]
     },
     "execution_count": 73,
     "metadata": {
     },
     "output_type": "execute_result"
    }
   ],
   "source": [
    "duplicates.head()"
   ]
  },
  {
   "cell_type": "markdown",
   "metadata": {
    "collapsed": false
   },
   "source": [
    "We can see there are duplicates with same name and address, but they are even not representing different medical records (measurements are the same). In some attributes, one of duplicates has value and in the other one is this value missing. That means we need to merge those records before droping duplicates."
   ]
  },
  {
   "cell_type": "code",
   "execution_count": 74,
   "metadata": {
    "collapsed": false
   },
   "outputs": [
   ],
   "source": [
    "class MergeRemoveDuplicates(TransformerMixin):\n",
    "    def __init__(self):\n",
    "        pass\n",
    "\n",
    "    def fit(self, df, y=None, **fit_params):\n",
    "        return self\n",
    "\n",
    "    def merge(self, duplicates):\n",
    "        return reduce(lambda x,y: x if not pd.isna(x) and not str(x).startswith('?') else y, duplicates)\n",
    "\n",
    "    def transform(self, df, **transform_params):\n",
    "#         duplicated = df[df.duplicated(['name', 'address'], keep=False)]\n",
    "#         duplicate_names = df[df.duplicated(['name', 'address'], keep='first')].name.values\n",
    "#         df =  df[~df['name'].isin(duplicate_names)]\n",
    "\n",
    "#         return df.append(duplicated.groupby(['name', 'address']).agg(self.merge))\n",
    "\n",
    "        df_copy = df.copy()\n",
    "\n",
    "        deduplicated = df_copy[df_copy.duplicated(subset=['name', 'address'], keep=False)].groupby(['name','address']).agg(self.merge).reset_index()\n",
    "        df_copy.drop_duplicates(subset=['name','address'], keep=False, inplace=True)\n",
    "        df_copy = df_copy.append(deduplicated)\n",
    "        return df_copy.reset_index()\n",
    "#         return df_copy.append(deduplicated, sort = True)\n",
    "#         return pd.concat([df,duplicated.groupby(['name', 'address']).agg(self.merge)])"
   ]
  },
  {
   "cell_type": "markdown",
   "metadata": {
    "collapsed": false
   },
   "source": [
    "**Note:** This class will be used for preprocessing in **Pipelines**."
   ]
  },
  {
   "cell_type": "markdown",
   "metadata": {
    "collapsed": false
   },
   "source": [
    "#### Drop rows with missing values in predicted attribute\n",
    "\n",
    "Rows where even value of predicted attribute is missing, will not help classifying in *supervised learning*. In this case, those values would be dropped. Let's check records with missing values for **class** attribute:"
   ]
  },
  {
   "cell_type": "code",
   "execution_count": 75,
   "metadata": {
    "collapsed": false
   },
   "outputs": [
    {
     "data": {
      "text/html": [
       "<div>\n",
       "<style scoped>\n",
       "    .dataframe tbody tr th:only-of-type {\n",
       "        vertical-align: middle;\n",
       "    }\n",
       "\n",
       "    .dataframe tbody tr th {\n",
       "        vertical-align: top;\n",
       "    }\n",
       "\n",
       "    .dataframe thead th {\n",
       "        text-align: right;\n",
       "    }\n",
       "</style>\n",
       "<table border=\"1\" class=\"dataframe\">\n",
       "  <thead>\n",
       "    <tr style=\"text-align: right;\">\n",
       "      <th></th>\n",
       "      <th>name</th>\n",
       "      <th>class</th>\n",
       "    </tr>\n",
       "  </thead>\n",
       "  <tbody>\n",
       "    <tr>\n",
       "      <th>362</th>\n",
       "      <td>Frank Gerace</td>\n",
       "      <td>NaN</td>\n",
       "    </tr>\n",
       "    <tr>\n",
       "      <th>575</th>\n",
       "      <td>Carol Crum</td>\n",
       "      <td>NaN</td>\n",
       "    </tr>\n",
       "    <tr>\n",
       "      <th>1321</th>\n",
       "      <td>Cynthia Schmidtke</td>\n",
       "      <td>NaN</td>\n",
       "    </tr>\n",
       "    <tr>\n",
       "      <th>1519</th>\n",
       "      <td>Don Carroll</td>\n",
       "      <td>NaN</td>\n",
       "    </tr>\n",
       "    <tr>\n",
       "      <th>1675</th>\n",
       "      <td>Shirley Kiser</td>\n",
       "      <td>NaN</td>\n",
       "    </tr>\n",
       "    <tr>\n",
       "      <th>1771</th>\n",
       "      <td>Lila Womack</td>\n",
       "      <td>NaN</td>\n",
       "    </tr>\n",
       "    <tr>\n",
       "      <th>1840</th>\n",
       "      <td>Jane Little</td>\n",
       "      <td>NaN</td>\n",
       "    </tr>\n",
       "  </tbody>\n",
       "</table>\n",
       "</div>"
      ]
     },
     "execution_count": 75,
     "metadata": {
     },
     "output_type": "execute_result"
    }
   ],
   "source": [
    "df_train[df_train['class'].isnull()][['name', 'class']]"
   ]
  },
  {
   "cell_type": "markdown",
   "metadata": {
    "collapsed": false
   },
   "source": [
    "To make this operation reusable, it is better to write custom pipeline with column as parameter, so every row with missing values in this column will be dropped. "
   ]
  },
  {
   "cell_type": "code",
   "execution_count": 10,
   "metadata": {
    "collapsed": false
   },
   "outputs": [
   ],
   "source": [
    "class DropRowsNanColumn(TransformerMixin):\n",
    "    def __init__(self, column):\n",
    "        self.column = column\n",
    "\n",
    "    def fit(self, df, y=None, **fit_params):\n",
    "        return self\n",
    "\n",
    "    def transform(self, df, **transform_params):\n",
    "        df = df[pd.notnull(df[self.column])]\n",
    "        return df"
   ]
  },
  {
   "cell_type": "markdown",
   "metadata": {
    "collapsed": false
   },
   "source": [
    "#### Missing values unifying\n",
    "\n",
    "In some columns, missing values are represented by *nan*, or also by *'?'* character. Those values need to be unified, so we can fill them later using universal pipeline."
   ]
  },
  {
   "cell_type": "code",
   "execution_count": 11,
   "metadata": {
    "collapsed": false
   },
   "outputs": [
   ],
   "source": [
    "class NanUnifier(TransformerMixin):\n",
    "    def __init__(self, column):\n",
    "        self.column = column\n",
    "\n",
    "    def fit(self, df, y=None, **fit_params):\n",
    "        return self\n",
    "\n",
    "    def transform(self, df, **transform_params):\n",
    "        df.loc[df[self.column].str.strip() == '?', self.column] = np.NaN\n",
    "        #df[self.column] = pd.to_numeric(df[self.column])\n",
    "        return df"
   ]
  },
  {
   "cell_type": "markdown",
   "metadata": {
    "collapsed": false
   },
   "source": [
    "#### Boolean unifying\n",
    "\n",
    "A lot of columns that store boolean values, mostly whether was measurement done or not, have inconsistent representation of boolean values (t, t.19, ...). It is better to unify them, because as it is categorical attribute, every reasonable value type should be represented just by one specific value."
   ]
  },
  {
   "cell_type": "code",
   "execution_count": 12,
   "metadata": {
    "collapsed": false
   },
   "outputs": [
   ],
   "source": [
    "class BooleanUnifier(TransformerMixin):\n",
    "    def __init__(self, column):\n",
    "        self.column = column\n",
    "\n",
    "    def fit(self, df, y=None, **fit_params):\n",
    "        return self\n",
    "\n",
    "    def transform(self, df, **transform_params):\n",
    "        df_copy = df.copy()\n",
    "        df_copy[self.column] = df_copy[self.column].map(lambda x: str(x).lower().startswith('t'), na_action='ignore')\n",
    "        return df_copy"
   ]
  },
  {
   "cell_type": "markdown",
   "metadata": {
    "collapsed": false
   },
   "source": [
    "#### Date format unifying"
   ]
  },
  {
   "cell_type": "markdown",
   "metadata": {
    "collapsed": false
   },
   "source": [
    "date_of_birth column has various date formatting looking at values in individual rows. We'd better unify that."
   ]
  },
  {
   "cell_type": "code",
   "execution_count": 13,
   "metadata": {
    "collapsed": false
   },
   "outputs": [
   ],
   "source": [
    "class DateFormatUnifier(TransformerMixin):\n",
    "    def __init__(self, column):\n",
    "        self.column = column\n",
    "\n",
    "    def fit(self, df, y=None, **fit_params):\n",
    "        return self\n",
    "\n",
    "    def fix_date(self, x):\n",
    "        x = str(x)\n",
    "        to_return = ''\n",
    "        x = str(x)\n",
    "        p_year = re.compile('(^[^-/]+)')\n",
    "        p_month = re.compile('[-/](.*)[-/]')\n",
    "        p_day = re.compile('[-/][0-9]*[-/]([0-9]*)')\n",
    "\n",
    "        year = p_year.findall(x)[0]\n",
    "        day = p_day.findall(x)[0]\n",
    "        month = p_month.findall(x)[0]\n",
    "\n",
    "        swap = False\n",
    "\n",
    "        if int(day) > 31:\n",
    "            tmp = day\n",
    "            day = year\n",
    "            year = tmp\n",
    "            swap = True\n",
    "        if int(month) > 12:\n",
    "            tmp = month\n",
    "            month = year\n",
    "            year = month\n",
    "            swap = True\n",
    "        if not swap and len(str(year)) <= 3:\n",
    "            year = '19' + year\n",
    "\n",
    "        to_return = str(day) + '/' + str(month) + '/' + str(year)\n",
    "\n",
    "        return to_return\n",
    "\n",
    "    def transform(self, df, **transform_params):\n",
    "        df_copy = df.copy()\n",
    "        df_copy[self.column] = df_copy[self.column].map(lambda x: self.fix_date(x), na_action='ignore')\n",
    "        return df_copy"
   ]
  },
  {
   "cell_type": "markdown",
   "metadata": {
    "collapsed": false
   },
   "source": [
    "#### Drop useless columns\n",
    "\n",
    "Some columns will not help us in predicting class of the patient. It is because those column store only one value, as *TBG measured* attribute:"
   ]
  },
  {
   "cell_type": "code",
   "execution_count": 14,
   "metadata": {
    "collapsed": false
   },
   "outputs": [
    {
     "data": {
      "text/plain": [
       "array(['f', nan, 'f.14'], dtype=object)"
      ]
     },
     "execution_count": 14,
     "metadata": {
     },
     "output_type": "execute_result"
    }
   ],
   "source": [
    "df_train['TBG measured'].unique()"
   ]
  },
  {
   "cell_type": "markdown",
   "metadata": {
    "collapsed": false
   },
   "source": [
    "After unifying boolean values, it will contain only *false* value. It is better to drop columns like this one."
   ]
  },
  {
   "cell_type": "code",
   "execution_count": 15,
   "metadata": {
    "collapsed": false
   },
   "outputs": [
   ],
   "source": [
    "class DropColumn(TransformerMixin):\n",
    "    def __init__(self, column):\n",
    "        self.column = column\n",
    "        \n",
    "    def fit(self, df, y=None, **fit_params):\n",
    "        return self\n",
    "    \n",
    "    def transform(self, df, **transform_params):\n",
    "        df = df.drop([self.column], axis=1)\n",
    "        return df"
   ]
  },
  {
   "cell_type": "markdown",
   "metadata": {
    "collapsed": false
   },
   "source": [
    "#### Expanding columns\n",
    "\n",
    "In analysis we found also column that store more attributes and their values. With this datatype, machine learning algorithms will not be able to work even though it can hold important information for prediction. We need to expand those objects into alone-standing columns."
   ]
  },
  {
   "cell_type": "code",
   "execution_count": 16,
   "metadata": {
    "collapsed": false
   },
   "outputs": [
   ],
   "source": [
    "class ColumnExpander(TransformerMixin):\n",
    "    def __init__(self):\n",
    "        pass\n",
    "\n",
    "    def fit(self, df, y=None, **fit_params):\n",
    "        return self\n",
    "\n",
    "    def transform(self, df, **transform_params):\n",
    "        df['bred'] = df['personal_info'].str.extract('(^[^|]+)', expand=False).str.strip().str.lower()\n",
    "        df['origin'] = df['personal_info'].str.extract('[|](.*)\\r', expand=False).str.strip().str.lower()\n",
    "        df['study'] = df['personal_info'].str.extract('[\\n](.*)--', expand=False).str.strip().str.lower()\n",
    "        df['status1'] = df['personal_info'].str.extract('--(.*)[|]', expand=False).str.strip().str.lower()\n",
    "        df['status2'] = df['personal_info'].str.extract('--.*[|](.*)', expand=False).str.strip().str.lower()\n",
    "        return df"
   ]
  },
  {
   "cell_type": "code",
   "execution_count": 17,
   "metadata": {
    "collapsed": false
   },
   "outputs": [
   ],
   "source": [
    "class ColumnExpander2(TransformerMixin):\n",
    "    def __init__(self):\n",
    "        pass\n",
    "\n",
    "    def fit(self, df, y=None, **fit_params):\n",
    "        return self\n",
    "\n",
    "    def transform(self, df, **transform_params):\n",
    "        df['class_status'] = df['class'].str.extract('(^[^.]+)', expand=False).str.strip().str.lower()\n",
    "        return df"
   ]
  },
  {
   "cell_type": "markdown",
   "metadata": {
    "collapsed": false
   },
   "source": [
    "#### Columns data type transformations\n",
    "\n",
    "Some columns can contain numbers, but are represented by string. In this case, we need to convert those attributes to numerical, so algorithm can treat them like numbers, not categories."
   ]
  },
  {
   "cell_type": "code",
   "execution_count": 18,
   "metadata": {
    "collapsed": false
   },
   "outputs": [
   ],
   "source": [
    "class ColumnToNumber(TransformerMixin):\n",
    "    def __init__(self, column):\n",
    "        self.column = column\n",
    "\n",
    "    def fit(self, df, y=None, **fit_params):\n",
    "        return self\n",
    "\n",
    "    def transform(self, df, **transform_params):\n",
    "        df[self.column] = pd.to_numeric(df[self.column])\n",
    "        return df"
   ]
  },
  {
   "cell_type": "markdown",
   "metadata": {
    "collapsed": false
   },
   "source": [
    "#### Repair data using Pipeline\n",
    "\n",
    "For data repair, Pipeline will be used. All pipeline custom classes have already been defined in each section of **data repairing**, so we can just use them now:"
   ]
  },
  {
   "cell_type": "code",
   "execution_count": 19,
   "metadata": {
    "collapsed": false
   },
   "outputs": [
   ],
   "source": [
    "repair_ppl = Pipeline([\n",
    "                # unify boolean values\n",
    "                ('ub01', BooleanUnifier('query hyperthyroid')),\n",
    "                ('ub02', BooleanUnifier('T4U measured')),\n",
    "                ('ub03', BooleanUnifier('on thyroxine')),\n",
    "                ('ub04', BooleanUnifier('FTI measured')),\n",
    "                ('ub05', BooleanUnifier('lithium')),\n",
    "                ('ub06', BooleanUnifier('TT4 measured')),\n",
    "                ('ub07', BooleanUnifier('query hypothyroid')),\n",
    "                ('ub08', BooleanUnifier('query on thyroxine')),\n",
    "                ('ub09', BooleanUnifier('tumor')),\n",
    "                ('ub10', BooleanUnifier('T3 measured')),\n",
    "                ('ub11', BooleanUnifier('sick')),\n",
    "                ('ub12', BooleanUnifier('thyroid surgery')),\n",
    "                ('ub13', BooleanUnifier('I131 treatment')),\n",
    "                ('ub14', BooleanUnifier('goitre')),\n",
    "                ('ub15', BooleanUnifier('TSH measured')),\n",
    "                ('ub16', BooleanUnifier('on antithyroid medication')),\n",
    "                ('ub17', BooleanUnifier('psych')),\n",
    "                ('ub18', BooleanUnifier('TBG measured')),\n",
    "                ('ub19', BooleanUnifier('pregnant')),\n",
    "                ('ub20', BooleanUnifier('hypopituitary')),\n",
    "        \n",
    "                # unify date format\n",
    "                ('ud1', DateFormatUnifier('date_of_birth')),\n",
    "\n",
    "                # drop column\n",
    "                ('drop_TBG_measured', DropColumn('TBG measured')),\n",
    "                ('drop_TBG', DropColumn('TBG')),\n",
    "\n",
    "                # expand column\n",
    "                ('expand_personal_info', ColumnExpander()),\n",
    "                ('expand_class', ColumnExpander2()),\n",
    "    \n",
    "                # unify nan values\n",
    "                ('nan_unify_FTI', NanUnifier('FTI')),\n",
    "                ('nan_unify_sex', NanUnifier('sex')),\n",
    "                ('nan_unify_origin', NanUnifier('origin')),\n",
    "                ('nan_unify_occupation', NanUnifier('occupation')),\n",
    "        \n",
    "                # transform data type\n",
    "                ('column_to_number_FTI', ColumnToNumber('FTI')),\n",
    "\n",
    "                # drop, where are nan values\n",
    "                ('drop_class', DropRowsNanColumn('class')),\n",
    "    \n",
    "                # merge and remove duplicates\n",
    "                ('rm_duplicates',MergeRemoveDuplicates())\n",
    "              ])"
   ]
  },
  {
   "cell_type": "code",
   "execution_count": 20,
   "metadata": {
    "collapsed": false
   },
   "outputs": [
   ],
   "source": [
    "model = repair_ppl.fit(df_train)"
   ]
  },
  {
   "cell_type": "code",
   "execution_count": 21,
   "metadata": {
    "collapsed": false
   },
   "outputs": [
   ],
   "source": [
    "transformed = model.transform(df_train)"
   ]
  },
  {
   "cell_type": "markdown",
   "metadata": {
    "collapsed": false
   },
   "source": [
    "##### Data repair overview\n",
    "\n",
    "**We've fixed**: \n",
    "- values of boolean columns which cointained same values just with different labeling:\n",
    "    - **case of**: \n",
    "        - query hyperthyroid, T4U measured, on thyroxine, FTI measured, lithium, TT4 measured, query hypothyroid, query on thyroxine, tumor, T3 measured, sick, thyroid surgery, I131 treatment, goitre, TSH measured, on antithyroid medication, psych, TBG measured, pregnant, hypopituitary"
   ]
  },
  {
   "cell_type": "code",
   "execution_count": 22,
   "metadata": {
    "collapsed": false
   },
   "outputs": [
    {
     "data": {
      "text/plain": [
       "array(['f', 't', nan, 't.4'], dtype=object)"
      ]
     },
     "execution_count": 22,
     "metadata": {
     },
     "output_type": "execute_result"
    }
   ],
   "source": [
    "# Before fixing\n",
    "df_train['FTI measured'].unique()"
   ]
  },
  {
   "cell_type": "code",
   "execution_count": 23,
   "metadata": {
    "collapsed": false
   },
   "outputs": [
    {
     "data": {
      "text/plain": [
       "array([False, True], dtype=object)"
      ]
     },
     "execution_count": 23,
     "metadata": {
     },
     "output_type": "execute_result"
    }
   ],
   "source": [
    "# After fixing\n",
    "transformed['FTI measured'].unique()"
   ]
  },
  {
   "cell_type": "markdown",
   "metadata": {
    "collapsed": false
   },
   "source": [
    "- date values in column(s) containing dates as there were various date formats and years written in full or shorten form:\n",
    "    - **case of:**\n",
    "        - date_of_birth"
   ]
  },
  {
   "cell_type": "code",
   "execution_count": 24,
   "metadata": {
    "collapsed": false
   },
   "outputs": [
    {
     "data": {
      "text/plain": [
       "'1983-02-12 00 00 00'"
      ]
     },
     "execution_count": 24,
     "metadata": {
     },
     "output_type": "execute_result"
    }
   ],
   "source": [
    "# Before fixing\n",
    "df_train['date_of_birth'][8]"
   ]
  },
  {
   "cell_type": "code",
   "execution_count": 25,
   "metadata": {
    "collapsed": false
   },
   "outputs": [
    {
     "data": {
      "text/plain": [
       "'12/02/1983'"
      ]
     },
     "execution_count": 25,
     "metadata": {
     },
     "output_type": "execute_result"
    }
   ],
   "source": [
    "# After fixing\n",
    "transformed['date_of_birth'][8]"
   ]
  },
  {
   "cell_type": "markdown",
   "metadata": {
    "collapsed": false
   },
   "source": [
    "- columns bringing no information as there was a single value (f, ?) by dropping them:\n",
    "    - **case of:**\n",
    "        - TBG measured, TBG"
   ]
  },
  {
   "cell_type": "code",
   "execution_count": 26,
   "metadata": {
    "collapsed": false
   },
   "outputs": [
    {
     "data": {
      "text/plain": [
       "0    f\n",
       "1    f\n",
       "2    f\n",
       "3    f\n",
       "4    f\n",
       "Name: TBG measured, dtype: object"
      ]
     },
     "execution_count": 26,
     "metadata": {
     },
     "output_type": "execute_result"
    }
   ],
   "source": [
    "# Before fixing\n",
    "df_train['TBG measured'].head()"
   ]
  },
  {
   "cell_type": "code",
   "execution_count": 27,
   "metadata": {
    "collapsed": false
   },
   "outputs": [
    {
     "data": {
      "text/plain": [
       "0    ?\n",
       "1    ?\n",
       "2    ?\n",
       "3    ?\n",
       "4    ?\n",
       "Name: TBG, dtype: object"
      ]
     },
     "execution_count": 27,
     "metadata": {
     },
     "output_type": "execute_result"
    }
   ],
   "source": [
    "# Before fixing\n",
    "df_train['TBG'].head()"
   ]
  },
  {
   "cell_type": "code",
   "execution_count": 28,
   "metadata": {
    "collapsed": false
   },
   "outputs": [
    {
     "data": {
      "text/plain": [
       "False"
      ]
     },
     "execution_count": 28,
     "metadata": {
     },
     "output_type": "execute_result"
    }
   ],
   "source": [
    "# After fixing\n",
    "'TBG' and 'TBG measured' in transformed"
   ]
  },
  {
   "cell_type": "markdown",
   "metadata": {
    "collapsed": false
   },
   "source": [
    "- columns containing numerous values that were supposed to be in separate columns by extracting them:\n",
    "    - **case of:**\n",
    "        - personal_info"
   ]
  },
  {
   "cell_type": "code",
   "execution_count": 29,
   "metadata": {
    "collapsed": false
   },
   "outputs": [
    {
     "data": {
      "text/plain": [
       "'White|United-States\\r\\nHS-grad -- Divorced|Unmarried'"
      ]
     },
     "execution_count": 29,
     "metadata": {
     },
     "output_type": "execute_result"
    }
   ],
   "source": [
    "# Before fixing\n",
    "df_train['personal_info'][0]"
   ]
  },
  {
   "cell_type": "code",
   "execution_count": 30,
   "metadata": {
    "collapsed": false
   },
   "outputs": [
    {
     "data": {
      "text/html": [
       "<div>\n",
       "<style scoped>\n",
       "    .dataframe tbody tr th:only-of-type {\n",
       "        vertical-align: middle;\n",
       "    }\n",
       "\n",
       "    .dataframe tbody tr th {\n",
       "        vertical-align: top;\n",
       "    }\n",
       "\n",
       "    .dataframe thead th {\n",
       "        text-align: right;\n",
       "    }\n",
       "</style>\n",
       "<table border=\"1\" class=\"dataframe\">\n",
       "  <thead>\n",
       "    <tr style=\"text-align: right;\">\n",
       "      <th></th>\n",
       "      <th>bred</th>\n",
       "      <th>origin</th>\n",
       "      <th>study</th>\n",
       "      <th>status1</th>\n",
       "      <th>status2</th>\n",
       "    </tr>\n",
       "  </thead>\n",
       "  <tbody>\n",
       "    <tr>\n",
       "      <th>0</th>\n",
       "      <td>white</td>\n",
       "      <td>united-states</td>\n",
       "      <td>hs-grad</td>\n",
       "      <td>divorced</td>\n",
       "      <td>unmarried</td>\n",
       "    </tr>\n",
       "  </tbody>\n",
       "</table>\n",
       "</div>"
      ]
     },
     "execution_count": 30,
     "metadata": {
     },
     "output_type": "execute_result"
    }
   ],
   "source": [
    "# After fixing\n",
    "transformed[['bred','origin','study','status1','status2']].head(n=1)"
   ]
  },
  {
   "cell_type": "markdown",
   "metadata": {
    "collapsed": false
   },
   "source": [
    "- columns that weren't in correct data type by transforming them to the correct one:\n",
    "    - **case of:**\n",
    "        - FTI"
   ]
  },
  {
   "cell_type": "code",
   "execution_count": 31,
   "metadata": {
    "collapsed": false
   },
   "outputs": [
    {
     "data": {
      "text/plain": [
       "str"
      ]
     },
     "execution_count": 31,
     "metadata": {
     },
     "output_type": "execute_result"
    }
   ],
   "source": [
    "# Before fixing\n",
    "type(df_train['FTI'].values[0])"
   ]
  },
  {
   "cell_type": "code",
   "execution_count": 32,
   "metadata": {
    "collapsed": false
   },
   "outputs": [
    {
     "data": {
      "text/plain": [
       "numpy.float64"
      ]
     },
     "execution_count": 32,
     "metadata": {
     },
     "output_type": "execute_result"
    }
   ],
   "source": [
    "# After fixing\n",
    "type(transformed['FTI'].values[0])"
   ]
  },
  {
   "cell_type": "markdown",
   "metadata": {
    "collapsed": false
   },
   "source": [
    "- columns that had a row with null value by dropping the whole row:\n",
    "    - **case of:**\n",
    "        - class"
   ]
  },
  {
   "cell_type": "code",
   "execution_count": 33,
   "metadata": {
    "collapsed": false
   },
   "outputs": [
    {
     "data": {
      "text/plain": [
       "True"
      ]
     },
     "execution_count": 33,
     "metadata": {
     },
     "output_type": "execute_result"
    }
   ],
   "source": [
    "# Before fixing\n",
    "df_train['class'].isnull().any()"
   ]
  },
  {
   "cell_type": "code",
   "execution_count": 34,
   "metadata": {
    "collapsed": false
   },
   "outputs": [
    {
     "data": {
      "text/plain": [
       "False"
      ]
     },
     "execution_count": 34,
     "metadata": {
     },
     "output_type": "execute_result"
    }
   ],
   "source": [
    "# After fixing\n",
    "transformed['class'].isnull().any()"
   ]
  },
  {
   "cell_type": "markdown",
   "metadata": {
    "collapsed": false
   },
   "source": [
    "- duplicated rows (name, address) by merging them"
   ]
  },
  {
   "cell_type": "code",
   "execution_count": 35,
   "metadata": {
    "collapsed": false
   },
   "outputs": [
    {
     "data": {
      "text/html": [
       "<div>\n",
       "<style scoped>\n",
       "    .dataframe tbody tr th:only-of-type {\n",
       "        vertical-align: middle;\n",
       "    }\n",
       "\n",
       "    .dataframe tbody tr th {\n",
       "        vertical-align: top;\n",
       "    }\n",
       "\n",
       "    .dataframe thead th {\n",
       "        text-align: right;\n",
       "    }\n",
       "</style>\n",
       "<table border=\"1\" class=\"dataframe\">\n",
       "  <thead>\n",
       "    <tr style=\"text-align: right;\">\n",
       "      <th></th>\n",
       "      <th>name</th>\n",
       "      <th>address</th>\n",
       "      <th>age</th>\n",
       "      <th>sex</th>\n",
       "      <th>date_of_birth</th>\n",
       "      <th>query hyperthyroid</th>\n",
       "      <th>T4U measured</th>\n",
       "      <th>FTI measured</th>\n",
       "      <th>lithium</th>\n",
       "      <th>TT4</th>\n",
       "      <th>...</th>\n",
       "      <th>personal_info</th>\n",
       "      <th>T3 measured</th>\n",
       "      <th>on antithyroid medication</th>\n",
       "      <th>referral source</th>\n",
       "      <th>education-num</th>\n",
       "      <th>psych</th>\n",
       "      <th>occupation</th>\n",
       "      <th>TBG measured</th>\n",
       "      <th>TBG</th>\n",
       "      <th>pregnant</th>\n",
       "    </tr>\n",
       "  </thead>\n",
       "  <tbody>\n",
       "    <tr>\n",
       "      <th>1655</th>\n",
       "      <td>Alfred Still</td>\n",
       "      <td>4175 Smith Keys\\r\\nNew Taylor, NH 39815</td>\n",
       "      <td>57.0</td>\n",
       "      <td>M</td>\n",
       "      <td>1960-11-02</td>\n",
       "      <td>NaN</td>\n",
       "      <td>t</td>\n",
       "      <td>t</td>\n",
       "      <td>f</td>\n",
       "      <td>82.0</td>\n",
       "      <td>...</td>\n",
       "      <td>White|United-States\\r\\nBachelors -- Married-ci...</td>\n",
       "      <td>f</td>\n",
       "      <td>NaN</td>\n",
       "      <td>other</td>\n",
       "      <td>13.0</td>\n",
       "      <td>f</td>\n",
       "      <td>Prof-specialty</td>\n",
       "      <td>NaN</td>\n",
       "      <td>?</td>\n",
       "      <td>f</td>\n",
       "    </tr>\n",
       "    <tr>\n",
       "      <th>1656</th>\n",
       "      <td>Alfred Still</td>\n",
       "      <td>4175 Smith Keys\\r\\nNew Taylor, NH 39815</td>\n",
       "      <td>57.0</td>\n",
       "      <td>M</td>\n",
       "      <td>1960-11-02</td>\n",
       "      <td>f</td>\n",
       "      <td>t</td>\n",
       "      <td>t</td>\n",
       "      <td>f</td>\n",
       "      <td>82.0</td>\n",
       "      <td>...</td>\n",
       "      <td>NaN</td>\n",
       "      <td>f</td>\n",
       "      <td>f</td>\n",
       "      <td>other</td>\n",
       "      <td>13.0</td>\n",
       "      <td>f</td>\n",
       "      <td>Prof-specialty</td>\n",
       "      <td>f</td>\n",
       "      <td>?</td>\n",
       "      <td>f</td>\n",
       "    </tr>\n",
       "  </tbody>\n",
       "</table>\n",
       "<p>2 rows × 41 columns</p>\n",
       "</div>"
      ]
     },
     "execution_count": 35,
     "metadata": {
     },
     "output_type": "execute_result"
    }
   ],
   "source": [
    "# Before fixing\n",
    "df_train[df_train['name'] == 'Alfred Still']"
   ]
  },
  {
   "cell_type": "code",
   "execution_count": 36,
   "metadata": {
    "collapsed": false
   },
   "outputs": [
    {
     "data": {
      "text/html": [
       "<div>\n",
       "<style scoped>\n",
       "    .dataframe tbody tr th:only-of-type {\n",
       "        vertical-align: middle;\n",
       "    }\n",
       "\n",
       "    .dataframe tbody tr th {\n",
       "        vertical-align: top;\n",
       "    }\n",
       "\n",
       "    .dataframe thead th {\n",
       "        text-align: right;\n",
       "    }\n",
       "</style>\n",
       "<table border=\"1\" class=\"dataframe\">\n",
       "  <thead>\n",
       "    <tr style=\"text-align: right;\">\n",
       "      <th></th>\n",
       "      <th>index</th>\n",
       "      <th>name</th>\n",
       "      <th>address</th>\n",
       "      <th>age</th>\n",
       "      <th>sex</th>\n",
       "      <th>date_of_birth</th>\n",
       "      <th>query hyperthyroid</th>\n",
       "      <th>T4U measured</th>\n",
       "      <th>FTI measured</th>\n",
       "      <th>lithium</th>\n",
       "      <th>...</th>\n",
       "      <th>education-num</th>\n",
       "      <th>psych</th>\n",
       "      <th>occupation</th>\n",
       "      <th>pregnant</th>\n",
       "      <th>bred</th>\n",
       "      <th>origin</th>\n",
       "      <th>study</th>\n",
       "      <th>status1</th>\n",
       "      <th>status2</th>\n",
       "      <th>class_status</th>\n",
       "    </tr>\n",
       "  </thead>\n",
       "  <tbody>\n",
       "    <tr>\n",
       "      <th>2194</th>\n",
       "      <td>0</td>\n",
       "      <td>Alfred Still</td>\n",
       "      <td>4175 Smith Keys\\r\\nNew Taylor, NH 39815</td>\n",
       "      <td>57.0</td>\n",
       "      <td>M</td>\n",
       "      <td>02/11/1960</td>\n",
       "      <td>False</td>\n",
       "      <td>True</td>\n",
       "      <td>True</td>\n",
       "      <td>False</td>\n",
       "      <td>...</td>\n",
       "      <td>13.0</td>\n",
       "      <td>False</td>\n",
       "      <td>Prof-specialty</td>\n",
       "      <td>False</td>\n",
       "      <td>white</td>\n",
       "      <td>united-states</td>\n",
       "      <td>bachelors</td>\n",
       "      <td>married-civ-spouse</td>\n",
       "      <td>husband</td>\n",
       "      <td>negative</td>\n",
       "    </tr>\n",
       "  </tbody>\n",
       "</table>\n",
       "<p>1 rows × 46 columns</p>\n",
       "</div>"
      ]
     },
     "execution_count": 36,
     "metadata": {
     },
     "output_type": "execute_result"
    }
   ],
   "source": [
    "# After fixing\n",
    "transformed[transformed['name'] == 'Alfred Still']"
   ]
  },
  {
   "cell_type": "markdown",
   "metadata": {
    "collapsed": false
   },
   "source": [
    "### Normalize and remove outliers\n",
    "\n",
    "In a lot of columns, mostly in those storing measurements values, outliers were found. For some algorithms, it is better to remove them or replace with quantiles. Before doing this, values should be normalized."
   ]
  },
  {
   "cell_type": "code",
   "execution_count": 37,
   "metadata": {
    "collapsed": false
   },
   "outputs": [
   ],
   "source": [
    "from scipy.stats import boxcox"
   ]
  },
  {
   "cell_type": "markdown",
   "metadata": {
    "collapsed": false
   },
   "source": [
    "#### Normalize numerical attributes "
   ]
  },
  {
   "cell_type": "code",
   "execution_count": 38,
   "metadata": {
    "collapsed": false
   },
   "outputs": [
   ],
   "source": [
    "class Normalizer(TransformerMixin):\n",
    "    def __init__(self, column):\n",
    "        self.column = column\n",
    "\n",
    "    def fit(self, df, y=None, **fit_params):\n",
    "        _, self.lmbda = boxcox(df[self.column])\n",
    "        return self\n",
    "\n",
    "    def transform(self, df, **transform_params):\n",
    "        df_copy = df.copy()\n",
    "        df_copy[self.column] = boxcox(df_copy[self.column], lmbda=self.lmbda)\n",
    "        return df_copy"
   ]
  },
  {
   "cell_type": "markdown",
   "metadata": {
    "collapsed": false
   },
   "source": [
    "#### Remove outliers"
   ]
  },
  {
   "cell_type": "code",
   "execution_count": 286,
   "metadata": {
    "collapsed": false
   },
   "outputs": [
   ],
   "source": [
    "class OutliersRemover(TransformerMixin):\n",
    "    def __init__(self, column):\n",
    "        self.column = column\n",
    "\n",
    "    def fit(self, df, y=None, **fit_params):\n",
    "        self.quantile_05 = df[self.column].quantile(.05)\n",
    "        self.quantile_95 = df[self.column].quantile(.95)\n",
    "        return self\n",
    "\n",
    "    def transform(self, df, **transform_params):\n",
    "        df_copy = df.copy()\n",
    "        df_copy.loc[df_copy[self.column] < self.quantile_05, self.column] = self.quantile_05\n",
    "        df_copy.loc[df_copy[self.column] > self.quantile_95, self.column] = self.quantile_95\n",
    "        return df_copy"
   ]
  },
  {
   "cell_type": "code",
   "execution_count": 292,
   "metadata": {
    "collapsed": false
   },
   "outputs": [
   ],
   "source": [
    "normalize_ppl = Pipeline([\n",
    "                ('nieco2', Normalizer('T4U')),\n",
    "                ('nieco3', OutliersRemover('T4U'))\n",
    "              ])"
   ]
  },
  {
   "cell_type": "code",
   "execution_count": 293,
   "metadata": {
    "collapsed": false
   },
   "outputs": [
    {
     "name": "stderr",
     "output_type": "stream",
     "text": [
      "/usr/local/lib/python3.6/dist-packages/scipy/stats/morestats.py:1029: RuntimeWarning: invalid value encountered in less_equal\n",
      "  if any(x <= 0):\n"
     ]
    }
   ],
   "source": [
    "model = normalize_ppl.fit(transformed)"
   ]
  },
  {
   "cell_type": "code",
   "execution_count": 294,
   "metadata": {
    "collapsed": false
   },
   "outputs": [
    {
     "name": "stderr",
     "output_type": "stream",
     "text": [
      "/usr/local/lib/python3.6/dist-packages/scipy/stats/morestats.py:1029: RuntimeWarning: invalid value encountered in less_equal\n",
      "  if any(x <= 0):\n"
     ]
    }
   ],
   "source": [
    "transformed2 = model.transform(transformed)"
   ]
  },
  {
   "cell_type": "code",
   "execution_count": 295,
   "metadata": {
    "collapsed": false
   },
   "outputs": [
    {
     "data": {
      "text/plain": [
       "<matplotlib.axes._subplots.AxesSubplot at 0x7f03efe23390>"
      ]
     },
     "execution_count": 295,
     "metadata": {
     },
     "output_type": "execute_result"
    },
    {
     "data": {
      "image/png": "[encoded data removed]"
     },
     "execution_count": 295,
     "metadata": {
      "image/png": {
       "height": 250,
       "width": 390
      }
     },
     "output_type": "execute_result"
    }
   ],
   "source": [
    "df_train['T4U'].plot(kind = 'hist')"
   ]
  },
  {
   "cell_type": "code",
   "execution_count": 303,
   "metadata": {
    "collapsed": false
   },
   "outputs": [
    {
     "name": "stderr",
     "output_type": "stream",
     "text": [
      "/usr/local/lib/python3.6/dist-packages/scipy/stats/morestats.py:1029: RuntimeWarning: invalid value encountered in less_equal\n",
      "  if any(x <= 0):\n"
     ]
    },
    {
     "data": {
      "text/plain": [
       "<matplotlib.axes._subplots.AxesSubplot at 0x7f03efc8d860>"
      ]
     },
     "execution_count": 303,
     "metadata": {
     },
     "output_type": "execute_result"
    },
    {
     "data": {
      "image/png": "[encoded data removed]"
     },
     "execution_count": 303,
     "metadata": {
      "image/png": {
       "height": 250,
       "width": 397
      }
     },
     "output_type": "execute_result"
    }
   ],
   "source": [
    "tmp = df_train.copy()\n",
    "tmp['T4U'], _ = boxcox(df_train['T4U'])\n",
    "tmp['T4U'].plot(kind = 'hist')"
   ]
  },
  {
   "cell_type": "code",
   "execution_count": 296,
   "metadata": {
    "collapsed": false
   },
   "outputs": [
    {
     "data": {
      "text/plain": [
       "<matplotlib.axes._subplots.AxesSubplot at 0x7f03efd694e0>"
      ]
     },
     "execution_count": 296,
     "metadata": {
     },
     "output_type": "execute_result"
    },
    {
     "data": {
      "image/png": "[encoded data removed]"
     },
     "execution_count": 296,
     "metadata": {
      "image/png": {
       "height": 250,
       "width": 397
      }
     },
     "output_type": "execute_result"
    }
   ],
   "source": [
    "transformed2['T4U'].plot(kind = 'hist')"
   ]
  },
  {
   "cell_type": "code",
   "execution_count": 46,
   "metadata": {
    "collapsed": false
   },
   "outputs": [
    {
     "data": {
      "image/png": "[encoded data removed]"
     },
     "execution_count": 46,
     "metadata": {
      "image/png": {
       "height": 158,
       "width": 387
      }
     },
     "output_type": "execute_result"
    }
   ],
   "source": [
    "from scipy import stats\n",
    "import matplotlib.pyplot as plt\n",
    "fig = plt.figure()\n",
    "ax1 = fig.add_subplot(211)\n",
    "x = stats.loggamma.rvs(5, size=500) + 5\n",
    "prob = stats.probplot(df_train.T4U, dist=stats.norm, plot=ax1)\n",
    "\n",
    "# to sa oplati"
   ]
  },
  {
   "cell_type": "markdown",
   "metadata": {
    "collapsed": false
   },
   "source": [
    "### Filling missing values\n",
    "\n",
    "Our dataset contains also missing values (NaN), that should be filled before using them in machine learning algorithm. Missing values of numerical, and also categorical attributes should be filled."
   ]
  },
  {
   "cell_type": "markdown",
   "metadata": {
    "collapsed": false
   },
   "source": [
    "#### Fill numerical with median\n",
    "\n",
    "Numerical attributes can be filled by median, stdev, etc. For this purposes, we have chosen *median*.\n",
    "\n",
    "At first, we wanted to use *SimpleImputer* in combination with *FeatureUnion* and *FunctionTransformer*, to choose numerical and categorical attributes. There is a problem using that, because *FeatureUnion* and *FunctionTransformer* are creating *numpy* arrays from our DataFrame. There could be one more transformation to dataframe, but we decided to create our own, more simple solution."
   ]
  },
  {
   "cell_type": "code",
   "execution_count": 47,
   "metadata": {
    "collapsed": false
   },
   "outputs": [
   ],
   "source": [
    "class NumMedianFiller(TransformerMixin):\n",
    "    def __init__(self, column):\n",
    "        self.column = column\n",
    "\n",
    "    def fit(self, df, y=None, **fit_params):\n",
    "        self.median = df[self.column].median()\n",
    "        return self\n",
    "\n",
    "    def transform(self, df, **transform_params):\n",
    "        df_copy = df.copy()\n",
    "        df_copy.loc[df_copy[self.column].isnull(), self.column] = self.median\n",
    "        return df_copy"
   ]
  },
  {
   "cell_type": "code",
   "execution_count": 48,
   "metadata": {
    "collapsed": false
   },
   "outputs": [
   ],
   "source": [
    "fill_ppl = Pipeline([\n",
    "                ('fm_T4U', NumMedianFiller('T4U')),\n",
    "                ('fm_TT4', NumMedianFiller('TT4')),\n",
    "                ('fm_T3', NumMedianFiller('T3')),\n",
    "                ('fm_TSH', NumMedianFiller('TSH')),\n",
    "                ('fm_FTI', NumMedianFiller('FTI')),\n",
    "                ('fm_capital_loss', NumMedianFiller('capital-loss')),\n",
    "                ('fm_capital_gain', NumMedianFiller('capital-gain')),\n",
    "                ('fm_fnlwgt', NumMedianFiller('fnlwgt')),\n",
    "                ('fm_hours_per_week', NumMedianFiller('hours-per-week')),\n",
    "                ('fm_education_num', NumMedianFiller('education-num'))\n",
    "            ])"
   ]
  },
  {
   "cell_type": "code",
   "execution_count": 49,
   "metadata": {
    "collapsed": false
   },
   "outputs": [
   ],
   "source": [
    "filling_median = fill_ppl.fit(transformed)\n",
    "tran_filled_median = filling_median.transform(transformed)"
   ]
  },
  {
   "cell_type": "markdown",
   "metadata": {
    "collapsed": false
   },
   "source": [
    "#### Fill numerical with Linear Regression algorithm"
   ]
  },
  {
   "cell_type": "code",
   "execution_count": 50,
   "metadata": {
    "collapsed": false
   },
   "outputs": [
   ],
   "source": [
    "class NumModelFiller(TransformerMixin):\n",
    "    def __init__(self, column, model):\n",
    "        self.column = column\n",
    "        self.model = model\n",
    "\n",
    "    def fit(self, df, y=None, **fit_params):\n",
    "        # choose all numeric attributes and drop nan values\n",
    "        num_only = df.select_dtypes(include=[np.number]).dropna().drop('index', axis=1)\n",
    "        \n",
    "        # create X and y training subsets\n",
    "        X_train = num_only[num_only.columns.difference([self.column])]\n",
    "        y_train = num_only[self.column]\n",
    "        \n",
    "        self.model.fit(X_train, y_train)\n",
    "        return self\n",
    "\n",
    "    def transform(self, df, **transform_params):\n",
    "        pass\n",
    "        # choose only those rows that have missing value in 'column' attribute\n",
    "        empty_rows = df[df[self.column].isna()]\n",
    "        \n",
    "        # create X subset, that will predict\n",
    "        X_test = empty_rows[empty_rows.columns.difference([self.column])]\n",
    "        \n",
    "        # predict new values\n",
    "        y_pred = self.model.predict(X_pred)\n",
    "        \n",
    "        # fill missing values with predicted ones\n",
    "        df.loc[empty_rows.index, self.column] = y_pred\n",
    "        \n",
    "        return df"
   ]
  },
  {
   "cell_type": "code",
   "execution_count": 509,
   "metadata": {
    "collapsed": false
   },
   "outputs": [
   ],
   "source": [
    "tryhard = Pipeline([\n",
    "        ('skuska', NumModelFiller('T4U', LinearRegression()))\n",
    "    ])"
   ]
  },
  {
   "cell_type": "code",
   "execution_count": 510,
   "metadata": {
    "collapsed": false
   },
   "outputs": [
   ],
   "source": [
    "modelicek = tryhard.fit(transformed)"
   ]
  },
  {
   "cell_type": "markdown",
   "metadata": {
    "collapsed": false
   },
   "source": [
    "#### Fill numerical using Pipeline"
   ]
  },
  {
   "cell_type": "code",
   "execution_count": 507,
   "metadata": {
    "collapsed": false
   },
   "outputs": [
    {
     "ename": "NameError",
     "evalue": "name 'NumMedianFiller' is not defined",
     "output_type": "error",
     "traceback": [
      "\u001b[0;31m---------------------------------------------------------------------------\u001b[0m",
      "\u001b[0;31mNameError\u001b[0m                                 Traceback (most recent call last)",
      "\u001b[0;32m<ipython-input-507-b535f99d5029>\u001b[0m in \u001b[0;36m<module>\u001b[0;34m()\u001b[0m\n\u001b[1;32m      1\u001b[0m fill_model_ppl = Pipeline([\n\u001b[0;32m----> 2\u001b[0;31m                 \u001b[0;34m(\u001b[0m\u001b[0;34m'flr_T4U'\u001b[0m\u001b[0;34m,\u001b[0m \u001b[0mNumMedianFiller\u001b[0m\u001b[0;34m(\u001b[0m\u001b[0;34m'T4U'\u001b[0m\u001b[0;34m)\u001b[0m\u001b[0;34m)\u001b[0m\u001b[0;34m,\u001b[0m\u001b[0;34m\u001b[0m\u001b[0m\n\u001b[0m\u001b[1;32m      3\u001b[0m                 \u001b[0;34m(\u001b[0m\u001b[0;34m'flr_TT4'\u001b[0m\u001b[0;34m,\u001b[0m \u001b[0mNumMedianFiller\u001b[0m\u001b[0;34m(\u001b[0m\u001b[0;34m'TT4'\u001b[0m\u001b[0;34m)\u001b[0m\u001b[0;34m)\u001b[0m\u001b[0;34m,\u001b[0m\u001b[0;34m\u001b[0m\u001b[0m\n\u001b[1;32m      4\u001b[0m                 \u001b[0;34m(\u001b[0m\u001b[0;34m'flr_T3'\u001b[0m\u001b[0;34m,\u001b[0m \u001b[0mNumMedianFiller\u001b[0m\u001b[0;34m(\u001b[0m\u001b[0;34m'T3'\u001b[0m\u001b[0;34m)\u001b[0m\u001b[0;34m)\u001b[0m\u001b[0;34m,\u001b[0m\u001b[0;34m\u001b[0m\u001b[0m\n\u001b[1;32m      5\u001b[0m                 \u001b[0;34m(\u001b[0m\u001b[0;34m'flr_TSH'\u001b[0m\u001b[0;34m,\u001b[0m \u001b[0mNumMedianFiller\u001b[0m\u001b[0;34m(\u001b[0m\u001b[0;34m'TSH'\u001b[0m\u001b[0;34m)\u001b[0m\u001b[0;34m)\u001b[0m\u001b[0;34m,\u001b[0m\u001b[0;34m\u001b[0m\u001b[0m\n",
      "\u001b[0;31mNameError\u001b[0m: name 'NumMedianFiller' is not defined"
     ]
    }
   ],
   "source": [
    "fill_model_ppl = Pipeline([\n",
    "                ('flr_T4U', NumMedianFiller('T4U')),\n",
    "                ('flr_TT4', NumMedianFiller('TT4')),\n",
    "                ('flr_T3', NumMedianFiller('T3')),\n",
    "                ('flr_TSH', NumMedianFiller('TSH')),\n",
    "                ('flr_FTI', NumMedianFiller('FTI')),\n",
    "                ('flr_capital_loss', NumMedianFiller('capital-loss')),\n",
    "                ('flr_capital_gain', NumMedianFiller('capital-gain')),\n",
    "                ('flr_fnlwgt', NumMedianFiller('fnlwgt')),\n",
    "                ('flr_hours_per_week', NumMedianFiller('hours-per-week')),\n",
    "                ('flr_education_num', NumMedianFiller('education-num'))\n",
    "            ])"
   ]
  },
  {
   "cell_type": "code",
   "execution_count": 170,
   "metadata": {
    "collapsed": false
   },
   "outputs": [
   ],
   "source": [
    "filling_model = fill_model_ppl.fit(transformed)\n",
    "tran_filled_model = filling_model.transform(transformed)"
   ]
  },
  {
   "cell_type": "markdown",
   "metadata": {
    "collapsed": false
   },
   "source": [
    "#### Fill categorical with most frequent values\n",
    "\n",
    "Categorical attributes can be filled by *most frequent* value which we have chosen for this purpose.\n",
    "The reason for preferring our own way of filling values to imputer is already mentioned above."
   ]
  },
  {
   "cell_type": "code",
   "execution_count": 50,
   "metadata": {
    "collapsed": false
   },
   "outputs": [
   ],
   "source": [
    "class CategoricalMostFrequentFiller(TransformerMixin):\n",
    "    def __init__(self, column):\n",
    "        self.column = column\n",
    "        \n",
    "    def fit(self, df, y=None, **fit_params):\n",
    "        self.most_frequent = df[self.column].value_counts().index[0]\n",
    "        return self\n",
    "    \n",
    "    def transform(self, df, **transform_params):\n",
    "        df_copy = df.copy()\n",
    "        df_copy.loc[df_copy[self.column].isnull(), self.column] = self.most_frequent\n",
    "        return df_copy"
   ]
  },
  {
   "cell_type": "code",
   "execution_count": 51,
   "metadata": {
    "collapsed": false
   },
   "outputs": [
   ],
   "source": [
    "fill_mf = Pipeline([\n",
    "                ('fc_mf_1', CategoricalMostFrequentFiller('T4U measured')),\n",
    "                ('fc_mf_2', CategoricalMostFrequentFiller('thyroid surgery')),\n",
    "                ('fc_mf_3', CategoricalMostFrequentFiller('goitre')),\n",
    "                ('fc_mf_4', CategoricalMostFrequentFiller('TSH measured')),\n",
    "                ('fc_mf_5', CategoricalMostFrequentFiller('on antithyroid medication')),\n",
    "                ('fc_mf_6', CategoricalMostFrequentFiller('pregnant'))\n",
    "            ])"
   ]
  },
  {
   "cell_type": "code",
   "execution_count": 52,
   "metadata": {
    "collapsed": false
   },
   "outputs": [
   ],
   "source": [
    "fill_categorical_mf = fill_mf.fit(transformed)\n",
    "filled_by_mf = fill_categorical_mf.transform(transformed)"
   ]
  },
  {
   "cell_type": "markdown",
   "metadata": {
    "collapsed": false
   },
   "source": [
    "#### Fill categorical with Random Forest algorithm"
   ]
  },
  {
   "cell_type": "markdown",
   "metadata": {
    "collapsed": false
   },
   "source": [
    "Another approach is to fill missing values using classifier - *Random Forest* to predict the values to be filled."
   ]
  },
  {
   "cell_type": "code",
   "execution_count": 41,
   "metadata": {
    "collapsed": false
   },
   "outputs": [
   ],
   "source": [
    "from sklearn.ensemble import RandomForestClassifier"
   ]
  },
  {
   "cell_type": "code",
   "execution_count": 59,
   "metadata": {
    "collapsed": false
   },
   "outputs": [
   ],
   "source": [
    "class CategoricalModelFiller(TransformerMixin):\n",
    "    def __init__(self, column, columns):\n",
    "        self.column = column\n",
    "        self.columns = columns\n",
    "        self.columns.remove(column)\n",
    "        self.classificator = RandomForestClassifier(n_estimators = 100, max_depth = 9, random_state = 8)\n",
    "\n",
    "    def setNumber(self, x):\n",
    "        if str(x) == 'True':\n",
    "            return 1\n",
    "        if str(x) == 'False':\n",
    "            return 0\n",
    "        return -1\n",
    "\n",
    "    def fit(self, df, y=None, **fit_params):\n",
    "        df_copy = df.copy()\n",
    "\n",
    "        for col in self.columns:\n",
    "            df_copy[col] = df_copy[col].apply(lambda x: self.setNumber(x))\n",
    "\n",
    "        tmp = pd.get_dummies(df_copy['sex'])\n",
    "        tmp_columns = [*self.columns, *tmp.columns.values]\n",
    "        df_copy = pd.concat([df_copy, tmp], axis=1)\n",
    "\n",
    "        x_train = df_copy[~df_copy[self.column].isnull()]\n",
    "        y_train = x_train[self.column]\n",
    "        x_train = x_train[x_train.columns.difference([self.column])]\n",
    "        \n",
    "        self.model = self.classificator.fit(x_train[tmp_columns],y_train.astype(str))\n",
    "        return self        \n",
    "    def transform(self, df, **transform_params):\n",
    "        df_copy = df.copy()\n",
    "        orig_columns = df.columns.values\n",
    "        \n",
    "        for col in self.columns:\n",
    "            df_copy[col] = df_copy[col].apply(lambda x: self.setNumber(x))\n",
    "            \n",
    "        tmp = pd.get_dummies(df_copy['sex'])\n",
    "        tmp_columns = [*self.columns, *tmp.columns.values]\n",
    "        df_copy = pd.concat([df_copy, tmp], axis=1)\n",
    "        df = df[~df[self.column].isnull()]\n",
    "        \n",
    "        to_fill = df_copy[df_copy[self.column].isnull()].drop(self.column, axis=1)\n",
    "        to_fill[self.column] = self.model.predict(to_fill[tmp_columns]).astype('bool')\n",
    "        return df.append(to_fill[orig_columns], sort=True).reindex(orig_columns, axis=1)"
   ]
  },
  {
   "cell_type": "markdown",
   "metadata": {
    "collapsed": false
   },
   "source": [
    "#### Fill categorical using Pipeline"
   ]
  },
  {
   "cell_type": "code",
   "execution_count": 60,
   "metadata": {
    "collapsed": false
   },
   "outputs": [
   ],
   "source": [
    "columns = ['query hyperthyroid','T4U measured','FTI measured','lithium','query hypothyroid','on thyroxine','tumor','sick', 'thyroid surgery','I131 treatment','TT4 measured', 'goitre', 'TSH measured', 'hypopituitary', 'query on thyroxine','T3 measured','on antithyroid medication', 'pregnant']\n",
    "\n",
    "fill_RF = Pipeline([\n",
    "                ('ff_1', CategoricalModelFiller('T4U measured', columns)),\n",
    "                ('ff_2', CategoricalModelFiller('thyroid surgery', columns)),\n",
    "                ('ff_3', CategoricalModelFiller('goitre', columns)),\n",
    "                ('ff_4', CategoricalModelFiller('TSH measured', columns)),\n",
    "                ('ff_5', CategoricalModelFiller('on antithyroid medication', columns)),\n",
    "                ('ff_6', CategoricalModelFiller('pregnant', columns))\n",
    "            ])"
   ]
  },
  {
   "cell_type": "code",
   "execution_count": 61,
   "metadata": {
    "collapsed": false
   },
   "outputs": [
   ],
   "source": [
    "fill_categorical_RF = fill_RF.fit(transformed)\n",
    "filled_by_RF = fill_categorical_RF.transform(transformed)"
   ]
  },
  {
   "cell_type": "markdown",
   "metadata": {
    "collapsed": false
   },
   "source": [
    "### Values distribution comparison\n",
    "Comparison of values distribution - before filling values, after filling by most frequent and filling using Random Forest"
   ]
  },
  {
   "cell_type": "code",
   "execution_count": 63,
   "metadata": {
    "collapsed": false
   },
   "outputs": [
   ],
   "source": [
    "def grouped_barplot(df, attribute, groupby, title=None, size=(5, 4), rotation=0):\n",
    "    \"\"\"Draw barplot of attribute, grouped by another attribute.\"\"\"\n",
    "    plt.rcParams['figure.figsize'] = size\n",
    "    data = df.groupby(groupby)[attribute].value_counts(normalize=True).rename('percentage').mul(100).reset_index()\n",
    "    sns.barplot(attribute, 'percentage', hue=groupby, data=data)\n",
    "    plt.xticks(rotation=rotation)\n",
    "    plt.title(title)\n",
    "    plt.legend(loc='upper right')\n",
    "    plt.rcParams['figure.figsize'] = (5, 4)"
   ]
  },
  {
   "cell_type": "markdown",
   "metadata": {
    "collapsed": false
   },
   "source": [
    "Let's take a look at how distribution of values for attribute *pregnant* gets affected by filling (152 missing values)."
   ]
  },
  {
   "cell_type": "code",
   "execution_count": 48,
   "metadata": {
    "collapsed": false
   },
   "outputs": [
    {
     "data": {
      "text/plain": [
       "False    2057\n",
       "True       28\n",
       "Name: pregnant, dtype: int64"
      ]
     },
     "execution_count": 48,
     "metadata": {
     },
     "output_type": "execute_result"
    }
   ],
   "source": [
    "transformed['pregnant'].value_counts()"
   ]
  },
  {
   "cell_type": "code",
   "execution_count": 53,
   "metadata": {
    "collapsed": false
   },
   "outputs": [
    {
     "data": {
      "text/plain": [
       "False    2209\n",
       "True       28\n",
       "Name: pregnant, dtype: int64"
      ]
     },
     "execution_count": 53,
     "metadata": {
     },
     "output_type": "execute_result"
    }
   ],
   "source": [
    "filled_by_mf['pregnant'].value_counts()"
   ]
  },
  {
   "cell_type": "code",
   "execution_count": 58,
   "metadata": {
    "collapsed": false
   },
   "outputs": [
    {
     "data": {
      "text/plain": [
       "False    2209\n",
       "True       28\n",
       "Name: pregnant, dtype: int64"
      ]
     },
     "execution_count": 58,
     "metadata": {
     },
     "output_type": "execute_result"
    }
   ],
   "source": [
    "filled_by_RF['pregnant'].value_counts()"
   ]
  },
  {
   "cell_type": "code",
   "execution_count": 65,
   "metadata": {
    "collapsed": false
   },
   "outputs": [
    {
     "data": {
      "image/png": "[encoded data removed]"
     },
     "execution_count": 65,
     "metadata": {
      "image/png": {
       "height": 277,
       "width": 886
      }
     },
     "output_type": "execute_result"
    }
   ],
   "source": [
    "grouped_barplot(filled_by_RF, 'pregnant', 'class_status', 'T4U values distribution before filling values', size=(15,4))"
   ]
  },
  {
   "cell_type": "code",
   "execution_count": 66,
   "metadata": {
    "collapsed": false
   },
   "outputs": [
    {
     "data": {
      "image/png": "[encoded data removed]"
     },
     "execution_count": 66,
     "metadata": {
      "image/png": {
       "height": 277,
       "width": 892
      }
     },
     "output_type": "execute_result"
    }
   ],
   "source": [
    "grouped_barplot(filled_by_mf, 'pregnant', 'class_status', 'T4U values distribution before filling values', size=(15,4))"
   ]
  },
  {
   "cell_type": "code",
   "execution_count": 64,
   "metadata": {
    "collapsed": false
   },
   "outputs": [
    {
     "data": {
      "image/png": "[encoded data removed]"
     },
     "execution_count": 64,
     "metadata": {
      "image/png": {
       "height": 277,
       "width": 886
      }
     },
     "output_type": "execute_result"
    }
   ],
   "source": [
    "grouped_barplot(filled_by_RF, 'pregnant', 'class_status', 'T4U values distribution before filling values', size=(15,4))"
   ]
  },
  {
   "cell_type": "code",
   "execution_count": 68,
   "metadata": {
    "collapsed": false
   },
   "outputs": [
    {
     "data": {
      "text/plain": [
       "0       united-states\n",
       "1       united-states\n",
       "2       united-states\n",
       "3       united-states\n",
       "4       united-states\n",
       "5       united-states\n",
       "6       united-states\n",
       "7       united-states\n",
       "8       united-states\n",
       "9       united-states\n",
       "10      united-states\n",
       "11      united-states\n",
       "12      united-states\n",
       "13      united-states\n",
       "14      united-states\n",
       "15      united-states\n",
       "16      united-states\n",
       "17      united-states\n",
       "18      united-states\n",
       "19      united-states\n",
       "20      united-states\n",
       "21      united-states\n",
       "22      united-states\n",
       "23           thailand\n",
       "24      united-states\n",
       "25      united-states\n",
       "26      united-states\n",
       "27      united-states\n",
       "28      united-states\n",
       "29      united-states\n",
       "            ...      \n",
       "2207    united-states\n",
       "2208             cuba\n",
       "2209    united-states\n",
       "2210    united-states\n",
       "2211    united-states\n",
       "2212    united-states\n",
       "2213           mexico\n",
       "2214    united-states\n",
       "2215    united-states\n",
       "2216    united-states\n",
       "2217    united-states\n",
       "2218    united-states\n",
       "2219    united-states\n",
       "2220    united-states\n",
       "2221    united-states\n",
       "2222    united-states\n",
       "2223    united-states\n",
       "2224    united-states\n",
       "2225    united-states\n",
       "2226    united-states\n",
       "2227           mexico\n",
       "2228           mexico\n",
       "2229    united-states\n",
       "2230    united-states\n",
       "2231    united-states\n",
       "2232             cuba\n",
       "2233    united-states\n",
       "2234      puerto-rico\n",
       "2235    united-states\n",
       "2236    united-states\n",
       "Name: origin, Length: 2237, dtype: object"
      ]
     },
     "execution_count": 68,
     "metadata": {
     },
     "output_type": "execute_result"
    }
   ],
   "source": [
    "transformed.isnull().sum()\n",
    "transformed['origin']"
   ]
  },
  {
   "cell_type": "markdown",
   "metadata": {
    "collapsed": false
   },
   "source": [
    "# TO-DO\n",
    "\n",
    "### Lukas\n",
    "* doplnanie kategorickych cez RF alebo KNN\n",
    "* urcit ktore atributy treba normalizovat\n",
    "* zistit co je s normalizaciou\n",
    "* porovnat doplnanie hodnot cez most frequent a modelom (kategoricke)\n",
    "\n",
    "### Peter\n",
    "* doplnanie numerickych cez linearnu regresiu\n",
    "* porovnat doplnanie hodnot cez most frequent a modelom (kategoricke)\n",
    "* urcit, kde treba vymazat outlierov\n",
    "* okomentovat zmeny po vymazani outlierov\n",
    "\n",
    "### IDK\n",
    "* validovanie veku podla datumu\n",
    "* viac pipelines? ako dat dokopy - pripadne ich skratit na styl imputera"
   ]
  }
 ],
 "metadata": {
  "kernelspec": {
   "display_name": "Python 3 (Ubuntu Linux)",
   "language": "python",
   "name": "python3"
  },
  "language_info": {
   "codemirror_mode": {
    "name": "ipython",
    "version": 3
   },
   "file_extension": ".py",
   "mimetype": "text/x-python",
   "name": "python",
   "nbconvert_exporter": "python",
   "pygments_lexer": "ipython3",
   "version": "3.6.6"
  }
 },
 "nbformat": 4,
 "nbformat_minor": 0
}