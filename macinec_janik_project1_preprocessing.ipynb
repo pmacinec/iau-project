{
 "cells": [
  {
   "cell_type": "markdown",
   "metadata": {
    "collapsed": false
   },
   "source": [
    "# IAU - Project\n",
    "\n",
    "**Authors:** Peter Mačinec, Lukáš Janík"
   ]
  },
  {
   "cell_type": "markdown",
   "metadata": {
    "collapsed": false
   },
   "source": [
    "## Setup and import libraries"
   ]
  },
  {
   "cell_type": "code",
   "execution_count": 118,
   "metadata": {
    "collapsed": false
   },
   "outputs": [
   ],
   "source": [
    "# import libraries\n",
    "import numpy as np\n",
    "import pandas as pd\n",
    "import matplotlib.pyplot as plt\n",
    "import seaborn as sns\n",
    "import re\n",
    "\n",
    "# pipelines\n",
    "from sklearn.pipeline import Pipeline\n",
    "from sklearn.base import TransformerMixin\n",
    "\n",
    "# models\n",
    "from sklearn.linear_model import LinearRegression\n",
    "from sklearn import model_selection as ms\n",
    "from sklearn import metrics\n",
    "from functools import reduce"
   ]
  },
  {
   "cell_type": "markdown",
   "metadata": {
    "collapsed": false
   },
   "source": [
    "## Read the data\n",
    "\n",
    "Data are divided into two files, personal and other, so we need to read both of them:"
   ]
  },
  {
   "cell_type": "code",
   "execution_count": 119,
   "metadata": {
    "collapsed": false
   },
   "outputs": [
   ],
   "source": [
    "# read datasets\n",
    "df1 = pd.read_csv('data/personal_train.csv', index_col=0)\n",
    "df2 = pd.read_csv('data/other_train.csv', index_col=0)"
   ]
  },
  {
   "cell_type": "markdown",
   "metadata": {
    "collapsed": false
   },
   "source": [
    "## Preprocessing"
   ]
  },
  {
   "cell_type": "markdown",
   "metadata": {
    "collapsed": false
   },
   "source": [
    "### Merge datasets\n",
    "\n",
    "At first, we need to merge both datasets into one. In previous analysis, we found that name and address would be used for merging:"
   ]
  },
  {
   "cell_type": "code",
   "execution_count": 120,
   "metadata": {
    "collapsed": false
   },
   "outputs": [
   ],
   "source": [
    "df_train = pd.merge(df1, df2, on=[\"name\", \"address\"])"
   ]
  },
  {
   "cell_type": "markdown",
   "metadata": {
    "collapsed": false
   },
   "source": [
    "In descriptive analysis, we found some duplicates. In second dataset with medical information, there were some duplicates, so we will merge their values and drop duplicated rows."
   ]
  },
  {
   "cell_type": "markdown",
   "metadata": {
    "collapsed": false
   },
   "source": [
    "### Data repairing\n",
    "\n",
    "We know from a previous analysis that some data need to be repaired. Some columns have one value represented by more strings, another case is that column holds several values that need to be expanded, etc. In this section, data will be repaired at first so missing values would be replaced in next step.\n",
    "\n",
    "All operations will be done using **Pipelines**, so whole preprocessing process will be reusable."
   ]
  },
  {
   "cell_type": "markdown",
   "metadata": {
    "collapsed": false
   },
   "source": [
    "#### Merge and drop duplicates\n",
    "\n",
    "As mentioned before, there are some duplicates. Let's check them:"
   ]
  },
  {
   "cell_type": "code",
   "execution_count": 121,
   "metadata": {
    "collapsed": false
   },
   "outputs": [
   ],
   "source": [
    "duplicates = df_train[df_train.duplicated(['name', 'address'], keep='first')].sort_values('name')"
   ]
  },
  {
   "cell_type": "code",
   "execution_count": 122,
   "metadata": {
    "collapsed": false,
    "scrolled": true
   },
   "outputs": [
    {
     "data": {
      "text/html": [
       "<div>\n",
       "<style scoped>\n",
       "    .dataframe tbody tr th:only-of-type {\n",
       "        vertical-align: middle;\n",
       "    }\n",
       "\n",
       "    .dataframe tbody tr th {\n",
       "        vertical-align: top;\n",
       "    }\n",
       "\n",
       "    .dataframe thead th {\n",
       "        text-align: right;\n",
       "    }\n",
       "</style>\n",
       "<table border=\"1\" class=\"dataframe\">\n",
       "  <thead>\n",
       "    <tr style=\"text-align: right;\">\n",
       "      <th></th>\n",
       "      <th>name</th>\n",
       "      <th>address</th>\n",
       "      <th>age</th>\n",
       "      <th>sex</th>\n",
       "      <th>date_of_birth</th>\n",
       "      <th>query hyperthyroid</th>\n",
       "      <th>T4U measured</th>\n",
       "      <th>FTI measured</th>\n",
       "      <th>lithium</th>\n",
       "      <th>TT4</th>\n",
       "      <th>...</th>\n",
       "      <th>personal_info</th>\n",
       "      <th>T3 measured</th>\n",
       "      <th>on antithyroid medication</th>\n",
       "      <th>referral source</th>\n",
       "      <th>education-num</th>\n",
       "      <th>psych</th>\n",
       "      <th>occupation</th>\n",
       "      <th>TBG measured</th>\n",
       "      <th>TBG</th>\n",
       "      <th>pregnant</th>\n",
       "    </tr>\n",
       "  </thead>\n",
       "  <tbody>\n",
       "    <tr>\n",
       "      <th>1656</th>\n",
       "      <td>Alfred Still</td>\n",
       "      <td>4175 Smith Keys\\r\\nNew Taylor, NH 39815</td>\n",
       "      <td>57.0</td>\n",
       "      <td>M</td>\n",
       "      <td>1960-11-02</td>\n",
       "      <td>f</td>\n",
       "      <td>t</td>\n",
       "      <td>t</td>\n",
       "      <td>f</td>\n",
       "      <td>82.0</td>\n",
       "      <td>...</td>\n",
       "      <td>NaN</td>\n",
       "      <td>f</td>\n",
       "      <td>f</td>\n",
       "      <td>other</td>\n",
       "      <td>13.0</td>\n",
       "      <td>f</td>\n",
       "      <td>Prof-specialty</td>\n",
       "      <td>f</td>\n",
       "      <td>?</td>\n",
       "      <td>f</td>\n",
       "    </tr>\n",
       "    <tr>\n",
       "      <th>855</th>\n",
       "      <td>Amelia Rodriguez</td>\n",
       "      <td>087 Gary Port\\r\\nWest Sarah, KY 66896</td>\n",
       "      <td>77.0</td>\n",
       "      <td>F</td>\n",
       "      <td>1941-03-17</td>\n",
       "      <td>f</td>\n",
       "      <td>NaN</td>\n",
       "      <td>t</td>\n",
       "      <td>f</td>\n",
       "      <td>84.0</td>\n",
       "      <td>...</td>\n",
       "      <td>White|United-States\\r\\nBachelors -- Widowed|Un...</td>\n",
       "      <td>t</td>\n",
       "      <td>f</td>\n",
       "      <td>SVI</td>\n",
       "      <td>NaN</td>\n",
       "      <td>f</td>\n",
       "      <td>Sales</td>\n",
       "      <td>f</td>\n",
       "      <td>?</td>\n",
       "      <td>f</td>\n",
       "    </tr>\n",
       "    <tr>\n",
       "      <th>904</th>\n",
       "      <td>Angela Boyer</td>\n",
       "      <td>3750 Chen Groves\\r\\nPamelatown, ME 02894</td>\n",
       "      <td>75.0</td>\n",
       "      <td>F</td>\n",
       "      <td>1942-12-28</td>\n",
       "      <td>NaN</td>\n",
       "      <td>NaN</td>\n",
       "      <td>t</td>\n",
       "      <td>f</td>\n",
       "      <td>92.0</td>\n",
       "      <td>...</td>\n",
       "      <td>White|United-States\\r\\nHS-grad -- Divorced|Own...</td>\n",
       "      <td>t</td>\n",
       "      <td>f</td>\n",
       "      <td>SVI</td>\n",
       "      <td>9.0</td>\n",
       "      <td>f</td>\n",
       "      <td>Priv-house-serv</td>\n",
       "      <td>f</td>\n",
       "      <td>?</td>\n",
       "      <td>f</td>\n",
       "    </tr>\n",
       "    <tr>\n",
       "      <th>1597</th>\n",
       "      <td>Anna Garcia</td>\n",
       "      <td>71052 Annette Roads\\r\\nChristinechester, MT 16249</td>\n",
       "      <td>65.0</td>\n",
       "      <td>F</td>\n",
       "      <td>1953-05-06</td>\n",
       "      <td>f</td>\n",
       "      <td>f</td>\n",
       "      <td>f</td>\n",
       "      <td>f</td>\n",
       "      <td>NaN</td>\n",
       "      <td>...</td>\n",
       "      <td>White|United-States\\r\\nHS-grad -- Never-marrie...</td>\n",
       "      <td>f</td>\n",
       "      <td>f</td>\n",
       "      <td>NaN</td>\n",
       "      <td>9.0</td>\n",
       "      <td>f</td>\n",
       "      <td>Handlers-cleaners</td>\n",
       "      <td>f</td>\n",
       "      <td>?</td>\n",
       "      <td>NaN</td>\n",
       "    </tr>\n",
       "    <tr>\n",
       "      <th>2204</th>\n",
       "      <td>Annette Hunt</td>\n",
       "      <td>USNV Lamb\\r\\nFPO AA 85130</td>\n",
       "      <td>33.0</td>\n",
       "      <td>F</td>\n",
       "      <td>1984-12-08</td>\n",
       "      <td>f</td>\n",
       "      <td>f</td>\n",
       "      <td>f</td>\n",
       "      <td>f</td>\n",
       "      <td>NaN</td>\n",
       "      <td>...</td>\n",
       "      <td>White|United-States\\r\\nSome-college -- Married...</td>\n",
       "      <td>f</td>\n",
       "      <td>f</td>\n",
       "      <td>NaN</td>\n",
       "      <td>10.0</td>\n",
       "      <td>f</td>\n",
       "      <td>Adm-clerical</td>\n",
       "      <td>f</td>\n",
       "      <td>?</td>\n",
       "      <td>f</td>\n",
       "    </tr>\n",
       "  </tbody>\n",
       "</table>\n",
       "<p>5 rows × 41 columns</p>\n",
       "</div>"
      ]
     },
     "execution_count": 122,
     "metadata": {
     },
     "output_type": "execute_result"
    }
   ],
   "source": [
    "duplicates.head()"
   ]
  },
  {
   "cell_type": "markdown",
   "metadata": {
    "collapsed": false
   },
   "source": [
    "We can see there are duplicates with same name and address, but they are even not representing different medical records (measurements are the same). In some attributes, one of duplicates has value and in the other one is this value missing. That means we need to merge those records before droping duplicates."
   ]
  },
  {
   "cell_type": "code",
   "execution_count": 123,
   "metadata": {
    "collapsed": false
   },
   "outputs": [
   ],
   "source": [
    "class MergeRemoveDuplicates(TransformerMixin):\n",
    "    def __init__(self):\n",
    "        pass\n",
    "\n",
    "    def fit(self, df, y=None, **fit_params):\n",
    "        return self\n",
    "\n",
    "    def merge(self, duplicates):\n",
    "        return reduce(lambda x,y: x if not pd.isna(x) or str(x).startswith('?') else y, duplicates)\n",
    "\n",
    "    def transform(self, df, **transform_params):\n",
    "        duplicated = df[df.duplicated(['name', 'address'], keep=False)]\n",
    "        duplicate_names = df[df.duplicated(['name', 'address'], keep='first')].name.values\n",
    "        df =  df[~df['name'].isin(duplicate_names)]\n",
    "\n",
    "        return df.append(duplicated.groupby(['name', 'address']).agg(self.merge).reset_index())"
   ]
  },
  {
   "cell_type": "markdown",
   "metadata": {
    "collapsed": false
   },
   "source": [
    "**Note:** This class will be used for preprocessing in **Pipelines**."
   ]
  },
  {
   "cell_type": "markdown",
   "metadata": {
    "collapsed": false
   },
   "source": [
    "#### Drop rows with missing values in predicted attribute\n",
    "\n",
    "Rows where even value of predicted attribute is missing, will not help classifying in *supervised learning*. In this case, those values would be dropped. Let's check records with missing values for **class** attribute:"
   ]
  },
  {
   "cell_type": "code",
   "execution_count": 124,
   "metadata": {
    "collapsed": false
   },
   "outputs": [
    {
     "data": {
      "text/html": [
       "<div>\n",
       "<style scoped>\n",
       "    .dataframe tbody tr th:only-of-type {\n",
       "        vertical-align: middle;\n",
       "    }\n",
       "\n",
       "    .dataframe tbody tr th {\n",
       "        vertical-align: top;\n",
       "    }\n",
       "\n",
       "    .dataframe thead th {\n",
       "        text-align: right;\n",
       "    }\n",
       "</style>\n",
       "<table border=\"1\" class=\"dataframe\">\n",
       "  <thead>\n",
       "    <tr style=\"text-align: right;\">\n",
       "      <th></th>\n",
       "      <th>name</th>\n",
       "      <th>class</th>\n",
       "    </tr>\n",
       "  </thead>\n",
       "  <tbody>\n",
       "    <tr>\n",
       "      <th>362</th>\n",
       "      <td>Frank Gerace</td>\n",
       "      <td>NaN</td>\n",
       "    </tr>\n",
       "    <tr>\n",
       "      <th>575</th>\n",
       "      <td>Carol Crum</td>\n",
       "      <td>NaN</td>\n",
       "    </tr>\n",
       "    <tr>\n",
       "      <th>1321</th>\n",
       "      <td>Cynthia Schmidtke</td>\n",
       "      <td>NaN</td>\n",
       "    </tr>\n",
       "    <tr>\n",
       "      <th>1519</th>\n",
       "      <td>Don Carroll</td>\n",
       "      <td>NaN</td>\n",
       "    </tr>\n",
       "    <tr>\n",
       "      <th>1675</th>\n",
       "      <td>Shirley Kiser</td>\n",
       "      <td>NaN</td>\n",
       "    </tr>\n",
       "    <tr>\n",
       "      <th>1771</th>\n",
       "      <td>Lila Womack</td>\n",
       "      <td>NaN</td>\n",
       "    </tr>\n",
       "    <tr>\n",
       "      <th>1840</th>\n",
       "      <td>Jane Little</td>\n",
       "      <td>NaN</td>\n",
       "    </tr>\n",
       "  </tbody>\n",
       "</table>\n",
       "</div>"
      ]
     },
     "execution_count": 124,
     "metadata": {
     },
     "output_type": "execute_result"
    }
   ],
   "source": [
    "df_train[df_train['class'].isnull()][['name', 'class']]"
   ]
  },
  {
   "cell_type": "markdown",
   "metadata": {
    "collapsed": false
   },
   "source": [
    "To make this operation reusable, it is better to write custom pipeline with column as parameter, so every row with missing values in this column will be dropped. "
   ]
  },
  {
   "cell_type": "code",
   "execution_count": 125,
   "metadata": {
    "collapsed": false
   },
   "outputs": [
   ],
   "source": [
    "class DropRowsNanColumn(TransformerMixin):\n",
    "    def __init__(self, column):\n",
    "        self.column = column\n",
    "\n",
    "    def fit(self, df, y=None, **fit_params):\n",
    "        return self\n",
    "\n",
    "    def transform(self, df, **transform_params):\n",
    "        df = df[pd.notnull(df[self.column])]\n",
    "        return df"
   ]
  },
  {
   "cell_type": "markdown",
   "metadata": {
    "collapsed": false
   },
   "source": [
    "#### Missing values unifying\n",
    "\n",
    "In some columns, missing values are represented by *nan*, or also by *'?'* character. Those values need to be unified, so we can fill them later using universal pipeline."
   ]
  },
  {
   "cell_type": "code",
   "execution_count": 126,
   "metadata": {
    "collapsed": false
   },
   "outputs": [
   ],
   "source": [
    "class NanUnifier(TransformerMixin):\n",
    "    def __init__(self, column):\n",
    "        self.column = column\n",
    "\n",
    "    def fit(self, df, y=None, **fit_params):\n",
    "        return self\n",
    "\n",
    "    def transform(self, df, **transform_params):\n",
    "        df.loc[df[self.column].str.strip() == '?', self.column] = np.NaN\n",
    "        #df[self.column] = pd.to_numeric(df[self.column])\n",
    "        return df"
   ]
  },
  {
   "cell_type": "markdown",
   "metadata": {
    "collapsed": false
   },
   "source": [
    "#### Boolean unifying\n",
    "\n",
    "A lot of columns that store boolean values, mostly whether was measurement done or not, have inconsistent representation of boolean values (t, t.19, ...). It is better to unify them, because as it is categorical attribute, every reasonable value type should be represented just by one specific value."
   ]
  },
  {
   "cell_type": "code",
   "execution_count": 127,
   "metadata": {
    "collapsed": false
   },
   "outputs": [
   ],
   "source": [
    "class BooleanUnifier(TransformerMixin):\n",
    "    def __init__(self, column):\n",
    "        self.column = column\n",
    "\n",
    "    def fit(self, df, y=None, **fit_params):\n",
    "        return self\n",
    "\n",
    "    def transform(self, df, **transform_params):\n",
    "        df_copy = df.copy()\n",
    "        df_copy[self.column] = df_copy[self.column].map(lambda x: str(x).lower().startswith('t'), na_action='ignore')\n",
    "        return df_copy"
   ]
  },
  {
   "cell_type": "markdown",
   "metadata": {
    "collapsed": false
   },
   "source": [
    "#### Drop useless columns\n",
    "\n",
    "Some columns will not help us in predicting class of the patient. It is because those column store only one value, as *TBG measured* attribute:"
   ]
  },
  {
   "cell_type": "code",
   "execution_count": 128,
   "metadata": {
    "collapsed": false
   },
   "outputs": [
    {
     "data": {
      "text/plain": [
       "array(['f', nan, 'f.14'], dtype=object)"
      ]
     },
     "execution_count": 128,
     "metadata": {
     },
     "output_type": "execute_result"
    }
   ],
   "source": [
    "df_train['TBG measured'].unique()"
   ]
  },
  {
   "cell_type": "markdown",
   "metadata": {
    "collapsed": false
   },
   "source": [
    "After unifying boolean values, it will contain only *false* value. It is better to drop columns like this one."
   ]
  },
  {
   "cell_type": "code",
   "execution_count": 129,
   "metadata": {
    "collapsed": false
   },
   "outputs": [
   ],
   "source": [
    "class DropColumn(TransformerMixin):\n",
    "    def __init__(self, column):\n",
    "        self.column = column\n",
    "        \n",
    "    def fit(self, df, y=None, **fit_params):\n",
    "        return self\n",
    "    \n",
    "    def transform(self, df, **transform_params):\n",
    "        df = df.drop([self.column], axis=1)\n",
    "        return df"
   ]
  },
  {
   "cell_type": "markdown",
   "metadata": {
    "collapsed": false
   },
   "source": [
    "#### Expanding columns\n",
    "\n",
    "In analysis we found also column that store more attributes and their values. With this datatype, machine learning algorithms will not be able to work even though it can hold important information for prediction. We need to expand those objects into alone-standing columns."
   ]
  },
  {
   "cell_type": "code",
   "execution_count": 130,
   "metadata": {
    "collapsed": false
   },
   "outputs": [
   ],
   "source": [
    "class ColumnExpander(TransformerMixin):\n",
    "    def __init__(self):\n",
    "        pass\n",
    "\n",
    "    def fit(self, df, y=None, **fit_params):\n",
    "        return self\n",
    "\n",
    "    def transform(self, df, **transform_params):\n",
    "        df['bred'] = df['personal_info'].str.extract('(^[^|]+)', expand=False).str.strip().str.lower()\n",
    "        df['origin'] = df['personal_info'].str.extract('[|](.*)\\r', expand=False).str.strip().str.lower()\n",
    "        df['study'] = df['personal_info'].str.extract('[\\n](.*)--', expand=False).str.strip().str.lower()\n",
    "        df['status1'] = df['personal_info'].str.extract('--(.*)[|]', expand=False).str.strip().str.lower()\n",
    "        df['status2'] = df['personal_info'].str.extract('--.*[|](.*)', expand=False).str.strip().str.lower()\n",
    "        return df"
   ]
  },
  {
   "cell_type": "markdown",
   "metadata": {
    "collapsed": false
   },
   "source": [
    "#### Columns data type transformations\n",
    "\n",
    "Some columns can contain numbers, but are represented by string. In this case, we need to convert those attributes to numerical, so algorithm can treat them like numbers, not categories."
   ]
  },
  {
   "cell_type": "code",
   "execution_count": 111,
   "metadata": {
    "collapsed": false
   },
   "outputs": [
   ],
   "source": [
    "class ColumnToNumber(TransformerMixin):\n",
    "    def __init__(self, column):\n",
    "        self.column = column\n",
    "\n",
    "    def fit(self, df, y=None, **fit_params):\n",
    "        return self\n",
    "\n",
    "    def transform(self, df, **transform_params):\n",
    "        df[self.column] = pd.to_numeric(df[self.column])\n",
    "        return df"
   ]
  },
  {
   "cell_type": "markdown",
   "metadata": {
    "collapsed": false
   },
   "source": [
    "#### Repair data using Pipeline\n",
    "\n",
    "For data repair, Pipeline will be used. All pipeline custom classes have already been defined in each section of **data repairing**, so we can just use them now:"
   ]
  },
  {
   "cell_type": "code",
   "execution_count": 112,
   "metadata": {
    "collapsed": false
   },
   "outputs": [
   ],
   "source": [
    "repair_ppl = Pipeline([\n",
    "                # unify boolean values\n",
    "                ('ub01', BooleanUnifier('query hyperthyroid')),\n",
    "                ('ub02', BooleanUnifier('T4U measured')),\n",
    "                ('ub03', BooleanUnifier('on thyroxine')),\n",
    "                ('ub04', BooleanUnifier('FTI measured')),\n",
    "                ('ub05', BooleanUnifier('lithium')),\n",
    "                ('ub06', BooleanUnifier('TT4 measured')),\n",
    "                ('ub07', BooleanUnifier('query hypothyroid')),\n",
    "                ('ub08', BooleanUnifier('query on thyroxine')),\n",
    "                ('ub09', BooleanUnifier('tumor')),\n",
    "                ('ub10', BooleanUnifier('T3 measured')),\n",
    "                ('ub11', BooleanUnifier('sick')),\n",
    "                ('ub12', BooleanUnifier('thyroid surgery')),\n",
    "                ('ub13', BooleanUnifier('I131 treatment')),\n",
    "                ('ub14', BooleanUnifier('goitre')),\n",
    "                ('ub15', BooleanUnifier('TSH measured')),\n",
    "                ('ub16', BooleanUnifier('on antithyroid medication')),\n",
    "                ('ub17', BooleanUnifier('psych')),\n",
    "                ('ub18', BooleanUnifier('TBG measured')),\n",
    "                ('ub19', BooleanUnifier('pregnant')),\n",
    "                ('ub20', BooleanUnifier('hypopituitary')),\n",
    "\n",
    "                # drop column\n",
    "                ('drop_TBG_measured', DropColumn('TBG measured')),\n",
    "                ('drop_TBG', DropColumn('TBG')),\n",
    "\n",
    "                # expand column\n",
    "                ('expand_personal_info', ColumnExpander()),\n",
    "    \n",
    "                # unify nan values\n",
    "                ('nan_unify_FTI', NanUnifier('FTI')),\n",
    "                ('nan_unify_sex', NanUnifier('sex')),\n",
    "                ('nan_unify_origin', NanUnifier('origin')),\n",
    "                ('nan_unify_occupation', NanUnifier('occupation')),\n",
    "        \n",
    "                # transform data type\n",
    "                ('column_to_number_FTI', ColumnToNumber('FTI')),\n",
    "\n",
    "                # drop, where are nan values\n",
    "                ('drop_class', DropRowsNanColumn('class')),\n",
    "    \n",
    "                # merge and remove duplicates\n",
    "                ('test',MergeRemoveDuplicates())\n",
    "              ])"
   ]
  },
  {
   "cell_type": "code",
   "execution_count": 113,
   "metadata": {
    "collapsed": false
   },
   "outputs": [
   ],
   "source": [
    "model = repair_ppl.fit(df_train)"
   ]
  },
  {
   "cell_type": "code",
   "execution_count": 114,
   "metadata": {
    "collapsed": false
   },
   "outputs": [
   ],
   "source": [
    "transformed = model.transform(df_train)"
   ]
  },
  {
   "cell_type": "markdown",
   "metadata": {
    "collapsed": false
   },
   "source": [
    "### Normalize and remove outliers\n",
    "\n",
    "In a lot of columns, mostly in those storing measurements values, outliers were found. For some algorithms, it is better to remove them or replace with quantiles. Before doing this, values should be normalized."
   ]
  },
  {
   "cell_type": "code",
   "execution_count": 0,
   "metadata": {
    "collapsed": false
   },
   "outputs": [
   ],
   "source": [
    "from scipy.stats import boxcox"
   ]
  },
  {
   "cell_type": "markdown",
   "metadata": {
    "collapsed": false
   },
   "source": [
    "#### Normalize numerical attributes "
   ]
  },
  {
   "cell_type": "code",
   "execution_count": 0,
   "metadata": {
    "collapsed": false
   },
   "outputs": [
   ],
   "source": [
    "class Normalizer(TransformerMixin):\n",
    "    def __init__(self, column):\n",
    "        self.column = column\n",
    "\n",
    "    def fit(self, df, y=None, **fit_params):\n",
    "        _, self.lmbda = boxcox(df[self.column]+2)\n",
    "        return self\n",
    "\n",
    "    def transform(self, df, **transform_params):\n",
    "        df_copy = df.copy()\n",
    "        df_copy[self.column] = boxcox(df_copy[self.column]+2, lmbda=attr)\n",
    "        return df_copy"
   ]
  },
  {
   "cell_type": "markdown",
   "metadata": {
    "collapsed": false
   },
   "source": [
    "#### Remove outliers"
   ]
  },
  {
   "cell_type": "code",
   "execution_count": 0,
   "metadata": {
    "collapsed": false
   },
   "outputs": [
   ],
   "source": [
    "class OutliersRemover(TransformerMixin):\n",
    "    def __init__(self, column):\n",
    "        self.column = column\n",
    "\n",
    "    def fit(self, df, y=None, **fit_params):\n",
    "        self.quantile_05 = df[self.column].quantile(.05)\n",
    "        self.quantiles_95 = df[self.column].quantile(.95)\n",
    "        return self\n",
    "\n",
    "    def transform(self, df, **transform_params):\n",
    "        df.loc[df[self.column] > self.quantile_05, self.column] = self.quantile_05\n",
    "        df.loc[df[self.column] > self.quantile_95, self.column] = self.quantile_95\n",
    "        return df"
   ]
  },
  {
   "cell_type": "code",
   "execution_count": 0,
   "metadata": {
    "collapsed": false
   },
   "outputs": [
   ],
   "source": [
   ]
  },
  {
   "cell_type": "code",
   "execution_count": 0,
   "metadata": {
    "collapsed": false
   },
   "outputs": [
   ],
   "source": [
    "normalize_ppl = Pipeline([\n",
    "                    ('nieco', Normalizer('column')),\n",
    "                    ('nieco2', OutliersRemover('column'))\n",
    "              ])"
   ]
  },
  {
   "cell_type": "code",
   "execution_count": 0,
   "metadata": {
    "collapsed": false
   },
   "outputs": [
   ],
   "source": [
    "model = normalize_ppl.fit(df_train)"
   ]
  },
  {
   "cell_type": "code",
   "execution_count": 0,
   "metadata": {
    "collapsed": false
   },
   "outputs": [
   ],
   "source": [
    "transformed = model.transform(df_train)"
   ]
  },
  {
   "cell_type": "markdown",
   "metadata": {
    "collapsed": false
   },
   "source": [
    "### Filling missing values\n",
    "\n",
    "Our dataset contains also missing values (NaN), that should be filled before using them in machine learning algorithm. Missing values of numerical, and also categorical attributes should be filled."
   ]
  },
  {
   "cell_type": "markdown",
   "metadata": {
    "collapsed": false
   },
   "source": [
    "#### Fill numerical with median\n",
    "\n",
    "POPISAT IMPUTER"
   ]
  },
  {
   "cell_type": "code",
   "execution_count": 0,
   "metadata": {
    "collapsed": false
   },
   "outputs": [
   ],
   "source": [
    "class NumMedianFiller(TransformerMixin):\n",
    "    def __init__(self, column):\n",
    "        self.column = column\n",
    "\n",
    "    def fit(self, df, y=None, **fit_params):\n",
    "        self.median = df[self.column].median()\n",
    "        return self\n",
    "\n",
    "    def transform(self, df, **transform_params):\n",
    "        df_copy = df.copy()\n",
    "        df_copy.loc[df_copy[self.column].isnull(), self.column] = self.median\n",
    "        return df_copy"
   ]
  },
  {
   "cell_type": "markdown",
   "metadata": {
    "collapsed": false
   },
   "source": [
    "#### Fill numerical with Linear Regression algorithm"
   ]
  },
  {
   "cell_type": "code",
   "execution_count": 0,
   "metadata": {
    "collapsed": false
   },
   "outputs": [
   ],
   "source": [
    "class NumModelFiller(TransformerMixin):\n",
    "    def __init__(self, model):\n",
    "        self.model = model\n",
    "\n",
    "    def fit(self, df, y=None, **fit_params):\n",
    "        self.model.fit(df)\n",
    "        return self\n",
    "\n",
    "    def transform(self, df, **transform_params):\n",
    "        self.model.predict(df)\n",
    "        return df_copy"
   ]
  },
  {
   "cell_type": "markdown",
   "metadata": {
    "collapsed": false
   },
   "source": [
    "#### Fill categorical with most frequent values\n",
    "\n",
    "POPISAT IMPUTER"
   ]
  },
  {
   "cell_type": "code",
   "execution_count": 0,
   "metadata": {
    "collapsed": false
   },
   "outputs": [
   ],
   "source": [
    "class CategoricalMostFrequentFiller(TransformerMixin):\n",
    "    def __init__(self, column):\n",
    "        self.column = column\n",
    "        \n",
    "    def fit(self, df, y=None, **fit_params):\n",
    "        self.most_frequent = df[self.column].value_counts().index[0]\n",
    "        return self\n",
    "    \n",
    "    def transform(self, df, **transform_params):\n",
    "        df_copy = df.copy()\n",
    "        df_copy.loc[df_copy[self.column].isnull(), self.column] = self.most_frequent\n",
    "        return df_copy"
   ]
  },
  {
   "cell_type": "markdown",
   "metadata": {
    "collapsed": false
   },
   "source": [
    "#### Fill categorical with k-NN (k-nearest neighbours) algorithms"
   ]
  },
  {
   "cell_type": "code",
   "execution_count": 0,
   "metadata": {
    "collapsed": false
   },
   "outputs": [
   ],
   "source": [
    "class CategoricalModelFiller(TransformerMixin):\n",
    "    def __init__(self):\n",
    "        pass\n",
    "\n",
    "    def fit(self, df, y=None, **fit_params):\n",
    "        return self\n",
    "\n",
    "    def transform(self, df, **transform_params):\n",
    "        pass"
   ]
  },
  {
   "cell_type": "code",
   "execution_count": 0,
   "metadata": {
    "collapsed": false
   },
   "outputs": [
   ],
   "source": [
   ]
  },
  {
   "cell_type": "code",
   "execution_count": 0,
   "metadata": {
    "collapsed": false
   },
   "outputs": [
   ],
   "source": [
    "# fill_ppl = Pipeline([\n",
    "#                 ('nieco', Imputer(strategy='median')),\n",
    "#                 ('nieco2', Imputer(strategy='most_frequent'))\n",
    "#     ])\n",
    "fill_ppl = Pipeline([\n",
    "                ('nieco', NumMedianFiller('T4U')),\n",
    "                ('nieco2', CategoricalMostFrequentFiller('sex'))\n",
    "            ])"
   ]
  },
  {
   "cell_type": "code",
   "execution_count": 0,
   "metadata": {
    "collapsed": false
   },
   "outputs": [
   ],
   "source": [
    "transformed.sex.isnull().sum()"
   ]
  },
  {
   "cell_type": "code",
   "execution_count": 0,
   "metadata": {
    "collapsed": false
   },
   "outputs": [
   ],
   "source": [
    "model = fill_ppl.fit(transformed)"
   ]
  },
  {
   "cell_type": "code",
   "execution_count": 0,
   "metadata": {
    "collapsed": false
   },
   "outputs": [
   ],
   "source": [
    "transf2 = model.transform(transformed)"
   ]
  },
  {
   "cell_type": "code",
   "execution_count": 0,
   "metadata": {
    "collapsed": false
   },
   "outputs": [
   ],
   "source": [
   ]
  },
  {
   "cell_type": "code",
   "execution_count": 0,
   "metadata": {
    "collapsed": false
   },
   "outputs": [
   ],
   "source": [
    "fill_model_ppl = Pipeline([\n",
    "                    ('nieco', NumModelFiller('column')),\n",
    "                    ('nieco2', CategoricalModelFiller('column'))\n",
    "                ])"
   ]
  },
  {
   "cell_type": "code",
   "execution_count": 0,
   "metadata": {
    "collapsed": false
   },
   "outputs": [
   ],
   "source": [
    "model = fill_ppl.fit(df_train)"
   ]
  },
  {
   "cell_type": "code",
   "execution_count": 0,
   "metadata": {
    "collapsed": false
   },
   "outputs": [
   ],
   "source": [
    "transformed = model.transform(df_train)"
   ]
  },
  {
   "cell_type": "code",
   "execution_count": 0,
   "metadata": {
    "collapsed": false
   },
   "outputs": [
   ],
   "source": [
   ]
  },
  {
   "cell_type": "markdown",
   "metadata": {
    "collapsed": false
   },
   "source": [
    "# !!! porovnat ich ako pisali"
   ]
  },
  {
   "cell_type": "code",
   "execution_count": 0,
   "metadata": {
    "collapsed": false
   },
   "outputs": [
   ],
   "source": [
   ]
  },
  {
   "cell_type": "code",
   "execution_count": 0,
   "metadata": {
    "collapsed": false
   },
   "outputs": [
   ],
   "source": [
    "tmp = transformed[~transformed['FTI'].isnull()]\n",
    "columns = ['TT4', 'T4U','capital-loss', 'capital-gain', 'TSH', 'T3', 'fnlwgt', 'hours-per-week', 'education-num']\n",
    "\n",
    "for column in columns:\n",
    "    tmp.dropna(subset=[column], inplace=True)\n",
    "    \n",
    "X = tmp[columns]\n",
    "y = tmp['FTI']\n",
    "\n",
    "X_train, X_test, y_train, y_test = ms.train_test_split(X, y, test_size=0.2, random_state=42)\n",
    "\n",
    "model = LinearRegression().fit(X_train, y_train)\n",
    "train_preds = model.predict(X_test)\n",
    "metrics.mean_absolute_error(y_test, train_preds)\n"
   ]
  },
  {
   "cell_type": "code",
   "execution_count": 0,
   "metadata": {
    "collapsed": false
   },
   "outputs": [
   ],
   "source": [
    "len(X_train)"
   ]
  },
  {
   "cell_type": "code",
   "execution_count": 0,
   "metadata": {
    "collapsed": false
   },
   "outputs": [
   ],
   "source": [
    "len(train_preds)"
   ]
  },
  {
   "cell_type": "code",
   "execution_count": 0,
   "metadata": {
    "collapsed": false
   },
   "outputs": [
   ],
   "source": [
    "from sklearn.decomposition import TruncatedSVD\n",
    "\n",
    "pca = TruncatedSVD(n_components=1)\n",
    "pca.fit(X_train)"
   ]
  },
  {
   "cell_type": "code",
   "execution_count": 0,
   "metadata": {
    "collapsed": false
   },
   "outputs": [
   ],
   "source": [
    "train1 = pca.transform(X_train)\n",
    "test1 = pca.transform(X_test)"
   ]
  },
  {
   "cell_type": "code",
   "execution_count": 0,
   "metadata": {
    "collapsed": false
   },
   "outputs": [
   ],
   "source": [
    "train_preds = model.predict(X_train)"
   ]
  },
  {
   "cell_type": "code",
   "execution_count": 0,
   "metadata": {
    "collapsed": false
   },
   "outputs": [
   ],
   "source": [
    "plt.scatter(test1, y_test, color = 'red')\n",
    "plt.plot(train1, train_preds, color = 'blue')\n",
    "plt.show()"
   ]
  },
  {
   "cell_type": "code",
   "execution_count": 0,
   "metadata": {
    "collapsed": false
   },
   "outputs": [
   ],
   "source": [
   ]
  },
  {
   "cell_type": "markdown",
   "metadata": {
    "collapsed": false
   },
   "source": [
    "# TO-DO\n",
    "* urobit numeric co nie je numeric a malo by byt (FTI)\n",
    "* porovnat pristupy toho doplnania hodnot\n",
    "* po data repair ukazat, ze sme opravili hodnoty...\n",
    "* otestovat normalizer\n",
    "* otestovat outlier remover\n",
    "* urcit, ktore treba normalizovat a napisat do pipeliny\n",
    "* urcit, kde treba vymazat outlierov a napisat do pipeliny\n",
    "* okomentovat cast s normalizaciou a outliermi\n",
    "* tie imputery nase zmenit na fillna()"
   ]
  },
  {
   "cell_type": "code",
   "execution_count": 0,
   "metadata": {
    "collapsed": false
   },
   "outputs": [
   ],
   "source": [
   ]
  }
 ],
 "metadata": {
  "kernelspec": {
   "display_name": "Python 3 (Ubuntu Linux)",
   "language": "python",
   "name": "python3"
  },
  "language_info": {
   "codemirror_mode": {
    "name": "ipython",
    "version": 3
   },
   "file_extension": ".py",
   "mimetype": "text/x-python",
   "name": "python",
   "nbconvert_exporter": "python",
   "pygments_lexer": "ipython3",
   "version": "3.6.6"
  }
 },
 "nbformat": 4,
 "nbformat_minor": 0
}