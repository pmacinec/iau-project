{
 "cells": [
  {
   "cell_type": "markdown",
   "metadata": {
    "collapsed": false
   },
   "source": [
    "# IAU Project - Classification\n",
    "\n",
    "**Authors:** Peter Mačinec, Lukáš Janík"
   ]
  },
  {
   "cell_type": "markdown",
   "metadata": {
    "collapsed": false
   },
   "source": [
    "## Setup and import libraries\n",
    "\n",
    "At first, we need to import libraries and our pipeline classes from preprocessing:"
   ]
  },
  {
   "cell_type": "code",
   "execution_count": 1,
   "metadata": {
    "collapsed": false
   },
   "outputs": [
   ],
   "source": [
    "# import libraries\n",
    "import numpy as np\n",
    "import pandas as pd\n",
    "import matplotlib.pyplot as plt\n",
    "import seaborn as sns\n",
    "import re\n",
    "from functools import reduce\n",
    "\n",
    "from sklearn import model_selection as ms\n",
    "\n",
    "# pipelines\n",
    "from sklearn.pipeline import Pipeline\n",
    "\n",
    "# custom pipelines\n",
    "import pipelines\n",
    "from pipelines import MergeRemoveDuplicates\n",
    "from pipelines import DropRowsNanColumn\n",
    "from pipelines import NanUnifier\n",
    "from pipelines import BooleanUnifier\n",
    "from pipelines import WordsUnifier\n",
    "from pipelines import DateFormatUnifier\n",
    "from pipelines import ClassUnifier\n",
    "from pipelines import DropColumn\n",
    "from pipelines import ColumnExpander\n",
    "from pipelines import ColumnToNumber\n",
    "from pipelines import MeasuredValuesFixer\n",
    "from pipelines import Normalizer\n",
    "from pipelines import OutliersRemover\n",
    "from pipelines import OutliersReplacer\n",
    "from pipelines import NumMedianFiller\n",
    "from pipelines import NumModelFiller\n",
    "from pipelines import CategoricalMostFrequentFiller\n",
    "from pipelines import CategoricalModelFiller\n",
    "from pipelines import ColumnsSelector\n",
    "from pipelines import ColumnsEncoder\n",
    "\n",
    "# hiding warnings for better appereance (this was added after checking all warnings)\n",
    "import warnings\n",
    "warnings.filterwarnings(action='ignore')\n",
    "\n",
    "# models\n",
    "from sklearn.linear_model import LinearRegression\n",
    "from sklearn.ensemble import RandomForestClassifier\n",
    "from sklearn.tree import DecisionTreeClassifier\n",
    "from sklearn.model_selection import RandomizedSearchCV\n",
    "from sklearn.feature_selection import RFECV\n",
    "from sklearn.feature_selection import RFE\n",
    "from xgboost import XGBClassifier\n",
    "\n",
    "# model evaluation\n",
    "from sklearn import metrics\n",
    "from sklearn.model_selection import cross_val_score\n",
    "from sklearn.model_selection import cross_validate\n",
    "from sklearn.metrics import accuracy_score\n",
    "from sklearn.metrics import classification_report\n",
    "from sklearn.metrics import f1_score\n",
    "\n",
    "# decision tree rules diagram\n",
    "from sklearn import tree\n",
    "from sklearn.tree import export_graphviz\n",
    "from IPython.display import SVG\n",
    "from graphviz import Source\n",
    "from IPython.display import display\n",
    "\n",
    "# oversampling\n",
    "from imblearn.over_sampling import RandomOverSampler, SMOTE\n",
    "\n",
    "pd.options.mode.chained_assignment = None  # default='warn'"
   ]
  },
  {
   "cell_type": "markdown",
   "metadata": {
    "collapsed": false
   },
   "source": [
    "## Data loading\n",
    "\n",
    "At first, we need to load all datasets. *Train* and *valid* datasets will be used for training and evaluating model, *test* dataset will be just predicted."
   ]
  },
  {
   "cell_type": "code",
   "execution_count": 2,
   "metadata": {
    "collapsed": false
   },
   "outputs": [
   ],
   "source": [
    "# read datasets\n",
    "df1_train = pd.read_csv('data/personal_train.csv', index_col=0)\n",
    "df2_train = pd.read_csv('data/other_train.csv', index_col=0)\n",
    "\n",
    "df1_test = pd.read_csv('data/personal_test.csv', index_col=0)\n",
    "df2_test = pd.read_csv('data/other_test.csv', index_col=0)\n",
    "\n",
    "df1_valid = pd.read_csv('data/personal_valid.csv', index_col=0)\n",
    "df2_valid = pd.read_csv('data/other_valid.csv', index_col=0)"
   ]
  },
  {
   "cell_type": "markdown",
   "metadata": {
    "collapsed": false
   },
   "source": [
    "### Merge datasets\n",
    "\n",
    "We need to merge both datasets into one following order rule - the order of rows in *personal* dataframe has to be observed. In previous analysis, we found that *name* and *address* would be used for merging:"
   ]
  },
  {
   "cell_type": "code",
   "execution_count": 3,
   "metadata": {
    "collapsed": false
   },
   "outputs": [
   ],
   "source": [
    "def merge_remove_duplicates(df1, df2, on=[]):\n",
    "    return pd.merge(df1, df2.groupby(on).apply(lambda x: x.ffill().bfill()).drop_duplicates(), on=on)"
   ]
  },
  {
   "cell_type": "code",
   "execution_count": 4,
   "metadata": {
    "collapsed": false
   },
   "outputs": [
   ],
   "source": [
    "df_train_raw = merge_remove_duplicates(df1_train, df2_train, on=[\"name\", \"address\"])\n",
    "df_test_raw = merge_remove_duplicates(df1_test, df2_test, on=[\"name\", \"address\"])\n",
    "df_valid_raw = merge_remove_duplicates(df1_valid, df2_valid, on=[\"name\", \"address\"])"
   ]
  },
  {
   "cell_type": "markdown",
   "metadata": {
    "collapsed": false
   },
   "source": [
    "## Preprocessing\n",
    "\n",
    "Before data will be used for classification, we have to preprocess it. Custom classes for preprocessing pipeline were imported from *pipelines.py* file.\n",
    "\n",
    "Because only *train* and *valid* datasets contain *class* attribute, *ClassUnifier* will be applied separately. Let's create both pipelines:"
   ]
  },
  {
   "cell_type": "code",
   "execution_count": 5,
   "metadata": {
    "collapsed": false
   },
   "outputs": [
   ],
   "source": [
    "ppl = Pipeline([\n",
    "                # Data repairing\n",
    "                # ======================\n",
    "                # unify boolean values\n",
    "                ('unify_boolean', BooleanUnifier(['query hyperthyroid', 'T4U measured', 'on thyroxine', 'FTI measured', 'lithium', 'TT4 measured',\n",
    "                                                  'query hypothyroid', 'query on thyroxine', 'tumor', 'T3 measured', 'sick', 'thyroid surgery', \n",
    "                                                  'I131 treatment', 'goitre', 'TSH measured', 'on antithyroid medication', 'psych', 'TBG measured',\n",
    "                                                  'pregnant', 'hypopituitary'])),\n",
    "\n",
    "                # unify date format\n",
    "                ('date_unifier', DateFormatUnifier('date_of_birth')),\n",
    "\n",
    "                # drop column\n",
    "                ('drop_TBG_measured', DropColumn('TBG measured')),\n",
    "                ('drop_TBG', DropColumn('TBG')),\n",
    "\n",
    "                # measured columns fix\n",
    "                ('fix_measured_values',MeasuredValuesFixer(['T4U', 'FTI', 'TT4', 'TT4','TSH','T3'])),\n",
    "\n",
    "                # expand column\n",
    "                ('expand_personal_info', ColumnExpander()),\n",
    "\n",
    "                # unify nan values\n",
    "                ('nan_unify_FTI', NanUnifier(['FTI', 'sex', 'origin', 'occupation'])),\n",
    "\n",
    "                # transform data type\n",
    "                ('column_to_number_FTI', ColumnToNumber('FTI')),\n",
    "\n",
    "                # ======================\n",
    "\n",
    "                # Data normalization\n",
    "                # ======================\n",
    "                ('norm_numerical', Normalizer(['T4U', 'T3', 'TSH', 'TT4', 'FTI', 'age', 'education-num'])),\n",
    "                # ======================\n",
    "\n",
    "                # Outliers replacement\n",
    "                # ======================\n",
    "                ('reout_numerical', OutliersReplacer(['T4U', 'T3', 'TSH', 'TT4', 'FTI', 'age', 'education-num'])),\n",
    "                # ======================\n",
    "\n",
    "                # Filling numerical values by Linear Regression\n",
    "                # ======================\n",
    "                ('flr_T4U', NumModelFiller('T4U', LinearRegression())),\n",
    "                ('flr_TT4', NumModelFiller('TT4', LinearRegression())),\n",
    "                ('flr_T3', NumModelFiller('T3', LinearRegression())),\n",
    "                ('flr_TSH', NumModelFiller('TSH', LinearRegression())),\n",
    "                ('flr_FTI', NumModelFiller('FTI', LinearRegression())),\n",
    "                ('flr_age', NumModelFiller('age', LinearRegression())),\n",
    "                ('flr_education_num', NumModelFiller('education-num', LinearRegression())),\n",
    "                ('flr_fnlwgt', NumModelFiller('fnlwgt', LinearRegression())),\n",
    "                ('flr_capital_loss', NumModelFiller('capital-loss', LinearRegression())),\n",
    "                ('flr_capital_gain', NumModelFiller('capital-gain', LinearRegression())),\n",
    "                ('flr_hours_per_week', NumModelFiller('hours-per-week', LinearRegression())),\n",
    "                # ======================\n",
    "\n",
    "                # Filling categorical values by RF\n",
    "                # ======================\n",
    "                ('fill_rf_sex', CategoricalModelFiller('sex', RandomForestClassifier(n_estimators=100, max_depth=7))),\n",
    "                ('fill_rf_pregnant', CategoricalModelFiller('pregnant', RandomForestClassifier(n_estimators=100, max_depth=7))),\n",
    "                ('fill_rf_tumor', CategoricalModelFiller('tumor', RandomForestClassifier(n_estimators=100, max_depth=7))),\n",
    "                ('fill_rf_occupation', CategoricalModelFiller('occupation', RandomForestClassifier(n_estimators=100, max_depth=7))),\n",
    "                ('fill_rf_origin', CategoricalModelFiller('origin', RandomForestClassifier(n_estimators=100, max_depth=7))),\n",
    "                ('fill_rf_query_hypothyroid', CategoricalModelFiller('query hypothyroid', RandomForestClassifier(n_estimators=100, max_depth=7))),\n",
    "                ('fill_rf_query_hyperthyroid', CategoricalModelFiller('query hyperthyroid', RandomForestClassifier(n_estimators=100, max_depth=7))),\n",
    "                ('fill_rf_on_thyroxine', CategoricalModelFiller('on thyroxine', RandomForestClassifier(n_estimators=100, max_depth=7))),\n",
    "                ('fill_rf_sick', CategoricalModelFiller('sick', RandomForestClassifier(n_estimators=100, max_depth=7))),\n",
    "                ('fill_rf_thyroid_surgery', CategoricalModelFiller('thyroid surgery', RandomForestClassifier(n_estimators=100, max_depth=7))),\n",
    "                ('fill_rf_workclass', CategoricalModelFiller('workclass', RandomForestClassifier(n_estimators=100, max_depth=7))),\n",
    "                ('fill_rf_I131_treatment', CategoricalModelFiller('I131 treatment', RandomForestClassifier(n_estimators=100, max_depth=7))),\n",
    "                ('fill_rf_hypopituitary', CategoricalModelFiller('hypopituitary', RandomForestClassifier(n_estimators=100, max_depth=7))),\n",
    "                ('fill_rf_query_on_thyroxine', CategoricalModelFiller('query on thyroxine', RandomForestClassifier(n_estimators=100, max_depth=7))),\n",
    "                ('fill_rf_on_antithyroid_medication', CategoricalModelFiller('on antithyroid medication', RandomForestClassifier(n_estimators=100, max_depth=7))),\n",
    "                ('fill_rf_referral_source', CategoricalModelFiller('referral source', RandomForestClassifier(n_estimators=100, max_depth=7))),\n",
    "                ('fill_rf_psych', CategoricalModelFiller('psych', RandomForestClassifier(n_estimators=100, max_depth=7))),\n",
    "                \n",
    "                # Filling categorical with most frequent value\n",
    "                # ======================\n",
    "                ('fill_mf_date_of_birth', CategoricalMostFrequentFiller(['date_of_birth'])),\n",
    "                ('fill_mf_study', CategoricalMostFrequentFiller(['study'])),\n",
    "                ('fill_mf_status1', CategoricalMostFrequentFiller(['status1'])),\n",
    "                ('fill_mf_status2', CategoricalMostFrequentFiller(['status2']))\n",
    "              ])\n",
    "\n",
    "ppl_class_unifier = Pipeline([\n",
    "        ('class_unifier', ClassUnifier())\n",
    "    ])"
   ]
  },
  {
   "cell_type": "markdown",
   "metadata": {
    "collapsed": false
   },
   "source": [
    "Created pipelines can be now used to preprocess our data. Pipeline with *ClassUnifier* will not be applied to *test* dataframe as mentioned before. "
   ]
  },
  {
   "cell_type": "code",
   "execution_count": 6,
   "metadata": {
    "collapsed": false,
    "scrolled": true
   },
   "outputs": [
    {
     "name": "stdout",
     "output_type": "stream",
     "text": [
      "Score for column T4U: -0.00376015380089442\n",
      "Score for column TT4: -0.0044668429893978435\n",
      "Score for column T3: -0.07919221538796\n",
      "Score for column TSH: -1.875364426297588\n",
      "Score for column FTI: -0.0037999347889374536\n",
      "Score for column age: -0.16674494625564273\n",
      "Score for column education-num: -0.6837425642570153\n",
      "Score for column fnlwgt: -10981116919.264507\n",
      "Score for column capital-loss: -133615.96406947292\n",
      "Score for column capital-gain: -62593728.38294051\n",
      "Score for column hours-per-week: -145.20317310705107\n",
      "Score for column sex: 0.7133480644304377\n",
      "Score for column pregnant: 0.9875367163982725\n",
      "Score for column tumor: 0.9758685137732224\n",
      "Score for column occupation: 0.2872630983261446\n",
      "Score for column origin: 0.913027184835275\n",
      "Score for column query hypothyroid: 0.9409968592070609\n",
      "Score for column query hyperthyroid: 0.9392093921275535\n",
      "Score for column on thyroxine: 0.8802095077941491\n",
      "Score for column sick: 0.9611126681614349\n",
      "Score for column thyroid surgery: 0.9861446277315112\n",
      "Score for column workclass: 0.7153235626217416\n",
      "Score for column I131 treatment: 0.9839124848743681\n",
      "Score for column hypopituitary: 1.0\n",
      "Score for column query on thyroxine: 0.9865891255605381\n",
      "Score for column on antithyroid medication: 0.9879344170403586\n",
      "Score for column referral source: 0.6450673947187027\n",
      "Score for column psych: 0.9512770457837721\n"
     ]
    }
   ],
   "source": [
    "df_train = ppl.fit_transform(df_train_raw)\n",
    "df_valid = ppl.transform(df_valid_raw)\n",
    "\n",
    "df_train = ppl_class_unifier.fit_transform(df_train)\n",
    "df_valid = ppl_class_unifier.transform(df_valid)\n",
    "\n",
    "df_test = ppl.transform(df_test_raw)"
   ]
  },
  {
   "cell_type": "markdown",
   "metadata": {
    "collapsed": false
   },
   "source": [
    "Our dataframes are now preprocessed. We can check scores for predictions of filling values.\n",
    "\n",
    "Let's check how data look like after preprocessing:"
   ]
  },
  {
   "cell_type": "code",
   "execution_count": 7,
   "metadata": {
    "collapsed": false
   },
   "outputs": [
    {
     "data": {
      "text/html": [
       "<div>\n",
       "<style scoped>\n",
       "    .dataframe tbody tr th:only-of-type {\n",
       "        vertical-align: middle;\n",
       "    }\n",
       "\n",
       "    .dataframe tbody tr th {\n",
       "        vertical-align: top;\n",
       "    }\n",
       "\n",
       "    .dataframe thead th {\n",
       "        text-align: right;\n",
       "    }\n",
       "</style>\n",
       "<table border=\"1\" class=\"dataframe\">\n",
       "  <thead>\n",
       "    <tr style=\"text-align: right;\">\n",
       "      <th></th>\n",
       "      <th>name</th>\n",
       "      <th>address</th>\n",
       "      <th>age</th>\n",
       "      <th>sex</th>\n",
       "      <th>date_of_birth</th>\n",
       "      <th>query hyperthyroid</th>\n",
       "      <th>T4U measured</th>\n",
       "      <th>FTI measured</th>\n",
       "      <th>lithium</th>\n",
       "      <th>TT4</th>\n",
       "      <th>...</th>\n",
       "      <th>education-num</th>\n",
       "      <th>psych</th>\n",
       "      <th>occupation</th>\n",
       "      <th>pregnant</th>\n",
       "      <th>bred</th>\n",
       "      <th>origin</th>\n",
       "      <th>study</th>\n",
       "      <th>status1</th>\n",
       "      <th>status2</th>\n",
       "      <th>class_status</th>\n",
       "    </tr>\n",
       "  </thead>\n",
       "  <tbody>\n",
       "    <tr>\n",
       "      <th>0</th>\n",
       "      <td>Terry Terry</td>\n",
       "      <td>11818 Lori Crossing Apt. 802\\r\\nPughstad, DC 7...</td>\n",
       "      <td>4.143135</td>\n",
       "      <td>M</td>\n",
       "      <td>12/09/1955</td>\n",
       "      <td>False</td>\n",
       "      <td>False</td>\n",
       "      <td>False</td>\n",
       "      <td>False</td>\n",
       "      <td>4.418841</td>\n",
       "      <td>...</td>\n",
       "      <td>2.197225</td>\n",
       "      <td>False</td>\n",
       "      <td>Transport-moving</td>\n",
       "      <td>False</td>\n",
       "      <td>white</td>\n",
       "      <td>united-states</td>\n",
       "      <td>hs-grad</td>\n",
       "      <td>divorced</td>\n",
       "      <td>unmarried</td>\n",
       "      <td>negative</td>\n",
       "    </tr>\n",
       "    <tr>\n",
       "      <th>1</th>\n",
       "      <td>Edith Boudreaux</td>\n",
       "      <td>PSC 4657, Box 5446\\r\\nAPO AP 58412</td>\n",
       "      <td>4.290459</td>\n",
       "      <td>F</td>\n",
       "      <td>30/04/1945</td>\n",
       "      <td>False</td>\n",
       "      <td>True</td>\n",
       "      <td>True</td>\n",
       "      <td>False</td>\n",
       "      <td>4.787492</td>\n",
       "      <td>...</td>\n",
       "      <td>2.426560</td>\n",
       "      <td>False</td>\n",
       "      <td>Prof-specialty</td>\n",
       "      <td>False</td>\n",
       "      <td>white</td>\n",
       "      <td>united-states</td>\n",
       "      <td>bachelors</td>\n",
       "      <td>never-married</td>\n",
       "      <td>own-child</td>\n",
       "      <td>negative</td>\n",
       "    </tr>\n",
       "    <tr>\n",
       "      <th>2</th>\n",
       "      <td>Janet Washington</td>\n",
       "      <td>Unit 9759 Box 9470\\r\\nDPO AP 45549</td>\n",
       "      <td>4.304065</td>\n",
       "      <td>F</td>\n",
       "      <td>06/06/1944</td>\n",
       "      <td>False</td>\n",
       "      <td>True</td>\n",
       "      <td>True</td>\n",
       "      <td>False</td>\n",
       "      <td>4.727388</td>\n",
       "      <td>...</td>\n",
       "      <td>2.510752</td>\n",
       "      <td>False</td>\n",
       "      <td>Craft-repair</td>\n",
       "      <td>False</td>\n",
       "      <td>white</td>\n",
       "      <td>united-states</td>\n",
       "      <td>hs_grad</td>\n",
       "      <td>divorced</td>\n",
       "      <td>unmarried</td>\n",
       "      <td>negative</td>\n",
       "    </tr>\n",
       "    <tr>\n",
       "      <th>3</th>\n",
       "      <td>Margaret Chabot</td>\n",
       "      <td>137 Lewis Flat Suite 762\\r\\nWest Elizabeth, AL...</td>\n",
       "      <td>3.891820</td>\n",
       "      <td>F</td>\n",
       "      <td>01/10/1969</td>\n",
       "      <td>False</td>\n",
       "      <td>True</td>\n",
       "      <td>True</td>\n",
       "      <td>False</td>\n",
       "      <td>5.209486</td>\n",
       "      <td>...</td>\n",
       "      <td>2.302585</td>\n",
       "      <td>False</td>\n",
       "      <td>Adm-clerical</td>\n",
       "      <td>False</td>\n",
       "      <td>white</td>\n",
       "      <td>united-states</td>\n",
       "      <td>some-college</td>\n",
       "      <td>divorced</td>\n",
       "      <td>unmarried</td>\n",
       "      <td>negative</td>\n",
       "    </tr>\n",
       "    <tr>\n",
       "      <th>4</th>\n",
       "      <td>Colleen Satterwhite</td>\n",
       "      <td>995 Frank Stravenue\\r\\nSouth Matthewport, TX 8...</td>\n",
       "      <td>2.995732</td>\n",
       "      <td>F</td>\n",
       "      <td>08/01/2016</td>\n",
       "      <td>False</td>\n",
       "      <td>True</td>\n",
       "      <td>True</td>\n",
       "      <td>False</td>\n",
       "      <td>4.976734</td>\n",
       "      <td>...</td>\n",
       "      <td>2.197225</td>\n",
       "      <td>False</td>\n",
       "      <td>Other-service</td>\n",
       "      <td>False</td>\n",
       "      <td>black</td>\n",
       "      <td>united-states</td>\n",
       "      <td>hs-grad</td>\n",
       "      <td>never-married</td>\n",
       "      <td>unmarried</td>\n",
       "      <td>negative</td>\n",
       "    </tr>\n",
       "  </tbody>\n",
       "</table>\n",
       "<p>5 rows × 45 columns</p>\n",
       "</div>"
      ]
     },
     "execution_count": 7,
     "metadata": {
     },
     "output_type": "execute_result"
    }
   ],
   "source": [
    "df_train.head()"
   ]
  },
  {
   "cell_type": "markdown",
   "metadata": {
    "collapsed": false
   },
   "source": [
    "Similarly, valid and test datasets have been preprocessed."
   ]
  },
  {
   "cell_type": "markdown",
   "metadata": {
    "collapsed": false
   },
   "source": [
    "## Choosing columns and encoding values\n",
    "\n",
    "Last step before data are ready for classification is to choose columns and encode categorical values. For this purpose, OneHotEncoding will be used. \n",
    "\n",
    "Saving our labels into separate variables is important for fitting classifiers:"
   ]
  },
  {
   "cell_type": "code",
   "execution_count": 8,
   "metadata": {
    "collapsed": false
   },
   "outputs": [
   ],
   "source": [
    "y_train = df_train['class_status']\n",
    "y_test = df_valid['class_status']"
   ]
  },
  {
   "cell_type": "markdown",
   "metadata": {
    "collapsed": false
   },
   "source": [
    "Let's select columns and encode categorical attributes. Firstly, we will try our choice of attributes based on previous data analysis:"
   ]
  },
  {
   "cell_type": "code",
   "execution_count": 9,
   "metadata": {
    "collapsed": false
   },
   "outputs": [
   ],
   "source": [
    "ppl_select_encode = Pipeline([\n",
    "                        ('col_select', ColumnsSelector(['T4U', 'TT4', 'TSH', 'T3', 'FTI', 'sex', 'pregnant'])),\n",
    "                        ('cat_encode', ColumnsEncoder(['sex', 'pregnant']))\n",
    "                    ])"
   ]
  },
  {
   "cell_type": "code",
   "execution_count": 10,
   "metadata": {
    "collapsed": false
   },
   "outputs": [
   ],
   "source": [
    "X_train = ppl_select_encode.fit_transform(df_train)\n",
    "X_test = ppl_select_encode.transform(df_valid)\n",
    "X_test_final = ppl_select_encode.transform(df_test)"
   ]
  },
  {
   "cell_type": "markdown",
   "metadata": {
    "collapsed": false
   },
   "source": [
    "Because our data is heavily unbalanced, we will try **oversampling**. We will try 2 methods of oversampling - *random* and *SMOTE* from imbalanced learn library (https://imbalanced-learn.readthedocs.io/en/stable/over_sampling.html)."
   ]
  },
  {
   "cell_type": "code",
   "execution_count": 11,
   "metadata": {
    "collapsed": false
   },
   "outputs": [
   ],
   "source": [
    "X_res_rand, y_res_rand = RandomOverSampler(random_state=0).fit_resample(X_train, y_train)\n",
    "X_res_smote, y_res_smote = SMOTE(random_state=0).fit_resample(X_train, y_train)"
   ]
  },
  {
   "cell_type": "markdown",
   "metadata": {
    "collapsed": false
   },
   "source": [
    "## Classification\n",
    "\n",
    "At this section, we will try to classify **class**, that indicates whether patient is ill or not. We will use selection of  preprocessed data."
   ]
  },
  {
   "cell_type": "markdown",
   "metadata": {
    "collapsed": false
   },
   "source": [
    "### Classification rules\n",
    "\n",
    "At first, we will try to choose classification rules manually, based on previous analysis. For recapitulation, let's check plots of hormones values distributions:"
   ]
  },
  {
   "cell_type": "code",
   "execution_count": 12,
   "metadata": {
    "collapsed": false
   },
   "outputs": [
    {
     "data": {
      "image/png": "[encoded data removed]"
     },
     "execution_count": 12,
     "metadata": {
     },
     "output_type": "execute_result"
    }
   ],
   "source": [
    "plt.rcParams['figure.figsize'] = (20, 5)\n",
    "\n",
    "# Subplot of T4U hormone\n",
    "plt.subplot(1, 4, 1)\n",
    "sns.boxplot('class_status','T4U', data=df_train)\n",
    "plt.title('Distribution of T4U values')\n",
    "plt.xticks(rotation=45)\n",
    "\n",
    "# Subplot of TT4 hormone\n",
    "plt.subplot(1, 4, 2)\n",
    "sns.boxplot('class_status','TT4', data=df_train)\n",
    "plt.title('Distribution of TT4 values')\n",
    "plt.xticks(rotation=45)\n",
    "\n",
    "# Subplot of T3 hormone\n",
    "plt.subplot(1, 4, 3)\n",
    "sns.boxplot('class_status','T3', data=df_train)\n",
    "plt.title('Distribution of T3 values')\n",
    "plt.xticks(rotation=45)\n",
    "\n",
    "# Subplot of TSH hormone\n",
    "plt.subplot(1, 4, 4)\n",
    "sns.boxplot('class_status','TSH', data=df_train)\n",
    "plt.title('Distribution of TSH values')\n",
    "plt.xticks(rotation=45)\n",
    "\n",
    "plt.tight_layout()"
   ]
  },
  {
   "cell_type": "markdown",
   "metadata": {
    "collapsed": false
   },
   "source": [
    "Those attributes (hormones) have been identified as useful for prediction.\n",
    "\n",
    "We will create **3 classifiers** using manually created rules:\n",
    "- two classifiers working with T4U and T3 values  \n",
    "- third classifier which is closer to usual sklearn classifier"
   ]
  },
  {
   "cell_type": "markdown",
   "metadata": {
    "collapsed": false
   },
   "source": [
    "#### Manual classifier working with **T4U** values"
   ]
  },
  {
   "cell_type": "code",
   "execution_count": 13,
   "metadata": {
    "collapsed": false,
    "scrolled": true
   },
   "outputs": [
   ],
   "source": [
    "# T4U Negative\n",
    "T4U_N_Q1 = -0.12783337150988489\n",
    "T4U_N_Q3 = 0.058268908123975824\n",
    "\n",
    "# T4U increased binding protein\n",
    "T4U_I_Q1 = 0.1906203596086497\n",
    "T4U_I_Q3 = 0.28517894223366247\n",
    "\n",
    "# T4U decreased binding protein\n",
    "T4U_D_Q1 = -0.2876820724517809\n",
    "T4U_D_Q3 = -0.2876820724517809\n",
    "\n",
    "unique_class_status = y_train.unique()\n",
    "\n",
    "def predict_T4U(df):\n",
    "    predictions = []\n",
    "    for index, row in df.iterrows():\n",
    "        scores = [0,0,0]\n",
    "\n",
    "        max_ = 0\n",
    "        max_counter = 0\n",
    "        index = 0\n",
    "        \n",
    "        value = float(row['T4U'])\n",
    "        \n",
    "        if (value >= T4U_N_Q1 and value <= T4U_N_Q3):\n",
    "            scores[0] += 1\n",
    "        if (value >= T4U_I_Q1 and value <= T4U_I_Q3):\n",
    "            scores[1] += 2\n",
    "        if (value >= T4U_D_Q1 and value <= T4U_D_Q3):\n",
    "            scores[2] += 2\n",
    "\n",
    "        for i in range(0,3):\n",
    "            if (scores[i] > max_):\n",
    "                max_ = scores[i]\n",
    "                max_counter = 0\n",
    "                index = i\n",
    "            elif (scores[i] == max_):\n",
    "                max_counter += 1\n",
    "                \n",
    "        predictions.append(unique_class_status[index])\n",
    "\n",
    "    return predictions"
   ]
  },
  {
   "cell_type": "markdown",
   "metadata": {
    "collapsed": false
   },
   "source": [
    "#### Manual classifier working with **T3** values"
   ]
  },
  {
   "cell_type": "code",
   "execution_count": 14,
   "metadata": {
    "collapsed": false
   },
   "outputs": [
   ],
   "source": [
    "# T3 Negative\n",
    "T3_N_Q1 = 0.47000362924573563\n",
    "T3_N_Q3 = 0.8317367937769585\n",
    "\n",
    "# T3 increased binding protein\n",
    "T3_I_Q1 = 1.0647107369924282\n",
    "T3_I_Q3 = 1.2809338454620642\n",
    "\n",
    "# T3 decreased binding protein\n",
    "T3_D_Q1 = -0.2231435513142097\n",
    "T3_D_Q3 = 0.03408335643289209\n",
    "\n",
    "unique_class_status = y_train.unique()\n",
    "\n",
    "def predict_T3(df):\n",
    "    predictions = []\n",
    "\n",
    "    for index, row in df.iterrows():\n",
    "        scores = [0,0,0]\n",
    "\n",
    "        max_ = 0\n",
    "        max_counter = 0\n",
    "        index = 0\n",
    "\n",
    "        value = float(row['T3'])\n",
    "\n",
    "        if (value >= T3_N_Q1 and value <= T3_N_Q3):\n",
    "            scores[0] += 1\n",
    "\n",
    "        if (value >= T3_I_Q1 and value <= T3_I_Q3):\n",
    "            scores[1] += 1\n",
    "\n",
    "        if (value >= T3_D_Q1 and value <= T3_D_Q3):\n",
    "            scores[2] += 1\n",
    "\n",
    "        for i in range(0,3):\n",
    "            if (scores[i] > max_):\n",
    "                max_ = scores[i]\n",
    "                max_counter = 0\n",
    "                index = i\n",
    "            elif (scores[i] == max_):\n",
    "                max_counter += 1\n",
    "\n",
    "        predictions.append(unique_class_status[index])\n",
    "\n",
    "    return predictions"
   ]
  },
  {
   "cell_type": "markdown",
   "metadata": {
    "collapsed": false
   },
   "source": [
    "Let's try to make predictions with these classifiers and see the results:"
   ]
  },
  {
   "cell_type": "code",
   "execution_count": 15,
   "metadata": {
    "collapsed": false,
    "scrolled": true
   },
   "outputs": [
   ],
   "source": [
    "pred_T4U_test = predict_T4U(X_test)\n",
    "pred_T3_test = predict_T3(X_test)"
   ]
  },
  {
   "cell_type": "markdown",
   "metadata": {
    "collapsed": false
   },
   "source": [
    "The results aren't as good as we could've expected. However, at least the **classifier** working with **T4U** values isn't that bad: "
   ]
  },
  {
   "cell_type": "code",
   "execution_count": 16,
   "metadata": {
    "collapsed": false
   },
   "outputs": [
    {
     "name": "stdout",
     "output_type": "stream",
     "text": [
      "T4U\n",
      "                           precision    recall  f1-score   support\n",
      "\n",
      "decreased binding protein       0.18      1.00      0.30         5\n",
      "increased binding protein       0.25      0.72      0.38        25\n",
      "                 negative       0.99      0.92      0.95       942\n",
      "\n",
      "                micro avg       0.91      0.91      0.91       972\n",
      "                macro avg       0.47      0.88      0.54       972\n",
      "             weighted avg       0.97      0.91      0.94       972\n",
      "\n",
      "T3\n",
      "                           precision    recall  f1-score   support\n",
      "\n",
      "decreased binding protein       0.04      0.60      0.07         5\n",
      "increased binding protein       0.26      0.56      0.36        25\n",
      "                 negative       0.98      0.88      0.93       942\n",
      "\n",
      "                micro avg       0.87      0.87      0.87       972\n",
      "                macro avg       0.43      0.68      0.45       972\n",
      "             weighted avg       0.96      0.87      0.91       972\n",
      "\n"
     ]
    }
   ],
   "source": [
    "print('T4U\\n' + classification_report(y_test, pred_T4U_test))\n",
    "print('T3\\n' + classification_report(y_test, pred_T3_test))"
   ]
  },
  {
   "cell_type": "markdown",
   "metadata": {
    "collapsed": false
   },
   "source": [
    "Let's implement the 3rd manual classifier but this time in a more sofisticated way. It is implemented as usual sklearn classifier, so fit and predict methods are available. The classifier uses only numerical attributes and the rules which were previously manually defined. It automatically gets boundary values for each attribute by fitting the data. According to boundaries a score is assigned. In the end it allows to make decision (prediction) which class it is supposed to be."
   ]
  },
  {
   "cell_type": "code",
   "execution_count": 17,
   "metadata": {
    "collapsed": false
   },
   "outputs": [
   ],
   "source": [
    "class ManualRulesClassifier():\n",
    "    def __init__(self):\n",
    "        pass\n",
    "    \n",
    "    def get_ranges(self, columns, label):\n",
    "        self.columns_class_ranges = {}\n",
    "        for column in columns:\n",
    "            class_ranges = []\n",
    "            for class_ in self.unique_class_status:\n",
    "                Q1 = self.train[label == class_][column].quantile(.25)\n",
    "                Q2 = self.train[label == class_][column].quantile(.50)\n",
    "                Q3 = self.train[label == class_][column].quantile(.75)\n",
    "                class_ranges.append([Q1,Q2,Q3])\n",
    "            self.columns_class_ranges[column] = class_ranges\n",
    "   \n",
    "    def get_prediction(self, row):\n",
    "        scores = [0,0,0]\n",
    "        for key, value in self.columns_class_ranges.items():\n",
    "            value = row[key]\n",
    "            for i in range(0,3):\n",
    "                Q1 = self.columns_class_ranges[key][i][0]\n",
    "                Q2 = self.columns_class_ranges[key][i][1]\n",
    "                Q3 = self.columns_class_ranges[key][i][2]\n",
    "                \n",
    "                lower_boundary = Q1 - (Q3 - Q1) * 1.5\n",
    "                upper_boundary = Q3 + (Q3 - Q1) * 1.5\n",
    "\n",
    "                if (value >= Q1 and value <= Q3):\n",
    "                    scores[i] += 2\n",
    "                elif ((value < Q1 and value >= lower_boundary) or (value > Q3 and value <= upper_boundary)):\n",
    "                    scores[i] += 1\n",
    "                elif (value == Q2):\n",
    "                    scores[i] += 3\n",
    "                \n",
    "        max_ = 0\n",
    "        max_counter = 0\n",
    "        index = 0\n",
    "        \n",
    "        for i in range(0,3):\n",
    "            if (scores[i] > max_):\n",
    "                max_ = scores[i]\n",
    "                max_counter = 0\n",
    "                index = i\n",
    "            elif (scores[i] == max_):\n",
    "                max_counter += 1\n",
    "        \n",
    "        return self.unique_class_status[index]\n",
    "    \n",
    "    def fit(self, df_train, y_train):\n",
    "        self.train = df_train\n",
    "        self.unique_class_status = y_train.unique()\n",
    "        self.get_ranges(['T4U', 'T3', 'TT4', 'TSH'], y_train)\n",
    "\n",
    "    def predict(self, df_test):\n",
    "        predictions = []\n",
    "        for index, row in df_test.iterrows():\n",
    "            predictions.append(self.get_prediction(row))\n",
    "        return predictions"
   ]
  },
  {
   "cell_type": "markdown",
   "metadata": {
    "collapsed": false
   },
   "source": [
    "Now let's create classifier, fit the data and predict values:"
   ]
  },
  {
   "cell_type": "code",
   "execution_count": 18,
   "metadata": {
    "collapsed": false
   },
   "outputs": [
   ],
   "source": [
    "manual_rules_clf = ManualRulesClassifier()"
   ]
  },
  {
   "cell_type": "code",
   "execution_count": 19,
   "metadata": {
    "collapsed": false,
    "scrolled": true
   },
   "outputs": [
   ],
   "source": [
    "manual_rules_clf.fit(X_train, y_train)\n",
    "y_pred = manual_rules_clf.predict(X_test)"
   ]
  },
  {
   "cell_type": "markdown",
   "metadata": {
    "collapsed": false
   },
   "source": [
    "Records are predicted, check the accuracy score:"
   ]
  },
  {
   "cell_type": "code",
   "execution_count": 20,
   "metadata": {
    "collapsed": false
   },
   "outputs": [
    {
     "data": {
      "text/plain": [
       "0.8816872427983539"
      ]
     },
     "execution_count": 20,
     "metadata": {
     },
     "output_type": "execute_result"
    }
   ],
   "source": [
    "accuracy_score(y_test, y_pred)"
   ]
  },
  {
   "cell_type": "markdown",
   "metadata": {
    "collapsed": false
   },
   "source": [
    "Accuracy score is not bad in this case, but because of heavily unbalanced data this score is not representative enough. Let's check a different table with scores:"
   ]
  },
  {
   "cell_type": "code",
   "execution_count": 21,
   "metadata": {
    "collapsed": false
   },
   "outputs": [
    {
     "name": "stdout",
     "output_type": "stream",
     "text": [
      "                           precision    recall  f1-score   support\n",
      "\n",
      "decreased binding protein       0.13      0.80      0.23         5\n",
      "increased binding protein       0.19      0.80      0.31        25\n",
      "                 negative       0.99      0.88      0.94       942\n",
      "\n",
      "                micro avg       0.88      0.88      0.88       972\n",
      "                macro avg       0.44      0.83      0.49       972\n",
      "             weighted avg       0.97      0.88      0.92       972\n",
      "\n"
     ]
    }
   ],
   "source": [
    "print(classification_report(y_test, y_pred))"
   ]
  },
  {
   "cell_type": "markdown",
   "metadata": {
    "collapsed": false
   },
   "source": [
    "We've tested the 3rd classifier with various numerical attributes. We've gained even better scores than the one displayed in the table above (using T3). The problem was that even though the overall scores were higher, the scores looking at particular classes were not so satisfying. Therefore we've decided to add TSH attribute to improve these scores even though the overall scores got slightly worse."
   ]
  },
  {
   "cell_type": "markdown",
   "metadata": {
    "collapsed": false
   },
   "source": [
    "### DecisionTree\n",
    "\n",
    "As decision tree is based on finding rules, it seems to be a proper choice to compare with our manual rules based classifier. Parameters were chosen intuitively, but will be tuned later. Also we run *class_weight*='balanced' because of unbalanced classes."
   ]
  },
  {
   "cell_type": "code",
   "execution_count": 22,
   "metadata": {
    "collapsed": false
   },
   "outputs": [
   ],
   "source": [
    "dt = DecisionTreeClassifier(max_depth=10, class_weight='balanced', random_state=0)"
   ]
  },
  {
   "cell_type": "code",
   "execution_count": 23,
   "metadata": {
    "collapsed": false
   },
   "outputs": [
    {
     "data": {
      "text/plain": [
       "DecisionTreeClassifier(class_weight='balanced', criterion='gini',\n",
       "            max_depth=10, max_features=None, max_leaf_nodes=None,\n",
       "            min_impurity_decrease=0.0, min_impurity_split=None,\n",
       "            min_samples_leaf=1, min_samples_split=2,\n",
       "            min_weight_fraction_leaf=0.0, presort=False, random_state=0,\n",
       "            splitter='best')"
      ]
     },
     "execution_count": 23,
     "metadata": {
     },
     "output_type": "execute_result"
    }
   ],
   "source": [
    "dt.fit(X_train, y_train)"
   ]
  },
  {
   "cell_type": "code",
   "execution_count": 24,
   "metadata": {
    "collapsed": false
   },
   "outputs": [
   ],
   "source": [
    "y_pred = dt.predict(X_test)"
   ]
  },
  {
   "cell_type": "markdown",
   "metadata": {
    "collapsed": false
   },
   "source": [
    "Evaluating the prediction by accuracy:"
   ]
  },
  {
   "cell_type": "code",
   "execution_count": 25,
   "metadata": {
    "collapsed": false
   },
   "outputs": [
    {
     "data": {
      "text/plain": [
       "0.9650205761316872"
      ]
     },
     "execution_count": 25,
     "metadata": {
     },
     "output_type": "execute_result"
    }
   ],
   "source": [
    "accuracy_score(y_test, y_pred)"
   ]
  },
  {
   "cell_type": "markdown",
   "metadata": {
    "collapsed": false
   },
   "source": [
    "Other metrics for evaluating the prediction are displayed in table below:"
   ]
  },
  {
   "cell_type": "code",
   "execution_count": 26,
   "metadata": {
    "collapsed": false
   },
   "outputs": [
    {
     "name": "stdout",
     "output_type": "stream",
     "text": [
      "                           precision    recall  f1-score   support\n",
      "\n",
      "decreased binding protein       0.67      0.80      0.73         5\n",
      "increased binding protein       0.43      0.72      0.54        25\n",
      "                 negative       0.99      0.97      0.98       942\n",
      "\n",
      "                micro avg       0.97      0.97      0.97       972\n",
      "                macro avg       0.70      0.83      0.75       972\n",
      "             weighted avg       0.98      0.97      0.97       972\n",
      "\n"
     ]
    }
   ],
   "source": [
    "print(classification_report(y_test, y_pred))"
   ]
  },
  {
   "cell_type": "markdown",
   "metadata": {
    "collapsed": false
   },
   "source": [
    "Other settings for decision tree classifier, this time without *weight_class* = 'balanced' as we try to balance the unbalanced class by *random oversampling*."
   ]
  },
  {
   "cell_type": "markdown",
   "metadata": {
    "collapsed": false
   },
   "source": [
    "#### DecisionTree with random oversampling"
   ]
  },
  {
   "cell_type": "code",
   "execution_count": 27,
   "metadata": {
    "collapsed": false
   },
   "outputs": [
   ],
   "source": [
    "dt_2 = DecisionTreeClassifier(max_depth=10, random_state=0)"
   ]
  },
  {
   "cell_type": "code",
   "execution_count": 28,
   "metadata": {
    "collapsed": false
   },
   "outputs": [
    {
     "data": {
      "text/plain": [
       "DecisionTreeClassifier(class_weight=None, criterion='gini', max_depth=10,\n",
       "            max_features=None, max_leaf_nodes=None,\n",
       "            min_impurity_decrease=0.0, min_impurity_split=None,\n",
       "            min_samples_leaf=1, min_samples_split=2,\n",
       "            min_weight_fraction_leaf=0.0, presort=False, random_state=0,\n",
       "            splitter='best')"
      ]
     },
     "execution_count": 28,
     "metadata": {
     },
     "output_type": "execute_result"
    }
   ],
   "source": [
    "dt_2.fit(X_res_rand, y_res_rand)"
   ]
  },
  {
   "cell_type": "code",
   "execution_count": 29,
   "metadata": {
    "collapsed": false
   },
   "outputs": [
   ],
   "source": [
    "y_pred = dt_2.predict(X_test)"
   ]
  },
  {
   "cell_type": "markdown",
   "metadata": {
    "collapsed": false
   },
   "source": [
    "Also displaying table with various metrics for evalution of the prediction. The results are just slightly worse than in previous case."
   ]
  },
  {
   "cell_type": "code",
   "execution_count": 30,
   "metadata": {
    "collapsed": false
   },
   "outputs": [
    {
     "name": "stdout",
     "output_type": "stream",
     "text": [
      "                           precision    recall  f1-score   support\n",
      "\n",
      "decreased binding protein       0.57      0.80      0.67         5\n",
      "increased binding protein       0.31      0.68      0.43        25\n",
      "                 negative       0.99      0.96      0.97       942\n",
      "\n",
      "                micro avg       0.95      0.95      0.95       972\n",
      "                macro avg       0.63      0.81      0.69       972\n",
      "             weighted avg       0.97      0.95      0.96       972\n",
      "\n"
     ]
    }
   ],
   "source": [
    "print(classification_report(y_test, y_pred))"
   ]
  },
  {
   "cell_type": "markdown",
   "metadata": {
    "collapsed": false
   },
   "source": [
    "#### DecisionTree with SMOTE oversampling\n",
    "\n",
    "A different approach also using oversampling but this time with method called *smote*."
   ]
  },
  {
   "cell_type": "code",
   "execution_count": 31,
   "metadata": {
    "collapsed": false
   },
   "outputs": [
    {
     "data": {
      "text/plain": [
       "DecisionTreeClassifier(class_weight=None, criterion='gini', max_depth=10,\n",
       "            max_features=None, max_leaf_nodes=None,\n",
       "            min_impurity_decrease=0.0, min_impurity_split=None,\n",
       "            min_samples_leaf=1, min_samples_split=2,\n",
       "            min_weight_fraction_leaf=0.0, presort=False, random_state=0,\n",
       "            splitter='best')"
      ]
     },
     "execution_count": 31,
     "metadata": {
     },
     "output_type": "execute_result"
    }
   ],
   "source": [
    "dt_2.fit(X_res_smote, y_res_smote)"
   ]
  },
  {
   "cell_type": "code",
   "execution_count": 32,
   "metadata": {
    "collapsed": false
   },
   "outputs": [
   ],
   "source": [
    "y_pred = dt_2.predict(X_test)"
   ]
  },
  {
   "cell_type": "markdown",
   "metadata": {
    "collapsed": false
   },
   "source": [
    "Other metrics for evaluating the prediction are displayed in table below. There are lots of differences but let's consider the *f1-score* macro avg as the main score. The average *f1-score* is lower than in the random oversampling used previously."
   ]
  },
  {
   "cell_type": "code",
   "execution_count": 33,
   "metadata": {
    "collapsed": false
   },
   "outputs": [
    {
     "name": "stdout",
     "output_type": "stream",
     "text": [
      "                           precision    recall  f1-score   support\n",
      "\n",
      "decreased binding protein       0.33      0.80      0.47         5\n",
      "increased binding protein       0.25      0.80      0.38        25\n",
      "                 negative       0.99      0.93      0.96       942\n",
      "\n",
      "                micro avg       0.92      0.92      0.92       972\n",
      "                macro avg       0.53      0.84      0.61       972\n",
      "             weighted avg       0.97      0.92      0.94       972\n",
      "\n"
     ]
    }
   ],
   "source": [
    "print(classification_report(y_test, y_pred))"
   ]
  },
  {
   "cell_type": "markdown",
   "metadata": {
    "collapsed": false
   },
   "source": [
    "Let's visualize the tree graph of decision tree classifier rules.\n",
    "\n",
    "**Note:** Image can be large when displayed. In this case, it can be opened in browser new tab or downloaded."
   ]
  },
  {
   "cell_type": "code",
   "execution_count": 34,
   "metadata": {
    "collapsed": false
   },
   "outputs": [
    {
     "data": {
      "image/svg+xml": "<svg height=\"1266pt\" viewBox=\"0.00 0.00 5067.00 1266.00\" width=\"5067pt\" xmlns=\"http://www.w3.org/2000/svg\" xmlns:xlink=\"http://www.w3.org/1999/xlink\">\n<g class=\"graph\" id=\"graph0\" transform=\"scale(1 1) rotate(0) translate(4 1262)\">\n<title>Tree</title>\n<polygon fill=\"white\" points=\"-4,4 -4,-1262 5063,-1262 5063,4 -4,4\" stroke=\"none\"/>\n<!-- 0 -->\n<g class=\"node\" id=\"node1\"><title>0</title>\n<polygon fill=\"none\" points=\"1497,-1258 1279,-1258 1279,-1175 1497,-1175 1497,-1258\" stroke=\"black\"/>\n<text font-family=\"Times New Roman,serif\" font-size=\"14.00\" text-anchor=\"middle\" x=\"1388\" y=\"-1242.8\">T4U &lt;= -0.281</text>\n<text font-family=\"Times New Roman,serif\" font-size=\"14.00\" text-anchor=\"middle\" x=\"1388\" y=\"-1227.8\">gini = 0.667</text>\n<text font-family=\"Times New Roman,serif\" font-size=\"14.00\" text-anchor=\"middle\" x=\"1388\" y=\"-1212.8\">samples = 2237</text>\n<text font-family=\"Times New Roman,serif\" font-size=\"14.00\" text-anchor=\"middle\" x=\"1388\" y=\"-1197.8\">value = [745.667, 745.667, 745.667]</text>\n<text font-family=\"Times New Roman,serif\" font-size=\"14.00\" text-anchor=\"middle\" x=\"1388\" y=\"-1182.8\">class = negative</text>\n</g>\n<!-- 1 -->\n<g class=\"node\" id=\"node2\"><title>1</title>\n<polygon fill=\"#e58139\" fill-opacity=\"0.945098\" points=\"1350.5,-1139 1173.5,-1139 1173.5,-1056 1350.5,-1056 1350.5,-1139\" stroke=\"black\"/>\n<text font-family=\"Times New Roman,serif\" font-size=\"14.00\" text-anchor=\"middle\" x=\"1262\" y=\"-1123.8\">T3 &lt;= 0.408</text>\n<text font-family=\"Times New Roman,serif\" font-size=\"14.00\" text-anchor=\"middle\" x=\"1262\" y=\"-1108.8\">gini = 0.102</text>\n<text font-family=\"Times New Roman,serif\" font-size=\"14.00\" text-anchor=\"middle\" x=\"1262\" y=\"-1093.8\">samples = 130</text>\n<text font-family=\"Times New Roman,serif\" font-size=\"14.00\" text-anchor=\"middle\" x=\"1262\" y=\"-1078.8\">value = [745.667, 0.0, 42.34]</text>\n<text font-family=\"Times New Roman,serif\" font-size=\"14.00\" text-anchor=\"middle\" x=\"1262\" y=\"-1063.8\">class = negative</text>\n</g>\n<!-- 0&#45;&gt;1 -->\n<g class=\"edge\" id=\"edge1\"><title>0-&gt;1</title>\n<path d=\"M1344.28,-1174.91C1334.22,-1165.56 1323.43,-1155.54 1313.08,-1145.93\" fill=\"none\" stroke=\"black\"/>\n<polygon fill=\"black\" points=\"1315.35,-1143.26 1305.64,-1139.02 1310.58,-1148.39 1315.35,-1143.26\" stroke=\"black\"/>\n<text font-family=\"Times New Roman,serif\" font-size=\"14.00\" text-anchor=\"middle\" x=\"1306.56\" y=\"-1160.3\">True</text>\n</g>\n<!-- 22 -->\n<g class=\"node\" id=\"node23\"><title>22</title>\n<polygon fill=\"#39e581\" fill-opacity=\"0.054902\" points=\"1615,-1139 1415,-1139 1415,-1056 1615,-1056 1615,-1139\" stroke=\"black\"/>\n<text font-family=\"Times New Roman,serif\" font-size=\"14.00\" text-anchor=\"middle\" x=\"1515\" y=\"-1123.8\">T4U &lt;= 0.13</text>\n<text font-family=\"Times New Roman,serif\" font-size=\"14.00\" text-anchor=\"middle\" x=\"1515\" y=\"-1108.8\">gini = 0.5</text>\n<text font-family=\"Times New Roman,serif\" font-size=\"14.00\" text-anchor=\"middle\" x=\"1515\" y=\"-1093.8\">samples = 2107</text>\n<text font-family=\"Times New Roman,serif\" font-size=\"14.00\" text-anchor=\"middle\" x=\"1515\" y=\"-1078.8\">value = [0.0, 745.667, 703.327]</text>\n<text font-family=\"Times New Roman,serif\" font-size=\"14.00\" text-anchor=\"middle\" x=\"1515\" y=\"-1063.8\">class = increased binding protein</text>\n</g>\n<!-- 0&#45;&gt;22 -->\n<g class=\"edge\" id=\"edge22\"><title>0-&gt;22</title>\n<path d=\"M1432.06,-1174.91C1442.21,-1165.56 1453.09,-1155.54 1463.52,-1145.93\" fill=\"none\" stroke=\"black\"/>\n<polygon fill=\"black\" points=\"1466.03,-1148.37 1471.02,-1139.02 1461.29,-1143.22 1466.03,-1148.37\" stroke=\"black\"/>\n<text font-family=\"Times New Roman,serif\" font-size=\"14.00\" text-anchor=\"middle\" x=\"1469.99\" y=\"-1160.3\">False</text>\n</g>\n<!-- 2 -->\n<g class=\"node\" id=\"node3\"><title>2</title>\n<polygon fill=\"#e58139\" fill-opacity=\"0.964706\" points=\"1127,-1020 943,-1020 943,-937 1127,-937 1127,-1020\" stroke=\"black\"/>\n<text font-family=\"Times New Roman,serif\" font-size=\"14.00\" text-anchor=\"middle\" x=\"1035\" y=\"-1004.8\">TT4 &lt;= 4.527</text>\n<text font-family=\"Times New Roman,serif\" font-size=\"14.00\" text-anchor=\"middle\" x=\"1035\" y=\"-989.8\">gini = 0.063</text>\n<text font-family=\"Times New Roman,serif\" font-size=\"14.00\" text-anchor=\"middle\" x=\"1035\" y=\"-974.8\">samples = 81</text>\n<text font-family=\"Times New Roman,serif\" font-size=\"14.00\" text-anchor=\"middle\" x=\"1035\" y=\"-959.8\">value = [745.667, 0.0, 25.194]</text>\n<text font-family=\"Times New Roman,serif\" font-size=\"14.00\" text-anchor=\"middle\" x=\"1035\" y=\"-944.8\">class = negative</text>\n</g>\n<!-- 1&#45;&gt;2 -->\n<g class=\"edge\" id=\"edge2\"><title>1-&gt;2</title>\n<path d=\"M1183.24,-1055.91C1163.7,-1045.83 1142.63,-1034.98 1122.69,-1024.7\" fill=\"none\" stroke=\"black\"/>\n<polygon fill=\"black\" points=\"1124.11,-1021.49 1113.62,-1020.02 1120.9,-1027.71 1124.11,-1021.49\" stroke=\"black\"/>\n</g>\n<!-- 21 -->\n<g class=\"node\" id=\"node22\"><title>21</title>\n<polygon fill=\"#8139e5\" points=\"1364,-1012.5 1160,-1012.5 1160,-944.5 1364,-944.5 1364,-1012.5\" stroke=\"black\"/>\n<text font-family=\"Times New Roman,serif\" font-size=\"14.00\" text-anchor=\"middle\" x=\"1262\" y=\"-997.3\">gini = -0.0</text>\n<text font-family=\"Times New Roman,serif\" font-size=\"14.00\" text-anchor=\"middle\" x=\"1262\" y=\"-982.3\">samples = 49</text>\n<text font-family=\"Times New Roman,serif\" font-size=\"14.00\" text-anchor=\"middle\" x=\"1262\" y=\"-967.3\">value = [0.0, 0.0, 17.146]</text>\n<text font-family=\"Times New Roman,serif\" font-size=\"14.00\" text-anchor=\"middle\" x=\"1262\" y=\"-952.3\">class = decreased binding protein</text>\n</g>\n<!-- 1&#45;&gt;21 -->\n<g class=\"edge\" id=\"edge21\"><title>1-&gt;21</title>\n<path d=\"M1262,-1055.91C1262,-1045.2 1262,-1033.62 1262,-1022.78\" fill=\"none\" stroke=\"black\"/>\n<polygon fill=\"black\" points=\"1265.5,-1022.67 1262,-1012.67 1258.5,-1022.67 1265.5,-1022.67\" stroke=\"black\"/>\n</g>\n<!-- 3 -->\n<g class=\"node\" id=\"node4\"><title>3</title>\n<polygon fill=\"#e58139\" fill-opacity=\"0.976471\" points=\"795,-901 611,-901 611,-818 795,-818 795,-901\" stroke=\"black\"/>\n<text font-family=\"Times New Roman,serif\" font-size=\"14.00\" text-anchor=\"middle\" x=\"703\" y=\"-885.8\">T4U &lt;= -0.35</text>\n<text font-family=\"Times New Roman,serif\" font-size=\"14.00\" text-anchor=\"middle\" x=\"703\" y=\"-870.8\">gini = 0.048</text>\n<text font-family=\"Times New Roman,serif\" font-size=\"14.00\" text-anchor=\"middle\" x=\"703\" y=\"-855.8\">samples = 63</text>\n<text font-family=\"Times New Roman,serif\" font-size=\"14.00\" text-anchor=\"middle\" x=\"703\" y=\"-840.8\">value = [745.667, 0.0, 18.895]</text>\n<text font-family=\"Times New Roman,serif\" font-size=\"14.00\" text-anchor=\"middle\" x=\"703\" y=\"-825.8\">class = negative</text>\n</g>\n<!-- 2&#45;&gt;3 -->\n<g class=\"edge\" id=\"edge3\"><title>2-&gt;3</title>\n<path d=\"M942.96,-945.064C900.052,-929.943 848.857,-911.902 804.796,-896.374\" fill=\"none\" stroke=\"black\"/>\n<polygon fill=\"black\" points=\"805.813,-893.022 795.219,-892.999 803.487,-899.624 805.813,-893.022\" stroke=\"black\"/>\n</g>\n<!-- 20 -->\n<g class=\"node\" id=\"node21\"><title>20</title>\n<polygon fill=\"#8139e5\" points=\"1137,-893.5 933,-893.5 933,-825.5 1137,-825.5 1137,-893.5\" stroke=\"black\"/>\n<text font-family=\"Times New Roman,serif\" font-size=\"14.00\" text-anchor=\"middle\" x=\"1035\" y=\"-878.3\">gini = -0.0</text>\n<text font-family=\"Times New Roman,serif\" font-size=\"14.00\" text-anchor=\"middle\" x=\"1035\" y=\"-863.3\">samples = 18</text>\n<text font-family=\"Times New Roman,serif\" font-size=\"14.00\" text-anchor=\"middle\" x=\"1035\" y=\"-848.3\">value = [0.0, 0.0, 6.298]</text>\n<text font-family=\"Times New Roman,serif\" font-size=\"14.00\" text-anchor=\"middle\" x=\"1035\" y=\"-833.3\">class = decreased binding protein</text>\n</g>\n<!-- 2&#45;&gt;20 -->\n<g class=\"edge\" id=\"edge20\"><title>2-&gt;20</title>\n<path d=\"M1035,-936.907C1035,-926.204 1035,-914.615 1035,-903.776\" fill=\"none\" stroke=\"black\"/>\n<polygon fill=\"black\" points=\"1038.5,-903.667 1035,-893.667 1031.5,-903.667 1038.5,-903.667\" stroke=\"black\"/>\n</g>\n<!-- 4 -->\n<g class=\"node\" id=\"node5\"><title>4</title>\n<polygon fill=\"#8139e5\" points=\"593,-774.5 389,-774.5 389,-706.5 593,-706.5 593,-774.5\" stroke=\"black\"/>\n<text font-family=\"Times New Roman,serif\" font-size=\"14.00\" text-anchor=\"middle\" x=\"491\" y=\"-759.3\">gini = 0.0</text>\n<text font-family=\"Times New Roman,serif\" font-size=\"14.00\" text-anchor=\"middle\" x=\"491\" y=\"-744.3\">samples = 14</text>\n<text font-family=\"Times New Roman,serif\" font-size=\"14.00\" text-anchor=\"middle\" x=\"491\" y=\"-729.3\">value = [0.0, 0.0, 4.899]</text>\n<text font-family=\"Times New Roman,serif\" font-size=\"14.00\" text-anchor=\"middle\" x=\"491\" y=\"-714.3\">class = decreased binding protein</text>\n</g>\n<!-- 3&#45;&gt;4 -->\n<g class=\"edge\" id=\"edge4\"><title>3-&gt;4</title>\n<path d=\"M629.448,-817.907C606.954,-805.494 582.303,-791.889 560.116,-779.644\" fill=\"none\" stroke=\"black\"/>\n<polygon fill=\"black\" points=\"561.544,-776.435 551.097,-774.667 558.161,-782.563 561.544,-776.435\" stroke=\"black\"/>\n</g>\n<!-- 5 -->\n<g class=\"node\" id=\"node6\"><title>5</title>\n<polygon fill=\"#e58139\" fill-opacity=\"0.980392\" points=\"795,-782 611,-782 611,-699 795,-699 795,-782\" stroke=\"black\"/>\n<text font-family=\"Times New Roman,serif\" font-size=\"14.00\" text-anchor=\"middle\" x=\"703\" y=\"-766.8\">TSH &lt;= -1.956</text>\n<text font-family=\"Times New Roman,serif\" font-size=\"14.00\" text-anchor=\"middle\" x=\"703\" y=\"-751.8\">gini = 0.036</text>\n<text font-family=\"Times New Roman,serif\" font-size=\"14.00\" text-anchor=\"middle\" x=\"703\" y=\"-736.8\">samples = 49</text>\n<text font-family=\"Times New Roman,serif\" font-size=\"14.00\" text-anchor=\"middle\" x=\"703\" y=\"-721.8\">value = [745.667, 0.0, 13.997]</text>\n<text font-family=\"Times New Roman,serif\" font-size=\"14.00\" text-anchor=\"middle\" x=\"703\" y=\"-706.8\">class = negative</text>\n</g>\n<!-- 3&#45;&gt;5 -->\n<g class=\"edge\" id=\"edge5\"><title>3-&gt;5</title>\n<path d=\"M703,-817.907C703,-809.649 703,-800.864 703,-792.302\" fill=\"none\" stroke=\"black\"/>\n<polygon fill=\"black\" points=\"706.5,-792.021 703,-782.021 699.5,-792.021 706.5,-792.021\" stroke=\"black\"/>\n</g>\n<!-- 6 -->\n<g class=\"node\" id=\"node7\"><title>6</title>\n<polygon fill=\"#8139e5\" points=\"593,-655.5 389,-655.5 389,-587.5 593,-587.5 593,-655.5\" stroke=\"black\"/>\n<text font-family=\"Times New Roman,serif\" font-size=\"14.00\" text-anchor=\"middle\" x=\"491\" y=\"-640.3\">gini = 0.0</text>\n<text font-family=\"Times New Roman,serif\" font-size=\"14.00\" text-anchor=\"middle\" x=\"491\" y=\"-625.3\">samples = 5</text>\n<text font-family=\"Times New Roman,serif\" font-size=\"14.00\" text-anchor=\"middle\" x=\"491\" y=\"-610.3\">value = [0.0, 0.0, 1.75]</text>\n<text font-family=\"Times New Roman,serif\" font-size=\"14.00\" text-anchor=\"middle\" x=\"491\" y=\"-595.3\">class = decreased binding protein</text>\n</g>\n<!-- 5&#45;&gt;6 -->\n<g class=\"edge\" id=\"edge6\"><title>5-&gt;6</title>\n<path d=\"M629.448,-698.907C606.954,-686.494 582.303,-672.889 560.116,-660.644\" fill=\"none\" stroke=\"black\"/>\n<polygon fill=\"black\" points=\"561.544,-657.435 551.097,-655.667 558.161,-663.563 561.544,-657.435\" stroke=\"black\"/>\n</g>\n<!-- 7 -->\n<g class=\"node\" id=\"node8\"><title>7</title>\n<polygon fill=\"#e58139\" fill-opacity=\"0.984314\" points=\"795,-663 611,-663 611,-580 795,-580 795,-663\" stroke=\"black\"/>\n<text font-family=\"Times New Roman,serif\" font-size=\"14.00\" text-anchor=\"middle\" x=\"703\" y=\"-647.8\">TT4 &lt;= 4.167</text>\n<text font-family=\"Times New Roman,serif\" font-size=\"14.00\" text-anchor=\"middle\" x=\"703\" y=\"-632.8\">gini = 0.032</text>\n<text font-family=\"Times New Roman,serif\" font-size=\"14.00\" text-anchor=\"middle\" x=\"703\" y=\"-617.8\">samples = 44</text>\n<text font-family=\"Times New Roman,serif\" font-size=\"14.00\" text-anchor=\"middle\" x=\"703\" y=\"-602.8\">value = [745.667, 0.0, 12.247]</text>\n<text font-family=\"Times New Roman,serif\" font-size=\"14.00\" text-anchor=\"middle\" x=\"703\" y=\"-587.8\">class = negative</text>\n</g>\n<!-- 5&#45;&gt;7 -->\n<g class=\"edge\" id=\"edge7\"><title>5-&gt;7</title>\n<path d=\"M703,-698.907C703,-690.649 703,-681.864 703,-673.302\" fill=\"none\" stroke=\"black\"/>\n<polygon fill=\"black\" points=\"706.5,-673.021 703,-663.021 699.5,-673.021 706.5,-673.021\" stroke=\"black\"/>\n</g>\n<!-- 8 -->\n<g class=\"node\" id=\"node9\"><title>8</title>\n<polygon fill=\"#e58139\" fill-opacity=\"0.996078\" points=\"477.5,-544 300.5,-544 300.5,-461 477.5,-461 477.5,-544\" stroke=\"black\"/>\n<text font-family=\"Times New Roman,serif\" font-size=\"14.00\" text-anchor=\"middle\" x=\"389\" y=\"-528.8\">TSH &lt;= 3.055</text>\n<text font-family=\"Times New Roman,serif\" font-size=\"14.00\" text-anchor=\"middle\" x=\"389\" y=\"-513.8\">gini = 0.009</text>\n<text font-family=\"Times New Roman,serif\" font-size=\"14.00\" text-anchor=\"middle\" x=\"389\" y=\"-498.8\">samples = 17</text>\n<text font-family=\"Times New Roman,serif\" font-size=\"14.00\" text-anchor=\"middle\" x=\"389\" y=\"-483.8\">value = [662.815, 0.0, 3.149]</text>\n<text font-family=\"Times New Roman,serif\" font-size=\"14.00\" text-anchor=\"middle\" x=\"389\" y=\"-468.8\">class = negative</text>\n</g>\n<!-- 7&#45;&gt;8 -->\n<g class=\"edge\" id=\"edge8\"><title>7-&gt;8</title>\n<path d=\"M610.856,-583.39C607.872,-582.24 604.914,-581.107 602,-580 564.658,-565.813 523.383,-550.829 487.187,-537.919\" fill=\"none\" stroke=\"black\"/>\n<polygon fill=\"black\" points=\"488.207,-534.567 477.612,-534.509 485.859,-541.161 488.207,-534.567\" stroke=\"black\"/>\n</g>\n<!-- 17 -->\n<g class=\"node\" id=\"node18\"><title>17</title>\n<polygon fill=\"#e58139\" fill-opacity=\"0.890196\" points=\"788,-544 618,-544 618,-461 788,-461 788,-544\" stroke=\"black\"/>\n<text font-family=\"Times New Roman,serif\" font-size=\"14.00\" text-anchor=\"middle\" x=\"703\" y=\"-528.8\">FTI &lt;= 5.038</text>\n<text font-family=\"Times New Roman,serif\" font-size=\"14.00\" text-anchor=\"middle\" x=\"703\" y=\"-513.8\">gini = 0.178</text>\n<text font-family=\"Times New Roman,serif\" font-size=\"14.00\" text-anchor=\"middle\" x=\"703\" y=\"-498.8\">samples = 27</text>\n<text font-family=\"Times New Roman,serif\" font-size=\"14.00\" text-anchor=\"middle\" x=\"703\" y=\"-483.8\">value = [82.852, 0.0, 9.098]</text>\n<text font-family=\"Times New Roman,serif\" font-size=\"14.00\" text-anchor=\"middle\" x=\"703\" y=\"-468.8\">class = negative</text>\n</g>\n<!-- 7&#45;&gt;17 -->\n<g class=\"edge\" id=\"edge17\"><title>7-&gt;17</title>\n<path d=\"M703,-579.907C703,-571.649 703,-562.864 703,-554.302\" fill=\"none\" stroke=\"black\"/>\n<polygon fill=\"black\" points=\"706.5,-554.021 703,-544.021 699.5,-554.021 706.5,-554.021\" stroke=\"black\"/>\n</g>\n<!-- 9 -->\n<g class=\"node\" id=\"node10\"><title>9</title>\n<polygon fill=\"#e58139\" fill-opacity=\"0.996078\" points=\"268.5,-425 91.5,-425 91.5,-342 268.5,-342 268.5,-425\" stroke=\"black\"/>\n<text font-family=\"Times New Roman,serif\" font-size=\"14.00\" text-anchor=\"middle\" x=\"180\" y=\"-409.8\">FTI &lt;= 4.93</text>\n<text font-family=\"Times New Roman,serif\" font-size=\"14.00\" text-anchor=\"middle\" x=\"180\" y=\"-394.8\">gini = 0.008</text>\n<text font-family=\"Times New Roman,serif\" font-size=\"14.00\" text-anchor=\"middle\" x=\"180\" y=\"-379.8\">samples = 16</text>\n<text font-family=\"Times New Roman,serif\" font-size=\"14.00\" text-anchor=\"middle\" x=\"180\" y=\"-364.8\">value = [662.815, 0.0, 2.799]</text>\n<text font-family=\"Times New Roman,serif\" font-size=\"14.00\" text-anchor=\"middle\" x=\"180\" y=\"-349.8\">class = negative</text>\n</g>\n<!-- 8&#45;&gt;9 -->\n<g class=\"edge\" id=\"edge9\"><title>8-&gt;9</title>\n<path d=\"M316.488,-460.907C298.656,-450.925 279.449,-440.172 261.235,-429.976\" fill=\"none\" stroke=\"black\"/>\n<polygon fill=\"black\" points=\"262.819,-426.852 252.383,-425.021 259.399,-432.96 262.819,-426.852\" stroke=\"black\"/>\n</g>\n<!-- 16 -->\n<g class=\"node\" id=\"node17\"><title>16</title>\n<polygon fill=\"#8139e5\" points=\"491,-417.5 287,-417.5 287,-349.5 491,-349.5 491,-417.5\" stroke=\"black\"/>\n<text font-family=\"Times New Roman,serif\" font-size=\"14.00\" text-anchor=\"middle\" x=\"389\" y=\"-402.3\">gini = -0.0</text>\n<text font-family=\"Times New Roman,serif\" font-size=\"14.00\" text-anchor=\"middle\" x=\"389\" y=\"-387.3\">samples = 1</text>\n<text font-family=\"Times New Roman,serif\" font-size=\"14.00\" text-anchor=\"middle\" x=\"389\" y=\"-372.3\">value = [0.0, 0.0, 0.35]</text>\n<text font-family=\"Times New Roman,serif\" font-size=\"14.00\" text-anchor=\"middle\" x=\"389\" y=\"-357.3\">class = decreased binding protein</text>\n</g>\n<!-- 8&#45;&gt;16 -->\n<g class=\"edge\" id=\"edge16\"><title>8-&gt;16</title>\n<path d=\"M389,-460.907C389,-450.204 389,-438.615 389,-427.776\" fill=\"none\" stroke=\"black\"/>\n<polygon fill=\"black\" points=\"392.5,-427.667 389,-417.667 385.5,-427.667 392.5,-427.667\" stroke=\"black\"/>\n</g>\n<!-- 10 -->\n<g class=\"node\" id=\"node11\"><title>10</title>\n<polygon fill=\"#e58139\" fill-opacity=\"0.996078\" points=\"251.5,-306 74.5,-306 74.5,-223 251.5,-223 251.5,-306\" stroke=\"black\"/>\n<text font-family=\"Times New Roman,serif\" font-size=\"14.00\" text-anchor=\"middle\" x=\"163\" y=\"-290.8\">TT4 &lt;= 4.052</text>\n<text font-family=\"Times New Roman,serif\" font-size=\"14.00\" text-anchor=\"middle\" x=\"163\" y=\"-275.8\">gini = 0.007</text>\n<text font-family=\"Times New Roman,serif\" font-size=\"14.00\" text-anchor=\"middle\" x=\"163\" y=\"-260.8\">samples = 15</text>\n<text font-family=\"Times New Roman,serif\" font-size=\"14.00\" text-anchor=\"middle\" x=\"163\" y=\"-245.8\">value = [662.815, 0.0, 2.449]</text>\n<text font-family=\"Times New Roman,serif\" font-size=\"14.00\" text-anchor=\"middle\" x=\"163\" y=\"-230.8\">class = negative</text>\n</g>\n<!-- 9&#45;&gt;10 -->\n<g class=\"edge\" id=\"edge10\"><title>9-&gt;10</title>\n<path d=\"M174.102,-341.907C172.889,-333.558 171.597,-324.671 170.341,-316.02\" fill=\"none\" stroke=\"black\"/>\n<polygon fill=\"black\" points=\"173.789,-315.414 168.888,-306.021 166.862,-316.42 173.789,-315.414\" stroke=\"black\"/>\n</g>\n<!-- 15 -->\n<g class=\"node\" id=\"node16\"><title>15</title>\n<polygon fill=\"#8139e5\" points=\"474,-298.5 270,-298.5 270,-230.5 474,-230.5 474,-298.5\" stroke=\"black\"/>\n<text font-family=\"Times New Roman,serif\" font-size=\"14.00\" text-anchor=\"middle\" x=\"372\" y=\"-283.3\">gini = -0.0</text>\n<text font-family=\"Times New Roman,serif\" font-size=\"14.00\" text-anchor=\"middle\" x=\"372\" y=\"-268.3\">samples = 1</text>\n<text font-family=\"Times New Roman,serif\" font-size=\"14.00\" text-anchor=\"middle\" x=\"372\" y=\"-253.3\">value = [0.0, 0.0, 0.35]</text>\n<text font-family=\"Times New Roman,serif\" font-size=\"14.00\" text-anchor=\"middle\" x=\"372\" y=\"-238.3\">class = decreased binding protein</text>\n</g>\n<!-- 9&#45;&gt;15 -->\n<g class=\"edge\" id=\"edge15\"><title>9-&gt;15</title>\n<path d=\"M246.613,-341.907C266.804,-329.604 288.913,-316.131 308.868,-303.971\" fill=\"none\" stroke=\"black\"/>\n<polygon fill=\"black\" points=\"310.854,-306.859 317.572,-298.667 307.211,-300.882 310.854,-306.859\" stroke=\"black\"/>\n</g>\n<!-- 11 -->\n<g class=\"node\" id=\"node12\"><title>11</title>\n<polygon fill=\"#8139e5\" points=\"204,-179.5 0,-179.5 0,-111.5 204,-111.5 204,-179.5\" stroke=\"black\"/>\n<text font-family=\"Times New Roman,serif\" font-size=\"14.00\" text-anchor=\"middle\" x=\"102\" y=\"-164.3\">gini = 0.0</text>\n<text font-family=\"Times New Roman,serif\" font-size=\"14.00\" text-anchor=\"middle\" x=\"102\" y=\"-149.3\">samples = 1</text>\n<text font-family=\"Times New Roman,serif\" font-size=\"14.00\" text-anchor=\"middle\" x=\"102\" y=\"-134.3\">value = [0.0, 0.0, 0.35]</text>\n<text font-family=\"Times New Roman,serif\" font-size=\"14.00\" text-anchor=\"middle\" x=\"102\" y=\"-119.3\">class = decreased binding protein</text>\n</g>\n<!-- 10&#45;&gt;11 -->\n<g class=\"edge\" id=\"edge11\"><title>10-&gt;11</title>\n<path d=\"M141.836,-222.907C136.083,-211.873 129.84,-199.898 124.04,-188.773\" fill=\"none\" stroke=\"black\"/>\n<polygon fill=\"black\" points=\"127.019,-186.916 119.292,-179.667 120.812,-190.152 127.019,-186.916\" stroke=\"black\"/>\n</g>\n<!-- 12 -->\n<g class=\"node\" id=\"node13\"><title>12</title>\n<polygon fill=\"#e58139\" fill-opacity=\"0.996078\" points=\"399.5,-187 222.5,-187 222.5,-104 399.5,-104 399.5,-187\" stroke=\"black\"/>\n<text font-family=\"Times New Roman,serif\" font-size=\"14.00\" text-anchor=\"middle\" x=\"311\" y=\"-171.8\">TT4 &lt;= 4.151</text>\n<text font-family=\"Times New Roman,serif\" font-size=\"14.00\" text-anchor=\"middle\" x=\"311\" y=\"-156.8\">gini = 0.006</text>\n<text font-family=\"Times New Roman,serif\" font-size=\"14.00\" text-anchor=\"middle\" x=\"311\" y=\"-141.8\">samples = 14</text>\n<text font-family=\"Times New Roman,serif\" font-size=\"14.00\" text-anchor=\"middle\" x=\"311\" y=\"-126.8\">value = [662.815, 0.0, 2.099]</text>\n<text font-family=\"Times New Roman,serif\" font-size=\"14.00\" text-anchor=\"middle\" x=\"311\" y=\"-111.8\">class = negative</text>\n</g>\n<!-- 10&#45;&gt;12 -->\n<g class=\"edge\" id=\"edge12\"><title>10-&gt;12</title>\n<path d=\"M214.348,-222.907C226.401,-213.379 239.342,-203.148 251.712,-193.37\" fill=\"none\" stroke=\"black\"/>\n<polygon fill=\"black\" points=\"254.069,-195.968 259.743,-187.021 249.728,-190.477 254.069,-195.968\" stroke=\"black\"/>\n</g>\n<!-- 13 -->\n<g class=\"node\" id=\"node14\"><title>13</title>\n<polygon fill=\"#e58139\" fill-opacity=\"0.988235\" points=\"259.5,-68 82.5,-68 82.5,-0 259.5,-0 259.5,-68\" stroke=\"black\"/>\n<text font-family=\"Times New Roman,serif\" font-size=\"14.00\" text-anchor=\"middle\" x=\"171\" y=\"-52.8\">gini = 0.025</text>\n<text font-family=\"Times New Roman,serif\" font-size=\"14.00\" text-anchor=\"middle\" x=\"171\" y=\"-37.8\">samples = 8</text>\n<text font-family=\"Times New Roman,serif\" font-size=\"14.00\" text-anchor=\"middle\" x=\"171\" y=\"-22.8\">value = [165.704, 0.0, 2.099]</text>\n<text font-family=\"Times New Roman,serif\" font-size=\"14.00\" text-anchor=\"middle\" x=\"171\" y=\"-7.8\">class = negative</text>\n</g>\n<!-- 12&#45;&gt;13 -->\n<g class=\"edge\" id=\"edge13\"><title>12-&gt;13</title>\n<path d=\"M258.869,-103.726C246.741,-94.2406 233.847,-84.1551 221.778,-74.7159\" fill=\"none\" stroke=\"black\"/>\n<polygon fill=\"black\" points=\"223.608,-71.7035 213.575,-68.2996 219.295,-77.2173 223.608,-71.7035\" stroke=\"black\"/>\n</g>\n<!-- 14 -->\n<g class=\"node\" id=\"node15\"><title>14</title>\n<polygon fill=\"#e58139\" points=\"442,-68 278,-68 278,-0 442,-0 442,-68\" stroke=\"black\"/>\n<text font-family=\"Times New Roman,serif\" font-size=\"14.00\" text-anchor=\"middle\" x=\"360\" y=\"-52.8\">gini = 0.0</text>\n<text font-family=\"Times New Roman,serif\" font-size=\"14.00\" text-anchor=\"middle\" x=\"360\" y=\"-37.8\">samples = 6</text>\n<text font-family=\"Times New Roman,serif\" font-size=\"14.00\" text-anchor=\"middle\" x=\"360\" y=\"-22.8\">value = [497.111, 0.0, 0.0]</text>\n<text font-family=\"Times New Roman,serif\" font-size=\"14.00\" text-anchor=\"middle\" x=\"360\" y=\"-7.8\">class = negative</text>\n</g>\n<!-- 12&#45;&gt;14 -->\n<g class=\"edge\" id=\"edge14\"><title>12-&gt;14</title>\n<path d=\"M329.246,-103.726C333.082,-95.1527 337.138,-86.0891 341.002,-77.4555\" fill=\"none\" stroke=\"black\"/>\n<polygon fill=\"black\" points=\"344.209,-78.857 345.099,-68.2996 337.819,-75.9978 344.209,-78.857\" stroke=\"black\"/>\n</g>\n<!-- 18 -->\n<g class=\"node\" id=\"node19\"><title>18</title>\n<polygon fill=\"#8139e5\" points=\"713,-417.5 509,-417.5 509,-349.5 713,-349.5 713,-417.5\" stroke=\"black\"/>\n<text font-family=\"Times New Roman,serif\" font-size=\"14.00\" text-anchor=\"middle\" x=\"611\" y=\"-402.3\">gini = 0.0</text>\n<text font-family=\"Times New Roman,serif\" font-size=\"14.00\" text-anchor=\"middle\" x=\"611\" y=\"-387.3\">samples = 26</text>\n<text font-family=\"Times New Roman,serif\" font-size=\"14.00\" text-anchor=\"middle\" x=\"611\" y=\"-372.3\">value = [0.0, 0.0, 9.098]</text>\n<text font-family=\"Times New Roman,serif\" font-size=\"14.00\" text-anchor=\"middle\" x=\"611\" y=\"-357.3\">class = decreased binding protein</text>\n</g>\n<!-- 17&#45;&gt;18 -->\n<g class=\"edge\" id=\"edge18\"><title>17-&gt;18</title>\n<path d=\"M671.081,-460.907C662.144,-449.542 652.422,-437.178 643.455,-425.774\" fill=\"none\" stroke=\"black\"/>\n<polygon fill=\"black\" points=\"646.013,-423.364 637.08,-417.667 640.51,-427.691 646.013,-423.364\" stroke=\"black\"/>\n</g>\n<!-- 19 -->\n<g class=\"node\" id=\"node20\"><title>19</title>\n<polygon fill=\"#e58139\" points=\"888.5,-417.5 731.5,-417.5 731.5,-349.5 888.5,-349.5 888.5,-417.5\" stroke=\"black\"/>\n<text font-family=\"Times New Roman,serif\" font-size=\"14.00\" text-anchor=\"middle\" x=\"810\" y=\"-402.3\">gini = 0.0</text>\n<text font-family=\"Times New Roman,serif\" font-size=\"14.00\" text-anchor=\"middle\" x=\"810\" y=\"-387.3\">samples = 1</text>\n<text font-family=\"Times New Roman,serif\" font-size=\"14.00\" text-anchor=\"middle\" x=\"810\" y=\"-372.3\">value = [82.852, 0.0, 0.0]</text>\n<text font-family=\"Times New Roman,serif\" font-size=\"14.00\" text-anchor=\"middle\" x=\"810\" y=\"-357.3\">class = negative</text>\n</g>\n<!-- 17&#45;&gt;19 -->\n<g class=\"edge\" id=\"edge19\"><title>17-&gt;19</title>\n<path d=\"M740.123,-460.907C750.719,-449.321 762.264,-436.698 772.86,-425.111\" fill=\"none\" stroke=\"black\"/>\n<polygon fill=\"black\" points=\"775.502,-427.408 779.668,-417.667 770.336,-422.684 775.502,-427.408\" stroke=\"black\"/>\n</g>\n<!-- 23 -->\n<g class=\"node\" id=\"node24\"><title>23</title>\n<polygon fill=\"#8139e5\" fill-opacity=\"0.874510\" points=\"1617,-1020 1413,-1020 1413,-937 1617,-937 1617,-1020\" stroke=\"black\"/>\n<text font-family=\"Times New Roman,serif\" font-size=\"14.00\" text-anchor=\"middle\" x=\"1515\" y=\"-1004.8\">T3 &lt;= 1.047</text>\n<text font-family=\"Times New Roman,serif\" font-size=\"14.00\" text-anchor=\"middle\" x=\"1515\" y=\"-989.8\">gini = 0.197</text>\n<text font-family=\"Times New Roman,serif\" font-size=\"14.00\" text-anchor=\"middle\" x=\"1515\" y=\"-974.8\">samples = 1770</text>\n<text font-family=\"Times New Roman,serif\" font-size=\"14.00\" text-anchor=\"middle\" x=\"1515\" y=\"-959.8\">value = [0.0, 76.873, 615.849]</text>\n<text font-family=\"Times New Roman,serif\" font-size=\"14.00\" text-anchor=\"middle\" x=\"1515\" y=\"-944.8\">class = decreased binding protein</text>\n</g>\n<!-- 22&#45;&gt;23 -->\n<g class=\"edge\" id=\"edge23\"><title>22-&gt;23</title>\n<path d=\"M1515,-1055.91C1515,-1047.65 1515,-1038.86 1515,-1030.3\" fill=\"none\" stroke=\"black\"/>\n<polygon fill=\"black\" points=\"1518.5,-1030.02 1515,-1020.02 1511.5,-1030.02 1518.5,-1030.02\" stroke=\"black\"/>\n</g>\n<!-- 52 -->\n<g class=\"node\" id=\"node53\"><title>52</title>\n<polygon fill=\"#39e581\" fill-opacity=\"0.870588\" points=\"2755,-1020 2555,-1020 2555,-937 2755,-937 2755,-1020\" stroke=\"black\"/>\n<text font-family=\"Times New Roman,serif\" font-size=\"14.00\" text-anchor=\"middle\" x=\"2655\" y=\"-1004.8\">T3 &lt;= 1.032</text>\n<text font-family=\"Times New Roman,serif\" font-size=\"14.00\" text-anchor=\"middle\" x=\"2655\" y=\"-989.8\">gini = 0.205</text>\n<text font-family=\"Times New Roman,serif\" font-size=\"14.00\" text-anchor=\"middle\" x=\"2655\" y=\"-974.8\">samples = 337</text>\n<text font-family=\"Times New Roman,serif\" font-size=\"14.00\" text-anchor=\"middle\" x=\"2655\" y=\"-959.8\">value = [0.0, 668.794, 87.478]</text>\n<text font-family=\"Times New Roman,serif\" font-size=\"14.00\" text-anchor=\"middle\" x=\"2655\" y=\"-944.8\">class = increased binding protein</text>\n</g>\n<!-- 22&#45;&gt;52 -->\n<g class=\"edge\" id=\"edge52\"><title>22-&gt;52</title>\n<path d=\"M1615.17,-1086.22C1827.87,-1064.39 2323.23,-1013.55 2544.64,-990.827\" fill=\"none\" stroke=\"black\"/>\n<polygon fill=\"black\" points=\"2545.06,-994.302 2554.65,-989.799 2544.35,-987.338 2545.06,-994.302\" stroke=\"black\"/>\n</g>\n<!-- 24 -->\n<g class=\"node\" id=\"node25\"><title>24</title>\n<polygon fill=\"#8139e5\" points=\"1413,-893.5 1209,-893.5 1209,-825.5 1413,-825.5 1413,-893.5\" stroke=\"black\"/>\n<text font-family=\"Times New Roman,serif\" font-size=\"14.00\" text-anchor=\"middle\" x=\"1311\" y=\"-878.3\">gini = -0.0</text>\n<text font-family=\"Times New Roman,serif\" font-size=\"14.00\" text-anchor=\"middle\" x=\"1311\" y=\"-863.3\">samples = 1688</text>\n<text font-family=\"Times New Roman,serif\" font-size=\"14.00\" text-anchor=\"middle\" x=\"1311\" y=\"-848.3\">value = [0.0, 0.0, 590.655]</text>\n<text font-family=\"Times New Roman,serif\" font-size=\"14.00\" text-anchor=\"middle\" x=\"1311\" y=\"-833.3\">class = decreased binding protein</text>\n</g>\n<!-- 23&#45;&gt;24 -->\n<g class=\"edge\" id=\"edge24\"><title>23-&gt;24</title>\n<path d=\"M1444.22,-936.907C1422.58,-924.494 1398.86,-910.889 1377.51,-898.644\" fill=\"none\" stroke=\"black\"/>\n<polygon fill=\"black\" points=\"1379.25,-895.606 1368.83,-893.667 1375.76,-901.678 1379.25,-895.606\" stroke=\"black\"/>\n</g>\n<!-- 25 -->\n<g class=\"node\" id=\"node26\"><title>25</title>\n<polygon fill=\"#39e581\" fill-opacity=\"0.670588\" points=\"1631,-901 1431,-901 1431,-818 1631,-818 1631,-901\" stroke=\"black\"/>\n<text font-family=\"Times New Roman,serif\" font-size=\"14.00\" text-anchor=\"middle\" x=\"1531\" y=\"-885.8\">TSH &lt;= 0.615</text>\n<text font-family=\"Times New Roman,serif\" font-size=\"14.00\" text-anchor=\"middle\" x=\"1531\" y=\"-870.8\">gini = 0.372</text>\n<text font-family=\"Times New Roman,serif\" font-size=\"14.00\" text-anchor=\"middle\" x=\"1531\" y=\"-855.8\">samples = 82</text>\n<text font-family=\"Times New Roman,serif\" font-size=\"14.00\" text-anchor=\"middle\" x=\"1531\" y=\"-840.8\">value = [0.0, 76.873, 25.194]</text>\n<text font-family=\"Times New Roman,serif\" font-size=\"14.00\" text-anchor=\"middle\" x=\"1531\" y=\"-825.8\">class = increased binding protein</text>\n</g>\n<!-- 23&#45;&gt;25 -->\n<g class=\"edge\" id=\"edge25\"><title>23-&gt;25</title>\n<path d=\"M1520.55,-936.907C1521.69,-928.558 1522.91,-919.671 1524.09,-911.02\" fill=\"none\" stroke=\"black\"/>\n<polygon fill=\"black\" points=\"1527.57,-911.403 1525.46,-901.021 1520.64,-910.454 1527.57,-911.403\" stroke=\"black\"/>\n</g>\n<!-- 26 -->\n<g class=\"node\" id=\"node27\"><title>26</title>\n<polygon fill=\"#39e581\" fill-opacity=\"0.058824\" points=\"1327,-782 1127,-782 1127,-699 1327,-699 1327,-782\" stroke=\"black\"/>\n<text font-family=\"Times New Roman,serif\" font-size=\"14.00\" text-anchor=\"middle\" x=\"1227\" y=\"-766.8\">T4U &lt;= -0.023</text>\n<text font-family=\"Times New Roman,serif\" font-size=\"14.00\" text-anchor=\"middle\" x=\"1227\" y=\"-751.8\">gini = 0.5</text>\n<text font-family=\"Times New Roman,serif\" font-size=\"14.00\" text-anchor=\"middle\" x=\"1227\" y=\"-736.8\">samples = 65</text>\n<text font-family=\"Times New Roman,serif\" font-size=\"14.00\" text-anchor=\"middle\" x=\"1227\" y=\"-721.8\">value = [0.0, 23.062, 21.695]</text>\n<text font-family=\"Times New Roman,serif\" font-size=\"14.00\" text-anchor=\"middle\" x=\"1227\" y=\"-706.8\">class = increased binding protein</text>\n</g>\n<!-- 25&#45;&gt;26 -->\n<g class=\"edge\" id=\"edge26\"><title>25-&gt;26</title>\n<path d=\"M1430.62,-819.866C1400.45,-808.254 1367.2,-795.457 1336.47,-783.631\" fill=\"none\" stroke=\"black\"/>\n<polygon fill=\"black\" points=\"1337.61,-780.32 1327.02,-779.994 1335.09,-786.852 1337.61,-780.32\" stroke=\"black\"/>\n</g>\n<!-- 39 -->\n<g class=\"node\" id=\"node40\"><title>39</title>\n<polygon fill=\"#39e581\" fill-opacity=\"0.933333\" points=\"1658,-782 1458,-782 1458,-699 1658,-699 1658,-782\" stroke=\"black\"/>\n<text font-family=\"Times New Roman,serif\" font-size=\"14.00\" text-anchor=\"middle\" x=\"1558\" y=\"-766.8\">T3 &lt;= 1.193</text>\n<text font-family=\"Times New Roman,serif\" font-size=\"14.00\" text-anchor=\"middle\" x=\"1558\" y=\"-751.8\">gini = 0.115</text>\n<text font-family=\"Times New Roman,serif\" font-size=\"14.00\" text-anchor=\"middle\" x=\"1558\" y=\"-736.8\">samples = 17</text>\n<text font-family=\"Times New Roman,serif\" font-size=\"14.00\" text-anchor=\"middle\" x=\"1558\" y=\"-721.8\">value = [0.0, 53.811, 3.499]</text>\n<text font-family=\"Times New Roman,serif\" font-size=\"14.00\" text-anchor=\"middle\" x=\"1558\" y=\"-706.8\">class = increased binding protein</text>\n</g>\n<!-- 25&#45;&gt;39 -->\n<g class=\"edge\" id=\"edge39\"><title>25-&gt;39</title>\n<path d=\"M1540.37,-817.907C1542.29,-809.558 1544.35,-800.671 1546.34,-792.02\" fill=\"none\" stroke=\"black\"/>\n<polygon fill=\"black\" points=\"1549.81,-792.552 1548.65,-782.021 1542.99,-790.978 1549.81,-792.552\" stroke=\"black\"/>\n</g>\n<!-- 27 -->\n<g class=\"node\" id=\"node28\"><title>27</title>\n<polygon fill=\"#8139e5\" points=\"1109,-655.5 905,-655.5 905,-587.5 1109,-587.5 1109,-655.5\" stroke=\"black\"/>\n<text font-family=\"Times New Roman,serif\" font-size=\"14.00\" text-anchor=\"middle\" x=\"1007\" y=\"-640.3\">gini = 0.0</text>\n<text font-family=\"Times New Roman,serif\" font-size=\"14.00\" text-anchor=\"middle\" x=\"1007\" y=\"-625.3\">samples = 27</text>\n<text font-family=\"Times New Roman,serif\" font-size=\"14.00\" text-anchor=\"middle\" x=\"1007\" y=\"-610.3\">value = [0.0, 0.0, 9.448]</text>\n<text font-family=\"Times New Roman,serif\" font-size=\"14.00\" text-anchor=\"middle\" x=\"1007\" y=\"-595.3\">class = decreased binding protein</text>\n</g>\n<!-- 26&#45;&gt;27 -->\n<g class=\"edge\" id=\"edge27\"><title>26-&gt;27</title>\n<path d=\"M1150.67,-698.907C1127.23,-686.438 1101.52,-672.768 1078.42,-660.481\" fill=\"none\" stroke=\"black\"/>\n<polygon fill=\"black\" points=\"1079.84,-657.272 1069.37,-655.667 1076.55,-663.453 1079.84,-657.272\" stroke=\"black\"/>\n</g>\n<!-- 28 -->\n<g class=\"node\" id=\"node29\"><title>28</title>\n<polygon fill=\"#39e581\" fill-opacity=\"0.470588\" points=\"1327,-663 1127,-663 1127,-580 1327,-580 1327,-663\" stroke=\"black\"/>\n<text font-family=\"Times New Roman,serif\" font-size=\"14.00\" text-anchor=\"middle\" x=\"1227\" y=\"-647.8\">T3 &lt;= 1.147</text>\n<text font-family=\"Times New Roman,serif\" font-size=\"14.00\" text-anchor=\"middle\" x=\"1227\" y=\"-632.8\">gini = 0.453</text>\n<text font-family=\"Times New Roman,serif\" font-size=\"14.00\" text-anchor=\"middle\" x=\"1227\" y=\"-617.8\">samples = 38</text>\n<text font-family=\"Times New Roman,serif\" font-size=\"14.00\" text-anchor=\"middle\" x=\"1227\" y=\"-602.8\">value = [0.0, 23.062, 12.247]</text>\n<text font-family=\"Times New Roman,serif\" font-size=\"14.00\" text-anchor=\"middle\" x=\"1227\" y=\"-587.8\">class = increased binding protein</text>\n</g>\n<!-- 26&#45;&gt;28 -->\n<g class=\"edge\" id=\"edge28\"><title>26-&gt;28</title>\n<path d=\"M1227,-698.907C1227,-690.649 1227,-681.864 1227,-673.302\" fill=\"none\" stroke=\"black\"/>\n<polygon fill=\"black\" points=\"1230.5,-673.021 1227,-663.021 1223.5,-673.021 1230.5,-673.021\" stroke=\"black\"/>\n</g>\n<!-- 29 -->\n<g class=\"node\" id=\"node30\"><title>29</title>\n<polygon fill=\"#8139e5\" points=\"1109,-536.5 905,-536.5 905,-468.5 1109,-468.5 1109,-536.5\" stroke=\"black\"/>\n<text font-family=\"Times New Roman,serif\" font-size=\"14.00\" text-anchor=\"middle\" x=\"1007\" y=\"-521.3\">gini = 0.0</text>\n<text font-family=\"Times New Roman,serif\" font-size=\"14.00\" text-anchor=\"middle\" x=\"1007\" y=\"-506.3\">samples = 17</text>\n<text font-family=\"Times New Roman,serif\" font-size=\"14.00\" text-anchor=\"middle\" x=\"1007\" y=\"-491.3\">value = [0.0, 0.0, 5.949]</text>\n<text font-family=\"Times New Roman,serif\" font-size=\"14.00\" text-anchor=\"middle\" x=\"1007\" y=\"-476.3\">class = decreased binding protein</text>\n</g>\n<!-- 28&#45;&gt;29 -->\n<g class=\"edge\" id=\"edge29\"><title>28-&gt;29</title>\n<path d=\"M1150.67,-579.907C1127.23,-567.438 1101.52,-553.768 1078.42,-541.481\" fill=\"none\" stroke=\"black\"/>\n<polygon fill=\"black\" points=\"1079.84,-538.272 1069.37,-536.667 1076.55,-544.453 1079.84,-538.272\" stroke=\"black\"/>\n</g>\n<!-- 30 -->\n<g class=\"node\" id=\"node31\"><title>30</title>\n<polygon fill=\"#39e581\" fill-opacity=\"0.725490\" points=\"1327,-544 1127,-544 1127,-461 1327,-461 1327,-544\" stroke=\"black\"/>\n<text font-family=\"Times New Roman,serif\" font-size=\"14.00\" text-anchor=\"middle\" x=\"1227\" y=\"-528.8\">T3 &lt;= 1.252</text>\n<text font-family=\"Times New Roman,serif\" font-size=\"14.00\" text-anchor=\"middle\" x=\"1227\" y=\"-513.8\">gini = 0.337</text>\n<text font-family=\"Times New Roman,serif\" font-size=\"14.00\" text-anchor=\"middle\" x=\"1227\" y=\"-498.8\">samples = 21</text>\n<text font-family=\"Times New Roman,serif\" font-size=\"14.00\" text-anchor=\"middle\" x=\"1227\" y=\"-483.8\">value = [0.0, 23.062, 6.298]</text>\n<text font-family=\"Times New Roman,serif\" font-size=\"14.00\" text-anchor=\"middle\" x=\"1227\" y=\"-468.8\">class = increased binding protein</text>\n</g>\n<!-- 28&#45;&gt;30 -->\n<g class=\"edge\" id=\"edge30\"><title>28-&gt;30</title>\n<path d=\"M1227,-579.907C1227,-571.649 1227,-562.864 1227,-554.302\" fill=\"none\" stroke=\"black\"/>\n<polygon fill=\"black\" points=\"1230.5,-554.021 1227,-544.021 1223.5,-554.021 1230.5,-554.021\" stroke=\"black\"/>\n</g>\n<!-- 31 -->\n<g class=\"node\" id=\"node32\"><title>31</title>\n<polygon fill=\"#39e581\" fill-opacity=\"0.862745\" points=\"1107,-425 907,-425 907,-342 1107,-342 1107,-425\" stroke=\"black\"/>\n<text font-family=\"Times New Roman,serif\" font-size=\"14.00\" text-anchor=\"middle\" x=\"1007\" y=\"-409.8\">TT4 &lt;= 5.212</text>\n<text font-family=\"Times New Roman,serif\" font-size=\"14.00\" text-anchor=\"middle\" x=\"1007\" y=\"-394.8\">gini = 0.211</text>\n<text font-family=\"Times New Roman,serif\" font-size=\"14.00\" text-anchor=\"middle\" x=\"1007\" y=\"-379.8\">samples = 12</text>\n<text font-family=\"Times New Roman,serif\" font-size=\"14.00\" text-anchor=\"middle\" x=\"1007\" y=\"-364.8\">value = [0.0, 23.062, 3.149]</text>\n<text font-family=\"Times New Roman,serif\" font-size=\"14.00\" text-anchor=\"middle\" x=\"1007\" y=\"-349.8\">class = increased binding protein</text>\n</g>\n<!-- 30&#45;&gt;31 -->\n<g class=\"edge\" id=\"edge31\"><title>30-&gt;31</title>\n<path d=\"M1150.67,-460.907C1131.82,-450.879 1111.5,-440.075 1092.25,-429.837\" fill=\"none\" stroke=\"black\"/>\n<polygon fill=\"black\" points=\"1093.67,-426.626 1083.19,-425.021 1090.38,-432.807 1093.67,-426.626\" stroke=\"black\"/>\n</g>\n<!-- 38 -->\n<g class=\"node\" id=\"node39\"><title>38</title>\n<polygon fill=\"#8139e5\" points=\"1329,-417.5 1125,-417.5 1125,-349.5 1329,-349.5 1329,-417.5\" stroke=\"black\"/>\n<text font-family=\"Times New Roman,serif\" font-size=\"14.00\" text-anchor=\"middle\" x=\"1227\" y=\"-402.3\">gini = 0.0</text>\n<text font-family=\"Times New Roman,serif\" font-size=\"14.00\" text-anchor=\"middle\" x=\"1227\" y=\"-387.3\">samples = 9</text>\n<text font-family=\"Times New Roman,serif\" font-size=\"14.00\" text-anchor=\"middle\" x=\"1227\" y=\"-372.3\">value = [0.0, 0.0, 3.149]</text>\n<text font-family=\"Times New Roman,serif\" font-size=\"14.00\" text-anchor=\"middle\" x=\"1227\" y=\"-357.3\">class = decreased binding protein</text>\n</g>\n<!-- 30&#45;&gt;38 -->\n<g class=\"edge\" id=\"edge38\"><title>30-&gt;38</title>\n<path d=\"M1227,-460.907C1227,-450.204 1227,-438.615 1227,-427.776\" fill=\"none\" stroke=\"black\"/>\n<polygon fill=\"black\" points=\"1230.5,-427.667 1227,-417.667 1223.5,-427.667 1230.5,-427.667\" stroke=\"black\"/>\n</g>\n<!-- 32 -->\n<g class=\"node\" id=\"node33\"><title>32</title>\n<polygon fill=\"#39e581\" fill-opacity=\"0.968627\" points=\"914,-306 714,-306 714,-223 914,-223 914,-306\" stroke=\"black\"/>\n<text font-family=\"Times New Roman,serif\" font-size=\"14.00\" text-anchor=\"middle\" x=\"814\" y=\"-290.8\">TSH &lt;= -2.278</text>\n<text font-family=\"Times New Roman,serif\" font-size=\"14.00\" text-anchor=\"middle\" x=\"814\" y=\"-275.8\">gini = 0.057</text>\n<text font-family=\"Times New Roman,serif\" font-size=\"14.00\" text-anchor=\"middle\" x=\"814\" y=\"-260.8\">samples = 5</text>\n<text font-family=\"Times New Roman,serif\" font-size=\"14.00\" text-anchor=\"middle\" x=\"814\" y=\"-245.8\">value = [0.0, 23.062, 0.7]</text>\n<text font-family=\"Times New Roman,serif\" font-size=\"14.00\" text-anchor=\"middle\" x=\"814\" y=\"-230.8\">class = increased binding protein</text>\n</g>\n<!-- 31&#45;&gt;32 -->\n<g class=\"edge\" id=\"edge32\"><title>31-&gt;32</title>\n<path d=\"M940.04,-341.907C923.722,-332.016 906.158,-321.368 889.475,-311.254\" fill=\"none\" stroke=\"black\"/>\n<polygon fill=\"black\" points=\"891.208,-308.212 880.842,-306.021 887.579,-314.198 891.208,-308.212\" stroke=\"black\"/>\n</g>\n<!-- 37 -->\n<g class=\"node\" id=\"node38\"><title>37</title>\n<polygon fill=\"#8139e5\" points=\"1136,-298.5 932,-298.5 932,-230.5 1136,-230.5 1136,-298.5\" stroke=\"black\"/>\n<text font-family=\"Times New Roman,serif\" font-size=\"14.00\" text-anchor=\"middle\" x=\"1034\" y=\"-283.3\">gini = 0.0</text>\n<text font-family=\"Times New Roman,serif\" font-size=\"14.00\" text-anchor=\"middle\" x=\"1034\" y=\"-268.3\">samples = 7</text>\n<text font-family=\"Times New Roman,serif\" font-size=\"14.00\" text-anchor=\"middle\" x=\"1034\" y=\"-253.3\">value = [0.0, 0.0, 2.449]</text>\n<text font-family=\"Times New Roman,serif\" font-size=\"14.00\" text-anchor=\"middle\" x=\"1034\" y=\"-238.3\">class = decreased binding protein</text>\n</g>\n<!-- 31&#45;&gt;37 -->\n<g class=\"edge\" id=\"edge37\"><title>31-&gt;37</title>\n<path d=\"M1016.37,-341.907C1018.86,-331.094 1021.57,-319.376 1024.09,-308.441\" fill=\"none\" stroke=\"black\"/>\n<polygon fill=\"black\" points=\"1027.51,-309.198 1026.35,-298.667 1020.69,-307.624 1027.51,-309.198\" stroke=\"black\"/>\n</g>\n<!-- 33 -->\n<g class=\"node\" id=\"node34\"><title>33</title>\n<polygon fill=\"#39e581\" points=\"713,-179.5 513,-179.5 513,-111.5 713,-111.5 713,-179.5\" stroke=\"black\"/>\n<text font-family=\"Times New Roman,serif\" font-size=\"14.00\" text-anchor=\"middle\" x=\"613\" y=\"-164.3\">gini = 0.0</text>\n<text font-family=\"Times New Roman,serif\" font-size=\"14.00\" text-anchor=\"middle\" x=\"613\" y=\"-149.3\">samples = 2</text>\n<text font-family=\"Times New Roman,serif\" font-size=\"14.00\" text-anchor=\"middle\" x=\"613\" y=\"-134.3\">value = [0.0, 15.375, 0.0]</text>\n<text font-family=\"Times New Roman,serif\" font-size=\"14.00\" text-anchor=\"middle\" x=\"613\" y=\"-119.3\">class = increased binding protein</text>\n</g>\n<!-- 32&#45;&gt;33 -->\n<g class=\"edge\" id=\"edge33\"><title>32-&gt;33</title>\n<path d=\"M744.264,-222.907C723.033,-210.549 699.774,-197.01 678.81,-184.807\" fill=\"none\" stroke=\"black\"/>\n<polygon fill=\"black\" points=\"680.382,-181.673 669.979,-179.667 676.861,-187.723 680.382,-181.673\" stroke=\"black\"/>\n</g>\n<!-- 34 -->\n<g class=\"node\" id=\"node35\"><title>34</title>\n<polygon fill=\"#39e581\" fill-opacity=\"0.909804\" points=\"931,-187 731,-187 731,-104 931,-104 931,-187\" stroke=\"black\"/>\n<text font-family=\"Times New Roman,serif\" font-size=\"14.00\" text-anchor=\"middle\" x=\"831\" y=\"-171.8\">TT4 &lt;= 5.174</text>\n<text font-family=\"Times New Roman,serif\" font-size=\"14.00\" text-anchor=\"middle\" x=\"831\" y=\"-156.8\">gini = 0.153</text>\n<text font-family=\"Times New Roman,serif\" font-size=\"14.00\" text-anchor=\"middle\" x=\"831\" y=\"-141.8\">samples = 3</text>\n<text font-family=\"Times New Roman,serif\" font-size=\"14.00\" text-anchor=\"middle\" x=\"831\" y=\"-126.8\">value = [0.0, 7.687, 0.7]</text>\n<text font-family=\"Times New Roman,serif\" font-size=\"14.00\" text-anchor=\"middle\" x=\"831\" y=\"-111.8\">class = increased binding protein</text>\n</g>\n<!-- 32&#45;&gt;34 -->\n<g class=\"edge\" id=\"edge34\"><title>32-&gt;34</title>\n<path d=\"M819.898,-222.907C821.111,-214.558 822.403,-205.671 823.659,-197.02\" fill=\"none\" stroke=\"black\"/>\n<polygon fill=\"black\" points=\"827.138,-197.42 825.112,-187.021 820.211,-196.414 827.138,-197.42\" stroke=\"black\"/>\n</g>\n<!-- 35 -->\n<g class=\"node\" id=\"node36\"><title>35</title>\n<polygon fill=\"#8139e5\" points=\"823,-68 619,-68 619,-0 823,-0 823,-68\" stroke=\"black\"/>\n<text font-family=\"Times New Roman,serif\" font-size=\"14.00\" text-anchor=\"middle\" x=\"721\" y=\"-52.8\">gini = -0.0</text>\n<text font-family=\"Times New Roman,serif\" font-size=\"14.00\" text-anchor=\"middle\" x=\"721\" y=\"-37.8\">samples = 2</text>\n<text font-family=\"Times New Roman,serif\" font-size=\"14.00\" text-anchor=\"middle\" x=\"721\" y=\"-22.8\">value = [0.0, 0.0, 0.7]</text>\n<text font-family=\"Times New Roman,serif\" font-size=\"14.00\" text-anchor=\"middle\" x=\"721\" y=\"-7.8\">class = decreased binding protein</text>\n</g>\n<!-- 34&#45;&gt;35 -->\n<g class=\"edge\" id=\"edge35\"><title>34-&gt;35</title>\n<path d=\"M790.04,-103.726C780.786,-94.5142 770.964,-84.7364 761.719,-75.5343\" fill=\"none\" stroke=\"black\"/>\n<polygon fill=\"black\" points=\"764.008,-72.8741 754.452,-68.2996 759.07,-77.8351 764.008,-72.8741\" stroke=\"black\"/>\n</g>\n<!-- 36 -->\n<g class=\"node\" id=\"node37\"><title>36</title>\n<polygon fill=\"#39e581\" points=\"1041,-68 841,-68 841,-0 1041,-0 1041,-68\" stroke=\"black\"/>\n<text font-family=\"Times New Roman,serif\" font-size=\"14.00\" text-anchor=\"middle\" x=\"941\" y=\"-52.8\">gini = 0.0</text>\n<text font-family=\"Times New Roman,serif\" font-size=\"14.00\" text-anchor=\"middle\" x=\"941\" y=\"-37.8\">samples = 1</text>\n<text font-family=\"Times New Roman,serif\" font-size=\"14.00\" text-anchor=\"middle\" x=\"941\" y=\"-22.8\">value = [0.0, 7.687, 0.0]</text>\n<text font-family=\"Times New Roman,serif\" font-size=\"14.00\" text-anchor=\"middle\" x=\"941\" y=\"-7.8\">class = increased binding protein</text>\n</g>\n<!-- 34&#45;&gt;36 -->\n<g class=\"edge\" id=\"edge36\"><title>34-&gt;36</title>\n<path d=\"M871.96,-103.726C881.214,-94.5142 891.036,-84.7364 900.281,-75.5343\" fill=\"none\" stroke=\"black\"/>\n<polygon fill=\"black\" points=\"902.93,-77.8351 907.548,-68.2996 897.992,-72.8741 902.93,-77.8351\" stroke=\"black\"/>\n</g>\n<!-- 40 -->\n<g class=\"node\" id=\"node41\"><title>40</title>\n<polygon fill=\"#39e581\" fill-opacity=\"0.952941\" points=\"1658,-663 1458,-663 1458,-580 1658,-580 1658,-663\" stroke=\"black\"/>\n<text font-family=\"Times New Roman,serif\" font-size=\"14.00\" text-anchor=\"middle\" x=\"1558\" y=\"-647.8\">FTI &lt;= 4.704</text>\n<text font-family=\"Times New Roman,serif\" font-size=\"14.00\" text-anchor=\"middle\" x=\"1558\" y=\"-632.8\">gini = 0.083</text>\n<text font-family=\"Times New Roman,serif\" font-size=\"14.00\" text-anchor=\"middle\" x=\"1558\" y=\"-617.8\">samples = 14</text>\n<text font-family=\"Times New Roman,serif\" font-size=\"14.00\" text-anchor=\"middle\" x=\"1558\" y=\"-602.8\">value = [0.0, 53.811, 2.449]</text>\n<text font-family=\"Times New Roman,serif\" font-size=\"14.00\" text-anchor=\"middle\" x=\"1558\" y=\"-587.8\">class = increased binding protein</text>\n</g>\n<!-- 39&#45;&gt;40 -->\n<g class=\"edge\" id=\"edge40\"><title>39-&gt;40</title>\n<path d=\"M1558,-698.907C1558,-690.649 1558,-681.864 1558,-673.302\" fill=\"none\" stroke=\"black\"/>\n<polygon fill=\"black\" points=\"1561.5,-673.021 1558,-663.021 1554.5,-673.021 1561.5,-673.021\" stroke=\"black\"/>\n</g>\n<!-- 51 -->\n<g class=\"node\" id=\"node52\"><title>51</title>\n<polygon fill=\"#8139e5\" points=\"1880,-655.5 1676,-655.5 1676,-587.5 1880,-587.5 1880,-655.5\" stroke=\"black\"/>\n<text font-family=\"Times New Roman,serif\" font-size=\"14.00\" text-anchor=\"middle\" x=\"1778\" y=\"-640.3\">gini = -0.0</text>\n<text font-family=\"Times New Roman,serif\" font-size=\"14.00\" text-anchor=\"middle\" x=\"1778\" y=\"-625.3\">samples = 3</text>\n<text font-family=\"Times New Roman,serif\" font-size=\"14.00\" text-anchor=\"middle\" x=\"1778\" y=\"-610.3\">value = [0.0, 0.0, 1.05]</text>\n<text font-family=\"Times New Roman,serif\" font-size=\"14.00\" text-anchor=\"middle\" x=\"1778\" y=\"-595.3\">class = decreased binding protein</text>\n</g>\n<!-- 39&#45;&gt;51 -->\n<g class=\"edge\" id=\"edge51\"><title>39-&gt;51</title>\n<path d=\"M1634.33,-698.907C1657.77,-686.438 1683.48,-672.768 1706.58,-660.481\" fill=\"none\" stroke=\"black\"/>\n<polygon fill=\"black\" points=\"1708.45,-663.453 1715.63,-655.667 1705.16,-657.272 1708.45,-663.453\" stroke=\"black\"/>\n</g>\n<!-- 41 -->\n<g class=\"node\" id=\"node42\"><title>41</title>\n<polygon fill=\"#39e581\" fill-opacity=\"0.862745\" points=\"1658,-544 1458,-544 1458,-461 1658,-461 1658,-544\" stroke=\"black\"/>\n<text font-family=\"Times New Roman,serif\" font-size=\"14.00\" text-anchor=\"middle\" x=\"1558\" y=\"-528.8\">FTI &lt;= 4.441</text>\n<text font-family=\"Times New Roman,serif\" font-size=\"14.00\" text-anchor=\"middle\" x=\"1558\" y=\"-513.8\">gini = 0.211</text>\n<text font-family=\"Times New Roman,serif\" font-size=\"14.00\" text-anchor=\"middle\" x=\"1558\" y=\"-498.8\">samples = 8</text>\n<text font-family=\"Times New Roman,serif\" font-size=\"14.00\" text-anchor=\"middle\" x=\"1558\" y=\"-483.8\">value = [0.0, 15.375, 2.099]</text>\n<text font-family=\"Times New Roman,serif\" font-size=\"14.00\" text-anchor=\"middle\" x=\"1558\" y=\"-468.8\">class = increased binding protein</text>\n</g>\n<!-- 40&#45;&gt;41 -->\n<g class=\"edge\" id=\"edge41\"><title>40-&gt;41</title>\n<path d=\"M1558,-579.907C1558,-571.649 1558,-562.864 1558,-554.302\" fill=\"none\" stroke=\"black\"/>\n<polygon fill=\"black\" points=\"1561.5,-554.021 1558,-544.021 1554.5,-554.021 1561.5,-554.021\" stroke=\"black\"/>\n</g>\n<!-- 46 -->\n<g class=\"node\" id=\"node47\"><title>46</title>\n<polygon fill=\"#39e581\" fill-opacity=\"0.992157\" points=\"1987,-544 1787,-544 1787,-461 1987,-461 1987,-544\" stroke=\"black\"/>\n<text font-family=\"Times New Roman,serif\" font-size=\"14.00\" text-anchor=\"middle\" x=\"1887\" y=\"-528.8\">TT4 &lt;= 4.732</text>\n<text font-family=\"Times New Roman,serif\" font-size=\"14.00\" text-anchor=\"middle\" x=\"1887\" y=\"-513.8\">gini = 0.018</text>\n<text font-family=\"Times New Roman,serif\" font-size=\"14.00\" text-anchor=\"middle\" x=\"1887\" y=\"-498.8\">samples = 6</text>\n<text font-family=\"Times New Roman,serif\" font-size=\"14.00\" text-anchor=\"middle\" x=\"1887\" y=\"-483.8\">value = [0.0, 38.436, 0.35]</text>\n<text font-family=\"Times New Roman,serif\" font-size=\"14.00\" text-anchor=\"middle\" x=\"1887\" y=\"-468.8\">class = increased binding protein</text>\n</g>\n<!-- 40&#45;&gt;46 -->\n<g class=\"edge\" id=\"edge46\"><title>40-&gt;46</title>\n<path d=\"M1658.05,-583.231C1661.07,-582.138 1664.06,-581.059 1667,-580 1702.74,-567.148 1741.87,-553.43 1777.08,-541.211\" fill=\"none\" stroke=\"black\"/>\n<polygon fill=\"black\" points=\"1778.61,-544.388 1786.91,-537.806 1776.31,-537.774 1778.61,-544.388\" stroke=\"black\"/>\n</g>\n<!-- 42 -->\n<g class=\"node\" id=\"node43\"><title>42</title>\n<polygon fill=\"#39e581\" fill-opacity=\"0.976471\" points=\"1547,-425 1347,-425 1347,-342 1547,-342 1547,-425\" stroke=\"black\"/>\n<text font-family=\"Times New Roman,serif\" font-size=\"14.00\" text-anchor=\"middle\" x=\"1447\" y=\"-409.8\">TSH &lt;= 0.944</text>\n<text font-family=\"Times New Roman,serif\" font-size=\"14.00\" text-anchor=\"middle\" x=\"1447\" y=\"-394.8\">gini = 0.044</text>\n<text font-family=\"Times New Roman,serif\" font-size=\"14.00\" text-anchor=\"middle\" x=\"1447\" y=\"-379.8\">samples = 3</text>\n<text font-family=\"Times New Roman,serif\" font-size=\"14.00\" text-anchor=\"middle\" x=\"1447\" y=\"-364.8\">value = [0.0, 15.375, 0.35]</text>\n<text font-family=\"Times New Roman,serif\" font-size=\"14.00\" text-anchor=\"middle\" x=\"1447\" y=\"-349.8\">class = increased binding protein</text>\n</g>\n<!-- 41&#45;&gt;42 -->\n<g class=\"edge\" id=\"edge42\"><title>41-&gt;42</title>\n<path d=\"M1519.49,-460.907C1510.79,-451.742 1501.48,-441.927 1492.53,-432.489\" fill=\"none\" stroke=\"black\"/>\n<polygon fill=\"black\" points=\"1494.86,-429.867 1485.44,-425.021 1489.79,-434.684 1494.86,-429.867\" stroke=\"black\"/>\n</g>\n<!-- 45 -->\n<g class=\"node\" id=\"node46\"><title>45</title>\n<polygon fill=\"#8139e5\" points=\"1769,-417.5 1565,-417.5 1565,-349.5 1769,-349.5 1769,-417.5\" stroke=\"black\"/>\n<text font-family=\"Times New Roman,serif\" font-size=\"14.00\" text-anchor=\"middle\" x=\"1667\" y=\"-402.3\">gini = 0.0</text>\n<text font-family=\"Times New Roman,serif\" font-size=\"14.00\" text-anchor=\"middle\" x=\"1667\" y=\"-387.3\">samples = 5</text>\n<text font-family=\"Times New Roman,serif\" font-size=\"14.00\" text-anchor=\"middle\" x=\"1667\" y=\"-372.3\">value = [0.0, 0.0, 1.75]</text>\n<text font-family=\"Times New Roman,serif\" font-size=\"14.00\" text-anchor=\"middle\" x=\"1667\" y=\"-357.3\">class = decreased binding protein</text>\n</g>\n<!-- 41&#45;&gt;45 -->\n<g class=\"edge\" id=\"edge45\"><title>41-&gt;45</title>\n<path d=\"M1595.82,-460.907C1606.61,-449.321 1618.37,-436.698 1629.17,-425.111\" fill=\"none\" stroke=\"black\"/>\n<polygon fill=\"black\" points=\"1631.85,-427.37 1636.1,-417.667 1626.72,-422.598 1631.85,-427.37\" stroke=\"black\"/>\n</g>\n<!-- 43 -->\n<g class=\"node\" id=\"node44\"><title>43</title>\n<polygon fill=\"#8139e5\" points=\"1467,-298.5 1263,-298.5 1263,-230.5 1467,-230.5 1467,-298.5\" stroke=\"black\"/>\n<text font-family=\"Times New Roman,serif\" font-size=\"14.00\" text-anchor=\"middle\" x=\"1365\" y=\"-283.3\">gini = 0.0</text>\n<text font-family=\"Times New Roman,serif\" font-size=\"14.00\" text-anchor=\"middle\" x=\"1365\" y=\"-268.3\">samples = 1</text>\n<text font-family=\"Times New Roman,serif\" font-size=\"14.00\" text-anchor=\"middle\" x=\"1365\" y=\"-253.3\">value = [0.0, 0.0, 0.35]</text>\n<text font-family=\"Times New Roman,serif\" font-size=\"14.00\" text-anchor=\"middle\" x=\"1365\" y=\"-238.3\">class = decreased binding protein</text>\n</g>\n<!-- 42&#45;&gt;43 -->\n<g class=\"edge\" id=\"edge43\"><title>42-&gt;43</title>\n<path d=\"M1418.55,-341.907C1410.66,-330.652 1402.09,-318.418 1394.16,-307.106\" fill=\"none\" stroke=\"black\"/>\n<polygon fill=\"black\" points=\"1396.85,-304.847 1388.25,-298.667 1391.12,-308.865 1396.85,-304.847\" stroke=\"black\"/>\n</g>\n<!-- 44 -->\n<g class=\"node\" id=\"node45\"><title>44</title>\n<polygon fill=\"#39e581\" points=\"1685,-298.5 1485,-298.5 1485,-230.5 1685,-230.5 1685,-298.5\" stroke=\"black\"/>\n<text font-family=\"Times New Roman,serif\" font-size=\"14.00\" text-anchor=\"middle\" x=\"1585\" y=\"-283.3\">gini = -0.0</text>\n<text font-family=\"Times New Roman,serif\" font-size=\"14.00\" text-anchor=\"middle\" x=\"1585\" y=\"-268.3\">samples = 2</text>\n<text font-family=\"Times New Roman,serif\" font-size=\"14.00\" text-anchor=\"middle\" x=\"1585\" y=\"-253.3\">value = [0.0, 15.375, 0.0]</text>\n<text font-family=\"Times New Roman,serif\" font-size=\"14.00\" text-anchor=\"middle\" x=\"1585\" y=\"-238.3\">class = increased binding protein</text>\n</g>\n<!-- 42&#45;&gt;44 -->\n<g class=\"edge\" id=\"edge44\"><title>42-&gt;44</title>\n<path d=\"M1494.88,-341.907C1508.8,-330.101 1524,-317.217 1537.88,-305.45\" fill=\"none\" stroke=\"black\"/>\n<polygon fill=\"black\" points=\"1540.52,-307.803 1545.88,-298.667 1535.99,-302.464 1540.52,-307.803\" stroke=\"black\"/>\n</g>\n<!-- 47 -->\n<g class=\"node\" id=\"node48\"><title>47</title>\n<polygon fill=\"#39e581\" fill-opacity=\"0.952941\" points=\"1987,-425 1787,-425 1787,-342 1987,-342 1987,-425\" stroke=\"black\"/>\n<text font-family=\"Times New Roman,serif\" font-size=\"14.00\" text-anchor=\"middle\" x=\"1887\" y=\"-409.8\">T3 &lt;= 1.114</text>\n<text font-family=\"Times New Roman,serif\" font-size=\"14.00\" text-anchor=\"middle\" x=\"1887\" y=\"-394.8\">gini = 0.083</text>\n<text font-family=\"Times New Roman,serif\" font-size=\"14.00\" text-anchor=\"middle\" x=\"1887\" y=\"-379.8\">samples = 2</text>\n<text font-family=\"Times New Roman,serif\" font-size=\"14.00\" text-anchor=\"middle\" x=\"1887\" y=\"-364.8\">value = [0.0, 7.687, 0.35]</text>\n<text font-family=\"Times New Roman,serif\" font-size=\"14.00\" text-anchor=\"middle\" x=\"1887\" y=\"-349.8\">class = increased binding protein</text>\n</g>\n<!-- 46&#45;&gt;47 -->\n<g class=\"edge\" id=\"edge47\"><title>46-&gt;47</title>\n<path d=\"M1887,-460.907C1887,-452.649 1887,-443.864 1887,-435.302\" fill=\"none\" stroke=\"black\"/>\n<polygon fill=\"black\" points=\"1890.5,-435.021 1887,-425.021 1883.5,-435.021 1890.5,-435.021\" stroke=\"black\"/>\n</g>\n<!-- 50 -->\n<g class=\"node\" id=\"node51\"><title>50</title>\n<polygon fill=\"#39e581\" points=\"2205,-417.5 2005,-417.5 2005,-349.5 2205,-349.5 2205,-417.5\" stroke=\"black\"/>\n<text font-family=\"Times New Roman,serif\" font-size=\"14.00\" text-anchor=\"middle\" x=\"2105\" y=\"-402.3\">gini = -0.0</text>\n<text font-family=\"Times New Roman,serif\" font-size=\"14.00\" text-anchor=\"middle\" x=\"2105\" y=\"-387.3\">samples = 4</text>\n<text font-family=\"Times New Roman,serif\" font-size=\"14.00\" text-anchor=\"middle\" x=\"2105\" y=\"-372.3\">value = [0.0, 30.749, 0.0]</text>\n<text font-family=\"Times New Roman,serif\" font-size=\"14.00\" text-anchor=\"middle\" x=\"2105\" y=\"-357.3\">class = increased binding protein</text>\n</g>\n<!-- 46&#45;&gt;50 -->\n<g class=\"edge\" id=\"edge50\"><title>46-&gt;50</title>\n<path d=\"M1962.63,-460.907C1985.87,-448.438 2011.34,-434.768 2034.23,-422.481\" fill=\"none\" stroke=\"black\"/>\n<polygon fill=\"black\" points=\"2036.05,-425.48 2043.2,-417.667 2032.74,-419.312 2036.05,-425.48\" stroke=\"black\"/>\n</g>\n<!-- 48 -->\n<g class=\"node\" id=\"node49\"><title>48</title>\n<polygon fill=\"#8139e5\" points=\"1935,-298.5 1731,-298.5 1731,-230.5 1935,-230.5 1935,-298.5\" stroke=\"black\"/>\n<text font-family=\"Times New Roman,serif\" font-size=\"14.00\" text-anchor=\"middle\" x=\"1833\" y=\"-283.3\">gini = 0.0</text>\n<text font-family=\"Times New Roman,serif\" font-size=\"14.00\" text-anchor=\"middle\" x=\"1833\" y=\"-268.3\">samples = 1</text>\n<text font-family=\"Times New Roman,serif\" font-size=\"14.00\" text-anchor=\"middle\" x=\"1833\" y=\"-253.3\">value = [0.0, 0.0, 0.35]</text>\n<text font-family=\"Times New Roman,serif\" font-size=\"14.00\" text-anchor=\"middle\" x=\"1833\" y=\"-238.3\">class = decreased binding protein</text>\n</g>\n<!-- 47&#45;&gt;48 -->\n<g class=\"edge\" id=\"edge48\"><title>47-&gt;48</title>\n<path d=\"M1868.26,-341.907C1863.17,-330.873 1857.65,-318.898 1852.51,-307.773\" fill=\"none\" stroke=\"black\"/>\n<polygon fill=\"black\" points=\"1855.68,-306.28 1848.31,-298.667 1849.32,-309.213 1855.68,-306.28\" stroke=\"black\"/>\n</g>\n<!-- 49 -->\n<g class=\"node\" id=\"node50\"><title>49</title>\n<polygon fill=\"#39e581\" points=\"2153,-298.5 1953,-298.5 1953,-230.5 2153,-230.5 2153,-298.5\" stroke=\"black\"/>\n<text font-family=\"Times New Roman,serif\" font-size=\"14.00\" text-anchor=\"middle\" x=\"2053\" y=\"-283.3\">gini = -0.0</text>\n<text font-family=\"Times New Roman,serif\" font-size=\"14.00\" text-anchor=\"middle\" x=\"2053\" y=\"-268.3\">samples = 1</text>\n<text font-family=\"Times New Roman,serif\" font-size=\"14.00\" text-anchor=\"middle\" x=\"2053\" y=\"-253.3\">value = [0.0, 7.687, 0.0]</text>\n<text font-family=\"Times New Roman,serif\" font-size=\"14.00\" text-anchor=\"middle\" x=\"2053\" y=\"-238.3\">class = increased binding protein</text>\n</g>\n<!-- 47&#45;&gt;49 -->\n<g class=\"edge\" id=\"edge49\"><title>47-&gt;49</title>\n<path d=\"M1944.59,-341.907C1961.81,-329.769 1980.65,-316.493 1997.72,-304.462\" fill=\"none\" stroke=\"black\"/>\n<polygon fill=\"black\" points=\"1999.79,-307.289 2005.94,-298.667 1995.75,-301.567 1999.79,-307.289\" stroke=\"black\"/>\n</g>\n<!-- 53 -->\n<g class=\"node\" id=\"node54\"><title>53</title>\n<polygon fill=\"#39e581\" fill-opacity=\"0.454902\" points=\"2755,-901 2555,-901 2555,-818 2755,-818 2755,-901\" stroke=\"black\"/>\n<text font-family=\"Times New Roman,serif\" font-size=\"14.00\" text-anchor=\"middle\" x=\"2655\" y=\"-885.8\">T4U &lt;= 0.17</text>\n<text font-family=\"Times New Roman,serif\" font-size=\"14.00\" text-anchor=\"middle\" x=\"2655\" y=\"-870.8\">gini = 0.457</text>\n<text font-family=\"Times New Roman,serif\" font-size=\"14.00\" text-anchor=\"middle\" x=\"2655\" y=\"-855.8\">samples = 234</text>\n<text font-family=\"Times New Roman,serif\" font-size=\"14.00\" text-anchor=\"middle\" x=\"2655\" y=\"-840.8\">value = [0.0, 138.371, 75.581]</text>\n<text font-family=\"Times New Roman,serif\" font-size=\"14.00\" text-anchor=\"middle\" x=\"2655\" y=\"-825.8\">class = increased binding protein</text>\n</g>\n<!-- 52&#45;&gt;53 -->\n<g class=\"edge\" id=\"edge53\"><title>52-&gt;53</title>\n<path d=\"M2655,-936.907C2655,-928.649 2655,-919.864 2655,-911.302\" fill=\"none\" stroke=\"black\"/>\n<polygon fill=\"black\" points=\"2658.5,-911.021 2655,-901.021 2651.5,-911.021 2658.5,-911.021\" stroke=\"black\"/>\n</g>\n<!-- 76 -->\n<g class=\"node\" id=\"node77\"><title>76</title>\n<polygon fill=\"#39e581\" fill-opacity=\"0.976471\" points=\"3195,-901 2995,-901 2995,-818 3195,-818 3195,-901\" stroke=\"black\"/>\n<text font-family=\"Times New Roman,serif\" font-size=\"14.00\" text-anchor=\"middle\" x=\"3095\" y=\"-885.8\">FTI &lt;= 4.317</text>\n<text font-family=\"Times New Roman,serif\" font-size=\"14.00\" text-anchor=\"middle\" x=\"3095\" y=\"-870.8\">gini = 0.043</text>\n<text font-family=\"Times New Roman,serif\" font-size=\"14.00\" text-anchor=\"middle\" x=\"3095\" y=\"-855.8\">samples = 103</text>\n<text font-family=\"Times New Roman,serif\" font-size=\"14.00\" text-anchor=\"middle\" x=\"3095\" y=\"-840.8\">value = [0.0, 530.423, 11.897]</text>\n<text font-family=\"Times New Roman,serif\" font-size=\"14.00\" text-anchor=\"middle\" x=\"3095\" y=\"-825.8\">class = increased binding protein</text>\n</g>\n<!-- 52&#45;&gt;76 -->\n<g class=\"edge\" id=\"edge76\"><title>52-&gt;76</title>\n<path d=\"M2755.12,-950.878C2823.66,-932.651 2914.56,-908.482 2985.1,-889.723\" fill=\"none\" stroke=\"black\"/>\n<polygon fill=\"black\" points=\"2986.15,-893.066 2994.91,-887.114 2984.35,-886.301 2986.15,-893.066\" stroke=\"black\"/>\n</g>\n<!-- 54 -->\n<g class=\"node\" id=\"node55\"><title>54</title>\n<polygon fill=\"#8139e5\" points=\"2647,-774.5 2443,-774.5 2443,-706.5 2647,-706.5 2647,-774.5\" stroke=\"black\"/>\n<text font-family=\"Times New Roman,serif\" font-size=\"14.00\" text-anchor=\"middle\" x=\"2545\" y=\"-759.3\">gini = 0.0</text>\n<text font-family=\"Times New Roman,serif\" font-size=\"14.00\" text-anchor=\"middle\" x=\"2545\" y=\"-744.3\">samples = 85</text>\n<text font-family=\"Times New Roman,serif\" font-size=\"14.00\" text-anchor=\"middle\" x=\"2545\" y=\"-729.3\">value = [0.0, 0.0, 29.743]</text>\n<text font-family=\"Times New Roman,serif\" font-size=\"14.00\" text-anchor=\"middle\" x=\"2545\" y=\"-714.3\">class = decreased binding protein</text>\n</g>\n<!-- 53&#45;&gt;54 -->\n<g class=\"edge\" id=\"edge54\"><title>53-&gt;54</title>\n<path d=\"M2616.84,-817.907C2605.94,-806.321 2594.07,-793.698 2583.18,-782.111\" fill=\"none\" stroke=\"black\"/>\n<polygon fill=\"black\" points=\"2585.58,-779.555 2576.18,-774.667 2580.48,-784.35 2585.58,-779.555\" stroke=\"black\"/>\n</g>\n<!-- 55 -->\n<g class=\"node\" id=\"node56\"><title>55</title>\n<polygon fill=\"#39e581\" fill-opacity=\"0.670588\" points=\"2865,-782 2665,-782 2665,-699 2865,-699 2865,-782\" stroke=\"black\"/>\n<text font-family=\"Times New Roman,serif\" font-size=\"14.00\" text-anchor=\"middle\" x=\"2765\" y=\"-766.8\">TSH &lt;= 2.038</text>\n<text font-family=\"Times New Roman,serif\" font-size=\"14.00\" text-anchor=\"middle\" x=\"2765\" y=\"-751.8\">gini = 0.374</text>\n<text font-family=\"Times New Roman,serif\" font-size=\"14.00\" text-anchor=\"middle\" x=\"2765\" y=\"-736.8\">samples = 149</text>\n<text font-family=\"Times New Roman,serif\" font-size=\"14.00\" text-anchor=\"middle\" x=\"2765\" y=\"-721.8\">value = [0.0, 138.371, 45.839]</text>\n<text font-family=\"Times New Roman,serif\" font-size=\"14.00\" text-anchor=\"middle\" x=\"2765\" y=\"-706.8\">class = increased binding protein</text>\n</g>\n<!-- 53&#45;&gt;55 -->\n<g class=\"edge\" id=\"edge55\"><title>53-&gt;55</title>\n<path d=\"M2693.16,-817.907C2701.78,-808.742 2711.01,-798.927 2719.88,-789.489\" fill=\"none\" stroke=\"black\"/>\n<polygon fill=\"black\" points=\"2722.6,-791.704 2726.9,-782.021 2717.5,-786.909 2722.6,-791.704\" stroke=\"black\"/>\n</g>\n<!-- 56 -->\n<g class=\"node\" id=\"node57\"><title>56</title>\n<polygon fill=\"#39e581\" fill-opacity=\"0.725490\" points=\"2755,-663 2555,-663 2555,-580 2755,-580 2755,-663\" stroke=\"black\"/>\n<text font-family=\"Times New Roman,serif\" font-size=\"14.00\" text-anchor=\"middle\" x=\"2655\" y=\"-647.8\">FTI &lt;= 4.77</text>\n<text font-family=\"Times New Roman,serif\" font-size=\"14.00\" text-anchor=\"middle\" x=\"2655\" y=\"-632.8\">gini = 0.339</text>\n<text font-family=\"Times New Roman,serif\" font-size=\"14.00\" text-anchor=\"middle\" x=\"2655\" y=\"-617.8\">samples = 127</text>\n<text font-family=\"Times New Roman,serif\" font-size=\"14.00\" text-anchor=\"middle\" x=\"2655\" y=\"-602.8\">value = [0.0, 138.371, 38.141]</text>\n<text font-family=\"Times New Roman,serif\" font-size=\"14.00\" text-anchor=\"middle\" x=\"2655\" y=\"-587.8\">class = increased binding protein</text>\n</g>\n<!-- 55&#45;&gt;56 -->\n<g class=\"edge\" id=\"edge56\"><title>55-&gt;56</title>\n<path d=\"M2726.84,-698.907C2718.22,-689.742 2708.99,-679.927 2700.12,-670.489\" fill=\"none\" stroke=\"black\"/>\n<polygon fill=\"black\" points=\"2702.5,-667.909 2693.1,-663.021 2697.4,-672.704 2702.5,-667.909\" stroke=\"black\"/>\n</g>\n<!-- 75 -->\n<g class=\"node\" id=\"node76\"><title>75</title>\n<polygon fill=\"#8139e5\" points=\"2977,-655.5 2773,-655.5 2773,-587.5 2977,-587.5 2977,-655.5\" stroke=\"black\"/>\n<text font-family=\"Times New Roman,serif\" font-size=\"14.00\" text-anchor=\"middle\" x=\"2875\" y=\"-640.3\">gini = 0.0</text>\n<text font-family=\"Times New Roman,serif\" font-size=\"14.00\" text-anchor=\"middle\" x=\"2875\" y=\"-625.3\">samples = 22</text>\n<text font-family=\"Times New Roman,serif\" font-size=\"14.00\" text-anchor=\"middle\" x=\"2875\" y=\"-610.3\">value = [0.0, 0.0, 7.698]</text>\n<text font-family=\"Times New Roman,serif\" font-size=\"14.00\" text-anchor=\"middle\" x=\"2875\" y=\"-595.3\">class = decreased binding protein</text>\n</g>\n<!-- 55&#45;&gt;75 -->\n<g class=\"edge\" id=\"edge75\"><title>55-&gt;75</title>\n<path d=\"M2803.16,-698.907C2814.06,-687.321 2825.93,-674.698 2836.82,-663.111\" fill=\"none\" stroke=\"black\"/>\n<polygon fill=\"black\" points=\"2839.52,-665.35 2843.82,-655.667 2834.42,-660.555 2839.52,-665.35\" stroke=\"black\"/>\n</g>\n<!-- 57 -->\n<g class=\"node\" id=\"node58\"><title>57</title>\n<polygon fill=\"#39e581\" fill-opacity=\"0.533333\" points=\"2645,-544 2445,-544 2445,-461 2645,-461 2645,-544\" stroke=\"black\"/>\n<text font-family=\"Times New Roman,serif\" font-size=\"14.00\" text-anchor=\"middle\" x=\"2545\" y=\"-528.8\">T4U &lt;= 0.243</text>\n<text font-family=\"Times New Roman,serif\" font-size=\"14.00\" text-anchor=\"middle\" x=\"2545\" y=\"-513.8\">gini = 0.433</text>\n<text font-family=\"Times New Roman,serif\" font-size=\"14.00\" text-anchor=\"middle\" x=\"2545\" y=\"-498.8\">samples = 101</text>\n<text font-family=\"Times New Roman,serif\" font-size=\"14.00\" text-anchor=\"middle\" x=\"2545\" y=\"-483.8\">value = [0.0, 69.186, 32.192]</text>\n<text font-family=\"Times New Roman,serif\" font-size=\"14.00\" text-anchor=\"middle\" x=\"2545\" y=\"-468.8\">class = increased binding protein</text>\n</g>\n<!-- 56&#45;&gt;57 -->\n<g class=\"edge\" id=\"edge57\"><title>56-&gt;57</title>\n<path d=\"M2616.84,-579.907C2608.22,-570.742 2598.99,-560.927 2590.12,-551.489\" fill=\"none\" stroke=\"black\"/>\n<polygon fill=\"black\" points=\"2592.5,-548.909 2583.1,-544.021 2587.4,-553.704 2592.5,-548.909\" stroke=\"black\"/>\n</g>\n<!-- 66 -->\n<g class=\"node\" id=\"node67\"><title>66</title>\n<polygon fill=\"#39e581\" fill-opacity=\"0.913725\" points=\"2865,-544 2665,-544 2665,-461 2865,-461 2865,-544\" stroke=\"black\"/>\n<text font-family=\"Times New Roman,serif\" font-size=\"14.00\" text-anchor=\"middle\" x=\"2765\" y=\"-528.8\">TT4 &lt;= 5.066</text>\n<text font-family=\"Times New Roman,serif\" font-size=\"14.00\" text-anchor=\"middle\" x=\"2765\" y=\"-513.8\">gini = 0.146</text>\n<text font-family=\"Times New Roman,serif\" font-size=\"14.00\" text-anchor=\"middle\" x=\"2765\" y=\"-498.8\">samples = 26</text>\n<text font-family=\"Times New Roman,serif\" font-size=\"14.00\" text-anchor=\"middle\" x=\"2765\" y=\"-483.8\">value = [0.0, 69.186, 5.949]</text>\n<text font-family=\"Times New Roman,serif\" font-size=\"14.00\" text-anchor=\"middle\" x=\"2765\" y=\"-468.8\">class = increased binding protein</text>\n</g>\n<!-- 56&#45;&gt;66 -->\n<g class=\"edge\" id=\"edge66\"><title>56-&gt;66</title>\n<path d=\"M2693.16,-579.907C2701.78,-570.742 2711.01,-560.927 2719.88,-551.489\" fill=\"none\" stroke=\"black\"/>\n<polygon fill=\"black\" points=\"2722.6,-553.704 2726.9,-544.021 2717.5,-548.909 2722.6,-553.704\" stroke=\"black\"/>\n</g>\n<!-- 58 -->\n<g class=\"node\" id=\"node59\"><title>58</title>\n<polygon fill=\"#8139e5\" points=\"2427,-417.5 2223,-417.5 2223,-349.5 2427,-349.5 2427,-417.5\" stroke=\"black\"/>\n<text font-family=\"Times New Roman,serif\" font-size=\"14.00\" text-anchor=\"middle\" x=\"2325\" y=\"-402.3\">gini = 0.0</text>\n<text font-family=\"Times New Roman,serif\" font-size=\"14.00\" text-anchor=\"middle\" x=\"2325\" y=\"-387.3\">samples = 53</text>\n<text font-family=\"Times New Roman,serif\" font-size=\"14.00\" text-anchor=\"middle\" x=\"2325\" y=\"-372.3\">value = [0.0, 0.0, 18.545]</text>\n<text font-family=\"Times New Roman,serif\" font-size=\"14.00\" text-anchor=\"middle\" x=\"2325\" y=\"-357.3\">class = decreased binding protein</text>\n</g>\n<!-- 57&#45;&gt;58 -->\n<g class=\"edge\" id=\"edge58\"><title>57-&gt;58</title>\n<path d=\"M2468.67,-460.907C2445.23,-448.438 2419.52,-434.768 2396.42,-422.481\" fill=\"none\" stroke=\"black\"/>\n<polygon fill=\"black\" points=\"2397.84,-419.272 2387.37,-417.667 2394.55,-425.453 2397.84,-419.272\" stroke=\"black\"/>\n</g>\n<!-- 59 -->\n<g class=\"node\" id=\"node60\"><title>59</title>\n<polygon fill=\"#39e581\" fill-opacity=\"0.803922\" points=\"2645,-425 2445,-425 2445,-342 2645,-342 2645,-425\" stroke=\"black\"/>\n<text font-family=\"Times New Roman,serif\" font-size=\"14.00\" text-anchor=\"middle\" x=\"2545\" y=\"-409.8\">TT4 &lt;= 4.924</text>\n<text font-family=\"Times New Roman,serif\" font-size=\"14.00\" text-anchor=\"middle\" x=\"2545\" y=\"-394.8\">gini = 0.275</text>\n<text font-family=\"Times New Roman,serif\" font-size=\"14.00\" text-anchor=\"middle\" x=\"2545\" y=\"-379.8\">samples = 48</text>\n<text font-family=\"Times New Roman,serif\" font-size=\"14.00\" text-anchor=\"middle\" x=\"2545\" y=\"-364.8\">value = [0.0, 69.186, 13.647]</text>\n<text font-family=\"Times New Roman,serif\" font-size=\"14.00\" text-anchor=\"middle\" x=\"2545\" y=\"-349.8\">class = increased binding protein</text>\n</g>\n<!-- 57&#45;&gt;59 -->\n<g class=\"edge\" id=\"edge59\"><title>57-&gt;59</title>\n<path d=\"M2545,-460.907C2545,-452.649 2545,-443.864 2545,-435.302\" fill=\"none\" stroke=\"black\"/>\n<polygon fill=\"black\" points=\"2548.5,-435.021 2545,-425.021 2541.5,-435.021 2548.5,-435.021\" stroke=\"black\"/>\n</g>\n<!-- 60 -->\n<g class=\"node\" id=\"node61\"><title>60</title>\n<polygon fill=\"#39e581\" fill-opacity=\"0.882353\" points=\"2425,-306 2225,-306 2225,-223 2425,-223 2425,-306\" stroke=\"black\"/>\n<text font-family=\"Times New Roman,serif\" font-size=\"14.00\" text-anchor=\"middle\" x=\"2325\" y=\"-290.8\">TSH &lt;= -0.057</text>\n<text font-family=\"Times New Roman,serif\" font-size=\"14.00\" text-anchor=\"middle\" x=\"2325\" y=\"-275.8\">gini = 0.187</text>\n<text font-family=\"Times New Roman,serif\" font-size=\"14.00\" text-anchor=\"middle\" x=\"2325\" y=\"-260.8\">samples = 32</text>\n<text font-family=\"Times New Roman,serif\" font-size=\"14.00\" text-anchor=\"middle\" x=\"2325\" y=\"-245.8\">value = [0.0, 69.186, 8.048]</text>\n<text font-family=\"Times New Roman,serif\" font-size=\"14.00\" text-anchor=\"middle\" x=\"2325\" y=\"-230.8\">class = increased binding protein</text>\n</g>\n<!-- 59&#45;&gt;60 -->\n<g class=\"edge\" id=\"edge60\"><title>59-&gt;60</title>\n<path d=\"M2468.67,-341.907C2449.82,-331.879 2429.5,-321.075 2410.25,-310.837\" fill=\"none\" stroke=\"black\"/>\n<polygon fill=\"black\" points=\"2411.67,-307.626 2401.19,-306.021 2408.38,-313.807 2411.67,-307.626\" stroke=\"black\"/>\n</g>\n<!-- 65 -->\n<g class=\"node\" id=\"node66\"><title>65</title>\n<polygon fill=\"#8139e5\" points=\"2647,-298.5 2443,-298.5 2443,-230.5 2647,-230.5 2647,-298.5\" stroke=\"black\"/>\n<text font-family=\"Times New Roman,serif\" font-size=\"14.00\" text-anchor=\"middle\" x=\"2545\" y=\"-283.3\">gini = 0.0</text>\n<text font-family=\"Times New Roman,serif\" font-size=\"14.00\" text-anchor=\"middle\" x=\"2545\" y=\"-268.3\">samples = 16</text>\n<text font-family=\"Times New Roman,serif\" font-size=\"14.00\" text-anchor=\"middle\" x=\"2545\" y=\"-253.3\">value = [0.0, 0.0, 5.599]</text>\n<text font-family=\"Times New Roman,serif\" font-size=\"14.00\" text-anchor=\"middle\" x=\"2545\" y=\"-238.3\">class = decreased binding protein</text>\n</g>\n<!-- 59&#45;&gt;65 -->\n<g class=\"edge\" id=\"edge65\"><title>59-&gt;65</title>\n<path d=\"M2545,-341.907C2545,-331.204 2545,-319.615 2545,-308.776\" fill=\"none\" stroke=\"black\"/>\n<polygon fill=\"black\" points=\"2548.5,-308.667 2545,-298.667 2541.5,-308.667 2548.5,-308.667\" stroke=\"black\"/>\n</g>\n<!-- 61 -->\n<g class=\"node\" id=\"node62\"><title>61</title>\n<polygon fill=\"#8139e5\" points=\"2207,-179.5 2003,-179.5 2003,-111.5 2207,-111.5 2207,-179.5\" stroke=\"black\"/>\n<text font-family=\"Times New Roman,serif\" font-size=\"14.00\" text-anchor=\"middle\" x=\"2105\" y=\"-164.3\">gini = 0.0</text>\n<text font-family=\"Times New Roman,serif\" font-size=\"14.00\" text-anchor=\"middle\" x=\"2105\" y=\"-149.3\">samples = 7</text>\n<text font-family=\"Times New Roman,serif\" font-size=\"14.00\" text-anchor=\"middle\" x=\"2105\" y=\"-134.3\">value = [0.0, 0.0, 2.449]</text>\n<text font-family=\"Times New Roman,serif\" font-size=\"14.00\" text-anchor=\"middle\" x=\"2105\" y=\"-119.3\">class = decreased binding protein</text>\n</g>\n<!-- 60&#45;&gt;61 -->\n<g class=\"edge\" id=\"edge61\"><title>60-&gt;61</title>\n<path d=\"M2248.67,-222.907C2225.23,-210.438 2199.52,-196.768 2176.42,-184.481\" fill=\"none\" stroke=\"black\"/>\n<polygon fill=\"black\" points=\"2177.84,-181.272 2167.37,-179.667 2174.55,-187.453 2177.84,-181.272\" stroke=\"black\"/>\n</g>\n<!-- 62 -->\n<g class=\"node\" id=\"node63\"><title>62</title>\n<polygon fill=\"#39e581\" fill-opacity=\"0.917647\" points=\"2425,-187 2225,-187 2225,-104 2425,-104 2425,-187\" stroke=\"black\"/>\n<text font-family=\"Times New Roman,serif\" font-size=\"14.00\" text-anchor=\"middle\" x=\"2325\" y=\"-171.8\">TSH &lt;= 1.677</text>\n<text font-family=\"Times New Roman,serif\" font-size=\"14.00\" text-anchor=\"middle\" x=\"2325\" y=\"-156.8\">gini = 0.139</text>\n<text font-family=\"Times New Roman,serif\" font-size=\"14.00\" text-anchor=\"middle\" x=\"2325\" y=\"-141.8\">samples = 25</text>\n<text font-family=\"Times New Roman,serif\" font-size=\"14.00\" text-anchor=\"middle\" x=\"2325\" y=\"-126.8\">value = [0.0, 69.186, 5.599]</text>\n<text font-family=\"Times New Roman,serif\" font-size=\"14.00\" text-anchor=\"middle\" x=\"2325\" y=\"-111.8\">class = increased binding protein</text>\n</g>\n<!-- 60&#45;&gt;62 -->\n<g class=\"edge\" id=\"edge62\"><title>60-&gt;62</title>\n<path d=\"M2325,-222.907C2325,-214.649 2325,-205.864 2325,-197.302\" fill=\"none\" stroke=\"black\"/>\n<polygon fill=\"black\" points=\"2328.5,-197.021 2325,-187.021 2321.5,-197.021 2328.5,-197.021\" stroke=\"black\"/>\n</g>\n<!-- 63 -->\n<g class=\"node\" id=\"node64\"><title>63</title>\n<polygon fill=\"#39e581\" fill-opacity=\"0.929412\" points=\"2205,-68 2005,-68 2005,-0 2205,-0 2205,-68\" stroke=\"black\"/>\n<text font-family=\"Times New Roman,serif\" font-size=\"14.00\" text-anchor=\"middle\" x=\"2105\" y=\"-52.8\">gini = 0.124</text>\n<text font-family=\"Times New Roman,serif\" font-size=\"14.00\" text-anchor=\"middle\" x=\"2105\" y=\"-37.8\">samples = 23</text>\n<text font-family=\"Times New Roman,serif\" font-size=\"14.00\" text-anchor=\"middle\" x=\"2105\" y=\"-22.8\">value = [0.0, 69.186, 4.899]</text>\n<text font-family=\"Times New Roman,serif\" font-size=\"14.00\" text-anchor=\"middle\" x=\"2105\" y=\"-7.8\">class = increased binding protein</text>\n</g>\n<!-- 62&#45;&gt;63 -->\n<g class=\"edge\" id=\"edge63\"><title>62-&gt;63</title>\n<path d=\"M2243.39,-103.882C2222.82,-93.6424 2200.83,-82.695 2180.56,-72.6104\" fill=\"none\" stroke=\"black\"/>\n<polygon fill=\"black\" points=\"2181.9,-69.3659 2171.39,-68.0433 2178.78,-75.6326 2181.9,-69.3659\" stroke=\"black\"/>\n</g>\n<!-- 64 -->\n<g class=\"node\" id=\"node65\"><title>64</title>\n<polygon fill=\"#8139e5\" points=\"2427,-68 2223,-68 2223,-0 2427,-0 2427,-68\" stroke=\"black\"/>\n<text font-family=\"Times New Roman,serif\" font-size=\"14.00\" text-anchor=\"middle\" x=\"2325\" y=\"-52.8\">gini = 0.0</text>\n<text font-family=\"Times New Roman,serif\" font-size=\"14.00\" text-anchor=\"middle\" x=\"2325\" y=\"-37.8\">samples = 2</text>\n<text font-family=\"Times New Roman,serif\" font-size=\"14.00\" text-anchor=\"middle\" x=\"2325\" y=\"-22.8\">value = [0.0, 0.0, 0.7]</text>\n<text font-family=\"Times New Roman,serif\" font-size=\"14.00\" text-anchor=\"middle\" x=\"2325\" y=\"-7.8\">class = decreased binding protein</text>\n</g>\n<!-- 62&#45;&gt;64 -->\n<g class=\"edge\" id=\"edge64\"><title>62-&gt;64</title>\n<path d=\"M2325,-103.726C2325,-95.5175 2325,-86.8595 2325,-78.56\" fill=\"none\" stroke=\"black\"/>\n<polygon fill=\"black\" points=\"2328.5,-78.2996 2325,-68.2996 2321.5,-78.2996 2328.5,-78.2996\" stroke=\"black\"/>\n</g>\n<!-- 67 -->\n<g class=\"node\" id=\"node68\"><title>67</title>\n<polygon fill=\"#8139e5\" points=\"2867,-417.5 2663,-417.5 2663,-349.5 2867,-349.5 2867,-417.5\" stroke=\"black\"/>\n<text font-family=\"Times New Roman,serif\" font-size=\"14.00\" text-anchor=\"middle\" x=\"2765\" y=\"-402.3\">gini = 0.0</text>\n<text font-family=\"Times New Roman,serif\" font-size=\"14.00\" text-anchor=\"middle\" x=\"2765\" y=\"-387.3\">samples = 6</text>\n<text font-family=\"Times New Roman,serif\" font-size=\"14.00\" text-anchor=\"middle\" x=\"2765\" y=\"-372.3\">value = [0.0, 0.0, 2.099]</text>\n<text font-family=\"Times New Roman,serif\" font-size=\"14.00\" text-anchor=\"middle\" x=\"2765\" y=\"-357.3\">class = decreased binding protein</text>\n</g>\n<!-- 66&#45;&gt;67 -->\n<g class=\"edge\" id=\"edge67\"><title>66-&gt;67</title>\n<path d=\"M2765,-460.907C2765,-450.204 2765,-438.615 2765,-427.776\" fill=\"none\" stroke=\"black\"/>\n<polygon fill=\"black\" points=\"2768.5,-427.667 2765,-417.667 2761.5,-427.667 2768.5,-427.667\" stroke=\"black\"/>\n</g>\n<!-- 68 -->\n<g class=\"node\" id=\"node69\"><title>68</title>\n<polygon fill=\"#39e581\" fill-opacity=\"0.945098\" points=\"3085,-425 2885,-425 2885,-342 3085,-342 3085,-425\" stroke=\"black\"/>\n<text font-family=\"Times New Roman,serif\" font-size=\"14.00\" text-anchor=\"middle\" x=\"2985\" y=\"-409.8\">FTI &lt;= 4.949</text>\n<text font-family=\"Times New Roman,serif\" font-size=\"14.00\" text-anchor=\"middle\" x=\"2985\" y=\"-394.8\">gini = 0.1</text>\n<text font-family=\"Times New Roman,serif\" font-size=\"14.00\" text-anchor=\"middle\" x=\"2985\" y=\"-379.8\">samples = 20</text>\n<text font-family=\"Times New Roman,serif\" font-size=\"14.00\" text-anchor=\"middle\" x=\"2985\" y=\"-364.8\">value = [0.0, 69.186, 3.849]</text>\n<text font-family=\"Times New Roman,serif\" font-size=\"14.00\" text-anchor=\"middle\" x=\"2985\" y=\"-349.8\">class = increased binding protein</text>\n</g>\n<!-- 66&#45;&gt;68 -->\n<g class=\"edge\" id=\"edge68\"><title>66-&gt;68</title>\n<path d=\"M2841.33,-460.907C2860.18,-450.879 2880.5,-440.075 2899.75,-429.837\" fill=\"none\" stroke=\"black\"/>\n<polygon fill=\"black\" points=\"2901.62,-432.807 2908.81,-425.021 2898.33,-426.626 2901.62,-432.807\" stroke=\"black\"/>\n</g>\n<!-- 69 -->\n<g class=\"node\" id=\"node70\"><title>69</title>\n<polygon fill=\"#39e581\" fill-opacity=\"0.968627\" points=\"2865,-306 2665,-306 2665,-223 2865,-223 2865,-306\" stroke=\"black\"/>\n<text font-family=\"Times New Roman,serif\" font-size=\"14.00\" text-anchor=\"middle\" x=\"2765\" y=\"-290.8\">T4U &lt;= 0.333</text>\n<text font-family=\"Times New Roman,serif\" font-size=\"14.00\" text-anchor=\"middle\" x=\"2765\" y=\"-275.8\">gini = 0.057</text>\n<text font-family=\"Times New Roman,serif\" font-size=\"14.00\" text-anchor=\"middle\" x=\"2765\" y=\"-260.8\">samples = 15</text>\n<text font-family=\"Times New Roman,serif\" font-size=\"14.00\" text-anchor=\"middle\" x=\"2765\" y=\"-245.8\">value = [0.0, 69.186, 2.099]</text>\n<text font-family=\"Times New Roman,serif\" font-size=\"14.00\" text-anchor=\"middle\" x=\"2765\" y=\"-230.8\">class = increased binding protein</text>\n</g>\n<!-- 68&#45;&gt;69 -->\n<g class=\"edge\" id=\"edge69\"><title>68-&gt;69</title>\n<path d=\"M2908.67,-341.907C2889.82,-331.879 2869.5,-321.075 2850.25,-310.837\" fill=\"none\" stroke=\"black\"/>\n<polygon fill=\"black\" points=\"2851.67,-307.626 2841.19,-306.021 2848.38,-313.807 2851.67,-307.626\" stroke=\"black\"/>\n</g>\n<!-- 74 -->\n<g class=\"node\" id=\"node75\"><title>74</title>\n<polygon fill=\"#8139e5\" points=\"3087,-298.5 2883,-298.5 2883,-230.5 3087,-230.5 3087,-298.5\" stroke=\"black\"/>\n<text font-family=\"Times New Roman,serif\" font-size=\"14.00\" text-anchor=\"middle\" x=\"2985\" y=\"-283.3\">gini = 0.0</text>\n<text font-family=\"Times New Roman,serif\" font-size=\"14.00\" text-anchor=\"middle\" x=\"2985\" y=\"-268.3\">samples = 5</text>\n<text font-family=\"Times New Roman,serif\" font-size=\"14.00\" text-anchor=\"middle\" x=\"2985\" y=\"-253.3\">value = [0.0, 0.0, 1.75]</text>\n<text font-family=\"Times New Roman,serif\" font-size=\"14.00\" text-anchor=\"middle\" x=\"2985\" y=\"-238.3\">class = decreased binding protein</text>\n</g>\n<!-- 68&#45;&gt;74 -->\n<g class=\"edge\" id=\"edge74\"><title>68-&gt;74</title>\n<path d=\"M2985,-341.907C2985,-331.204 2985,-319.615 2985,-308.776\" fill=\"none\" stroke=\"black\"/>\n<polygon fill=\"black\" points=\"2988.5,-308.667 2985,-298.667 2981.5,-308.667 2988.5,-308.667\" stroke=\"black\"/>\n</g>\n<!-- 70 -->\n<g class=\"node\" id=\"node71\"><title>70</title>\n<polygon fill=\"#39e581\" fill-opacity=\"0.988235\" points=\"2645,-187 2445,-187 2445,-104 2645,-104 2645,-187\" stroke=\"black\"/>\n<text font-family=\"Times New Roman,serif\" font-size=\"14.00\" text-anchor=\"middle\" x=\"2545\" y=\"-171.8\">TSH &lt;= 0.692</text>\n<text font-family=\"Times New Roman,serif\" font-size=\"14.00\" text-anchor=\"middle\" x=\"2545\" y=\"-156.8\">gini = 0.02</text>\n<text font-family=\"Times New Roman,serif\" font-size=\"14.00\" text-anchor=\"middle\" x=\"2545\" y=\"-141.8\">samples = 11</text>\n<text font-family=\"Times New Roman,serif\" font-size=\"14.00\" text-anchor=\"middle\" x=\"2545\" y=\"-126.8\">value = [0.0, 69.186, 0.7]</text>\n<text font-family=\"Times New Roman,serif\" font-size=\"14.00\" text-anchor=\"middle\" x=\"2545\" y=\"-111.8\">class = increased binding protein</text>\n</g>\n<!-- 69&#45;&gt;70 -->\n<g class=\"edge\" id=\"edge70\"><title>69-&gt;70</title>\n<path d=\"M2688.67,-222.907C2669.82,-212.879 2649.5,-202.075 2630.25,-191.837\" fill=\"none\" stroke=\"black\"/>\n<polygon fill=\"black\" points=\"2631.67,-188.626 2621.19,-187.021 2628.38,-194.807 2631.67,-188.626\" stroke=\"black\"/>\n</g>\n<!-- 73 -->\n<g class=\"node\" id=\"node74\"><title>73</title>\n<polygon fill=\"#8139e5\" points=\"2867,-179.5 2663,-179.5 2663,-111.5 2867,-111.5 2867,-179.5\" stroke=\"black\"/>\n<text font-family=\"Times New Roman,serif\" font-size=\"14.00\" text-anchor=\"middle\" x=\"2765\" y=\"-164.3\">gini = 0.0</text>\n<text font-family=\"Times New Roman,serif\" font-size=\"14.00\" text-anchor=\"middle\" x=\"2765\" y=\"-149.3\">samples = 4</text>\n<text font-family=\"Times New Roman,serif\" font-size=\"14.00\" text-anchor=\"middle\" x=\"2765\" y=\"-134.3\">value = [0.0, 0.0, 1.4]</text>\n<text font-family=\"Times New Roman,serif\" font-size=\"14.00\" text-anchor=\"middle\" x=\"2765\" y=\"-119.3\">class = decreased binding protein</text>\n</g>\n<!-- 69&#45;&gt;73 -->\n<g class=\"edge\" id=\"edge73\"><title>69-&gt;73</title>\n<path d=\"M2765,-222.907C2765,-212.204 2765,-200.615 2765,-189.776\" fill=\"none\" stroke=\"black\"/>\n<polygon fill=\"black\" points=\"2768.5,-189.667 2765,-179.667 2761.5,-189.667 2768.5,-189.667\" stroke=\"black\"/>\n</g>\n<!-- 71 -->\n<g class=\"node\" id=\"node72\"><title>71</title>\n<polygon fill=\"#39e581\" points=\"2645,-68 2445,-68 2445,-0 2645,-0 2645,-68\" stroke=\"black\"/>\n<text font-family=\"Times New Roman,serif\" font-size=\"14.00\" text-anchor=\"middle\" x=\"2545\" y=\"-52.8\">gini = 0.0</text>\n<text font-family=\"Times New Roman,serif\" font-size=\"14.00\" text-anchor=\"middle\" x=\"2545\" y=\"-37.8\">samples = 7</text>\n<text font-family=\"Times New Roman,serif\" font-size=\"14.00\" text-anchor=\"middle\" x=\"2545\" y=\"-22.8\">value = [0.0, 53.811, 0.0]</text>\n<text font-family=\"Times New Roman,serif\" font-size=\"14.00\" text-anchor=\"middle\" x=\"2545\" y=\"-7.8\">class = increased binding protein</text>\n</g>\n<!-- 70&#45;&gt;71 -->\n<g class=\"edge\" id=\"edge71\"><title>70-&gt;71</title>\n<path d=\"M2545,-103.726C2545,-95.5175 2545,-86.8595 2545,-78.56\" fill=\"none\" stroke=\"black\"/>\n<polygon fill=\"black\" points=\"2548.5,-78.2996 2545,-68.2996 2541.5,-78.2996 2548.5,-78.2996\" stroke=\"black\"/>\n</g>\n<!-- 72 -->\n<g class=\"node\" id=\"node73\"><title>72</title>\n<polygon fill=\"#39e581\" fill-opacity=\"0.952941\" points=\"2863,-68 2663,-68 2663,-0 2863,-0 2863,-68\" stroke=\"black\"/>\n<text font-family=\"Times New Roman,serif\" font-size=\"14.00\" text-anchor=\"middle\" x=\"2763\" y=\"-52.8\">gini = 0.083</text>\n<text font-family=\"Times New Roman,serif\" font-size=\"14.00\" text-anchor=\"middle\" x=\"2763\" y=\"-37.8\">samples = 4</text>\n<text font-family=\"Times New Roman,serif\" font-size=\"14.00\" text-anchor=\"middle\" x=\"2763\" y=\"-22.8\">value = [0.0, 15.375, 0.7]</text>\n<text font-family=\"Times New Roman,serif\" font-size=\"14.00\" text-anchor=\"middle\" x=\"2763\" y=\"-7.8\">class = increased binding protein</text>\n</g>\n<!-- 70&#45;&gt;72 -->\n<g class=\"edge\" id=\"edge72\"><title>70-&gt;72</title>\n<path d=\"M2625.87,-103.882C2646.25,-93.6424 2668.05,-82.695 2688.12,-72.6104\" fill=\"none\" stroke=\"black\"/>\n<polygon fill=\"black\" points=\"2689.85,-75.6595 2697.22,-68.0433 2686.71,-69.4043 2689.85,-75.6595\" stroke=\"black\"/>\n</g>\n<!-- 77 -->\n<g class=\"node\" id=\"node78\"><title>77</title>\n<polygon fill=\"#8139e5\" points=\"3197,-774.5 2993,-774.5 2993,-706.5 3197,-706.5 3197,-774.5\" stroke=\"black\"/>\n<text font-family=\"Times New Roman,serif\" font-size=\"14.00\" text-anchor=\"middle\" x=\"3095\" y=\"-759.3\">gini = 0.0</text>\n<text font-family=\"Times New Roman,serif\" font-size=\"14.00\" text-anchor=\"middle\" x=\"3095\" y=\"-744.3\">samples = 3</text>\n<text font-family=\"Times New Roman,serif\" font-size=\"14.00\" text-anchor=\"middle\" x=\"3095\" y=\"-729.3\">value = [0.0, 0.0, 1.05]</text>\n<text font-family=\"Times New Roman,serif\" font-size=\"14.00\" text-anchor=\"middle\" x=\"3095\" y=\"-714.3\">class = decreased binding protein</text>\n</g>\n<!-- 76&#45;&gt;77 -->\n<g class=\"edge\" id=\"edge77\"><title>76-&gt;77</title>\n<path d=\"M3095,-817.907C3095,-807.204 3095,-795.615 3095,-784.776\" fill=\"none\" stroke=\"black\"/>\n<polygon fill=\"black\" points=\"3098.5,-784.667 3095,-774.667 3091.5,-784.667 3098.5,-784.667\" stroke=\"black\"/>\n</g>\n<!-- 78 -->\n<g class=\"node\" id=\"node79\"><title>78</title>\n<polygon fill=\"#39e581\" fill-opacity=\"0.980392\" points=\"3526,-782 3326,-782 3326,-699 3526,-699 3526,-782\" stroke=\"black\"/>\n<text font-family=\"Times New Roman,serif\" font-size=\"14.00\" text-anchor=\"middle\" x=\"3426\" y=\"-766.8\">FTI &lt;= 5.136</text>\n<text font-family=\"Times New Roman,serif\" font-size=\"14.00\" text-anchor=\"middle\" x=\"3426\" y=\"-751.8\">gini = 0.039</text>\n<text font-family=\"Times New Roman,serif\" font-size=\"14.00\" text-anchor=\"middle\" x=\"3426\" y=\"-736.8\">samples = 100</text>\n<text font-family=\"Times New Roman,serif\" font-size=\"14.00\" text-anchor=\"middle\" x=\"3426\" y=\"-721.8\">value = [0.0, 530.423, 10.847]</text>\n<text font-family=\"Times New Roman,serif\" font-size=\"14.00\" text-anchor=\"middle\" x=\"3426\" y=\"-706.8\">class = increased binding protein</text>\n</g>\n<!-- 76&#45;&gt;78 -->\n<g class=\"edge\" id=\"edge78\"><title>76-&gt;78</title>\n<path d=\"M3195.21,-823.079C3233.36,-809.593 3277.03,-794.158 3316.04,-780.37\" fill=\"none\" stroke=\"black\"/>\n<polygon fill=\"black\" points=\"3317.58,-783.534 3325.85,-776.902 3315.25,-776.935 3317.58,-783.534\" stroke=\"black\"/>\n</g>\n<!-- 79 -->\n<g class=\"node\" id=\"node80\"><title>79</title>\n<polygon fill=\"#39e581\" fill-opacity=\"0.980392\" points=\"3526,-663 3326,-663 3326,-580 3526,-580 3526,-663\" stroke=\"black\"/>\n<text font-family=\"Times New Roman,serif\" font-size=\"14.00\" text-anchor=\"middle\" x=\"3426\" y=\"-647.8\">T4U &lt;= 0.239</text>\n<text font-family=\"Times New Roman,serif\" font-size=\"14.00\" text-anchor=\"middle\" x=\"3426\" y=\"-632.8\">gini = 0.037</text>\n<text font-family=\"Times New Roman,serif\" font-size=\"14.00\" text-anchor=\"middle\" x=\"3426\" y=\"-617.8\">samples = 98</text>\n<text font-family=\"Times New Roman,serif\" font-size=\"14.00\" text-anchor=\"middle\" x=\"3426\" y=\"-602.8\">value = [0.0, 530.423, 10.148]</text>\n<text font-family=\"Times New Roman,serif\" font-size=\"14.00\" text-anchor=\"middle\" x=\"3426\" y=\"-587.8\">class = increased binding protein</text>\n</g>\n<!-- 78&#45;&gt;79 -->\n<g class=\"edge\" id=\"edge79\"><title>78-&gt;79</title>\n<path d=\"M3426,-698.907C3426,-690.649 3426,-681.864 3426,-673.302\" fill=\"none\" stroke=\"black\"/>\n<polygon fill=\"black\" points=\"3429.5,-673.021 3426,-663.021 3422.5,-673.021 3429.5,-673.021\" stroke=\"black\"/>\n</g>\n<!-- 108 -->\n<g class=\"node\" id=\"node109\"><title>108</title>\n<polygon fill=\"#8139e5\" points=\"3748,-655.5 3544,-655.5 3544,-587.5 3748,-587.5 3748,-655.5\" stroke=\"black\"/>\n<text font-family=\"Times New Roman,serif\" font-size=\"14.00\" text-anchor=\"middle\" x=\"3646\" y=\"-640.3\">gini = -0.0</text>\n<text font-family=\"Times New Roman,serif\" font-size=\"14.00\" text-anchor=\"middle\" x=\"3646\" y=\"-625.3\">samples = 2</text>\n<text font-family=\"Times New Roman,serif\" font-size=\"14.00\" text-anchor=\"middle\" x=\"3646\" y=\"-610.3\">value = [0.0, 0.0, 0.7]</text>\n<text font-family=\"Times New Roman,serif\" font-size=\"14.00\" text-anchor=\"middle\" x=\"3646\" y=\"-595.3\">class = decreased binding protein</text>\n</g>\n<!-- 78&#45;&gt;108 -->\n<g class=\"edge\" id=\"edge108\"><title>78-&gt;108</title>\n<path d=\"M3502.33,-698.907C3525.77,-686.438 3551.48,-672.768 3574.58,-660.481\" fill=\"none\" stroke=\"black\"/>\n<polygon fill=\"black\" points=\"3576.45,-663.453 3583.63,-655.667 3573.16,-657.272 3576.45,-663.453\" stroke=\"black\"/>\n</g>\n<!-- 80 -->\n<g class=\"node\" id=\"node81\"><title>80</title>\n<polygon fill=\"#39e581\" fill-opacity=\"0.949020\" points=\"3526,-544 3326,-544 3326,-461 3526,-461 3526,-544\" stroke=\"black\"/>\n<text font-family=\"Times New Roman,serif\" font-size=\"14.00\" text-anchor=\"middle\" x=\"3426\" y=\"-528.8\">T4U &lt;= 0.227</text>\n<text font-family=\"Times New Roman,serif\" font-size=\"14.00\" text-anchor=\"middle\" x=\"3426\" y=\"-513.8\">gini = 0.093</text>\n<text font-family=\"Times New Roman,serif\" font-size=\"14.00\" text-anchor=\"middle\" x=\"3426\" y=\"-498.8\">samples = 32</text>\n<text font-family=\"Times New Roman,serif\" font-size=\"14.00\" text-anchor=\"middle\" x=\"3426\" y=\"-483.8\">value = [0.0, 115.309, 5.949]</text>\n<text font-family=\"Times New Roman,serif\" font-size=\"14.00\" text-anchor=\"middle\" x=\"3426\" y=\"-468.8\">class = increased binding protein</text>\n</g>\n<!-- 79&#45;&gt;80 -->\n<g class=\"edge\" id=\"edge80\"><title>79-&gt;80</title>\n<path d=\"M3426,-579.907C3426,-571.649 3426,-562.864 3426,-554.302\" fill=\"none\" stroke=\"black\"/>\n<polygon fill=\"black\" points=\"3429.5,-554.021 3426,-544.021 3422.5,-554.021 3429.5,-554.021\" stroke=\"black\"/>\n</g>\n<!-- 93 -->\n<g class=\"node\" id=\"node94\"><title>93</title>\n<polygon fill=\"#39e581\" fill-opacity=\"0.988235\" points=\"4288,-544 4088,-544 4088,-461 4288,-461 4288,-544\" stroke=\"black\"/>\n<text font-family=\"Times New Roman,serif\" font-size=\"14.00\" text-anchor=\"middle\" x=\"4188\" y=\"-528.8\">TSH &lt;= 2.318</text>\n<text font-family=\"Times New Roman,serif\" font-size=\"14.00\" text-anchor=\"middle\" x=\"4188\" y=\"-513.8\">gini = 0.02</text>\n<text font-family=\"Times New Roman,serif\" font-size=\"14.00\" text-anchor=\"middle\" x=\"4188\" y=\"-498.8\">samples = 66</text>\n<text font-family=\"Times New Roman,serif\" font-size=\"14.00\" text-anchor=\"middle\" x=\"4188\" y=\"-483.8\">value = [0.0, 415.113, 4.199]</text>\n<text font-family=\"Times New Roman,serif\" font-size=\"14.00\" text-anchor=\"middle\" x=\"4188\" y=\"-468.8\">class = increased binding protein</text>\n</g>\n<!-- 79&#45;&gt;93 -->\n<g class=\"edge\" id=\"edge93\"><title>79-&gt;93</title>\n<path d=\"M3526.09,-582.285C3529.08,-581.473 3532.06,-580.709 3535,-580 3722.52,-534.869 3946.98,-515.987 4077.93,-508.365\" fill=\"none\" stroke=\"black\"/>\n<polygon fill=\"black\" points=\"4078.18,-511.856 4087.97,-507.792 4077.78,-504.867 4078.18,-511.856\" stroke=\"black\"/>\n</g>\n<!-- 81 -->\n<g class=\"node\" id=\"node82\"><title>81</title>\n<polygon fill=\"#39e581\" fill-opacity=\"0.952941\" points=\"3416,-425 3216,-425 3216,-342 3416,-342 3416,-425\" stroke=\"black\"/>\n<text font-family=\"Times New Roman,serif\" font-size=\"14.00\" text-anchor=\"middle\" x=\"3316\" y=\"-409.8\">T3 &lt;= 1.094</text>\n<text font-family=\"Times New Roman,serif\" font-size=\"14.00\" text-anchor=\"middle\" x=\"3316\" y=\"-394.8\">gini = 0.088</text>\n<text font-family=\"Times New Roman,serif\" font-size=\"14.00\" text-anchor=\"middle\" x=\"3316\" y=\"-379.8\">samples = 31</text>\n<text font-family=\"Times New Roman,serif\" font-size=\"14.00\" text-anchor=\"middle\" x=\"3316\" y=\"-364.8\">value = [0.0, 115.309, 5.599]</text>\n<text font-family=\"Times New Roman,serif\" font-size=\"14.00\" text-anchor=\"middle\" x=\"3316\" y=\"-349.8\">class = increased binding protein</text>\n</g>\n<!-- 80&#45;&gt;81 -->\n<g class=\"edge\" id=\"edge81\"><title>80-&gt;81</title>\n<path d=\"M3387.84,-460.907C3379.22,-451.742 3369.99,-441.927 3361.12,-432.489\" fill=\"none\" stroke=\"black\"/>\n<polygon fill=\"black\" points=\"3363.5,-429.909 3354.1,-425.021 3358.4,-434.704 3363.5,-429.909\" stroke=\"black\"/>\n</g>\n<!-- 92 -->\n<g class=\"node\" id=\"node93\"><title>92</title>\n<polygon fill=\"#8139e5\" points=\"3638,-417.5 3434,-417.5 3434,-349.5 3638,-349.5 3638,-417.5\" stroke=\"black\"/>\n<text font-family=\"Times New Roman,serif\" font-size=\"14.00\" text-anchor=\"middle\" x=\"3536\" y=\"-402.3\">gini = 0.0</text>\n<text font-family=\"Times New Roman,serif\" font-size=\"14.00\" text-anchor=\"middle\" x=\"3536\" y=\"-387.3\">samples = 1</text>\n<text font-family=\"Times New Roman,serif\" font-size=\"14.00\" text-anchor=\"middle\" x=\"3536\" y=\"-372.3\">value = [0.0, 0.0, 0.35]</text>\n<text font-family=\"Times New Roman,serif\" font-size=\"14.00\" text-anchor=\"middle\" x=\"3536\" y=\"-357.3\">class = decreased binding protein</text>\n</g>\n<!-- 80&#45;&gt;92 -->\n<g class=\"edge\" id=\"edge92\"><title>80-&gt;92</title>\n<path d=\"M3464.16,-460.907C3475.06,-449.321 3486.93,-436.698 3497.82,-425.111\" fill=\"none\" stroke=\"black\"/>\n<polygon fill=\"black\" points=\"3500.52,-427.35 3504.82,-417.667 3495.42,-422.555 3500.52,-427.35\" stroke=\"black\"/>\n</g>\n<!-- 82 -->\n<g class=\"node\" id=\"node83\"><title>82</title>\n<polygon fill=\"#39e581\" fill-opacity=\"0.772549\" points=\"3307,-306 3107,-306 3107,-223 3307,-223 3307,-306\" stroke=\"black\"/>\n<text font-family=\"Times New Roman,serif\" font-size=\"14.00\" text-anchor=\"middle\" x=\"3207\" y=\"-290.8\">FTI &lt;= 4.811</text>\n<text font-family=\"Times New Roman,serif\" font-size=\"14.00\" text-anchor=\"middle\" x=\"3207\" y=\"-275.8\">gini = 0.302</text>\n<text font-family=\"Times New Roman,serif\" font-size=\"14.00\" text-anchor=\"middle\" x=\"3207\" y=\"-260.8\">samples = 6</text>\n<text font-family=\"Times New Roman,serif\" font-size=\"14.00\" text-anchor=\"middle\" x=\"3207\" y=\"-245.8\">value = [0.0, 7.687, 1.75]</text>\n<text font-family=\"Times New Roman,serif\" font-size=\"14.00\" text-anchor=\"middle\" x=\"3207\" y=\"-230.8\">class = increased binding protein</text>\n</g>\n<!-- 81&#45;&gt;82 -->\n<g class=\"edge\" id=\"edge82\"><title>81-&gt;82</title>\n<path d=\"M3278.18,-341.907C3269.64,-332.742 3260.5,-322.927 3251.71,-313.489\" fill=\"none\" stroke=\"black\"/>\n<polygon fill=\"black\" points=\"3254.13,-310.952 3244.75,-306.021 3249.01,-315.723 3254.13,-310.952\" stroke=\"black\"/>\n</g>\n<!-- 87 -->\n<g class=\"node\" id=\"node88\"><title>87</title>\n<polygon fill=\"#39e581\" fill-opacity=\"0.964706\" points=\"3525,-306 3325,-306 3325,-223 3525,-223 3525,-306\" stroke=\"black\"/>\n<text font-family=\"Times New Roman,serif\" font-size=\"14.00\" text-anchor=\"middle\" x=\"3425\" y=\"-290.8\">sex_M &lt;= 0.5</text>\n<text font-family=\"Times New Roman,serif\" font-size=\"14.00\" text-anchor=\"middle\" x=\"3425\" y=\"-275.8\">gini = 0.067</text>\n<text font-family=\"Times New Roman,serif\" font-size=\"14.00\" text-anchor=\"middle\" x=\"3425\" y=\"-260.8\">samples = 25</text>\n<text font-family=\"Times New Roman,serif\" font-size=\"14.00\" text-anchor=\"middle\" x=\"3425\" y=\"-245.8\">value = [0.0, 107.622, 3.849]</text>\n<text font-family=\"Times New Roman,serif\" font-size=\"14.00\" text-anchor=\"middle\" x=\"3425\" y=\"-230.8\">class = increased binding protein</text>\n</g>\n<!-- 81&#45;&gt;87 -->\n<g class=\"edge\" id=\"edge87\"><title>81-&gt;87</title>\n<path d=\"M3353.82,-341.907C3362.36,-332.742 3371.5,-322.927 3380.29,-313.489\" fill=\"none\" stroke=\"black\"/>\n<polygon fill=\"black\" points=\"3382.99,-315.723 3387.25,-306.021 3377.87,-310.952 3382.99,-315.723\" stroke=\"black\"/>\n</g>\n<!-- 83 -->\n<g class=\"node\" id=\"node84\"><title>83</title>\n<polygon fill=\"#8139e5\" points=\"3089,-179.5 2885,-179.5 2885,-111.5 3089,-111.5 3089,-179.5\" stroke=\"black\"/>\n<text font-family=\"Times New Roman,serif\" font-size=\"14.00\" text-anchor=\"middle\" x=\"2987\" y=\"-164.3\">gini = 0.0</text>\n<text font-family=\"Times New Roman,serif\" font-size=\"14.00\" text-anchor=\"middle\" x=\"2987\" y=\"-149.3\">samples = 4</text>\n<text font-family=\"Times New Roman,serif\" font-size=\"14.00\" text-anchor=\"middle\" x=\"2987\" y=\"-134.3\">value = [0.0, 0.0, 1.4]</text>\n<text font-family=\"Times New Roman,serif\" font-size=\"14.00\" text-anchor=\"middle\" x=\"2987\" y=\"-119.3\">class = decreased binding protein</text>\n</g>\n<!-- 82&#45;&gt;83 -->\n<g class=\"edge\" id=\"edge83\"><title>82-&gt;83</title>\n<path d=\"M3130.67,-222.907C3107.23,-210.438 3081.52,-196.768 3058.42,-184.481\" fill=\"none\" stroke=\"black\"/>\n<polygon fill=\"black\" points=\"3059.84,-181.272 3049.37,-179.667 3056.55,-187.453 3059.84,-181.272\" stroke=\"black\"/>\n</g>\n<!-- 84 -->\n<g class=\"node\" id=\"node85\"><title>84</title>\n<polygon fill=\"#39e581\" fill-opacity=\"0.952941\" points=\"3307,-187 3107,-187 3107,-104 3307,-104 3307,-187\" stroke=\"black\"/>\n<text font-family=\"Times New Roman,serif\" font-size=\"14.00\" text-anchor=\"middle\" x=\"3207\" y=\"-171.8\">sex_M &lt;= 0.5</text>\n<text font-family=\"Times New Roman,serif\" font-size=\"14.00\" text-anchor=\"middle\" x=\"3207\" y=\"-156.8\">gini = 0.083</text>\n<text font-family=\"Times New Roman,serif\" font-size=\"14.00\" text-anchor=\"middle\" x=\"3207\" y=\"-141.8\">samples = 2</text>\n<text font-family=\"Times New Roman,serif\" font-size=\"14.00\" text-anchor=\"middle\" x=\"3207\" y=\"-126.8\">value = [0.0, 7.687, 0.35]</text>\n<text font-family=\"Times New Roman,serif\" font-size=\"14.00\" text-anchor=\"middle\" x=\"3207\" y=\"-111.8\">class = increased binding protein</text>\n</g>\n<!-- 82&#45;&gt;84 -->\n<g class=\"edge\" id=\"edge84\"><title>82-&gt;84</title>\n<path d=\"M3207,-222.907C3207,-214.649 3207,-205.864 3207,-197.302\" fill=\"none\" stroke=\"black\"/>\n<polygon fill=\"black\" points=\"3210.5,-197.021 3207,-187.021 3203.5,-197.021 3210.5,-197.021\" stroke=\"black\"/>\n</g>\n<!-- 85 -->\n<g class=\"node\" id=\"node86\"><title>85</title>\n<polygon fill=\"#8139e5\" points=\"3089,-68 2885,-68 2885,-0 3089,-0 3089,-68\" stroke=\"black\"/>\n<text font-family=\"Times New Roman,serif\" font-size=\"14.00\" text-anchor=\"middle\" x=\"2987\" y=\"-52.8\">gini = 0.0</text>\n<text font-family=\"Times New Roman,serif\" font-size=\"14.00\" text-anchor=\"middle\" x=\"2987\" y=\"-37.8\">samples = 1</text>\n<text font-family=\"Times New Roman,serif\" font-size=\"14.00\" text-anchor=\"middle\" x=\"2987\" y=\"-22.8\">value = [0.0, 0.0, 0.35]</text>\n<text font-family=\"Times New Roman,serif\" font-size=\"14.00\" text-anchor=\"middle\" x=\"2987\" y=\"-7.8\">class = decreased binding protein</text>\n</g>\n<!-- 84&#45;&gt;85 -->\n<g class=\"edge\" id=\"edge85\"><title>84-&gt;85</title>\n<path d=\"M3125.39,-103.882C3104.82,-93.6424 3082.83,-82.695 3062.56,-72.6104\" fill=\"none\" stroke=\"black\"/>\n<polygon fill=\"black\" points=\"3063.9,-69.3659 3053.39,-68.0433 3060.78,-75.6326 3063.9,-69.3659\" stroke=\"black\"/>\n</g>\n<!-- 86 -->\n<g class=\"node\" id=\"node87\"><title>86</title>\n<polygon fill=\"#39e581\" points=\"3307,-68 3107,-68 3107,-0 3307,-0 3307,-68\" stroke=\"black\"/>\n<text font-family=\"Times New Roman,serif\" font-size=\"14.00\" text-anchor=\"middle\" x=\"3207\" y=\"-52.8\">gini = -0.0</text>\n<text font-family=\"Times New Roman,serif\" font-size=\"14.00\" text-anchor=\"middle\" x=\"3207\" y=\"-37.8\">samples = 1</text>\n<text font-family=\"Times New Roman,serif\" font-size=\"14.00\" text-anchor=\"middle\" x=\"3207\" y=\"-22.8\">value = [0.0, 7.687, 0.0]</text>\n<text font-family=\"Times New Roman,serif\" font-size=\"14.00\" text-anchor=\"middle\" x=\"3207\" y=\"-7.8\">class = increased binding protein</text>\n</g>\n<!-- 84&#45;&gt;86 -->\n<g class=\"edge\" id=\"edge86\"><title>84-&gt;86</title>\n<path d=\"M3207,-103.726C3207,-95.5175 3207,-86.8595 3207,-78.56\" fill=\"none\" stroke=\"black\"/>\n<polygon fill=\"black\" points=\"3210.5,-78.2996 3207,-68.2996 3203.5,-78.2996 3210.5,-78.2996\" stroke=\"black\"/>\n</g>\n<!-- 88 -->\n<g class=\"node\" id=\"node89\"><title>88</title>\n<polygon fill=\"#39e581\" fill-opacity=\"0.972549\" points=\"3525,-187 3325,-187 3325,-104 3525,-104 3525,-187\" stroke=\"black\"/>\n<text font-family=\"Times New Roman,serif\" font-size=\"14.00\" text-anchor=\"middle\" x=\"3425\" y=\"-171.8\">T3 &lt;= 1.147</text>\n<text font-family=\"Times New Roman,serif\" font-size=\"14.00\" text-anchor=\"middle\" x=\"3425\" y=\"-156.8\">gini = 0.049</text>\n<text font-family=\"Times New Roman,serif\" font-size=\"14.00\" text-anchor=\"middle\" x=\"3425\" y=\"-141.8\">samples = 22</text>\n<text font-family=\"Times New Roman,serif\" font-size=\"14.00\" text-anchor=\"middle\" x=\"3425\" y=\"-126.8\">value = [0.0, 107.622, 2.799]</text>\n<text font-family=\"Times New Roman,serif\" font-size=\"14.00\" text-anchor=\"middle\" x=\"3425\" y=\"-111.8\">class = increased binding protein</text>\n</g>\n<!-- 87&#45;&gt;88 -->\n<g class=\"edge\" id=\"edge88\"><title>87-&gt;88</title>\n<path d=\"M3425,-222.907C3425,-214.649 3425,-205.864 3425,-197.302\" fill=\"none\" stroke=\"black\"/>\n<polygon fill=\"black\" points=\"3428.5,-197.021 3425,-187.021 3421.5,-197.021 3428.5,-197.021\" stroke=\"black\"/>\n</g>\n<!-- 91 -->\n<g class=\"node\" id=\"node92\"><title>91</title>\n<polygon fill=\"#8139e5\" points=\"3747,-179.5 3543,-179.5 3543,-111.5 3747,-111.5 3747,-179.5\" stroke=\"black\"/>\n<text font-family=\"Times New Roman,serif\" font-size=\"14.00\" text-anchor=\"middle\" x=\"3645\" y=\"-164.3\">gini = 0.0</text>\n<text font-family=\"Times New Roman,serif\" font-size=\"14.00\" text-anchor=\"middle\" x=\"3645\" y=\"-149.3\">samples = 3</text>\n<text font-family=\"Times New Roman,serif\" font-size=\"14.00\" text-anchor=\"middle\" x=\"3645\" y=\"-134.3\">value = [0.0, 0.0, 1.05]</text>\n<text font-family=\"Times New Roman,serif\" font-size=\"14.00\" text-anchor=\"middle\" x=\"3645\" y=\"-119.3\">class = decreased binding protein</text>\n</g>\n<!-- 87&#45;&gt;91 -->\n<g class=\"edge\" id=\"edge91\"><title>87-&gt;91</title>\n<path d=\"M3501.33,-222.907C3524.77,-210.438 3550.48,-196.768 3573.58,-184.481\" fill=\"none\" stroke=\"black\"/>\n<polygon fill=\"black\" points=\"3575.45,-187.453 3582.63,-179.667 3572.16,-181.272 3575.45,-187.453\" stroke=\"black\"/>\n</g>\n<!-- 89 -->\n<g class=\"node\" id=\"node90\"><title>89</title>\n<polygon fill=\"#39e581\" points=\"3525,-68 3325,-68 3325,-0 3525,-0 3525,-68\" stroke=\"black\"/>\n<text font-family=\"Times New Roman,serif\" font-size=\"14.00\" text-anchor=\"middle\" x=\"3425\" y=\"-52.8\">gini = 0.0</text>\n<text font-family=\"Times New Roman,serif\" font-size=\"14.00\" text-anchor=\"middle\" x=\"3425\" y=\"-37.8\">samples = 8</text>\n<text font-family=\"Times New Roman,serif\" font-size=\"14.00\" text-anchor=\"middle\" x=\"3425\" y=\"-22.8\">value = [0.0, 61.498, 0.0]</text>\n<text font-family=\"Times New Roman,serif\" font-size=\"14.00\" text-anchor=\"middle\" x=\"3425\" y=\"-7.8\">class = increased binding protein</text>\n</g>\n<!-- 88&#45;&gt;89 -->\n<g class=\"edge\" id=\"edge89\"><title>88-&gt;89</title>\n<path d=\"M3425,-103.726C3425,-95.5175 3425,-86.8595 3425,-78.56\" fill=\"none\" stroke=\"black\"/>\n<polygon fill=\"black\" points=\"3428.5,-78.2996 3425,-68.2996 3421.5,-78.2996 3428.5,-78.2996\" stroke=\"black\"/>\n</g>\n<!-- 90 -->\n<g class=\"node\" id=\"node91\"><title>90</title>\n<polygon fill=\"#39e581\" fill-opacity=\"0.941176\" points=\"3743,-68 3543,-68 3543,-0 3743,-0 3743,-68\" stroke=\"black\"/>\n<text font-family=\"Times New Roman,serif\" font-size=\"14.00\" text-anchor=\"middle\" x=\"3643\" y=\"-52.8\">gini = 0.108</text>\n<text font-family=\"Times New Roman,serif\" font-size=\"14.00\" text-anchor=\"middle\" x=\"3643\" y=\"-37.8\">samples = 14</text>\n<text font-family=\"Times New Roman,serif\" font-size=\"14.00\" text-anchor=\"middle\" x=\"3643\" y=\"-22.8\">value = [0.0, 46.124, 2.799]</text>\n<text font-family=\"Times New Roman,serif\" font-size=\"14.00\" text-anchor=\"middle\" x=\"3643\" y=\"-7.8\">class = increased binding protein</text>\n</g>\n<!-- 88&#45;&gt;90 -->\n<g class=\"edge\" id=\"edge90\"><title>88-&gt;90</title>\n<path d=\"M3505.87,-103.882C3526.25,-93.6424 3548.05,-82.695 3568.12,-72.6104\" fill=\"none\" stroke=\"black\"/>\n<polygon fill=\"black\" points=\"3569.85,-75.6595 3577.22,-68.0433 3566.71,-69.4043 3569.85,-75.6595\" stroke=\"black\"/>\n</g>\n<!-- 94 -->\n<g class=\"node\" id=\"node95\"><title>94</title>\n<polygon fill=\"#39e581\" fill-opacity=\"0.992157\" points=\"4288,-425 4088,-425 4088,-342 4288,-342 4288,-425\" stroke=\"black\"/>\n<text font-family=\"Times New Roman,serif\" font-size=\"14.00\" text-anchor=\"middle\" x=\"4188\" y=\"-409.8\">T4U &lt;= 0.289</text>\n<text font-family=\"Times New Roman,serif\" font-size=\"14.00\" text-anchor=\"middle\" x=\"4188\" y=\"-394.8\">gini = 0.017</text>\n<text font-family=\"Times New Roman,serif\" font-size=\"14.00\" text-anchor=\"middle\" x=\"4188\" y=\"-379.8\">samples = 64</text>\n<text font-family=\"Times New Roman,serif\" font-size=\"14.00\" text-anchor=\"middle\" x=\"4188\" y=\"-364.8\">value = [0.0, 415.113, 3.499]</text>\n<text font-family=\"Times New Roman,serif\" font-size=\"14.00\" text-anchor=\"middle\" x=\"4188\" y=\"-349.8\">class = increased binding protein</text>\n</g>\n<!-- 93&#45;&gt;94 -->\n<g class=\"edge\" id=\"edge94\"><title>93-&gt;94</title>\n<path d=\"M4188,-460.907C4188,-452.649 4188,-443.864 4188,-435.302\" fill=\"none\" stroke=\"black\"/>\n<polygon fill=\"black\" points=\"4191.5,-435.021 4188,-425.021 4184.5,-435.021 4191.5,-435.021\" stroke=\"black\"/>\n</g>\n<!-- 107 -->\n<g class=\"node\" id=\"node108\"><title>107</title>\n<polygon fill=\"#8139e5\" points=\"4510,-417.5 4306,-417.5 4306,-349.5 4510,-349.5 4510,-417.5\" stroke=\"black\"/>\n<text font-family=\"Times New Roman,serif\" font-size=\"14.00\" text-anchor=\"middle\" x=\"4408\" y=\"-402.3\">gini = -0.0</text>\n<text font-family=\"Times New Roman,serif\" font-size=\"14.00\" text-anchor=\"middle\" x=\"4408\" y=\"-387.3\">samples = 2</text>\n<text font-family=\"Times New Roman,serif\" font-size=\"14.00\" text-anchor=\"middle\" x=\"4408\" y=\"-372.3\">value = [0.0, 0.0, 0.7]</text>\n<text font-family=\"Times New Roman,serif\" font-size=\"14.00\" text-anchor=\"middle\" x=\"4408\" y=\"-357.3\">class = decreased binding protein</text>\n</g>\n<!-- 93&#45;&gt;107 -->\n<g class=\"edge\" id=\"edge107\"><title>93-&gt;107</title>\n<path d=\"M4264.33,-460.907C4287.77,-448.438 4313.48,-434.768 4336.58,-422.481\" fill=\"none\" stroke=\"black\"/>\n<polygon fill=\"black\" points=\"4338.45,-425.453 4345.63,-417.667 4335.16,-419.272 4338.45,-425.453\" stroke=\"black\"/>\n</g>\n<!-- 95 -->\n<g class=\"node\" id=\"node96\"><title>95</title>\n<polygon fill=\"#39e581\" fill-opacity=\"0.996078\" points=\"4288,-306 4088,-306 4088,-223 4288,-223 4288,-306\" stroke=\"black\"/>\n<text font-family=\"Times New Roman,serif\" font-size=\"14.00\" text-anchor=\"middle\" x=\"4188\" y=\"-290.8\">TSH &lt;= 0.299</text>\n<text font-family=\"Times New Roman,serif\" font-size=\"14.00\" text-anchor=\"middle\" x=\"4188\" y=\"-275.8\">gini = 0.01</text>\n<text font-family=\"Times New Roman,serif\" font-size=\"14.00\" text-anchor=\"middle\" x=\"4188\" y=\"-260.8\">samples = 49</text>\n<text font-family=\"Times New Roman,serif\" font-size=\"14.00\" text-anchor=\"middle\" x=\"4188\" y=\"-245.8\">value = [0.0, 338.241, 1.75]</text>\n<text font-family=\"Times New Roman,serif\" font-size=\"14.00\" text-anchor=\"middle\" x=\"4188\" y=\"-230.8\">class = increased binding protein</text>\n</g>\n<!-- 94&#45;&gt;95 -->\n<g class=\"edge\" id=\"edge95\"><title>94-&gt;95</title>\n<path d=\"M4188,-341.907C4188,-333.649 4188,-324.864 4188,-316.302\" fill=\"none\" stroke=\"black\"/>\n<polygon fill=\"black\" points=\"4191.5,-316.021 4188,-306.021 4184.5,-316.021 4191.5,-316.021\" stroke=\"black\"/>\n</g>\n<!-- 102 -->\n<g class=\"node\" id=\"node103\"><title>102</title>\n<polygon fill=\"#39e581\" fill-opacity=\"0.976471\" points=\"4618,-306 4418,-306 4418,-223 4618,-223 4618,-306\" stroke=\"black\"/>\n<text font-family=\"Times New Roman,serif\" font-size=\"14.00\" text-anchor=\"middle\" x=\"4518\" y=\"-290.8\">TSH &lt;= -2.996</text>\n<text font-family=\"Times New Roman,serif\" font-size=\"14.00\" text-anchor=\"middle\" x=\"4518\" y=\"-275.8\">gini = 0.044</text>\n<text font-family=\"Times New Roman,serif\" font-size=\"14.00\" text-anchor=\"middle\" x=\"4518\" y=\"-260.8\">samples = 15</text>\n<text font-family=\"Times New Roman,serif\" font-size=\"14.00\" text-anchor=\"middle\" x=\"4518\" y=\"-245.8\">value = [0.0, 76.873, 1.75]</text>\n<text font-family=\"Times New Roman,serif\" font-size=\"14.00\" text-anchor=\"middle\" x=\"4518\" y=\"-230.8\">class = increased binding protein</text>\n</g>\n<!-- 94&#45;&gt;102 -->\n<g class=\"edge\" id=\"edge102\"><title>94-&gt;102</title>\n<path d=\"M4288.05,-345.225C4291.07,-344.134 4294.05,-343.057 4297,-342 4333.07,-329.059 4372.58,-315.262 4408.09,-303\" fill=\"none\" stroke=\"black\"/>\n<polygon fill=\"black\" points=\"4409.68,-306.153 4417.99,-299.584 4407.4,-299.536 4409.68,-306.153\" stroke=\"black\"/>\n</g>\n<!-- 96 -->\n<g class=\"node\" id=\"node97\"><title>96</title>\n<polygon fill=\"#39e581\" fill-opacity=\"0.996078\" points=\"4179,-187 3979,-187 3979,-104 4179,-104 4179,-187\" stroke=\"black\"/>\n<text font-family=\"Times New Roman,serif\" font-size=\"14.00\" text-anchor=\"middle\" x=\"4079\" y=\"-171.8\">TT4 &lt;= 4.816</text>\n<text font-family=\"Times New Roman,serif\" font-size=\"14.00\" text-anchor=\"middle\" x=\"4079\" y=\"-156.8\">gini = 0.005</text>\n<text font-family=\"Times New Roman,serif\" font-size=\"14.00\" text-anchor=\"middle\" x=\"4079\" y=\"-141.8\">samples = 35</text>\n<text font-family=\"Times New Roman,serif\" font-size=\"14.00\" text-anchor=\"middle\" x=\"4079\" y=\"-126.8\">value = [0.0, 253.68, 0.7]</text>\n<text font-family=\"Times New Roman,serif\" font-size=\"14.00\" text-anchor=\"middle\" x=\"4079\" y=\"-111.8\">class = increased binding protein</text>\n</g>\n<!-- 95&#45;&gt;96 -->\n<g class=\"edge\" id=\"edge96\"><title>95-&gt;96</title>\n<path d=\"M4150.18,-222.907C4141.64,-213.742 4132.5,-203.927 4123.71,-194.489\" fill=\"none\" stroke=\"black\"/>\n<polygon fill=\"black\" points=\"4126.13,-191.952 4116.75,-187.021 4121.01,-196.723 4126.13,-191.952\" stroke=\"black\"/>\n</g>\n<!-- 99 -->\n<g class=\"node\" id=\"node100\"><title>99</title>\n<polygon fill=\"#39e581\" fill-opacity=\"0.988235\" points=\"4397,-187 4197,-187 4197,-104 4397,-104 4397,-187\" stroke=\"black\"/>\n<text font-family=\"Times New Roman,serif\" font-size=\"14.00\" text-anchor=\"middle\" x=\"4297\" y=\"-171.8\">FTI &lt;= 4.696</text>\n<text font-family=\"Times New Roman,serif\" font-size=\"14.00\" text-anchor=\"middle\" x=\"4297\" y=\"-156.8\">gini = 0.024</text>\n<text font-family=\"Times New Roman,serif\" font-size=\"14.00\" text-anchor=\"middle\" x=\"4297\" y=\"-141.8\">samples = 14</text>\n<text font-family=\"Times New Roman,serif\" font-size=\"14.00\" text-anchor=\"middle\" x=\"4297\" y=\"-126.8\">value = [0.0, 84.56, 1.05]</text>\n<text font-family=\"Times New Roman,serif\" font-size=\"14.00\" text-anchor=\"middle\" x=\"4297\" y=\"-111.8\">class = increased binding protein</text>\n</g>\n<!-- 95&#45;&gt;99 -->\n<g class=\"edge\" id=\"edge99\"><title>95-&gt;99</title>\n<path d=\"M4225.82,-222.907C4234.36,-213.742 4243.5,-203.927 4252.29,-194.489\" fill=\"none\" stroke=\"black\"/>\n<polygon fill=\"black\" points=\"4254.99,-196.723 4259.25,-187.021 4249.87,-191.952 4254.99,-196.723\" stroke=\"black\"/>\n</g>\n<!-- 97 -->\n<g class=\"node\" id=\"node98\"><title>97</title>\n<polygon fill=\"#39e581\" fill-opacity=\"0.952941\" points=\"3961,-68 3761,-68 3761,-0 3961,-0 3961,-68\" stroke=\"black\"/>\n<text font-family=\"Times New Roman,serif\" font-size=\"14.00\" text-anchor=\"middle\" x=\"3861\" y=\"-52.8\">gini = 0.083</text>\n<text font-family=\"Times New Roman,serif\" font-size=\"14.00\" text-anchor=\"middle\" x=\"3861\" y=\"-37.8\">samples = 2</text>\n<text font-family=\"Times New Roman,serif\" font-size=\"14.00\" text-anchor=\"middle\" x=\"3861\" y=\"-22.8\">value = [0.0, 7.687, 0.35]</text>\n<text font-family=\"Times New Roman,serif\" font-size=\"14.00\" text-anchor=\"middle\" x=\"3861\" y=\"-7.8\">class = increased binding protein</text>\n</g>\n<!-- 96&#45;&gt;97 -->\n<g class=\"edge\" id=\"edge97\"><title>96-&gt;97</title>\n<path d=\"M3998.13,-103.882C3977.75,-93.6424 3955.95,-82.695 3935.88,-72.6104\" fill=\"none\" stroke=\"black\"/>\n<polygon fill=\"black\" points=\"3937.29,-69.4043 3926.78,-68.0433 3934.15,-75.6595 3937.29,-69.4043\" stroke=\"black\"/>\n</g>\n<!-- 98 -->\n<g class=\"node\" id=\"node99\"><title>98</title>\n<polygon fill=\"#39e581\" points=\"4179,-68 3979,-68 3979,-0 4179,-0 4179,-68\" stroke=\"black\"/>\n<text font-family=\"Times New Roman,serif\" font-size=\"14.00\" text-anchor=\"middle\" x=\"4079\" y=\"-52.8\">gini = 0.003</text>\n<text font-family=\"Times New Roman,serif\" font-size=\"14.00\" text-anchor=\"middle\" x=\"4079\" y=\"-37.8\">samples = 33</text>\n<text font-family=\"Times New Roman,serif\" font-size=\"14.00\" text-anchor=\"middle\" x=\"4079\" y=\"-22.8\">value = [0.0, 245.993, 0.35]</text>\n<text font-family=\"Times New Roman,serif\" font-size=\"14.00\" text-anchor=\"middle\" x=\"4079\" y=\"-7.8\">class = increased binding protein</text>\n</g>\n<!-- 96&#45;&gt;98 -->\n<g class=\"edge\" id=\"edge98\"><title>96-&gt;98</title>\n<path d=\"M4079,-103.726C4079,-95.5175 4079,-86.8595 4079,-78.56\" fill=\"none\" stroke=\"black\"/>\n<polygon fill=\"black\" points=\"4082.5,-78.2996 4079,-68.2996 4075.5,-78.2996 4082.5,-78.2996\" stroke=\"black\"/>\n</g>\n<!-- 100 -->\n<g class=\"node\" id=\"node101\"><title>100</title>\n<polygon fill=\"#39e581\" fill-opacity=\"0.992157\" points=\"4397,-68 4197,-68 4197,-0 4397,-0 4397,-68\" stroke=\"black\"/>\n<text font-family=\"Times New Roman,serif\" font-size=\"14.00\" text-anchor=\"middle\" x=\"4297\" y=\"-52.8\">gini = 0.016</text>\n<text font-family=\"Times New Roman,serif\" font-size=\"14.00\" text-anchor=\"middle\" x=\"4297\" y=\"-37.8\">samples = 13</text>\n<text font-family=\"Times New Roman,serif\" font-size=\"14.00\" text-anchor=\"middle\" x=\"4297\" y=\"-22.8\">value = [0.0, 84.56, 0.7]</text>\n<text font-family=\"Times New Roman,serif\" font-size=\"14.00\" text-anchor=\"middle\" x=\"4297\" y=\"-7.8\">class = increased binding protein</text>\n</g>\n<!-- 99&#45;&gt;100 -->\n<g class=\"edge\" id=\"edge100\"><title>99-&gt;100</title>\n<path d=\"M4297,-103.726C4297,-95.5175 4297,-86.8595 4297,-78.56\" fill=\"none\" stroke=\"black\"/>\n<polygon fill=\"black\" points=\"4300.5,-78.2996 4297,-68.2996 4293.5,-78.2996 4300.5,-78.2996\" stroke=\"black\"/>\n</g>\n<!-- 101 -->\n<g class=\"node\" id=\"node102\"><title>101</title>\n<polygon fill=\"#8139e5\" points=\"4619,-68 4415,-68 4415,-0 4619,-0 4619,-68\" stroke=\"black\"/>\n<text font-family=\"Times New Roman,serif\" font-size=\"14.00\" text-anchor=\"middle\" x=\"4517\" y=\"-52.8\">gini = 0.0</text>\n<text font-family=\"Times New Roman,serif\" font-size=\"14.00\" text-anchor=\"middle\" x=\"4517\" y=\"-37.8\">samples = 1</text>\n<text font-family=\"Times New Roman,serif\" font-size=\"14.00\" text-anchor=\"middle\" x=\"4517\" y=\"-22.8\">value = [0.0, 0.0, 0.35]</text>\n<text font-family=\"Times New Roman,serif\" font-size=\"14.00\" text-anchor=\"middle\" x=\"4517\" y=\"-7.8\">class = decreased binding protein</text>\n</g>\n<!-- 99&#45;&gt;101 -->\n<g class=\"edge\" id=\"edge101\"><title>99-&gt;101</title>\n<path d=\"M4378.61,-103.882C4399.18,-93.6424 4421.17,-82.695 4441.44,-72.6104\" fill=\"none\" stroke=\"black\"/>\n<polygon fill=\"black\" points=\"4443.22,-75.6326 4450.61,-68.0433 4440.1,-69.3659 4443.22,-75.6326\" stroke=\"black\"/>\n</g>\n<!-- 103 -->\n<g class=\"node\" id=\"node104\"><title>103</title>\n<polygon fill=\"#8139e5\" points=\"4620,-179.5 4416,-179.5 4416,-111.5 4620,-111.5 4620,-179.5\" stroke=\"black\"/>\n<text font-family=\"Times New Roman,serif\" font-size=\"14.00\" text-anchor=\"middle\" x=\"4518\" y=\"-164.3\">gini = 0.0</text>\n<text font-family=\"Times New Roman,serif\" font-size=\"14.00\" text-anchor=\"middle\" x=\"4518\" y=\"-149.3\">samples = 1</text>\n<text font-family=\"Times New Roman,serif\" font-size=\"14.00\" text-anchor=\"middle\" x=\"4518\" y=\"-134.3\">value = [0.0, 0.0, 0.35]</text>\n<text font-family=\"Times New Roman,serif\" font-size=\"14.00\" text-anchor=\"middle\" x=\"4518\" y=\"-119.3\">class = decreased binding protein</text>\n</g>\n<!-- 102&#45;&gt;103 -->\n<g class=\"edge\" id=\"edge103\"><title>102-&gt;103</title>\n<path d=\"M4518,-222.907C4518,-212.204 4518,-200.615 4518,-189.776\" fill=\"none\" stroke=\"black\"/>\n<polygon fill=\"black\" points=\"4521.5,-189.667 4518,-179.667 4514.5,-189.667 4521.5,-189.667\" stroke=\"black\"/>\n</g>\n<!-- 104 -->\n<g class=\"node\" id=\"node105\"><title>104</title>\n<polygon fill=\"#39e581\" fill-opacity=\"0.980392\" points=\"4839,-187 4639,-187 4639,-104 4839,-104 4839,-187\" stroke=\"black\"/>\n<text font-family=\"Times New Roman,serif\" font-size=\"14.00\" text-anchor=\"middle\" x=\"4739\" y=\"-171.8\">T4U &lt;= 0.296</text>\n<text font-family=\"Times New Roman,serif\" font-size=\"14.00\" text-anchor=\"middle\" x=\"4739\" y=\"-156.8\">gini = 0.035</text>\n<text font-family=\"Times New Roman,serif\" font-size=\"14.00\" text-anchor=\"middle\" x=\"4739\" y=\"-141.8\">samples = 14</text>\n<text font-family=\"Times New Roman,serif\" font-size=\"14.00\" text-anchor=\"middle\" x=\"4739\" y=\"-126.8\">value = [0.0, 76.873, 1.4]</text>\n<text font-family=\"Times New Roman,serif\" font-size=\"14.00\" text-anchor=\"middle\" x=\"4739\" y=\"-111.8\">class = increased binding protein</text>\n</g>\n<!-- 102&#45;&gt;104 -->\n<g class=\"edge\" id=\"edge104\"><title>102-&gt;104</title>\n<path d=\"M4594.67,-222.907C4613.62,-212.879 4634.03,-202.075 4653.36,-191.837\" fill=\"none\" stroke=\"black\"/>\n<polygon fill=\"black\" points=\"4655.26,-194.793 4662.46,-187.021 4651.99,-188.606 4655.26,-194.793\" stroke=\"black\"/>\n</g>\n<!-- 105 -->\n<g class=\"node\" id=\"node106\"><title>105</title>\n<polygon fill=\"#8139e5\" points=\"4841,-68 4637,-68 4637,-0 4841,-0 4841,-68\" stroke=\"black\"/>\n<text font-family=\"Times New Roman,serif\" font-size=\"14.00\" text-anchor=\"middle\" x=\"4739\" y=\"-52.8\">gini = 0.0</text>\n<text font-family=\"Times New Roman,serif\" font-size=\"14.00\" text-anchor=\"middle\" x=\"4739\" y=\"-37.8\">samples = 1</text>\n<text font-family=\"Times New Roman,serif\" font-size=\"14.00\" text-anchor=\"middle\" x=\"4739\" y=\"-22.8\">value = [0.0, 0.0, 0.35]</text>\n<text font-family=\"Times New Roman,serif\" font-size=\"14.00\" text-anchor=\"middle\" x=\"4739\" y=\"-7.8\">class = decreased binding protein</text>\n</g>\n<!-- 104&#45;&gt;105 -->\n<g class=\"edge\" id=\"edge105\"><title>104-&gt;105</title>\n<path d=\"M4739,-103.726C4739,-95.5175 4739,-86.8595 4739,-78.56\" fill=\"none\" stroke=\"black\"/>\n<polygon fill=\"black\" points=\"4742.5,-78.2996 4739,-68.2996 4735.5,-78.2996 4742.5,-78.2996\" stroke=\"black\"/>\n</g>\n<!-- 106 -->\n<g class=\"node\" id=\"node107\"><title>106</title>\n<polygon fill=\"#39e581\" fill-opacity=\"0.988235\" points=\"5059,-68 4859,-68 4859,-0 5059,-0 5059,-68\" stroke=\"black\"/>\n<text font-family=\"Times New Roman,serif\" font-size=\"14.00\" text-anchor=\"middle\" x=\"4959\" y=\"-52.8\">gini = 0.027</text>\n<text font-family=\"Times New Roman,serif\" font-size=\"14.00\" text-anchor=\"middle\" x=\"4959\" y=\"-37.8\">samples = 13</text>\n<text font-family=\"Times New Roman,serif\" font-size=\"14.00\" text-anchor=\"middle\" x=\"4959\" y=\"-22.8\">value = [0.0, 76.873, 1.05]</text>\n<text font-family=\"Times New Roman,serif\" font-size=\"14.00\" text-anchor=\"middle\" x=\"4959\" y=\"-7.8\">class = increased binding protein</text>\n</g>\n<!-- 104&#45;&gt;106 -->\n<g class=\"edge\" id=\"edge106\"><title>104-&gt;106</title>\n<path d=\"M4820.61,-103.882C4841.18,-93.6424 4863.17,-82.695 4883.44,-72.6104\" fill=\"none\" stroke=\"black\"/>\n<polygon fill=\"black\" points=\"4885.22,-75.6326 4892.61,-68.0433 4882.1,-69.3659 4885.22,-75.6326\" stroke=\"black\"/>\n</g>\n</g>\n</svg>"
     },
     "execution_count": 34,
     "metadata": {
     },
     "output_type": "execute_result"
    }
   ],
   "source": [
    "graph = Source(tree.export_graphviz(dt, out_file=None\n",
    "   , feature_names=X_train.columns, class_names=y_train.unique() \n",
    "   , filled = True))\n",
    "\n",
    "display(SVG(graph.pipe(format='svg')))"
   ]
  },
  {
   "cell_type": "markdown",
   "metadata": {
    "collapsed": false
   },
   "source": [
    "Let's find the importance of each attribute we've selected for this decision tree:"
   ]
  },
  {
   "cell_type": "code",
   "execution_count": 35,
   "metadata": {
    "collapsed": false
   },
   "outputs": [
    {
     "data": {
      "text/html": [
       "<div>\n",
       "<style scoped>\n",
       "    .dataframe tbody tr th:only-of-type {\n",
       "        vertical-align: middle;\n",
       "    }\n",
       "\n",
       "    .dataframe tbody tr th {\n",
       "        vertical-align: top;\n",
       "    }\n",
       "\n",
       "    .dataframe thead th {\n",
       "        text-align: right;\n",
       "    }\n",
       "</style>\n",
       "<table border=\"1\" class=\"dataframe\">\n",
       "  <thead>\n",
       "    <tr style=\"text-align: right;\">\n",
       "      <th></th>\n",
       "      <th>importance</th>\n",
       "    </tr>\n",
       "  </thead>\n",
       "  <tbody>\n",
       "    <tr>\n",
       "      <th>T4U</th>\n",
       "      <td>0.811341</td>\n",
       "    </tr>\n",
       "    <tr>\n",
       "      <th>T3</th>\n",
       "      <td>0.120956</td>\n",
       "    </tr>\n",
       "    <tr>\n",
       "      <th>FTI</th>\n",
       "      <td>0.023690</td>\n",
       "    </tr>\n",
       "    <tr>\n",
       "      <th>TT4</th>\n",
       "      <td>0.021554</td>\n",
       "    </tr>\n",
       "    <tr>\n",
       "      <th>TSH</th>\n",
       "      <td>0.020656</td>\n",
       "    </tr>\n",
       "    <tr>\n",
       "      <th>sex_M</th>\n",
       "      <td>0.001803</td>\n",
       "    </tr>\n",
       "    <tr>\n",
       "      <th>sex_F</th>\n",
       "      <td>0.000000</td>\n",
       "    </tr>\n",
       "    <tr>\n",
       "      <th>pregnant_False</th>\n",
       "      <td>0.000000</td>\n",
       "    </tr>\n",
       "    <tr>\n",
       "      <th>pregnant_True</th>\n",
       "      <td>0.000000</td>\n",
       "    </tr>\n",
       "  </tbody>\n",
       "</table>\n",
       "</div>"
      ]
     },
     "execution_count": 35,
     "metadata": {
     },
     "output_type": "execute_result"
    }
   ],
   "source": [
    "pd.DataFrame(dt.feature_importances_, index = X_train.columns,\n",
    "            columns=['importance']).sort_values('importance', ascending=False)"
   ]
  },
  {
   "cell_type": "markdown",
   "metadata": {
    "collapsed": false
   },
   "source": [
    "As expected, hormones are the most important features."
   ]
  },
  {
   "cell_type": "markdown",
   "metadata": {
    "collapsed": false
   },
   "source": [
    "### DecisionTree parameter tuning"
   ]
  },
  {
   "cell_type": "markdown",
   "metadata": {
    "collapsed": false
   },
   "source": [
    "Let's check the affect of parameters tuning on decision tree classifier.\n",
    "We've chosen following parameters:\n",
    "- *max_depth* - the maximum depth of tree, it can heavily affect overfitting which we would like to avoid\n",
    "- *min_samples_leaf* - the minimum number of samples required to split an internal node\n",
    "- *max_features* - the number of features to consider when looking for the best split\n",
    "- *criterion* - function to measure the quality of a split"
   ]
  },
  {
   "cell_type": "code",
   "execution_count": 36,
   "metadata": {
    "collapsed": false
   },
   "outputs": [
   ],
   "source": [
    "decision_tree = DecisionTreeClassifier()"
   ]
  },
  {
   "cell_type": "code",
   "execution_count": 37,
   "metadata": {
    "collapsed": false
   },
   "outputs": [
   ],
   "source": [
    "param_dist = {\"max_depth\": [x for x in range(1, 15)], \"min_samples_leaf\": [x for x in range(1, 6)], \"min_samples_split\": [x for x in range(2, 6)], \"max_features\": [x for x in range(1, 10)], \"criterion\":[\"gini\",\"entropy\"]}"
   ]
  },
  {
   "cell_type": "markdown",
   "metadata": {
    "collapsed": false
   },
   "source": [
    "#### Affect of parameters settings"
   ]
  },
  {
   "cell_type": "markdown",
   "metadata": {
    "collapsed": false
   },
   "source": [
    "Let's try the chosen params and their values we've set. We will use the decision tree to make prediction using with each setting and store the accuracy and f1 macro values of predictions we get."
   ]
  },
  {
   "cell_type": "code",
   "execution_count": 38,
   "metadata": {
    "collapsed": false
   },
   "outputs": [
   ],
   "source": [
    "scores_train_acc_1 = []\n",
    "scores_test_acc_1 = []\n",
    "scores_train_f1_1 = []\n",
    "scores_test_f1_1 = []\n",
    "\n",
    "scores_train_acc_2 = []\n",
    "scores_test_acc_2 = []\n",
    "scores_train_f1_2 = []\n",
    "scores_test_f1_2 = []\n",
    "\n",
    "scores_train_acc_3 = []\n",
    "scores_test_acc_3 = []\n",
    "scores_train_f1_3 = []\n",
    "scores_test_f1_3 = []\n",
    "\n",
    "scores_train_acc_4 = []\n",
    "scores_test_acc_4 = []\n",
    "scores_train_f1_4 = []\n",
    "scores_test_f1_4 = []\n",
    "\n",
    "\n",
    "for i in param_dist[\"max_depth\"]:\n",
    "    dt_t = DecisionTreeClassifier(max_depth = i)\n",
    "    dt_t.fit(X_train, y_train)\n",
    "#     scores_train.append(cross_val_score(dt_t, X_train, y_train, cv=10, scoring='f1_macro'))\n",
    "#     scores_test.append(cross_val_score(dt_t, X_test, y_test, cv=10, scoring='f1_macro'))\n",
    "    train_pred = dt_t.predict(X_train)\n",
    "    test_pred = dt_t.predict(X_test)\n",
    "    \n",
    "    scores_train_f1_1.append(f1_score(y_train, train_pred , average='macro'))\n",
    "    scores_test_f1_1.append(f1_score(y_test, test_pred , average='macro'))\n",
    "\n",
    "    scores_train_acc_1.append(accuracy_score(y_train, train_pred))\n",
    "    scores_test_acc_1.append(accuracy_score(y_test, test_pred))\n",
    "# ============================================================================================\n",
    "\n",
    "for i in param_dist[\"min_samples_leaf\"]:\n",
    "    dt_t = DecisionTreeClassifier(min_samples_leaf = i)\n",
    "    dt_t.fit(X_train, y_train)\n",
    "    train_pred = dt_t.predict(X_train)\n",
    "    test_pred = dt_t.predict(X_test)\n",
    "    \n",
    "    scores_train_f1_2.append(f1_score(y_train, train_pred , average='macro'))\n",
    "    scores_test_f1_2.append(f1_score(y_test, test_pred , average='macro'))\n",
    "\n",
    "    scores_train_acc_2.append(accuracy_score(y_train, train_pred))\n",
    "    scores_test_acc_2.append(accuracy_score(y_test, test_pred))\n",
    "# ============================================================================================\n",
    "\n",
    "for i in param_dist[\"max_features\"]:\n",
    "    dt_t = DecisionTreeClassifier(max_features = i)\n",
    "    dt_t.fit(X_train, y_train)\n",
    "    train_pred = dt_t.predict(X_train)\n",
    "    test_pred = dt_t.predict(X_test)\n",
    "    \n",
    "    scores_train_f1_3.append(f1_score(y_train, train_pred , average='macro'))\n",
    "    scores_test_f1_3.append(f1_score(y_test, test_pred , average='macro'))\n",
    "\n",
    "    scores_train_acc_3.append(accuracy_score(y_train, train_pred))\n",
    "    scores_test_acc_3.append(accuracy_score(y_test, test_pred))\n",
    "# ============================================================================================\n",
    "\n",
    "for i in param_dist[\"min_samples_split\"]:\n",
    "    dt_t = DecisionTreeClassifier(min_samples_split = i)\n",
    "    dt_t.fit(X_train, y_train)\n",
    "    train_pred = dt_t.predict(X_train)\n",
    "    test_pred = dt_t.predict(X_test)\n",
    "    \n",
    "    scores_train_f1_4.append(f1_score(y_train, train_pred , average='macro'))\n",
    "    scores_test_f1_4.append(f1_score(y_test, test_pred , average='macro'))\n",
    "\n",
    "    scores_train_acc_4.append(accuracy_score(y_train, train_pred))\n",
    "    scores_test_acc_4.append(accuracy_score(y_test, test_pred))"
   ]
  },
  {
   "cell_type": "markdown",
   "metadata": {
    "collapsed": false
   },
   "source": [
    "##### Affect of max_depth\n",
    "We can see that *max_depth* heavily affects overfitting. The training score keeps raising almost constantly regardless of the currently set *max_depth*. However, as the *max_depth* reaches value of 2 or higher, we can see that previously highly growing test score either starts to grow slower or drops rapidly."
   ]
  },
  {
   "cell_type": "code",
   "execution_count": 39,
   "metadata": {
    "collapsed": false
   },
   "outputs": [
    {
     "data": {
      "image/png": "[encoded data removed]"
     },
     "execution_count": 39,
     "metadata": {
     },
     "output_type": "execute_result"
    }
   ],
   "source": [
    "plt.rcParams['figure.figsize'] = (20, 5)\n",
    "\n",
    "plt.subplot(1, 4, 1)\n",
    "plt.plot(param_dist['max_depth'],scores_train_acc_1, color='black')\n",
    "plt.plot(param_dist['max_depth'],scores_test_acc_1, color='green')\n",
    "plt.title('Accuracy score')\n",
    "\n",
    "plt.subplot(1, 4, 2)\n",
    "plt.plot(param_dist['max_depth'],scores_train_f1_1, color='red')\n",
    "plt.plot(param_dist['max_depth'],scores_test_f1_1, color='orange')\n",
    "plt.title('F1 score')\n",
    "\n",
    "plt.tight_layout()"
   ]
  },
  {
   "cell_type": "markdown",
   "metadata": {
    "collapsed": false
   },
   "source": [
    "##### Affect of min_samples_leaf\n",
    "We can see that min_samples_leaf affects both the score for train and test. The higher the value of min_samples_leaf the lower the score for train. The score for test is neither growing or descending with several local mins and maxs."
   ]
  },
  {
   "cell_type": "code",
   "execution_count": 40,
   "metadata": {
    "collapsed": false
   },
   "outputs": [
    {
     "data": {
      "image/png": "[encoded data removed]"
     },
     "execution_count": 40,
     "metadata": {
     },
     "output_type": "execute_result"
    }
   ],
   "source": [
    "plt.subplot(1, 4, 1)\n",
    "plt.plot(param_dist['min_samples_leaf'],scores_train_acc_2, color='black')\n",
    "plt.plot(param_dist['min_samples_leaf'],scores_test_acc_2, color='green')\n",
    "plt.title('Accuracy score')\n",
    "\n",
    "plt.subplot(1, 4, 2)\n",
    "plt.plot(param_dist['min_samples_leaf'],scores_train_f1_2, color='red')\n",
    "plt.plot(param_dist['min_samples_leaf'],scores_test_f1_2, color='orange')\n",
    "plt.title('F1 score')\n",
    "\n",
    "plt.tight_layout()"
   ]
  },
  {
   "cell_type": "markdown",
   "metadata": {
    "collapsed": false
   },
   "source": [
    "##### Affect of max_features\n",
    "We can see that the value of max_features doesn't affect score for train. The score for test looks like a roler coaster with higher tendency to descend."
   ]
  },
  {
   "cell_type": "code",
   "execution_count": 41,
   "metadata": {
    "collapsed": false
   },
   "outputs": [
    {
     "data": {
      "image/png": "[encoded data removed]"
     },
     "execution_count": 41,
     "metadata": {
     },
     "output_type": "execute_result"
    }
   ],
   "source": [
    "plt.rcParams['figure.figsize'] = (20, 5)\n",
    "\n",
    "plt.subplot(1, 4, 1)\n",
    "plt.plot(param_dist['max_features'],scores_train_acc_3, color='black')\n",
    "plt.plot(param_dist['max_features'],scores_test_acc_3, color='green')\n",
    "plt.title('Accuracy score')\n",
    "\n",
    "plt.subplot(1, 4, 2)\n",
    "plt.plot(param_dist['max_features'],scores_train_f1_3, color='red')\n",
    "plt.plot(param_dist['max_features'],scores_test_f1_3, color='orange')\n",
    "plt.title('F1 score')\n",
    "\n",
    "plt.tight_layout()"
   ]
  },
  {
   "cell_type": "markdown",
   "metadata": {
    "collapsed": false
   },
   "source": [
    "##### Affect of min_samples_split\n",
    "We can see that the value of min_samples_split affects score both for train and test. The train score has mainly tendency to descend. The test score descends as well but from a certain point it starts to grow till the end."
   ]
  },
  {
   "cell_type": "code",
   "execution_count": 42,
   "metadata": {
    "collapsed": false
   },
   "outputs": [
    {
     "data": {
      "image/png": "[encoded data removed]"
     },
     "execution_count": 42,
     "metadata": {
     },
     "output_type": "execute_result"
    }
   ],
   "source": [
    "plt.rcParams['figure.figsize'] = (20, 5)\n",
    "\n",
    "plt.subplot(1, 4, 1)\n",
    "plt.plot(param_dist['min_samples_split'],scores_train_acc_4, color='black')\n",
    "plt.plot(param_dist['min_samples_split'],scores_test_acc_4, color='green')\n",
    "plt.title('Accuracy score')\n",
    "\n",
    "plt.subplot(1, 4, 2)\n",
    "plt.plot(param_dist['min_samples_split'],scores_train_f1_4, color='red')\n",
    "plt.plot(param_dist['min_samples_split'],scores_test_f1_4, color='orange')\n",
    "plt.title('F1 score')\n",
    "\n",
    "plt.tight_layout()"
   ]
  },
  {
   "cell_type": "markdown",
   "metadata": {
    "collapsed": false
   },
   "source": [
    "Also we have tried combination of those parameters. This can be found below in **Hyperparameter tuning** section."
   ]
  },
  {
   "cell_type": "markdown",
   "metadata": {
    "collapsed": false
   },
   "source": [
    "### RandomForest\n",
    "\n",
    "As a second classifier we have chosen RandomForest, which is based on multiple DecisionTrees. Parameters will be chosen based on our intuition, but will be tuned later."
   ]
  },
  {
   "cell_type": "code",
   "execution_count": 43,
   "metadata": {
    "collapsed": false
   },
   "outputs": [
   ],
   "source": [
    "rf = RandomForestClassifier(n_estimators=200, max_depth=12, random_state=0, class_weight='balanced')"
   ]
  },
  {
   "cell_type": "code",
   "execution_count": 44,
   "metadata": {
    "collapsed": false
   },
   "outputs": [
    {
     "data": {
      "text/plain": [
       "RandomForestClassifier(bootstrap=True, class_weight='balanced',\n",
       "            criterion='gini', max_depth=12, max_features='auto',\n",
       "            max_leaf_nodes=None, min_impurity_decrease=0.0,\n",
       "            min_impurity_split=None, min_samples_leaf=1,\n",
       "            min_samples_split=2, min_weight_fraction_leaf=0.0,\n",
       "            n_estimators=200, n_jobs=None, oob_score=False, random_state=0,\n",
       "            verbose=0, warm_start=False)"
      ]
     },
     "execution_count": 44,
     "metadata": {
     },
     "output_type": "execute_result"
    }
   ],
   "source": [
    "rf.fit(X_train, y_train)"
   ]
  },
  {
   "cell_type": "markdown",
   "metadata": {
    "collapsed": false
   },
   "source": [
    "Let's predict values and evaluate how well RandomForest performed:"
   ]
  },
  {
   "cell_type": "code",
   "execution_count": 45,
   "metadata": {
    "collapsed": false
   },
   "outputs": [
    {
     "name": "stdout",
     "output_type": "stream",
     "text": [
      "Accuracy: 0.9722222222222222\n",
      "                           precision    recall  f1-score   support\n",
      "\n",
      "decreased binding protein       1.00      0.20      0.33         5\n",
      "increased binding protein       0.53      0.64      0.58        25\n",
      "                 negative       0.99      0.99      0.99       942\n",
      "\n",
      "                micro avg       0.97      0.97      0.97       972\n",
      "                macro avg       0.84      0.61      0.63       972\n",
      "             weighted avg       0.97      0.97      0.97       972\n",
      "\n"
     ]
    }
   ],
   "source": [
    "y_pred = rf.predict(X_test)\n",
    "print(\"Accuracy: \" + str(accuracy_score(y_test, y_pred)))\n",
    "print(classification_report(y_test, y_pred))"
   ]
  },
  {
   "cell_type": "markdown",
   "metadata": {
    "collapsed": false
   },
   "source": [
    "F1 macro is slightly worse than in case of DecisionTree. For better comparison, we have to try both oversampling methods with RandomForest.\n",
    "\n",
    "#### RandomForest with random oversampling"
   ]
  },
  {
   "cell_type": "code",
   "execution_count": 46,
   "metadata": {
    "collapsed": false
   },
   "outputs": [
    {
     "data": {
      "text/plain": [
       "RandomForestClassifier(bootstrap=True, class_weight='balanced',\n",
       "            criterion='gini', max_depth=12, max_features='auto',\n",
       "            max_leaf_nodes=None, min_impurity_decrease=0.0,\n",
       "            min_impurity_split=None, min_samples_leaf=1,\n",
       "            min_samples_split=2, min_weight_fraction_leaf=0.0,\n",
       "            n_estimators=200, n_jobs=None, oob_score=False, random_state=0,\n",
       "            verbose=0, warm_start=False)"
      ]
     },
     "execution_count": 46,
     "metadata": {
     },
     "output_type": "execute_result"
    }
   ],
   "source": [
    "rf.fit(X_res_rand, y_res_rand)"
   ]
  },
  {
   "cell_type": "markdown",
   "metadata": {
    "collapsed": false
   },
   "source": [
    "Let's predict values and evaluate how well RandomForest performed:"
   ]
  },
  {
   "cell_type": "code",
   "execution_count": 47,
   "metadata": {
    "collapsed": false
   },
   "outputs": [
    {
     "name": "stdout",
     "output_type": "stream",
     "text": [
      "Accuracy:  0.9670781893004116 \n",
      "\n",
      "                           precision    recall  f1-score   support\n",
      "\n",
      "decreased binding protein       1.00      0.40      0.57         5\n",
      "increased binding protein       0.45      0.68      0.54        25\n",
      "                 negative       0.99      0.98      0.98       942\n",
      "\n",
      "                micro avg       0.97      0.97      0.97       972\n",
      "                macro avg       0.81      0.69      0.70       972\n",
      "             weighted avg       0.97      0.97      0.97       972\n",
      "\n"
     ]
    }
   ],
   "source": [
    "y_pred = rf.predict(X_test)\n",
    "print(\"Accuracy: \", accuracy_score(y_test, y_pred),'\\n')\n",
    "print(classification_report(y_test, y_pred))"
   ]
  },
  {
   "cell_type": "markdown",
   "metadata": {
    "collapsed": false
   },
   "source": [
    "As we can see on F1 macro score, random oversampling helped to achieve better model. It is significantly better when using oversampling in comparison with DecisionTree. Let's try also oversampling with smote method."
   ]
  },
  {
   "cell_type": "markdown",
   "metadata": {
    "collapsed": false
   },
   "source": [
    "#### RandomForest with SMOTE oversampling"
   ]
  },
  {
   "cell_type": "code",
   "execution_count": 48,
   "metadata": {
    "collapsed": false
   },
   "outputs": [
    {
     "data": {
      "text/plain": [
       "RandomForestClassifier(bootstrap=True, class_weight='balanced',\n",
       "            criterion='gini', max_depth=12, max_features='auto',\n",
       "            max_leaf_nodes=None, min_impurity_decrease=0.0,\n",
       "            min_impurity_split=None, min_samples_leaf=1,\n",
       "            min_samples_split=2, min_weight_fraction_leaf=0.0,\n",
       "            n_estimators=200, n_jobs=None, oob_score=False, random_state=0,\n",
       "            verbose=0, warm_start=False)"
      ]
     },
     "execution_count": 48,
     "metadata": {
     },
     "output_type": "execute_result"
    }
   ],
   "source": [
    "rf.fit(X_res_smote, y_res_smote)"
   ]
  },
  {
   "cell_type": "markdown",
   "metadata": {
    "collapsed": false
   },
   "source": [
    "Let's predict values and evaluate how well RandomForest performed:"
   ]
  },
  {
   "cell_type": "code",
   "execution_count": 49,
   "metadata": {
    "collapsed": false
   },
   "outputs": [
   ],
   "source": [
    "y_pred = rf.predict(X_test)"
   ]
  },
  {
   "cell_type": "code",
   "execution_count": 50,
   "metadata": {
    "collapsed": false
   },
   "outputs": [
    {
     "data": {
      "text/plain": [
       "0.9423868312757202"
      ]
     },
     "execution_count": 50,
     "metadata": {
     },
     "output_type": "execute_result"
    }
   ],
   "source": [
    "accuracy_score(y_test, y_pred)"
   ]
  },
  {
   "cell_type": "code",
   "execution_count": 51,
   "metadata": {
    "collapsed": false
   },
   "outputs": [
    {
     "name": "stdout",
     "output_type": "stream",
     "text": [
      "                           precision    recall  f1-score   support\n",
      "\n",
      "decreased binding protein       0.30      0.60      0.40         5\n",
      "increased binding protein       0.33      0.84      0.47        25\n",
      "                 negative       0.99      0.95      0.97       942\n",
      "\n",
      "                micro avg       0.94      0.94      0.94       972\n",
      "                macro avg       0.54      0.80      0.61       972\n",
      "             weighted avg       0.97      0.94      0.95       972\n",
      "\n"
     ]
    }
   ],
   "source": [
    "print(classification_report(y_test, y_pred))"
   ]
  },
  {
   "cell_type": "markdown",
   "metadata": {
    "collapsed": false
   },
   "source": [
    "Using *smote* oversampling method hasn't elevated model performance for neither of classifiers. (DecisionTree, RandomForest)\n",
    "\n",
    "The best result's been achieved using the dataset balanced by random oversampling method. Suprisingly the worst result's been achieved using *smote* oversampling method.\n",
    "\n",
    "Let's check the importance of features used by random forest for prediction:"
   ]
  },
  {
   "cell_type": "code",
   "execution_count": 52,
   "metadata": {
    "collapsed": false
   },
   "outputs": [
    {
     "data": {
      "text/html": [
       "<div>\n",
       "<style scoped>\n",
       "    .dataframe tbody tr th:only-of-type {\n",
       "        vertical-align: middle;\n",
       "    }\n",
       "\n",
       "    .dataframe tbody tr th {\n",
       "        vertical-align: top;\n",
       "    }\n",
       "\n",
       "    .dataframe thead th {\n",
       "        text-align: right;\n",
       "    }\n",
       "</style>\n",
       "<table border=\"1\" class=\"dataframe\">\n",
       "  <thead>\n",
       "    <tr style=\"text-align: right;\">\n",
       "      <th></th>\n",
       "      <th>importance</th>\n",
       "    </tr>\n",
       "  </thead>\n",
       "  <tbody>\n",
       "    <tr>\n",
       "      <th>T4U</th>\n",
       "      <td>0.423270</td>\n",
       "    </tr>\n",
       "    <tr>\n",
       "      <th>T3</th>\n",
       "      <td>0.305756</td>\n",
       "    </tr>\n",
       "    <tr>\n",
       "      <th>TT4</th>\n",
       "      <td>0.156734</td>\n",
       "    </tr>\n",
       "    <tr>\n",
       "      <th>TSH</th>\n",
       "      <td>0.035401</td>\n",
       "    </tr>\n",
       "    <tr>\n",
       "      <th>FTI</th>\n",
       "      <td>0.030572</td>\n",
       "    </tr>\n",
       "    <tr>\n",
       "      <th>sex_M</th>\n",
       "      <td>0.015933</td>\n",
       "    </tr>\n",
       "    <tr>\n",
       "      <th>sex_F</th>\n",
       "      <td>0.012256</td>\n",
       "    </tr>\n",
       "    <tr>\n",
       "      <th>pregnant_True</th>\n",
       "      <td>0.011948</td>\n",
       "    </tr>\n",
       "    <tr>\n",
       "      <th>pregnant_False</th>\n",
       "      <td>0.008129</td>\n",
       "    </tr>\n",
       "  </tbody>\n",
       "</table>\n",
       "</div>"
      ]
     },
     "execution_count": 52,
     "metadata": {
     },
     "output_type": "execute_result"
    }
   ],
   "source": [
    "pd.DataFrame(rf.feature_importances_, index = X_train.columns,\n",
    "            columns=['importance']).sort_values('importance', ascending=False)"
   ]
  },
  {
   "cell_type": "markdown",
   "metadata": {
    "collapsed": false
   },
   "source": [
    "Again, hormones influenced performance the most."
   ]
  },
  {
   "cell_type": "markdown",
   "metadata": {
    "collapsed": false
   },
   "source": [
    "### XGBoost\n",
    "\n",
    "XGBoost is known as well performing classifier.\n",
    "\n",
    "Data needs to be transformed in advance (requirement for XGBoost). Both, train and test datasets have to have the same feature order."
   ]
  },
  {
   "cell_type": "code",
   "execution_count": 53,
   "metadata": {
    "collapsed": false
   },
   "outputs": [
   ],
   "source": [
    "X_res_rand = pd.DataFrame(X_res_rand, columns=X_train.columns)\n",
    "X_test = X_test.reindex_axis(X_res_rand.columns, axis=1)"
   ]
  },
  {
   "cell_type": "markdown",
   "metadata": {
    "collapsed": false
   },
   "source": [
    "Now, let's try XGBoost classifier. Parameters have been chosen manually by trying various configurations:"
   ]
  },
  {
   "cell_type": "code",
   "execution_count": 54,
   "metadata": {
    "collapsed": false
   },
   "outputs": [
   ],
   "source": [
    "xgb = XGBClassifier(learning_rate=0.1, n_estimators=250, max_depth=8, min_child_weight=2, gamma=0.1)"
   ]
  },
  {
   "cell_type": "markdown",
   "metadata": {
    "collapsed": false
   },
   "source": [
    "Let's fit, predict values and evaluate how well XGBoost performed:"
   ]
  },
  {
   "cell_type": "code",
   "execution_count": 55,
   "metadata": {
    "collapsed": false
   },
   "outputs": [
    {
     "name": "stdout",
     "output_type": "stream",
     "text": [
      "Accuracy:  0.9681069958847737 \n",
      "\n",
      "                           precision    recall  f1-score   support\n",
      "\n",
      "decreased binding protein       0.62      1.00      0.77         5\n",
      "increased binding protein       0.46      0.72      0.56        25\n",
      "                 negative       0.99      0.97      0.98       942\n",
      "\n",
      "                micro avg       0.97      0.97      0.97       972\n",
      "                macro avg       0.69      0.90      0.77       972\n",
      "             weighted avg       0.98      0.97      0.97       972\n",
      "\n"
     ]
    }
   ],
   "source": [
    "xgb.fit(X_res_rand, y_res_rand)\n",
    "y_pred = xgb.predict(X_test)\n",
    "print(\"Accuracy: \", accuracy_score(y_test, y_pred),'\\n')\n",
    "print(classification_report(y_test, y_pred))"
   ]
  },
  {
   "cell_type": "markdown",
   "metadata": {
    "collapsed": false
   },
   "source": [
    "Because of previous experience of using random oversampling with RandomForest, we have tried this configuration also for XGBoost. Using XGBoost, the best F1 macro score has been achieved and would be used for predictions."
   ]
  },
  {
   "cell_type": "markdown",
   "metadata": {
    "collapsed": false
   },
   "source": [
    "### Predictions with all attributes\n",
    "\n",
    "As previous classifications rely on our choice of attributes, we should try all of them because all information can not be spotted on the first view. Just attributes like name or address are left out."
   ]
  },
  {
   "cell_type": "code",
   "execution_count": 56,
   "metadata": {
    "collapsed": false
   },
   "outputs": [
   ],
   "source": [
    "ppl_select_encode_all = Pipeline([\n",
    "                        ('col_select', ColumnsSelector(['T4U', 'TT4', 'TSH', 'T3', 'FTI', \n",
    "                                                        'age', 'origin', 'query hyperthyroid', \n",
    "                                                        'lithium', 'capital-loss', 'capital-gain', \n",
    "                                                        'query hypothyroid', 'on thyroxine', \n",
    "                                                        'tumor', 'fnlwgt', 'hours-per-week', \n",
    "                                                        'sick', 'thyroid surgery', 'workclass', \n",
    "                                                        'I131 treatment', 'goitre', 'hypopituitary', \n",
    "                                                        'query on thyroxine', 'referral source', \n",
    "                                                        'on antithyroid medication', 'education-num', \n",
    "                                                        'psych', 'occupation', 'bred', 'study', \n",
    "                                                        'sex', 'pregnant'])),\n",
    "                        ('cat_encode', ColumnsEncoder(['origin', 'query hyperthyroid', 'lithium', \n",
    "                                                       'query hypothyroid', 'on thyroxine', 'tumor', \n",
    "                                                       'sick', 'thyroid surgery', 'workclass', \n",
    "                                                       'I131 treatment', 'goitre', 'hypopituitary', \n",
    "                                                       'query on thyroxine', 'referral source', \n",
    "                                                       'on antithyroid medication', 'psych', \n",
    "                                                       'occupation', 'bred', 'study', 'sex', 'pregnant']))\n",
    "                    ])"
   ]
  },
  {
   "cell_type": "markdown",
   "metadata": {
    "collapsed": false
   },
   "source": [
    "Using pipeline, we will choose and encode all columns:"
   ]
  },
  {
   "cell_type": "code",
   "execution_count": 57,
   "metadata": {
    "collapsed": false
   },
   "outputs": [
   ],
   "source": [
    "X_train_all = ppl_select_encode_all.fit_transform(df_train)\n",
    "X_test_all = ppl_select_encode_all.transform(df_valid)"
   ]
  },
  {
   "cell_type": "markdown",
   "metadata": {
    "collapsed": false
   },
   "source": [
    "To compare our results, DecisionTree and RandomForest classifiers that have been used before are trained on all attributes:"
   ]
  },
  {
   "cell_type": "code",
   "execution_count": 58,
   "metadata": {
    "collapsed": false
   },
   "outputs": [
    {
     "data": {
      "text/plain": [
       "DecisionTreeClassifier(class_weight='balanced', criterion='gini',\n",
       "            max_depth=10, max_features=None, max_leaf_nodes=None,\n",
       "            min_impurity_decrease=0.0, min_impurity_split=None,\n",
       "            min_samples_leaf=1, min_samples_split=2,\n",
       "            min_weight_fraction_leaf=0.0, presort=False, random_state=0,\n",
       "            splitter='best')"
      ]
     },
     "execution_count": 58,
     "metadata": {
     },
     "output_type": "execute_result"
    }
   ],
   "source": [
    "dt = DecisionTreeClassifier(max_depth=10, class_weight='balanced', random_state=0)\n",
    "dt.fit(X_train_all, y_train)"
   ]
  },
  {
   "cell_type": "markdown",
   "metadata": {
    "collapsed": false
   },
   "source": [
    "Let's predict values and evaluate how well DecisionTree performed:"
   ]
  },
  {
   "cell_type": "code",
   "execution_count": 59,
   "metadata": {
    "collapsed": false
   },
   "outputs": [
    {
     "name": "stdout",
     "output_type": "stream",
     "text": [
      "Accuracy: 0.9465020576131687\n",
      "                           precision    recall  f1-score   support\n",
      "\n",
      "decreased binding protein       0.18      0.40      0.25         5\n",
      "increased binding protein       0.35      0.72      0.47        25\n",
      "                 negative       0.99      0.96      0.97       942\n",
      "\n",
      "                micro avg       0.95      0.95      0.95       972\n",
      "                macro avg       0.51      0.69      0.57       972\n",
      "             weighted avg       0.97      0.95      0.96       972\n",
      "\n"
     ]
    }
   ],
   "source": [
    "y_pred = dt.predict(X_test_all)\n",
    "print(\"Accuracy: \" + str(accuracy_score(y_test, y_pred)))\n",
    "print(classification_report(y_test, y_pred))"
   ]
  },
  {
   "cell_type": "markdown",
   "metadata": {
    "collapsed": false
   },
   "source": [
    "Using all attributes has negative impact on DecisionTree score. This can be caused by using features, that can't help to predict *class* and just degrade model performance."
   ]
  },
  {
   "cell_type": "markdown",
   "metadata": {
    "collapsed": false
   },
   "source": [
    "Let's try also RandomForest.\n",
    "\n",
    "As RandomForest performs better with oversampled data in our case, we should do oversampling also this time:"
   ]
  },
  {
   "cell_type": "code",
   "execution_count": 60,
   "metadata": {
    "collapsed": false
   },
   "outputs": [
   ],
   "source": [
    "X_train_all_res, y_all_res = RandomOverSampler(random_state=0).fit_resample(X_train_all, y_train)"
   ]
  },
  {
   "cell_type": "code",
   "execution_count": 61,
   "metadata": {
    "collapsed": false
   },
   "outputs": [
    {
     "data": {
      "text/plain": [
       "RandomForestClassifier(bootstrap=True, class_weight='balanced',\n",
       "            criterion='gini', max_depth=12, max_features='auto',\n",
       "            max_leaf_nodes=None, min_impurity_decrease=0.0,\n",
       "            min_impurity_split=None, min_samples_leaf=1,\n",
       "            min_samples_split=2, min_weight_fraction_leaf=0.0,\n",
       "            n_estimators=200, n_jobs=None, oob_score=False, random_state=0,\n",
       "            verbose=0, warm_start=False)"
      ]
     },
     "execution_count": 61,
     "metadata": {
     },
     "output_type": "execute_result"
    }
   ],
   "source": [
    "rf = RandomForestClassifier(n_estimators=200, max_depth=12, random_state=0, class_weight='balanced')\n",
    "rf.fit(X_train_all_res, y_all_res)"
   ]
  },
  {
   "cell_type": "markdown",
   "metadata": {
    "collapsed": false
   },
   "source": [
    "Let's predict values and evaluate how well RandomForest performed:"
   ]
  },
  {
   "cell_type": "code",
   "execution_count": 62,
   "metadata": {
    "collapsed": false
   },
   "outputs": [
    {
     "name": "stdout",
     "output_type": "stream",
     "text": [
      "Accuracy:  0.9619341563786008 \n",
      "\n",
      "                           precision    recall  f1-score   support\n",
      "\n",
      "decreased binding protein       0.00      0.00      0.00         5\n",
      "increased binding protein       0.41      0.64      0.50        25\n",
      "                 negative       0.98      0.98      0.98       942\n",
      "\n",
      "                micro avg       0.96      0.96      0.96       972\n",
      "                macro avg       0.47      0.54      0.49       972\n",
      "             weighted avg       0.97      0.96      0.96       972\n",
      "\n"
     ]
    }
   ],
   "source": [
    "y_pred = rf.predict(X_test_all)\n",
    "print(\"Accuracy: \", accuracy_score(y_test, y_pred),'\\n')\n",
    "print(classification_report(y_test, y_pred))"
   ]
  },
  {
   "cell_type": "markdown",
   "metadata": {
    "collapsed": false
   },
   "source": [
    "As we can see, even in case of RandomForest, using all attributes has negative impact on model performance.\n",
    "\n",
    "Probably, choosing all attributes is bad choice in general. Classifiers perform significantly better with our first choice of attributes based on analysis, rather than using all of them."
   ]
  },
  {
   "cell_type": "markdown",
   "metadata": {
    "collapsed": false
   },
   "source": [
    "### Feature selection\n",
    "\n",
    "Feature selection is efective way to reduce number of attributes. We have tried models using all attributes, but probably not all of them are useful for predictions.\n",
    "\n",
    "How many of attributes have we tried?"
   ]
  },
  {
   "cell_type": "code",
   "execution_count": 63,
   "metadata": {
    "collapsed": false
   },
   "outputs": [
    {
     "data": {
      "text/plain": [
       "128"
      ]
     },
     "execution_count": 63,
     "metadata": {
     },
     "output_type": "execute_result"
    }
   ],
   "source": [
    "len(X_train_all.columns)"
   ]
  },
  {
   "cell_type": "markdown",
   "metadata": {
    "collapsed": false
   },
   "source": [
    "We will try **Recursive Feature Elimination with Cross-Validation (RFECV)** method to choose best features for predictions. As estimator, RandomForestClassifier from previous sections will be used:"
   ]
  },
  {
   "cell_type": "code",
   "execution_count": 64,
   "metadata": {
    "collapsed": false
   },
   "outputs": [
   ],
   "source": [
    "rf = RandomForestClassifier(n_estimators=200, max_depth=12, random_state=0, class_weight='balanced')"
   ]
  },
  {
   "cell_type": "markdown",
   "metadata": {
    "collapsed": false
   },
   "source": [
    "Now, let's create feature selector and fit it on our data. As mentioned before, RFECV will be used:"
   ]
  },
  {
   "cell_type": "code",
   "execution_count": 65,
   "metadata": {
    "collapsed": false
   },
   "outputs": [
   ],
   "source": [
    "rfecv = RFECV(estimator=rf, step=1, cv=10, scoring='f1_macro')"
   ]
  },
  {
   "cell_type": "code",
   "execution_count": 66,
   "metadata": {
    "collapsed": false
   },
   "outputs": [
    {
     "data": {
      "text/plain": [
       "RFECV(cv=10,\n",
       "   estimator=RandomForestClassifier(bootstrap=True, class_weight='balanced',\n",
       "            criterion='gini', max_depth=12, max_features='auto',\n",
       "            max_leaf_nodes=None, min_impurity_decrease=0.0,\n",
       "            min_impurity_split=None, min_samples_leaf=1,\n",
       "            min_samples_split=2, min_weight_fraction_leaf=0.0,\n",
       "            n_estimators=200, n_jobs=None, oob_score=False, random_state=0,\n",
       "            verbose=0, warm_start=False),\n",
       "   min_features_to_select=1, n_jobs=None, scoring='f1_macro', step=1,\n",
       "   verbose=0)"
      ]
     },
     "execution_count": 66,
     "metadata": {
     },
     "output_type": "execute_result"
    }
   ],
   "source": [
    "rfecv.fit(X_train_all_res, y_all_res)"
   ]
  },
  {
   "cell_type": "markdown",
   "metadata": {
    "collapsed": false
   },
   "source": [
    "Let's evaluate the results. What is the optimal number of features?"
   ]
  },
  {
   "cell_type": "code",
   "execution_count": 67,
   "metadata": {
    "collapsed": false
   },
   "outputs": [
    {
     "name": "stdout",
     "output_type": "stream",
     "text": [
      "Optimal number of features : 89\n"
     ]
    }
   ],
   "source": [
    "print(\"Optimal number of features : %d\" % rfecv.n_features_)"
   ]
  },
  {
   "cell_type": "markdown",
   "metadata": {
    "collapsed": false
   },
   "source": [
    "It is better to visualize to see how number of selected features influenced f1 score:"
   ]
  },
  {
   "cell_type": "code",
   "execution_count": 68,
   "metadata": {
    "collapsed": false
   },
   "outputs": [
    {
     "data": {
      "image/png": "[encoded data removed]"
     },
     "execution_count": 68,
     "metadata": {
     },
     "output_type": "execute_result"
    }
   ],
   "source": [
    "# Plot number of features VS. cross-validation scores\n",
    "plt.figure()\n",
    "plt.xlabel(\"Number of features selected\")\n",
    "plt.ylabel(\"F1 macro cross validation score\")\n",
    "plt.plot(range(1, len(rfecv.grid_scores_) + 1), rfecv.grid_scores_)\n",
    "plt.show()"
   ]
  },
  {
   "cell_type": "markdown",
   "metadata": {
    "collapsed": false
   },
   "source": [
    "RFECV showed that 89 attributes can be useful for prediction. When looking at the plot above, we can see that approximately the same score can be achieved using less than 10 attributes!\n",
    "\n",
    "Let's check, which features have been selected:"
   ]
  },
  {
   "cell_type": "code",
   "execution_count": 69,
   "metadata": {
    "collapsed": false
   },
   "outputs": [
    {
     "name": "stdout",
     "output_type": "stream",
     "text": [
      "T4U\n",
      "TT4\n",
      "TSH\n",
      "T3\n",
      "FTI\n",
      "age\n",
      "capital-loss\n",
      "capital-gain\n",
      "fnlwgt\n",
      "hours-per-week\n",
      "education-num\n",
      "origin_germany\n",
      "origin_india\n",
      "origin_jamaica\n",
      "origin_mexico\n",
      "origin_nicaragua\n",
      "origin_united-states\n",
      "query hyperthyroid_False\n",
      "query hyperthyroid_True\n",
      "query hypothyroid_False\n",
      "query hypothyroid_True\n",
      "on thyroxine_False\n",
      "on thyroxine_True\n",
      "tumor_False\n",
      "tumor_True\n",
      "sick_False\n",
      "sick_True\n",
      "thyroid surgery_False\n",
      "thyroid surgery_True\n",
      "workclass_ ?\n",
      "workclass_ Federal-gov\n",
      "workclass_ Local-gov\n",
      "workclass_ Private\n",
      "workclass_ Self-emp-inc\n",
      "workclass_ Self-emp-not-inc\n",
      "workclass_ State-gov\n",
      "I131 treatment_False\n",
      "I131 treatment_True\n",
      "goitre_False\n",
      "goitre_True\n",
      "query on thyroxine_False\n",
      "query on thyroxine_True\n",
      "referral source_STMW\n",
      "referral source_SVHC\n",
      "referral source_SVHD\n",
      "referral source_SVI\n",
      "referral source_other\n",
      "on antithyroid medication_False\n",
      "on antithyroid medication_True\n",
      "psych_False\n",
      "psych_True\n",
      "occupation_ Adm-clerical\n",
      "occupation_ Craft-repair\n",
      "occupation_ Exec-managerial\n",
      "occupation_ Farming-fishing\n",
      "occupation_ Handlers-cleaners\n",
      "occupation_ Machine-op-inspct\n",
      "occupation_ Other-service\n",
      "occupation_ Prof-specialty\n",
      "occupation_ Protective-serv\n",
      "occupation_ Sales\n",
      "occupation_ Tech-support\n",
      "occupation_ Transport-moving\n",
      "bred_amer-indian-eskimo\n",
      "bred_asian-pac-islander\n",
      "bred_black\n",
      "bred_other\n",
      "bred_white\n",
      "study_10th\n",
      "study_11th\n",
      "study_12th\n",
      "study_5th_6th\n",
      "study_7th-8th\n",
      "study_9th\n",
      "study_assoc-acdm\n",
      "study_assoc-voc\n",
      "study_assoc_acdm\n",
      "study_bachelors\n",
      "study_doctorate\n",
      "study_hs-grad\n",
      "study_hs_grad\n",
      "study_masters\n",
      "study_prof-school\n",
      "study_some-college\n",
      "study_some_college\n",
      "sex_F\n",
      "sex_M\n",
      "pregnant_False\n",
      "pregnant_True\n"
     ]
    }
   ],
   "source": [
    "for i, x in enumerate(X_train_all.columns):\n",
    "    if rfecv.support_[i]:\n",
    "        print(x)"
   ]
  },
  {
   "cell_type": "markdown",
   "metadata": {
    "collapsed": false
   },
   "source": [
    "For comparison, our classifiers trained on all attributes will be tried with reduced number of attributes:"
   ]
  },
  {
   "cell_type": "code",
   "execution_count": 70,
   "metadata": {
    "collapsed": false
   },
   "outputs": [
   ],
   "source": [
    "X_train_new_rf = rfecv.transform(X_train_all_res)\n",
    "X_train_new_dt = rfecv.transform(X_train_all)\n",
    "\n",
    "X_test_new_dt = rfecv.transform(X_test_all)"
   ]
  },
  {
   "cell_type": "markdown",
   "metadata": {
    "collapsed": false
   },
   "source": [
    "Let's predict values and evaluate how well they performed:"
   ]
  },
  {
   "cell_type": "code",
   "execution_count": 71,
   "metadata": {
    "collapsed": false
   },
   "outputs": [
    {
     "name": "stdout",
     "output_type": "stream",
     "text": [
      "                           precision    recall  f1-score   support\n",
      "\n",
      "decreased binding protein       0.18      0.40      0.25         5\n",
      "increased binding protein       0.35      0.68      0.47        25\n",
      "                 negative       0.99      0.96      0.97       942\n",
      "\n",
      "                micro avg       0.95      0.95      0.95       972\n",
      "                macro avg       0.51      0.68      0.56       972\n",
      "             weighted avg       0.97      0.95      0.96       972\n",
      "\n"
     ]
    }
   ],
   "source": [
    "dt = DecisionTreeClassifier(max_depth=10, class_weight='balanced', random_state=0)\n",
    "dt.fit(X_train_new_dt, y_train)\n",
    "print(classification_report(y_test, dt.predict(X_test_new_dt)))"
   ]
  },
  {
   "cell_type": "code",
   "execution_count": 72,
   "metadata": {
    "collapsed": false
   },
   "outputs": [
    {
     "name": "stdout",
     "output_type": "stream",
     "text": [
      "                           precision    recall  f1-score   support\n",
      "\n",
      "decreased binding protein       1.00      0.20      0.33         5\n",
      "increased binding protein       0.42      0.64      0.51        25\n",
      "                 negative       0.99      0.98      0.98       942\n",
      "\n",
      "                micro avg       0.96      0.96      0.96       972\n",
      "                macro avg       0.80      0.61      0.61       972\n",
      "             weighted avg       0.97      0.96      0.97       972\n",
      "\n"
     ]
    }
   ],
   "source": [
    "rf = RandomForestClassifier(n_estimators=200, max_depth=12, random_state=0, class_weight='balanced')\n",
    "rf.fit(X_train_new_rf, y_all_res)\n",
    "print(classification_report(y_test, rf.predict(X_test_new_dt)))"
   ]
  },
  {
   "cell_type": "markdown",
   "metadata": {
    "collapsed": false
   },
   "source": [
    "In case of RandomForest, score is significantly better with reduced number of attributes. On the other hand, DecisionTree performed similarly in both cases."
   ]
  },
  {
   "cell_type": "markdown",
   "metadata": {
    "collapsed": false
   },
   "source": [
    "### Hyperparameter tuning\n",
    "\n",
    "To improve performance of our models, we've done hyperparameter tuning using RandomizedSearchCV. As scoring metric we have chosen *f1 macro* and 10-fold cross-validation. For each classifier, typical hyperparameters have been tuned."
   ]
  },
  {
   "cell_type": "markdown",
   "metadata": {
    "collapsed": false
   },
   "source": [
    "#### DecisionTree\n",
    "\n",
    "For DecisionTree, parameters we've tuned parameters already mentioned before:"
   ]
  },
  {
   "cell_type": "code",
   "execution_count": 73,
   "metadata": {
    "collapsed": false
   },
   "outputs": [
   ],
   "source": [
    "dt = DecisionTreeClassifier(class_weight='balanced', random_state=0)\n",
    "\n",
    "param_dist = {\n",
    "    \"max_depth\": [x for x in range(1, 15)], \n",
    "    \"min_samples_leaf\": [x for x in range(1, 6)], \n",
    "    \"min_samples_split\": [x for x in range(2, 6)], \n",
    "    \"max_features\": [x for x in range(1, 10)], \n",
    "    \"criterion\":[\"gini\",\"entropy\"]\n",
    "}\n",
    "tuned_dt = RandomizedSearchCV(dt, param_distributions=param_dist, cv=10, scoring='f1_macro')"
   ]
  },
  {
   "cell_type": "code",
   "execution_count": 74,
   "metadata": {
    "collapsed": false
   },
   "outputs": [
    {
     "data": {
      "text/plain": [
       "RandomizedSearchCV(cv=10, error_score='raise-deprecating',\n",
       "          estimator=DecisionTreeClassifier(class_weight='balanced', criterion='gini',\n",
       "            max_depth=None, max_features=None, max_leaf_nodes=None,\n",
       "            min_impurity_decrease=0.0, min_impurity_split=None,\n",
       "            min_samples_leaf=1, min_samples_split=2,\n",
       "            min_weight_fraction_leaf=0.0, presort=False, random_state=0,\n",
       "            splitter='best'),\n",
       "          fit_params=None, iid='warn', n_iter=10, n_jobs=None,\n",
       "          param_distributions={'max_depth': [1, 2, 3, 4, 5, 6, 7, 8, 9, 10, 11, 12, 13, 14], 'min_samples_leaf': [1, 2, 3, 4, 5], 'min_samples_split': [2, 3, 4, 5], 'max_features': [1, 2, 3, 4, 5, 6, 7, 8, 9], 'criterion': ['gini', 'entropy']},\n",
       "          pre_dispatch='2*n_jobs', random_state=None, refit=True,\n",
       "          return_train_score='warn', scoring='f1_macro', verbose=0)"
      ]
     },
     "execution_count": 74,
     "metadata": {
     },
     "output_type": "execute_result"
    }
   ],
   "source": [
    "tuned_dt.fit(X_train, y_train)"
   ]
  },
  {
   "cell_type": "markdown",
   "metadata": {
    "collapsed": false
   },
   "source": [
    "What is the best configuration for DecisionTree?"
   ]
  },
  {
   "cell_type": "code",
   "execution_count": 75,
   "metadata": {
    "collapsed": false
   },
   "outputs": [
    {
     "data": {
      "text/plain": [
       "DecisionTreeClassifier(class_weight='balanced', criterion='entropy',\n",
       "            max_depth=11, max_features=8, max_leaf_nodes=None,\n",
       "            min_impurity_decrease=0.0, min_impurity_split=None,\n",
       "            min_samples_leaf=3, min_samples_split=4,\n",
       "            min_weight_fraction_leaf=0.0, presort=False, random_state=0,\n",
       "            splitter='best')"
      ]
     },
     "execution_count": 75,
     "metadata": {
     },
     "output_type": "execute_result"
    }
   ],
   "source": [
    "tuned_dt.best_estimator_"
   ]
  },
  {
   "cell_type": "markdown",
   "metadata": {
    "collapsed": false
   },
   "source": [
    "As we can see, several parameters have been chosen differently with RandomizedSearch parameter optimization. Let's check if this model performs better:"
   ]
  },
  {
   "cell_type": "code",
   "execution_count": 76,
   "metadata": {
    "collapsed": false
   },
   "outputs": [
    {
     "name": "stdout",
     "output_type": "stream",
     "text": [
      "Accuracy:  0.9506172839506173 \n",
      "\n",
      "                           precision    recall  f1-score   support\n",
      "\n",
      "decreased binding protein       0.25      0.40      0.31         5\n",
      "increased binding protein       0.36      0.72      0.48        25\n",
      "                 negative       0.99      0.96      0.97       942\n",
      "\n",
      "                micro avg       0.95      0.95      0.95       972\n",
      "                macro avg       0.53      0.69      0.59       972\n",
      "             weighted avg       0.97      0.95      0.96       972\n",
      "\n"
     ]
    }
   ],
   "source": [
    "y_pred = tuned_dt.predict(X_test)\n",
    "print(\"Accuracy: \", accuracy_score(y_test, y_pred),'\\n')\n",
    "print(classification_report(y_test, y_pred))"
   ]
  },
  {
   "cell_type": "markdown",
   "metadata": {
    "collapsed": false
   },
   "source": [
    "After using best parameters for DecisionTree and predicting on fitted model, F1 macro score is slightly worse than before. It can be caused by the fact that parameter optimization was done with cross-validation on training data only, or just not choosing the best parameters using RandomizeSearch."
   ]
  },
  {
   "cell_type": "markdown",
   "metadata": {
    "collapsed": false
   },
   "source": [
    "#### RandomForest\n",
    "\n",
    "Hyperparameter optimization was done also for RandomForest. Because other parameters have been tried manually by choosing some configurations, only some of them were tuned."
   ]
  },
  {
   "cell_type": "code",
   "execution_count": 77,
   "metadata": {
    "collapsed": false
   },
   "outputs": [
   ],
   "source": [
    "rf = RandomForestClassifier(random_state=0, class_weight='balanced')\n",
    "\n",
    "tuned_rf = RandomizedSearchCV(rf, param_distributions={'n_estimators': [x for x in range(10, 500, 20)], 'max_depth': [x for x in range(8, 20, 2)]}, cv=10, scoring='f1_macro')"
   ]
  },
  {
   "cell_type": "code",
   "execution_count": 78,
   "metadata": {
    "collapsed": false,
    "scrolled": true
   },
   "outputs": [
    {
     "data": {
      "text/plain": [
       "RandomizedSearchCV(cv=10, error_score='raise-deprecating',\n",
       "          estimator=RandomForestClassifier(bootstrap=True, class_weight='balanced',\n",
       "            criterion='gini', max_depth=None, max_features='auto',\n",
       "            max_leaf_nodes=None, min_impurity_decrease=0.0,\n",
       "            min_impurity_split=None, min_samples_leaf=1,\n",
       "            min_samples_split=2, min_weight_fraction_leaf=0.0,\n",
       "            n_estimators='warn', n_jobs=None, oob_score=False,\n",
       "            random_state=0, verbose=0, warm_start=False),\n",
       "          fit_params=None, iid='warn', n_iter=10, n_jobs=None,\n",
       "          param_distributions={'n_estimators': [10, 30, 50, 70, 90, 110, 130, 150, 170, 190, 210, 230, 250, 270, 290, 310, 330, 350, 370, 390, 410, 430, 450, 470, 490], 'max_depth': [8, 10, 12, 14, 16, 18]},\n",
       "          pre_dispatch='2*n_jobs', random_state=None, refit=True,\n",
       "          return_train_score='warn', scoring='f1_macro', verbose=0)"
      ]
     },
     "execution_count": 78,
     "metadata": {
     },
     "output_type": "execute_result"
    }
   ],
   "source": [
    "tuned_rf.fit(X_train, y_train)"
   ]
  },
  {
   "cell_type": "code",
   "execution_count": 79,
   "metadata": {
    "collapsed": false
   },
   "outputs": [
    {
     "data": {
      "text/plain": [
       "RandomForestClassifier(bootstrap=True, class_weight='balanced',\n",
       "            criterion='gini', max_depth=8, max_features='auto',\n",
       "            max_leaf_nodes=None, min_impurity_decrease=0.0,\n",
       "            min_impurity_split=None, min_samples_leaf=1,\n",
       "            min_samples_split=2, min_weight_fraction_leaf=0.0,\n",
       "            n_estimators=410, n_jobs=None, oob_score=False, random_state=0,\n",
       "            verbose=0, warm_start=False)"
      ]
     },
     "execution_count": 79,
     "metadata": {
     },
     "output_type": "execute_result"
    }
   ],
   "source": [
    "tuned_rf.best_estimator_"
   ]
  },
  {
   "cell_type": "markdown",
   "metadata": {
    "collapsed": false
   },
   "source": [
    "Let's check if this model performs any better:"
   ]
  },
  {
   "cell_type": "code",
   "execution_count": 80,
   "metadata": {
    "collapsed": false
   },
   "outputs": [
    {
     "name": "stdout",
     "output_type": "stream",
     "text": [
      "Accuracy:  0.9650205761316872 \n",
      "\n",
      "                           precision    recall  f1-score   support\n",
      "\n",
      "decreased binding protein       1.00      0.40      0.57         5\n",
      "increased binding protein       0.43      0.80      0.56        25\n",
      "                 negative       0.99      0.97      0.98       942\n",
      "\n",
      "                micro avg       0.97      0.97      0.97       972\n",
      "                macro avg       0.81      0.72      0.71       972\n",
      "             weighted avg       0.98      0.97      0.97       972\n",
      "\n"
     ]
    }
   ],
   "source": [
    "y_pred = tuned_rf.predict(X_test)\n",
    "print(\"Accuracy: \", accuracy_score(y_test, y_pred),'\\n')\n",
    "print(classification_report(y_test, y_pred))"
   ]
  },
  {
   "cell_type": "markdown",
   "metadata": {
    "collapsed": false
   },
   "source": [
    "In case of RandomForest, score is approximately the same. This can be caused by tuning parameters manually before."
   ]
  },
  {
   "cell_type": "markdown",
   "metadata": {
    "collapsed": false
   },
   "source": [
    "### Conclusion and algorithms comparison"
   ]
  },
  {
   "cell_type": "markdown",
   "metadata": {
    "collapsed": false
   },
   "source": [
    "For classification of patients to 3 classes of their thyroid status, we have tried several classifiers and configurations.\n",
    "\n",
    "**We have checked out 3 classifiers based on manually chosen rules:**\n",
    "* using T4U attribute\n",
    "* using T3 attribute\n",
    "* combination of T4U, T3, TT4 and TSH attributes\n",
    "\n",
    "From those classifiers, the one using T4U performed the best (the highest precision, recall and f1 score across classes in general).\n",
    "\n",
    "\n",
    "**We have tried also 3 machine learning algorithms:**\n",
    "* DecisionTree\n",
    "* RandomForest\n",
    "* XGBoost\n",
    "\n",
    "XGBoost performed the best. In comparison to classifiers based on manually chosen rules, all of those machine learning classifiers performed better. Some parts of score (precision, recall, f1-score) could be worse in machine learning algorithms than in manually based algorithms, but in general were predicting better. Very high recall was achieved on class *decreased binding protein*, that was 100%. None of RandomForest or DecisionTree overcame this score, except XGBoost which is clearly the best choice.\n",
    "\n",
    "**DecisionTree and RandomForest classifiers have been used for comparison of:**\n",
    "* *training with all features* - this was shown to be bad choice at all\n",
    "* *feature selection* - using RFECV, we were able to achieve comparative score with just a fraction of features, but in the end, our first choice of attributes based on analysis was significantly the best\n",
    "* *different approaches of filling missing values* - we have found out that choice of filling missing values approach has just a small impact on achieved score, but we consider model filling as better"
   ]
  },
  {
   "cell_type": "markdown",
   "metadata": {
    "collapsed": false
   },
   "source": [
    "## Different filling methods comparison\n",
    "\n",
    "Two approaches of filling nan values methods have been implemented. Maybe filling nan values can also influence the result. Whole classification above was done using model filling method (LinearRegression for numerical attributes, RandomForestClassifier for categorical attributes). Now, let's try filling nan values with median and most frequent values. Also let's compare both methods aftewards:"
   ]
  },
  {
   "cell_type": "code",
   "execution_count": 81,
   "metadata": {
    "collapsed": false
   },
   "outputs": [
   ],
   "source": [
    "ppl_fill = Pipeline([\n",
    "                # Data repairing\n",
    "                # ======================\n",
    "                # unify boolean values\n",
    "                ('unify_boolean', BooleanUnifier(['query hyperthyroid', 'T4U measured', 'on thyroxine', 'FTI measured', 'lithium', 'TT4 measured',\n",
    "                                                  'query hypothyroid', 'query on thyroxine', 'tumor', 'T3 measured', 'sick', 'thyroid surgery', \n",
    "                                                  'I131 treatment', 'goitre', 'TSH measured', 'on antithyroid medication', 'psych', 'TBG measured',\n",
    "                                                  'pregnant', 'hypopituitary'])),\n",
    "\n",
    "                # unify date format\n",
    "                ('date_unifier', DateFormatUnifier('date_of_birth')),\n",
    "\n",
    "                # drop column\n",
    "                ('drop_TBG_measured', DropColumn('TBG measured')),\n",
    "                ('drop_TBG', DropColumn('TBG')),\n",
    "\n",
    "                # measured columns fix\n",
    "                ('fix_measured_values',MeasuredValuesFixer(['T4U', 'FTI', 'TT4', 'TT4','TSH','T3'])),\n",
    "\n",
    "                # expand column\n",
    "                ('expand_personal_info', ColumnExpander()),\n",
    "\n",
    "                # unify nan values\n",
    "                ('nan_unify_FTI', NanUnifier(['FTI', 'sex', 'origin', 'occupation'])),\n",
    "\n",
    "                # transform data type\n",
    "                ('column_to_number_FTI', ColumnToNumber('FTI')),\n",
    "\n",
    "                # merge and remove duplicates\n",
    "                ('rm_duplicates', MergeRemoveDuplicates()),\n",
    "                \n",
    "                # ======================\n",
    "\n",
    "                # Data normalization\n",
    "                # ======================\n",
    "                ('norm_numerical', Normalizer(['T4U', 'T3', 'TSH', 'TT4', 'FTI', 'age', 'education-num'])),\n",
    "                # ======================\n",
    "\n",
    "                # Outliers replacement\n",
    "                # ======================\n",
    "                ('reout_numerical', OutliersReplacer(['T4U', 'T3', 'TSH', 'TT4', 'FTI', 'age', 'education-num'])),\n",
    "                # ======================\n",
    "\n",
    "                # Filling numerical values with median\n",
    "                # ======================\n",
    "                ('fill_med', NumMedianFiller(['T4U', 'TT4', 'T3', 'TSH', 'FTI', 'age', 'education-num',\n",
    "                                              'fnlwgt', 'capital-loss', 'capital-gain', 'hours-per-week'])),\n",
    "                # ======================\n",
    "\n",
    "                # Filling categorical with most frequent value\n",
    "                # ======================\n",
    "                ('fill_mf', CategoricalMostFrequentFiller(['sex', 'pregnant', 'tumor', 'occupation', 'origin',\n",
    "                                                            'query hypothyroid', 'query hyperthyroid', 'on thyroxine',\n",
    "                                                            'sick', 'thyroid surgery', 'workclass',\n",
    "                                                            'I131 treatment', 'hypopituitary', 'query on thyroxine',\n",
    "                                                            'on antithyroid medication', 'referral source', 'psych',\n",
    "                                                            'date_of_birth', 'study', 'status1', 'status2'\n",
    "                ]))\n",
    "              ])"
   ]
  },
  {
   "cell_type": "code",
   "execution_count": 82,
   "metadata": {
    "collapsed": false
   },
   "outputs": [
   ],
   "source": [
    "df_train_f = ppl_fill.fit_transform(df_train_raw)\n",
    "df_valid_f = ppl_fill.transform(df_valid_raw)\n",
    "\n",
    "df_train_f = ppl_class_unifier.fit_transform(df_train_f)\n",
    "df_valid_f = ppl_class_unifier.transform(df_valid_f)"
   ]
  },
  {
   "cell_type": "markdown",
   "metadata": {
    "collapsed": false
   },
   "source": [
    "As in previous cases, we will just choose and encode the same attributes for exact comparison:"
   ]
  },
  {
   "cell_type": "code",
   "execution_count": 83,
   "metadata": {
    "collapsed": false
   },
   "outputs": [
   ],
   "source": [
    "X_train_f = ppl_select_encode.fit_transform(df_train_f)\n",
    "X_test_f = ppl_select_encode.transform(df_valid_f)"
   ]
  },
  {
   "cell_type": "markdown",
   "metadata": {
    "collapsed": false
   },
   "source": [
    "For comparison, again DecisionTree and RandomForest will be trained:"
   ]
  },
  {
   "cell_type": "code",
   "execution_count": 84,
   "metadata": {
    "collapsed": false
   },
   "outputs": [
   ],
   "source": [
    "dt = DecisionTreeClassifier(max_depth=10, class_weight='balanced')"
   ]
  },
  {
   "cell_type": "code",
   "execution_count": 85,
   "metadata": {
    "collapsed": false
   },
   "outputs": [
    {
     "data": {
      "text/plain": [
       "DecisionTreeClassifier(class_weight='balanced', criterion='gini',\n",
       "            max_depth=10, max_features=None, max_leaf_nodes=None,\n",
       "            min_impurity_decrease=0.0, min_impurity_split=None,\n",
       "            min_samples_leaf=1, min_samples_split=2,\n",
       "            min_weight_fraction_leaf=0.0, presort=False, random_state=None,\n",
       "            splitter='best')"
      ]
     },
     "execution_count": 85,
     "metadata": {
     },
     "output_type": "execute_result"
    }
   ],
   "source": [
    "dt.fit(X_train_f, y_train)"
   ]
  },
  {
   "cell_type": "markdown",
   "metadata": {
    "collapsed": false
   },
   "source": [
    "Let's check how model performed:"
   ]
  },
  {
   "cell_type": "code",
   "execution_count": 86,
   "metadata": {
    "collapsed": false
   },
   "outputs": [
    {
     "name": "stdout",
     "output_type": "stream",
     "text": [
      "Accuracy:  0.9639917695473251 \n",
      "\n",
      "                           precision    recall  f1-score   support\n",
      "\n",
      "decreased binding protein       0.60      0.60      0.60         5\n",
      "increased binding protein       0.44      0.84      0.58        25\n",
      "                 negative       0.99      0.97      0.98       942\n",
      "\n",
      "                micro avg       0.96      0.96      0.96       972\n",
      "                macro avg       0.68      0.80      0.72       972\n",
      "             weighted avg       0.98      0.96      0.97       972\n",
      "\n"
     ]
    }
   ],
   "source": [
    "y_pred = dt.predict(X_test_f)\n",
    "print(\"Accuracy: \", accuracy_score(y_test, y_pred),'\\n')\n",
    "print(classification_report(y_test, y_pred))"
   ]
  },
  {
   "cell_type": "markdown",
   "metadata": {
    "collapsed": false
   },
   "source": [
    "DecisionTree classifier, trained on dataset with missing values filled by most frequent value and median performed approximately the same as when filling missing values with model. Let's do the same with RandomForest classifier:"
   ]
  },
  {
   "cell_type": "code",
   "execution_count": 87,
   "metadata": {
    "collapsed": false
   },
   "outputs": [
   ],
   "source": [
    "X_train_f_res, y_train_f_res = RandomOverSampler(random_state=0).fit_resample(X_train_f, y_train)"
   ]
  },
  {
   "cell_type": "code",
   "execution_count": 88,
   "metadata": {
    "collapsed": false
   },
   "outputs": [
   ],
   "source": [
    "rf = RandomForestClassifier(n_estimators=200, max_depth=12, random_state=0, class_weight='balanced')"
   ]
  },
  {
   "cell_type": "code",
   "execution_count": 89,
   "metadata": {
    "collapsed": false
   },
   "outputs": [
    {
     "data": {
      "text/plain": [
       "RandomForestClassifier(bootstrap=True, class_weight='balanced',\n",
       "            criterion='gini', max_depth=12, max_features='auto',\n",
       "            max_leaf_nodes=None, min_impurity_decrease=0.0,\n",
       "            min_impurity_split=None, min_samples_leaf=1,\n",
       "            min_samples_split=2, min_weight_fraction_leaf=0.0,\n",
       "            n_estimators=200, n_jobs=None, oob_score=False, random_state=0,\n",
       "            verbose=0, warm_start=False)"
      ]
     },
     "execution_count": 89,
     "metadata": {
     },
     "output_type": "execute_result"
    }
   ],
   "source": [
    "rf.fit(X_train_f_res, y_train_f_res)"
   ]
  },
  {
   "cell_type": "markdown",
   "metadata": {
    "collapsed": false
   },
   "source": [
    "Let's check how model performed:"
   ]
  },
  {
   "cell_type": "code",
   "execution_count": 90,
   "metadata": {
    "collapsed": false
   },
   "outputs": [
    {
     "name": "stdout",
     "output_type": "stream",
     "text": [
      "Accuracy:  0.9722222222222222 \n",
      "\n",
      "                           precision    recall  f1-score   support\n",
      "\n",
      "decreased binding protein       1.00      0.40      0.57         5\n",
      "increased binding protein       0.51      0.76      0.61        25\n",
      "                 negative       0.99      0.98      0.99       942\n",
      "\n",
      "                micro avg       0.97      0.97      0.97       972\n",
      "                macro avg       0.83      0.71      0.72       972\n",
      "             weighted avg       0.98      0.97      0.97       972\n",
      "\n"
     ]
    }
   ],
   "source": [
    "y_pred = rf.predict(X_test_f)\n",
    "print(\"Accuracy: \", accuracy_score(y_test, y_pred),'\\n')\n",
    "print(classification_report(y_test, y_pred))"
   ]
  },
  {
   "cell_type": "markdown",
   "metadata": {
    "collapsed": false
   },
   "source": [
    "As we can see, in both cases (RandomForest and DecisionTree), the score is very similar for both filling approaches. Probably, this is influenced by data values distribution. In many cases, the most frequent value was also predicted by model. The same situation was with numerical values and median. However, we believe that filling missing values using models is still more sensible and effective."
   ]
  },
  {
   "cell_type": "markdown",
   "metadata": {
    "collapsed": false
   },
   "source": [
    "## Predictions on test dataset\n",
    "\n",
    "For submitting our solution, predictions on test dataset should be done. Because we have 3 very well performing classifiers, 3 predictions are going to be created. Let's try all best classifiers with best configurations found in previous steps:"
   ]
  },
  {
   "cell_type": "code",
   "execution_count": 91,
   "metadata": {
    "collapsed": false
   },
   "outputs": [
    {
     "name": "stdout",
     "output_type": "stream",
     "text": [
      "                           precision    recall  f1-score   support\n",
      "\n",
      "decreased binding protein       1.00      0.40      0.57         5\n",
      "increased binding protein       0.45      0.68      0.54        25\n",
      "                 negative       0.99      0.98      0.98       942\n",
      "\n",
      "                micro avg       0.97      0.97      0.97       972\n",
      "                macro avg       0.81      0.69      0.70       972\n",
      "             weighted avg       0.97      0.97      0.97       972\n",
      "\n"
     ]
    }
   ],
   "source": [
    "rf = RandomForestClassifier(n_estimators=200, max_depth=12, random_state=0, class_weight='balanced')\n",
    "rf.fit(X_res_rand, y_res_rand)\n",
    "print(classification_report(y_test, rf.predict(X_test)))"
   ]
  },
  {
   "cell_type": "code",
   "execution_count": 92,
   "metadata": {
    "collapsed": false
   },
   "outputs": [
    {
     "name": "stdout",
     "output_type": "stream",
     "text": [
      "                           precision    recall  f1-score   support\n",
      "\n",
      "decreased binding protein       0.57      0.80      0.67         5\n",
      "increased binding protein       0.31      0.68      0.43        25\n",
      "                 negative       0.99      0.96      0.97       942\n",
      "\n",
      "                micro avg       0.95      0.95      0.95       972\n",
      "                macro avg       0.63      0.81      0.69       972\n",
      "             weighted avg       0.97      0.95      0.96       972\n",
      "\n"
     ]
    }
   ],
   "source": [
    "dt = DecisionTreeClassifier(max_depth=10, class_weight='balanced', random_state=0)\n",
    "dt.fit(X_res_rand, y_res_rand)\n",
    "print(classification_report(y_test, dt.predict(X_test)))"
   ]
  },
  {
   "cell_type": "code",
   "execution_count": 93,
   "metadata": {
    "collapsed": false
   },
   "outputs": [
    {
     "name": "stdout",
     "output_type": "stream",
     "text": [
      "                           precision    recall  f1-score   support\n",
      "\n",
      "decreased binding protein       0.62      1.00      0.77         5\n",
      "increased binding protein       0.46      0.72      0.56        25\n",
      "                 negative       0.99      0.97      0.98       942\n",
      "\n",
      "                micro avg       0.97      0.97      0.97       972\n",
      "                macro avg       0.69      0.90      0.77       972\n",
      "             weighted avg       0.98      0.97      0.97       972\n",
      "\n"
     ]
    }
   ],
   "source": [
    "xgb = XGBClassifier(learning_rate=0.1, n_estimators=250, max_depth=8, min_child_weight=2, gamma=0.1)\n",
    "xgb.fit(X_res_rand, y_res_rand)\n",
    "print(classification_report(y_test, xgb.predict(X_test)))"
   ]
  },
  {
   "cell_type": "markdown",
   "metadata": {
    "collapsed": false
   },
   "source": [
    "All predictions will be stored in csv files:"
   ]
  },
  {
   "cell_type": "code",
   "execution_count": 94,
   "metadata": {
    "collapsed": false
   },
   "outputs": [
   ],
   "source": [
    "predictions_rf = pd.DataFrame(rf.predict(X_test_final))\n",
    "predictions_rf = predictions_rf.rename(index=str, columns={0: \"Predicted\"})\n",
    "predictions_rf.to_csv('pred_rf.csv', index_label='Id')"
   ]
  },
  {
   "cell_type": "code",
   "execution_count": 95,
   "metadata": {
    "collapsed": false
   },
   "outputs": [
   ],
   "source": [
    "predictions_dt = pd.DataFrame(dt.predict(X_test_final))\n",
    "predictions_dt = predictions_dt.rename(index=str, columns={0: \"Predicted\"})\n",
    "predictions_dt.to_csv('pred_dt.csv', index_label='Id')"
   ]
  },
  {
   "cell_type": "code",
   "execution_count": 96,
   "metadata": {
    "collapsed": false
   },
   "outputs": [
   ],
   "source": [
    "predictions_xgb = pd.DataFrame(xgb.predict(X_test_final))\n",
    "predictions_xgb = predictions_xgb.rename(index=str, columns={0: \"Predicted\"})\n",
    "predictions_xgb.to_csv('pred_xgb.csv', index_label='Id')"
   ]
  }
 ],
 "metadata": {
  "kernelspec": {
   "display_name": "Python 3 (Ubuntu Linux)",
   "language": "python",
   "name": "python3"
  },
  "language_info": {
   "codemirror_mode": {
    "name": "ipython",
    "version": 3
   },
   "file_extension": ".py",
   "mimetype": "text/x-python",
   "name": "python",
   "nbconvert_exporter": "python",
   "pygments_lexer": "ipython3",
   "version": "3.6.7"
  }
 },
 "nbformat": 4,
 "nbformat_minor": 0
}